{
 "cells": [
  {
   "cell_type": "code",
   "execution_count": null,
   "metadata": {},
   "outputs": [],
   "source": [
    "# PREFIX\n",
    "from jdaviz import CONFIG\n",
    "\n",
    "viz = CONFIG(verbosity='JDAVIZ_VERBOSITY', history_verbosity='JDAVIZ_HISTORY_VERBOSITY')\n",
    "for data in DATA_LIST:\n",
    "    viz.load_data(data) #ADDITIONAL_LOAD_DATA_ARGS\n",
    "viz.show()"
   ]
  }
 ],
 "metadata": {
  "kernelspec": {
   "display_name": "Python 3.10.10 ('envmain': venv)",
   "language": "python",
   "name": "python3"
  },
  "language_info": {
   "codemirror_mode": {
    "name": "ipython",
    "version": 3
   },
   "file_extension": ".py",
   "mimetype": "text/x-python",
   "name": "python",
   "nbconvert_exporter": "python",
   "pygments_lexer": "ipython3",
   "version": "3.10.10"
  },
  "vscode": {
   "interpreter": {
    "hash": "f917e879dca01012f092e44ceeb72fc316d3b188a12a493299dc2bd49905dadb"
   }
  }
 },
 "nbformat": 4,
 "nbformat_minor": 2
}
