{
 "cells": [
  {
   "cell_type": "code",
   "execution_count": null,
   "metadata": {
    "scrolled": false
   },
   "outputs": [],
   "source": [
    "from jdaviz.app import IPyApplication\n",
    "from glue.core import Data\n",
    "app = IPyApplication(configuration='cubeviz')\n",
    "data = app._application_handler.load_data('DATA_FILENAME')\n",
    "if not isinstance(data, Data):\n",
    "    data = data[0]\n",
    "for viewer in app.components['g-content-area'].components['g-tab-area-top']._viewers.values():\n",
    "    viewer.add_data(data)\n",
    "for viewer in app.components['g-content-area'].components['g-tab-area-bottom']._viewers.values():\n",
    "    viewer.add_data(data)\n",
    "app"
   ]
  }
 ],
 "metadata": {
  "kernelspec": {
   "display_name": "Python 3",
   "language": "python",
   "name": "python3"
  },
  "language_info": {
   "codemirror_mode": {
    "name": "ipython",
    "version": 3
   },
   "file_extension": ".py",
   "mimetype": "text/x-python",
   "name": "python",
   "nbconvert_exporter": "python",
   "pygments_lexer": "ipython3",
   "version": "3.7.3"
  }
 },
 "nbformat": 4,
 "nbformat_minor": 2
}