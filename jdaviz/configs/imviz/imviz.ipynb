{
 "cells": [
  {
   "cell_type": "markdown",
   "metadata": {},
   "source": [
    "See [Ginga quick reference guide](https://ginga.readthedocs.io/en/latest/quickref.html) for zoom, pan, stretch (contrast, cuts), and colormaps controls."
   ]
  },
  {
   "cell_type": "code",
   "execution_count": null,
   "metadata": {},
   "outputs": [],
   "source": [
    "from ipywidgets import AppLayout, Layout, Button\n",
    "\n",
    "from jdaviz import Imviz\n",
    "\n",
    "# TODO: Implement real things.\n",
    "# This just shows you how get that standalone GUI feel without Glue.\n",
    "\n",
    "right_button_1 = Button(description='Click me', button_style='info', layout=Layout(height='auto', width='auto'))\n",
    "\n",
    "def on_right_button_1_clicked(b):\n",
    "    imviz.set_colormap('viridis')\n",
    "\n",
    "right_button_1.on_click(on_right_button_1_clicked)\n",
    "    \n",
    "imviz = Imviz()\n",
    "imviz.load_data('DATA_FILENAME')\n",
    "\n",
    "AppLayout(header=None,\n",
    "          left_sidebar=None,\n",
    "          center=imviz,\n",
    "          right_sidebar=right_button_1,\n",
    "          footer=None)"
   ]
  }
 ],
 "metadata": {
  "kernelspec": {
   "display_name": "Python 3",
   "language": "python",
   "name": "python3"
  },
  "language_info": {
   "codemirror_mode": {
    "name": "ipython",
    "version": 3
   },
   "file_extension": ".py",
   "mimetype": "text/x-python",
   "name": "python",
   "nbconvert_exporter": "python",
   "pygments_lexer": "ipython3",
   "version": "3.8.3"
  }
 },
 "nbformat": 4,
 "nbformat_minor": 2
}
