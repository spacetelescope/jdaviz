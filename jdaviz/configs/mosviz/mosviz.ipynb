{
 "cells": [
  {
   "cell_type": "code",
   "execution_count": null,
   "metadata": {
    "scrolled": false
   },
   "outputs": [],
   "source": [
    "# PREFIX\n",
    "import pathlib\n",
    "from jdaviz import Mosviz\n",
    "\n",
    "data_path = pathlib.Path('DATA_FILENAME')\n",
    "\n",
    "mosviz = Mosviz(verbosity='JDAVIZ_VERBOSITY', history_verbosity='JDAVIZ_HISTORY_VERBOSITY')\n",
    "data_path = 'DATA_FILENAME'\n",
    "if data_path:\n",
    "    mosviz.load_data(directory=data_path, instrument='INSTRUMENT')\n",
    "mosviz.app"
   ]
  }
 ],
 "metadata": {
  "kernelspec": {
   "display_name": "Python 3",
   "language": "python",
   "name": "python3"
  },
  "language_info": {
   "codemirror_mode": {
    "name": "ipython",
    "version": 3
   },
   "file_extension": ".py",
   "mimetype": "text/x-python",
   "name": "python",
   "nbconvert_exporter": "python",
   "pygments_lexer": "ipython3",
   "version": "3.10.4"
  }
 },
 "nbformat": 4,
 "nbformat_minor": 2
}
