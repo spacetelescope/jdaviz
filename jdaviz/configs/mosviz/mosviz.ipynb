{
 "cells": [
  {
   "cell_type": "code",
   "execution_count": null,
   "metadata": {
    "scrolled": false
   },
   "outputs": [],
   "source": [
    "# PREFIX\n",
    "import pathlib\n",
    "from jdaviz import Mosviz\n",
    "import zipfile\n",
    "\n",
    "data_path = pathlib.Path('DATA_FILENAME')\n",
    "\n",
    "if zipfile.is_zipfile(data_path):\n",
    "    raise TypeError(\"Please extract your data first and provide the directory\")\n",
    "\n",
    "mosviz = Mosviz(verbosity='JDAVIZ_VERBOSITY')\n",
    "mosviz.load_data(directory=data_path)\n",
    "mosviz.app"
   ]
  }
 ],
 "metadata": {
  "kernelspec": {
   "display_name": "Python 3",
   "language": "python",
   "name": "python3"
  },
  "language_info": {
   "codemirror_mode": {
    "name": "ipython",
    "version": 3
   },
   "file_extension": ".py",
   "mimetype": "text/x-python",
   "name": "python",
   "nbconvert_exporter": "python",
   "pygments_lexer": "ipython3",
   "version": "3.7.0"
  }
 },
 "nbformat": 4,
 "nbformat_minor": 2
}
