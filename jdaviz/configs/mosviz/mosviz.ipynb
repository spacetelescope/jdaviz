{
 "cells": [
  {
   "cell_type": "code",
   "execution_count": null,
   "metadata": {
    "scrolled": false
   },
   "outputs": [],
   "source": [
    "# PREFIX\n",
    "import pathlib\n",
    "from jdaviz import Mosviz\n",
    "from tempfile import mkdtemp\n",
    "import zipfile\n",
    "\n",
    "data_path = pathlib.Path('DATA_FILENAME')\n",
    "\n",
    "if zipfile.is_zipfile(data_path):\n",
    "    with zipfile.ZipFile(data_path, 'r') as zipped_data:\n",
    "        extract_path = pathlib.Path(mkdtemp())\n",
    "        zipped_data.extractall(extract_path)\n",
    "        data_path = extract_path\n",
    "\n",
    "mosviz = Mosviz(verbosity='JDAVIZ_VERBOSITY')\n",
    "mosviz.load_data(directory=data_path)\n",
    "mosviz.app"
   ]
  }
 ],
 "metadata": {
  "kernelspec": {
   "display_name": "Python 3",
   "language": "python",
   "name": "python3"
  },
  "language_info": {
   "codemirror_mode": {
    "name": "ipython",
    "version": 3
   },
   "file_extension": ".py",
   "mimetype": "text/x-python",
   "name": "python",
   "nbconvert_exporter": "python",
   "pygments_lexer": "ipython3",
   "version": "3.7.0"
  }
 },
 "nbformat": 4,
 "nbformat_minor": 2
}
