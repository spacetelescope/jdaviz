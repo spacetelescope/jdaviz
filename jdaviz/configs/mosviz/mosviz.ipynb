{
 "cells": [
  {
   "cell_type": "code",
   "execution_count": null,
   "metadata": {
    "scrolled": false
   },
   "outputs": [],
   "source": [
    "# PREFIX\n",
    "import pathlib\n",
    "import tempfile\n",
    "import uuid\n",
    "import zipfile\n",
    "from jdaviz import Mosviz\n",
    "\n",
    "data_path = pathlib.Path('DATA_FILENAME')\n",
    "\n",
    "if zipfile.is_zipfile(data_path):\n",
    "    with zipfile.ZipFile(data_path, 'r') as zipped_data:\n",
    "        extract_path = pathlib.Path(tempfile.gettempdir()) / str(uuid.uuid4())\n",
    "        zipped_data.extractall(extract_path)\n",
    "        data_path = extract_path\n",
    "\n",
    "import glob\n",
    "spectra_1d = list()\n",
    "spectra_2d = list()\n",
    "images = list()\n",
    "for file_path in glob.glob(str(data_path / '*')):\n",
    "    if 'x1d' in file_path:\n",
    "        spectra_1d.append(file_path)\n",
    "    if 's2d' in file_path:\n",
    "        spectra_2d.append(file_path)\n",
    "\n",
    "for i in range(0, len(spectra_1d)):\n",
    "    images.append(str(data_path / \"mosviz_cutouts\" / \"227.fits\"))\n",
    "\n",
    "mosviz = Mosviz(verbosity='JDAVIZ_VERBOSITY')\n",
    "mosviz.load_data(spectra_1d, spectra_2d, images)\n",
    "mosviz.app"
   ]
  }
 ],
 "metadata": {
  "kernelspec": {
   "display_name": "Python 3",
   "language": "python",
   "name": "python3"
  },
  "language_info": {
   "codemirror_mode": {
    "name": "ipython",
    "version": 3
   },
   "file_extension": ".py",
   "mimetype": "text/x-python",
   "name": "python",
   "nbconvert_exporter": "python",
   "pygments_lexer": "ipython3",
   "version": "3.7.0"
  }
 },
 "nbformat": 4,
 "nbformat_minor": 2
}