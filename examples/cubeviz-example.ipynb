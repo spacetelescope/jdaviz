{
 "cells": [
  {
   "cell_type": "code",
   "execution_count": 4,
   "metadata": {},
   "outputs": [
    {
     "data": {
      "text/html": [
       "<style>.container { width:100% !important; }</style>"
      ],
      "text/plain": [
       "<IPython.core.display.HTML object>"
      ]
     },
     "metadata": {},
     "output_type": "display_data"
    }
   ],
   "source": [
    "from IPython.core.display import display, HTML\n",
    "display(HTML(\"<style>.container { width:100% !important; }</style>\"))\n",
    "\n",
    "import ipyvuetify as v"
   ]
  },
  {
   "cell_type": "markdown",
   "metadata": {},
   "source": [
    "## CubeViz Example"
   ]
  },
  {
   "cell_type": "code",
   "execution_count": null,
   "metadata": {},
   "outputs": [],
   "source": [
    "url = 'https://dr15.sdss.org/sas/dr15/manga/spectro/redux/v2_4_3/7495/stack/manga-7495-12704-LOGCUBE.fits.gz'\n",
    "filename = url.split('/')[-1]\n",
    "if filename.endswith('.gz'):\n",
    "    ungz_filename = filename[:-3]"
   ]
  },
  {
   "cell_type": "code",
   "execution_count": null,
   "metadata": {},
   "outputs": [],
   "source": [
    "import os\n",
    "from urllib.request import urlretrieve\n",
    "\n",
    "if os.path.isfile(ungz_filename):\n",
    "    print(\"Ungzipped version of file\", filename, 'present, using that')\n",
    "    filename = ungz_filename\n",
    "elif os.path.isfile(filename):\n",
    "    print(\"File\", filename, 'already downloaded')\n",
    "else:\n",
    "    try:\n",
    "        import tqdm\n",
    "        with tqdm.tqdm_notebook(unit='B', unit_scale=True) as t:\n",
    "            def reporthook(blocknum, readsize, totalsize):\n",
    "                if blocknum %100 == 0:\n",
    "                    t.total = totalsize\n",
    "                    t.n = blocknum*readsize\n",
    "                    t.display()\n",
    "            urlretrieve(url, filename, reporthook)\n",
    "            t.n =  t.total\n",
    "    except ImportError:\n",
    "        urlretrieve(url, filename)\n",
    "    print(\"Downloaded\", filename)"
   ]
  },
  {
   "cell_type": "markdown",
   "metadata": {},
   "source": [
    "### Create the VizApp for state information"
   ]
  },
  {
   "cell_type": "code",
   "execution_count": 5,
   "metadata": {},
   "outputs": [],
   "source": [
    "filename = '/Users/bcherinka/Work/notebooks/datb/manga-7495-12704-LOGCUBE.fits'\n",
    "from jdaviz.vizcomponents.applications import cubeviz\n",
    "from jdaviz.vizcomponents.vizapp import VizApp\n",
    "vizapp = VizApp()"
   ]
  },
  {
   "cell_type": "markdown",
   "metadata": {},
   "source": [
    "### Create CubeViz and Show"
   ]
  },
  {
   "cell_type": "code",
   "execution_count": 6,
   "metadata": {
    "scrolled": false
   },
   "outputs": [
    {
     "name": "stderr",
     "output_type": "stream",
     "text": [
      "WARNING: FITSFixedWarning: PLATEID = 7495 / Current plate \n",
      "a string value was expected. [astropy.wcs.wcs]\n",
      "WARNING:astropy:FITSFixedWarning: PLATEID = 7495 / Current plate \n",
      "a string value was expected.\n",
      "/Users/bcherinka/Work/git/stsci/glue/glue/viewers/common/viewer.py:179: UserWarning: Add large data set?\n",
      "  warnings.warn(message)\n"
     ]
    }
   ],
   "source": [
    "c = cubeviz.CubeViz(filename, vizapp)"
   ]
  },
  {
   "cell_type": "code",
   "execution_count": 7,
   "metadata": {
    "scrolled": true
   },
   "outputs": [
    {
     "data": {
      "application/vnd.jupyter.widget-view+json": {
       "model_id": "aaa181c1950343cdb785966bbe7df4eb",
       "version_major": 2,
       "version_minor": 0
      },
      "text/plain": [
       "Layout(children=[Flex(children=[Layout(children=[Flex(children=[Layout(children=[Menu(children=[Btn(children=[…"
      ]
     },
     "metadata": {},
     "output_type": "display_data"
    }
   ],
   "source": [
    "c.show()"
   ]
  },
  {
   "cell_type": "code",
   "execution_count": null,
   "metadata": {},
   "outputs": [],
   "source": []
  }
 ],
 "metadata": {
  "kernelspec": {
   "display_name": "Python 3",
   "language": "python",
   "name": "python3"
  },
  "language_info": {
   "codemirror_mode": {
    "name": "ipython",
    "version": 3
   },
   "file_extension": ".py",
   "mimetype": "text/x-python",
   "name": "python",
   "nbconvert_exporter": "python",
   "pygments_lexer": "ipython3",
   "version": "3.7.2"
  }
 },
 "nbformat": 4,
 "nbformat_minor": 2
}
