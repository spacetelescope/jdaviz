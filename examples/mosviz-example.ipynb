{
 "cells": [
  {
   "cell_type": "code",
   "execution_count": 1,
   "metadata": {
    "scrolled": true
   },
   "outputs": [],
   "source": [
    "from IPython.core.display import display #, HTML\n",
    "# from ipywidgets import HTML\n",
    "# display(HTML(\"<style>.container { width:100% !important; }</style>\"))"
   ]
  },
  {
   "cell_type": "markdown",
   "metadata": {},
   "source": [
    "## MOSViz Example"
   ]
  },
  {
   "cell_type": "code",
   "execution_count": 2,
   "metadata": {
    "scrolled": true
   },
   "outputs": [],
   "source": [
    "import os\n",
    "# notebook has to run from top directory where MOS data lives,\n",
    "# since the mosviz main table stores relative paths only. \n",
    "os.chdir('/Users/busko/Dropbox/mosviz_nirspec_data_0-2.2/level3')\n",
    "filename = os.path.join(os.getcwd(), 'mosviz_table.txt')"
   ]
  },
  {
   "cell_type": "markdown",
   "metadata": {},
   "source": [
    "### Create the VizApp for state information"
   ]
  },
  {
   "cell_type": "code",
   "execution_count": 3,
   "metadata": {
    "scrolled": true
   },
   "outputs": [],
   "source": [
    "from jdaviz.vizcomponents.applications import mosviz\n",
    "from jdaviz.vizcomponents.vizapp import VizApp\n",
    "vizapp = VizApp()"
   ]
  },
  {
   "cell_type": "code",
   "execution_count": 4,
   "metadata": {
    "scrolled": true
   },
   "outputs": [],
   "source": [
    "data = vizapp.glue_app.load_data(filename)"
   ]
  },
  {
   "cell_type": "markdown",
   "metadata": {},
   "source": [
    "### Create MOSViz and Show"
   ]
  },
  {
   "cell_type": "code",
   "execution_count": 5,
   "metadata": {
    "scrolled": true
   },
   "outputs": [
    {
     "name": "stdout",
     "output_type": "stream",
     "text": [
      "@@@@@@  file mos_viewer.py; line 78 -  Figure(axes=[Axis(label='spec', scale=LinearScale(max=1.0, min=0.0)), Axis(label='flux', orientation='vertical', scale=LinearScale(max=1.0, min=0.0))], fig_margin={'top': 60, 'bottom': 60, 'left': 60, 'right': 60}, layout=Layout(height='400px', width='500px'), scale_x=LinearScale(allow_padding=False, max=1.0, min=0.0), scale_y=LinearScale(allow_padding=False, max=1.0, min=0.0))\n"
     ]
    },
    {
     "name": "stderr",
     "output_type": "stream",
     "text": [
      "/Users/busko/Projects/software/miniconda3/envs/jdaviz/lib/python3.7/site-packages/traittypes/traittypes.py:101: UserWarning: Given trait value dtype \"float64\" does not match required type \"float64\". A coerced copy has been created.\n",
      "  np.dtype(self.dtype).name))\n"
     ]
    }
   ],
   "source": [
    "mv = mosviz.MOSViz(vizapp, data)"
   ]
  },
  {
   "cell_type": "code",
   "execution_count": 6,
   "metadata": {
    "scrolled": false
   },
   "outputs": [
    {
     "data": {
      "application/vnd.jupyter.widget-view+json": {
       "model_id": "aae5e36061bc4841809bb9bdabc94509",
       "version_major": 2,
       "version_minor": 0
      },
      "text/plain": [
       "Box(children=(VBox(children=(HBox(children=(Dropdown(description='Slit', layout=Layout(width='20em'), options=…"
      ]
     },
     "metadata": {},
     "output_type": "display_data"
    }
   ],
   "source": [
    "from bqplot.interacts import BrushIntervalSelector, BrushSelector\n",
    "import bqplot\n",
    "\n",
    "mv.show()"
   ]
  },
  {
   "cell_type": "code",
   "execution_count": 7,
   "metadata": {
    "scrolled": true
   },
   "outputs": [],
   "source": [
    "inter = BrushIntervalSelector(scale=bqplot.LinearScale())\n",
    "scales = {'x': bqplot.LinearScale(), 'y': bqplot.LinearScale()}\n",
    "\n",
    "inter = BrushSelector(scales=scales)\n",
    "inter.marks = [mv._mos_widget.fig_spec1d.marks]\n",
    "\n",
    "mv._mos_widget.fig_spec1d.interaction = inter\n",
    "from ipywidgets import HTML\n",
    "text_brush = HTML()\n",
    "\n",
    "def update_brush_text(*args):\n",
    "    print(\"AAAAAAA\")\n",
    "    text_brush.value = \"The Brush's selected attribute is {}\".format(inter.selected)\n",
    "\n",
    "inter.observe(update_brush_text, 'selected')"
   ]
  },
  {
   "cell_type": "code",
   "execution_count": 8,
   "metadata": {},
   "outputs": [],
   "source": [
    "#import pandas as pd\n",
    "#from ipywidgets import VBox, HTML # this is not the same as in code above!\n",
    "#from bqplot import *\n",
    "\n",
    "#symbol = 'Security 1'\n",
    "#symbol2 = 'Security 2'\n",
    "#price_data = pd.DataFrame(np.cumsum(np.random.randn(150, 2).dot([[0.5, 0.4], [0.4, 1.0]]), axis=0) + 100,\n",
    "#                          columns=[symbol, symbol2],\n",
    "#                          index=pd.date_range(start='01-01-2007', periods=150))\n",
    "\n",
    "#dates_actual = price_data.index.values\n",
    "#prices = price_data[symbol].values\n",
    "\n",
    "#scales = {'x': DateScale(), 'y': LinearScale()}\n",
    "#scatter = Scatter(x=dates_actual, y=prices, scales=scales, colors=['orange'],\n",
    "#                 selected_style={'opacity': '1'}, unselected_style={'opacity': '0.2'})\n",
    "# Create the brush selector, passing it its corresponding scale.\n",
    "# Notice that we do not pass it any marks for now\n",
    "#brushintsel = BrushIntervalSelector(scale=scales['x'])\n",
    "\n",
    "#x_ax = Axis(label='Index', scale=scales['x'])\n",
    "#x_ay = Axis(label=(symbol + ' Price'), scale=scales['y'], orientation='vertical')\n",
    "# Pass the Selector instance to the Figure\n",
    "#fig = Figure(marks=[scatter], axes=[x_ax, x_ay],\n",
    "#             title='''Brush Interval Selector Example. Click and drag on the Figure to action.''',\n",
    "#             interaction=brushintsel)\n",
    "\n",
    "#text_brush = HTML()\n",
    "#text_scatter = HTML()\n",
    "\n",
    "# This function updates the text, triggered by a change in the selector\n",
    "#def update_brush_text(*args):\n",
    "#    text_brush.value = \"The Brush's selected attribute is {}\".format(brushintsel.selected)\n",
    "#def update_scatter_text(*args):\n",
    "#    text_scatter.value = \"The scatter's selected indices are {}\".format(scatter.selected)\n",
    "#brushintsel.observe(update_brush_text, 'selected')\n",
    "#scatter.observe(update_scatter_text, 'selected')\n",
    "\n",
    "#update_brush_text()\n",
    "#update_scatter_text()\n",
    "\n",
    "# Display\n",
    "#VBox([fig, text_brush, text_scatter])\n",
    "\n"
   ]
  },
  {
   "cell_type": "code",
   "execution_count": null,
   "metadata": {},
   "outputs": [],
   "source": []
  }
 ],
 "metadata": {
  "kernelspec": {
   "display_name": "Python 3",
   "language": "python",
   "name": "python3"
  },
  "language_info": {
   "codemirror_mode": {
    "name": "ipython",
    "version": 3
   },
   "file_extension": ".py",
   "mimetype": "text/x-python",
   "name": "python",
   "nbconvert_exporter": "python",
   "pygments_lexer": "ipython3",
   "version": "3.7.3"
  }
 },
 "nbformat": 4,
 "nbformat_minor": 2
}
