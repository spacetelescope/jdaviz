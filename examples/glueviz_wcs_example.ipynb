{
 "cells": [
  {
   "cell_type": "markdown",
   "metadata": {},
   "source": [
    "# WCS Linking with Glue-Jupyter\n",
    "\n",
    "This notebook provides an example of linking two dithered NIRISS images using `glue-jupyter`. The development version of `glue-jupyter` is required. To install it:\n",
    "\n",
    "```\n",
    "pip install git+https://github.com/glue-viz/glue-jupyter.git\n",
    "```\n",
    "\n",
    "The versions used to develop this:\n",
    "\n",
    "```\n",
    "# Name                    Version                   Build  Channel\n",
    "astropy                   3.2rc2                   pypi_0    pypi\n",
    "bqplot                    0.12.0a1                 pypi_0    pypi\n",
    "bqplot-image-gl           0.1.4                    pypi_0    pypi\n",
    "glue-core                 0.15.0.dev5617           pypi_0    pypi\n",
    "glue-jupyter              0.0.0                    pypi_0    pypi\n",
    "glue-vispy-viewers        0.12.dev0                pypi_0    pypi\n",
    "numpy                     1.16.3           py37he5ce36f_0    conda-forge\n",
    "```\n",
    "\n",
    "Related issues:\n",
    "\n",
    "* https://github.com/spacetelescope/jdaviz/issues/25\n",
    "* https://github.com/glue-viz/glue-jupyter/issues/112\n",
    "\n",
    "See also:\n",
    "\n",
    "* http://docs.glueviz.org/en/stable/developer_guide/linking.html"
   ]
  },
  {
   "cell_type": "code",
   "execution_count": null,
   "metadata": {},
   "outputs": [],
   "source": [
    "import warnings\n",
    "\n",
    "from glue.core.data_factories import load_data\n",
    "from glue.external.echo import keep_in_sync\n",
    "\n",
    "from glue_jupyter import jglue"
   ]
  },
  {
   "cell_type": "markdown",
   "metadata": {},
   "source": [
    "Data files can be downloaded from https://stsci.app.box.com/s/hgj2yuhya3fjwx13s4b2ibuwiqbsmyvu . The example here assumes that you already downloaded the data files into the local working directory, where you are running this notebook from."
   ]
  },
  {
   "cell_type": "code",
   "execution_count": null,
   "metadata": {},
   "outputs": [],
   "source": [
    "filename_d1 = 'NIRISS_f150w_direct_dit1_nis_cal.fits'\n",
    "filename_d2 = 'NIRISS_f150w_direct_dit2_nis_cal.fits'"
   ]
  },
  {
   "cell_type": "code",
   "execution_count": null,
   "metadata": {},
   "outputs": [],
   "source": [
    "with warnings.catch_warnings():\n",
    "    warnings.simplefilter('ignore')  # Silence warnings\n",
    "    dither1 = load_data(filename_d1)[0]  # 0 = SCI\n",
    "    dither2 = load_data(filename_d2)[0]"
   ]
  },
  {
   "cell_type": "code",
   "execution_count": null,
   "metadata": {},
   "outputs": [],
   "source": [
    "# Shows the data collection.\n",
    "dither1"
   ]
  },
  {
   "cell_type": "code",
   "execution_count": null,
   "metadata": {},
   "outputs": [],
   "source": [
    "# Shows the data components for SCI extension.\n",
    "dither1.components"
   ]
  },
  {
   "cell_type": "markdown",
   "metadata": {},
   "source": [
    "Now, we create a `glue-jupyter` app and add the data."
   ]
  },
  {
   "cell_type": "code",
   "execution_count": null,
   "metadata": {},
   "outputs": [],
   "source": [
    "app = jglue()"
   ]
  },
  {
   "cell_type": "code",
   "execution_count": null,
   "metadata": {},
   "outputs": [],
   "source": [
    "app.add_data(dither1)\n",
    "app.add_data(dither2);"
   ]
  },
  {
   "cell_type": "markdown",
   "metadata": {},
   "source": [
    "Having loaded both SCI extensions from different dithers and know their WCS components, we can now link them. `add_link()` links the data for overlay."
   ]
  },
  {
   "cell_type": "code",
   "execution_count": null,
   "metadata": {},
   "outputs": [],
   "source": [
    "app.add_link(dither1, 'Right Ascension', dither2, 'Right Ascension')\n",
    "app.add_link(dither1, 'Declination', dither2, 'Declination')"
   ]
  },
  {
   "cell_type": "markdown",
   "metadata": {},
   "source": [
    "We display both dithers in separate, but connected, viewers.\n",
    "\n",
    "**Note:** For the test image, try setting `percentile` to 99.5%."
   ]
  },
  {
   "cell_type": "code",
   "execution_count": null,
   "metadata": {},
   "outputs": [],
   "source": [
    "viewer1 = app.imshow(data=dither1)"
   ]
  },
  {
   "cell_type": "markdown",
   "metadata": {},
   "source": [
    "**Temporary hack:** To sync by WCS, display same image in both viewers; this will be the reference image. Add second image in second viewer. Then, in the second viewer, use the GUI to make the first image layer invisible. (Source: `@astrofrog`)\n",
    "\n",
    "(Optional) For best effect, set the second viewer to have same `percentile` and `colormap` as the first viewer."
   ]
  },
  {
   "cell_type": "code",
   "execution_count": null,
   "metadata": {},
   "outputs": [],
   "source": [
    "viewer2 = app.imshow(data=dither1)"
   ]
  },
  {
   "cell_type": "code",
   "execution_count": null,
   "metadata": {},
   "outputs": [],
   "source": [
    "viewer2.add_data(dither2);"
   ]
  },
  {
   "cell_type": "markdown",
   "metadata": {},
   "source": [
    "Meanwhile, `keep_in_sync` links the viewers' pans."
   ]
  },
  {
   "cell_type": "code",
   "execution_count": null,
   "metadata": {},
   "outputs": [],
   "source": [
    "# See viewer state parameters\n",
    "viewer1.state.as_dict()"
   ]
  },
  {
   "cell_type": "markdown",
   "metadata": {},
   "source": [
    "**Note:** `@astrofrog` advised not to lock down all four corners with auto aspect ratio on or bad things will happen. But looks like aspect is `'equal'` in this case, so probably okay?\n",
    "\n",
    "**TODO: `keep_in_sync` sometimes stops working, then I have to rerun this cell below, then it works a little and stops again. And sometimes, first viewer would give me the traceback below.**\n",
    "\n",
    "```\n",
    "AttributeError: 'NoneType' object has no attribute '_syncing'\n",
    "```"
   ]
  },
  {
   "cell_type": "code",
   "execution_count": null,
   "metadata": {},
   "outputs": [],
   "source": [
    "keep_in_sync(viewer1.state, 'aspect', viewer2.state, 'aspect')\n",
    "keep_in_sync(viewer1.state, 'x_min', viewer2.state, 'x_min')\n",
    "keep_in_sync(viewer1.state, 'x_max', viewer2.state, 'x_max')\n",
    "keep_in_sync(viewer1.state, 'y_min', viewer2.state, 'y_min')\n",
    "keep_in_sync(viewer1.state, 'y_max', viewer2.state, 'y_max');"
   ]
  },
  {
   "cell_type": "code",
   "execution_count": null,
   "metadata": {},
   "outputs": [],
   "source": []
  }
 ],
 "metadata": {
  "kernelspec": {
   "display_name": "Python 3",
   "language": "python",
   "name": "python3"
  },
  "language_info": {
   "codemirror_mode": {
    "name": "ipython",
    "version": 3
   },
   "file_extension": ".py",
   "mimetype": "text/x-python",
   "name": "python",
   "nbconvert_exporter": "python",
   "pygments_lexer": "ipython3",
   "version": "3.7.1"
  }
 },
 "nbformat": 4,
 "nbformat_minor": 2
}
