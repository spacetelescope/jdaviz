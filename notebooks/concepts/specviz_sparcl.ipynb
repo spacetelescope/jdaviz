{
 "cells": [
  {
   "cell_type": "markdown",
   "id": "e1cc9c08",
   "metadata": {},
   "source": [
    "# SPARCL + Jdaviz\n",
    "This is very promising. I am thinking that it would be useful to produce a full workflow with a list of spectra (instead of just one) and figure out the best way to call Specviz one spectrum at a time.\n",
    "\n",
    "The installation of `sperclclient` + `jdaviz` has a version conflict in the package `requests`. This notebook works if `jdaviz` is installed first and the environment takes the requirement of `request` from `sparclclient` (installed second).  \n",
    "`pip install jdaviz`  \n",
    "`pip install sparclclient`"
   ]
  },
  {
   "cell_type": "code",
   "execution_count": null,
   "id": "1b12bf2e",
   "metadata": {},
   "outputs": [],
   "source": [
    "# SPARCL import\n",
    "from sparcl.client import SparclClient\n",
    "# Jdaviz import\n",
    "from jdaviz import Specviz\n",
    "# Specutils import\n",
    "from specutils import Spectrum1D\n",
    "# Astropy import\n",
    "import astropy.units as u\n",
    "from astropy.nddata import InverseVariance "
   ]
  },
  {
   "cell_type": "markdown",
   "id": "5580d04f",
   "metadata": {},
   "source": [
    "## Set up the SPARCL client"
   ]
  },
  {
   "cell_type": "code",
   "execution_count": null,
   "id": "482c5e93",
   "metadata": {},
   "outputs": [],
   "source": [
    "client = SparclClient()\n",
    "client.all_datasets"
   ]
  },
  {
   "cell_type": "code",
   "execution_count": null,
   "id": "1c310bd4",
   "metadata": {},
   "outputs": [],
   "source": [
    "client.get_all_fields(dataset_list=['SDSS-DR16'])"
   ]
  },
  {
   "cell_type": "markdown",
   "id": "04a75db2",
   "metadata": {},
   "source": [
    "## Run a search"
   ]
  },
  {
   "cell_type": "markdown",
   "id": "d350a90c",
   "metadata": {},
   "source": [
    "### Notes\n",
    "It took me a few attemps to understand the keywords I can put in `out`.  \n",
    "I later realized that I had to wait for the retrieval to get `flux` and `wavelength` (unless I am doing something wrong)."
   ]
  },
  {
   "cell_type": "code",
   "execution_count": null,
   "id": "9b7d99c6",
   "metadata": {},
   "outputs": [],
   "source": [
    "out = ['id', 'ra', 'dec', 'spectype', 'specid', 'redshift', 'specprimary']\n",
    "cons = {'redshift': [0.5, 0.55],\n",
    "        'data_release': ['SDSS-DR16']}"
   ]
  },
  {
   "cell_type": "code",
   "execution_count": null,
   "id": "9ae27a9b",
   "metadata": {},
   "outputs": [],
   "source": [
    "found = client.find(outfields=out,\n",
    "                    constraints=cons,\n",
    "                    limit=5)"
   ]
  },
  {
   "cell_type": "code",
   "execution_count": null,
   "id": "5907313a",
   "metadata": {},
   "outputs": [],
   "source": [
    "found.records[0]"
   ]
  },
  {
   "cell_type": "code",
   "execution_count": null,
   "id": "7ca97957",
   "metadata": {},
   "outputs": [],
   "source": [
    "ids = found.ids\n",
    "ids"
   ]
  },
  {
   "cell_type": "markdown",
   "id": "34470890",
   "metadata": {},
   "source": [
    "## Retrieve the records"
   ]
  },
  {
   "cell_type": "markdown",
   "id": "0e7be0c1",
   "metadata": {},
   "source": [
    "### Notes\n",
    "The retrieval is pretty fast. I am assuming the `model` goes on the same `wavelength` of the observed spectrum."
   ]
  },
  {
   "cell_type": "code",
   "execution_count": null,
   "id": "ae5c4192",
   "metadata": {},
   "outputs": [],
   "source": [
    "result = client.retrieve(uuid_list=ids,\n",
    "                         include=['specid', \n",
    "                                  'redshift', \n",
    "                                  'flux', \n",
    "                                  'ivar', \n",
    "                                  'wavelength', \n",
    "                                  'mask', \n",
    "                                  'model'])\n",
    "result.info"
   ]
  },
  {
   "cell_type": "code",
   "execution_count": null,
   "id": "17d47fa3",
   "metadata": {},
   "outputs": [],
   "source": [
    "onespec = result.records[0]\n",
    "onespec"
   ]
  },
  {
   "cell_type": "markdown",
   "id": "a78f30e1",
   "metadata": {},
   "source": [
    "## Create a Spectrum1D object"
   ]
  },
  {
   "cell_type": "code",
   "execution_count": null,
   "id": "29cb7ac8",
   "metadata": {},
   "outputs": [],
   "source": [
    "specunit = u.Unit('erg cm-2 s-1 AA-1')\n",
    "spec1d = Spectrum1D(spectral_axis = onespec['wavelength']*u.AA,\n",
    "                    flux = onespec['flux']*specunit,\n",
    "                    uncertainty = InverseVariance(onespec['ivar']),\n",
    "                    mask = onespec['mask'],\n",
    "                    redshift = onespec['redshift']\n",
    "                   )\n",
    "spec1dmodel = Spectrum1D(spectral_axis = onespec['wavelength']*u.AA,\n",
    "                         flux = onespec['model']*specunit)\n",
    "spec1d"
   ]
  },
  {
   "cell_type": "markdown",
   "id": "949739a9",
   "metadata": {},
   "source": [
    "## Open in Specviz"
   ]
  },
  {
   "cell_type": "markdown",
   "id": "b740d0d4",
   "metadata": {},
   "source": [
    "### Notes\n",
    "We will probably want calls to the API to do some basic stuff like:\n",
    "- change plot options\n",
    "- smooth the spectrum\n",
    "- plot some lines\n",
    "- load the redshift\n",
    "- do some line analysis too maybe?"
   ]
  },
  {
   "cell_type": "code",
   "execution_count": null,
   "id": "5fcd50d7",
   "metadata": {},
   "outputs": [],
   "source": [
    "specviz = Specviz()\n",
    "specviz.load_data(spec1d, data_label='observation')\n",
    "specviz.load_data(spec1dmodel, data_label='model')\n",
    "specviz.show()"
   ]
  },
  {
   "cell_type": "code",
   "execution_count": null,
   "id": "c678152c",
   "metadata": {},
   "outputs": [],
   "source": []
  }
 ],
 "metadata": {
  "kernelspec": {
   "display_name": "Python 3 (ipykernel)",
   "language": "python",
   "name": "python3"
  },
  "language_info": {
   "codemirror_mode": {
    "name": "ipython",
    "version": 3
   },
   "file_extension": ".py",
   "mimetype": "text/x-python",
   "name": "python",
   "nbconvert_exporter": "python",
   "pygments_lexer": "ipython3",
   "version": "3.11.3"
  }
 },
 "nbformat": 4,
 "nbformat_minor": 5
}
