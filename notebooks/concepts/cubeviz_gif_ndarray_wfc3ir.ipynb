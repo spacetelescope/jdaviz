{
 "cells": [
  {
   "cell_type": "markdown",
   "id": "f07603dd",
   "metadata": {},
   "source": [
    "# Cubeviz with unusual data\n",
    "\n",
    "This concept notebook shows Cubeviz loading:\n",
    "\n",
    "  * GIF animation as a playable cube,\n",
    "  * plain Numpy array, and\n",
    "  * HST WFC3/IR ramp FITS file."
   ]
  },
  {
   "cell_type": "code",
   "execution_count": null,
   "id": "0adf0be6",
   "metadata": {},
   "outputs": [],
   "source": [
    "from jdaviz import Cubeviz"
   ]
  },
  {
   "cell_type": "markdown",
   "id": "014f2ab7",
   "metadata": {},
   "source": [
    "## From GIF\n",
    "\n",
    "The GIF is from https://media4.giphy.com/media/J5pnZ53pj4cmu30Rx5/giphy.gif. This needs `imageio` and Pillow to be installed as well."
   ]
  },
  {
   "cell_type": "code",
   "execution_count": null,
   "id": "fab04442",
   "metadata": {},
   "outputs": [],
   "source": [
    "filename = '/home/lim/test_data/baby_shark/baby_shark.gif'"
   ]
  },
  {
   "cell_type": "code",
   "execution_count": null,
   "id": "c89c8d5f",
   "metadata": {},
   "outputs": [],
   "source": [
    "cubeviz = Cubeviz()"
   ]
  },
  {
   "cell_type": "code",
   "execution_count": null,
   "id": "137fdde0",
   "metadata": {},
   "outputs": [],
   "source": [
    "cubeviz.load_data(filename)"
   ]
  },
  {
   "cell_type": "code",
   "execution_count": null,
   "id": "ab4eca75",
   "metadata": {
    "scrolled": false
   },
   "outputs": [],
   "source": [
    "cubeviz.show()"
   ]
  },
  {
   "cell_type": "markdown",
   "id": "ea731202",
   "metadata": {},
   "source": [
    "After you load the file, you can run the following cell to play the GIF animation."
   ]
  },
  {
   "cell_type": "code",
   "execution_count": null,
   "id": "bb428d6d",
   "metadata": {},
   "outputs": [],
   "source": [
    "import time\n",
    "\n",
    "slice_plugin = cubeviz.plugins['Slice']\n",
    "interval = 0.1\n",
    "n_slices = cubeviz.app.data_collection[0].shape[-1]\n",
    "\n",
    "slice_plugin.slice = 0\n",
    "\n",
    "for i in range(1, n_slices):\n",
    "    time.sleep(interval)\n",
    "    slice_plugin.slice = i"
   ]
  },
  {
   "cell_type": "markdown",
   "id": "3bd69931",
   "metadata": {},
   "source": [
    "## From array\n",
    "\n",
    "For `flux-viewer`, `(0, 0)` of first slice should have value of zero and should be at bottom left, and then subsequent values should increase in row-major order.\n",
    "\n",
    "For `uncert-viewer`, the values are all random."
   ]
  },
  {
   "cell_type": "code",
   "execution_count": null,
   "id": "5fb6ab3e",
   "metadata": {},
   "outputs": [],
   "source": [
    "import numpy as np"
   ]
  },
  {
   "cell_type": "code",
   "execution_count": null,
   "id": "b52e2b0c",
   "metadata": {},
   "outputs": [],
   "source": [
    "a = np.arange(5 * 8 * 10).reshape((5, 8, 10))  # z, y, x\n",
    "b = np.random.random((5, 8, 10))"
   ]
  },
  {
   "cell_type": "code",
   "execution_count": null,
   "id": "385d69c9",
   "metadata": {},
   "outputs": [],
   "source": [
    "cubeviz = Cubeviz()"
   ]
  },
  {
   "cell_type": "code",
   "execution_count": null,
   "id": "3cd294b2",
   "metadata": {},
   "outputs": [],
   "source": [
    "cubeviz.load_data(a, data_label='ordered')\n",
    "cubeviz.load_data(b, data_label='random', data_type='uncert', override_cube_limit=True)"
   ]
  },
  {
   "cell_type": "code",
   "execution_count": null,
   "id": "d088e647",
   "metadata": {},
   "outputs": [],
   "source": [
    "cubeviz.show()"
   ]
  },
  {
   "cell_type": "markdown",
   "id": "43812f35",
   "metadata": {},
   "source": [
    "## HST WFC3/IR Ramp (Spectrum1D, 3D)"
   ]
  },
  {
   "cell_type": "code",
   "execution_count": null,
   "id": "5a089f3d",
   "metadata": {},
   "outputs": [],
   "source": [
    "import numpy as np\n",
    "from astropy import units as u\n",
    "from astropy.io import fits\n",
    "from astropy.nddata import StdDevUncertainty\n",
    "from astropy.utils.data import download_file\n",
    "from specutils import Spectrum1D"
   ]
  },
  {
   "cell_type": "code",
   "execution_count": null,
   "id": "0d2606f5",
   "metadata": {},
   "outputs": [],
   "source": [
    "wfc3ir_file = download_file('https://mast.stsci.edu/api/v0.1/Download/file?uri=mast:HST/product/icgk01a8q_ima.fits', cache=True)\n",
    "fits.info(wfc3ir_file)"
   ]
  },
  {
   "cell_type": "code",
   "execution_count": null,
   "id": "cb038dae",
   "metadata": {},
   "outputs": [],
   "source": [
    "sci_unit = u.electron / u.s  # From BUNIT but its value is invalid for astropy.units\n",
    "err_unit = sci_unit  # Assume the same\n",
    "\n",
    "with fits.open(wfc3ir_file) as pf:\n",
    "    primary_header = pf[0].header\n",
    "    sci_cube = np.stack([hdu.data for hdu in pf if hdu.name == 'SCI'], axis=2) * sci_unit\n",
    "    err_cube = np.stack([hdu.data for hdu in pf if hdu.name == 'ERR'], axis=2) * err_unit\n",
    "    dq_cube = np.stack([hdu.data for hdu in pf if hdu.name == 'DQ'], axis=2) * u.dimensionless_unscaled\n",
    "    \n",
    "uncertainty = StdDevUncertainty()\n",
    "uncertainty.array = err_cube"
   ]
  },
  {
   "cell_type": "code",
   "execution_count": null,
   "id": "4394b5d8",
   "metadata": {},
   "outputs": [],
   "source": [
    "sci_cube.shape"
   ]
  },
  {
   "cell_type": "code",
   "execution_count": null,
   "id": "6cb0edd8",
   "metadata": {},
   "outputs": [],
   "source": [
    "sc = Spectrum1D(flux=sci_cube, uncertainty=uncertainty, mask=dq_cube, meta=primary_header)"
   ]
  },
  {
   "cell_type": "code",
   "execution_count": null,
   "id": "8ac96845",
   "metadata": {},
   "outputs": [],
   "source": [
    "cubeviz = Cubeviz()"
   ]
  },
  {
   "cell_type": "code",
   "execution_count": null,
   "id": "deee1832",
   "metadata": {},
   "outputs": [],
   "source": [
    "cubeviz.load_data(sc, data_label='icgk01a8q_ima')"
   ]
  },
  {
   "cell_type": "code",
   "execution_count": null,
   "id": "0c713609",
   "metadata": {},
   "outputs": [],
   "source": [
    "cubeviz.show()"
   ]
  },
  {
   "cell_type": "markdown",
   "id": "5b6c0d5b",
   "metadata": {},
   "source": [
    "For sanity check, we display first slice of `SCI` in Matplotlib. Both displays should look the same."
   ]
  },
  {
   "cell_type": "code",
   "execution_count": null,
   "id": "0e1986e5",
   "metadata": {},
   "outputs": [],
   "source": [
    "import matplotlib.pyplot as plt"
   ]
  },
  {
   "cell_type": "code",
   "execution_count": null,
   "id": "7796544b",
   "metadata": {},
   "outputs": [],
   "source": [
    "arr = fits.getdata(wfc3ir_file, ext=1)\n",
    "arr.shape"
   ]
  },
  {
   "cell_type": "code",
   "execution_count": null,
   "id": "6235d493",
   "metadata": {},
   "outputs": [],
   "source": [
    "plt.imshow(arr, origin='lower', vmin=0, vmax=1000)"
   ]
  },
  {
   "cell_type": "code",
   "execution_count": null,
   "id": "7454c76e",
   "metadata": {},
   "outputs": [],
   "source": []
  }
 ],
 "metadata": {
  "kernelspec": {
   "display_name": "Python 3 (ipykernel)",
   "language": "python",
   "name": "python3"
  },
  "language_info": {
   "codemirror_mode": {
    "name": "ipython",
    "version": 3
   },
   "file_extension": ".py",
   "mimetype": "text/x-python",
   "name": "python",
   "nbconvert_exporter": "python",
   "pygments_lexer": "ipython3",
   "version": "3.10.4"
  }
 },
 "nbformat": 4,
 "nbformat_minor": 5
}
