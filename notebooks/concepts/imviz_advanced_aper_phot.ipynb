{
 "cells": [
  {
   "cell_type": "markdown",
   "id": "1f461b4e",
   "metadata": {},
   "source": [
    "This concept notebook is an attempt to create a \"worst case scenario\" for aperture photometry in Jdaviz.\n",
    "\n",
    "See https://github.com/spacetelescope/jdaviz/issues/2139#issuecomment-1507619222"
   ]
  },
  {
   "cell_type": "code",
   "execution_count": null,
   "id": "b946ec7e",
   "metadata": {},
   "outputs": [],
   "source": [
    "import matplotlib.pyplot as plt\n",
    "from astropy import units as u\n",
    "from astropy.utils.data import get_pkg_data_filename\n",
    "from regions import PixCoord, CirclePixelRegion, EllipsePixelRegion, RectanglePixelRegion\n",
    "\n",
    "from jdaviz import Imviz\n",
    "\n",
    "%matplotlib inline"
   ]
  },
  {
   "cell_type": "code",
   "execution_count": null,
   "id": "6949a5a5-a67e-49a0-a80c-514ac4515098",
   "metadata": {},
   "outputs": [],
   "source": [
    "imviz = Imviz()\n",
    "imviz.show()"
   ]
  },
  {
   "cell_type": "markdown",
   "id": "940038df",
   "metadata": {},
   "source": [
    "### Image 1: A scene with regular WCS\n",
    "\n",
    "A hundred Gaussian objects with FITS WCS. This is the data used in `photutils/aperture/tests/test_stats.py`."
   ]
  },
  {
   "cell_type": "code",
   "execution_count": null,
   "id": "4741f22b",
   "metadata": {},
   "outputs": [],
   "source": [
    "file1 = get_pkg_data_filename('data/gauss100_fits_wcs.fits', package='jdaviz.configs.imviz.tests')\n",
    "imviz.load_data(file1)"
   ]
  },
  {
   "cell_type": "markdown",
   "id": "f03325fd-11ac-4e25-a88a-51482c6bfbc4",
   "metadata": {},
   "source": [
    "We will use circular apertures from the test case for now so we can check against answers from `photutils`."
   ]
  },
  {
   "cell_type": "code",
   "execution_count": null,
   "id": "7cca112b-0cbc-4c66-9948-6846e82cf860",
   "metadata": {},
   "outputs": [],
   "source": [
    "regions = []\n",
    "positions = [(145.1, 168.3), (48.3, 200.3)]\n",
    "for x, y in positions:\n",
    "    regions.append(CirclePixelRegion(center=PixCoord(x=x, y=y), radius=5))"
   ]
  },
  {
   "cell_type": "markdown",
   "id": "ad7b4322-8b51-43b5-ada6-e25f454e0f3c",
   "metadata": {},
   "source": [
    "Add elliptical and rectangular regions too so we can study any asymetrical effects on Subset."
   ]
  },
  {
   "cell_type": "code",
   "execution_count": null,
   "id": "0f18ac72-1424-4820-918f-adf3b29113bf",
   "metadata": {},
   "outputs": [],
   "source": [
    "regions += [\n",
    "    EllipsePixelRegion(center=PixCoord(x=84.7, y=224.1), width=23, height=9, angle=2.356 * u.rad),\n",
    "    RectanglePixelRegion(center=PixCoord(x=229, y=152), width=17, height=7)\n",
    "]"
   ]
  },
  {
   "cell_type": "code",
   "execution_count": null,
   "id": "1e1a50f9-66f8-441b-abb7-11091ab51ceb",
   "metadata": {},
   "outputs": [],
   "source": [
    "imviz.load_regions(regions)"
   ]
  },
  {
   "cell_type": "markdown",
   "id": "8e6fc84a-a53d-4de3-ba26-8d6ee4285e02",
   "metadata": {},
   "source": [
    "### Image 2: WCS with a different pixel scale\n",
    "\n",
    "Now we need an image would result in the Subset being hard to work with. Say, this image would have a different pixel scale. Offset of the center is also implicitly tested by using a different pixel scale.\n",
    "\n",
    "*Note: Originally, distortion was also planned but it added a huge amount of computation time to reproject and linking; hence it was abandoned from the test case.*\n",
    "\n",
    "We define a different pixel scale by down-sampling it by half each dimension."
   ]
  },
  {
   "cell_type": "code",
   "execution_count": null,
   "id": "b7f71606",
   "metadata": {},
   "outputs": [],
   "source": [
    "file2 = get_pkg_data_filename('data/gauss100_fits_wcs_block_reduced.fits', package='jdaviz.configs.imviz.tests')\n",
    "imviz.load_data(file2)"
   ]
  },
  {
   "cell_type": "markdown",
   "id": "987c96f0-ba8b-42b1-9ffd-6f50db3f190c",
   "metadata": {},
   "source": [
    "### Image 3: Add rotation to downsampled image\n",
    "\n",
    "Like above but with extra rotation."
   ]
  },
  {
   "cell_type": "code",
   "execution_count": null,
   "id": "91dc1847-1ae1-4a51-aa44-feac12f4c290",
   "metadata": {},
   "outputs": [],
   "source": [
    "file3 = get_pkg_data_filename('data/gauss100_fits_wcs_block_reduced_rotated.fits', package='jdaviz.configs.imviz.tests')\n",
    "imviz.load_data(file3)"
   ]
  },
  {
   "cell_type": "markdown",
   "id": "4be18968",
   "metadata": {},
   "source": [
    "### Link them by WCS"
   ]
  },
  {
   "cell_type": "code",
   "execution_count": null,
   "id": "8d78fcfe-d224-410a-a9d8-7ff84a3bd660",
   "metadata": {},
   "outputs": [],
   "source": [
    "imviz.link_data(link_type='wcs')"
   ]
  },
  {
   "cell_type": "markdown",
   "id": "fe16d7c9-5b41-45fe-b7a5-3f6c1e91ec95",
   "metadata": {},
   "source": [
    "### How is glue projecting the rectangle?\n",
    "\n",
    "How is `glue` really projecting the rectangle for all the data? This is without any special handling using sky coordinates. Also, this is not the mask that is getting passed into `photutils`."
   ]
  },
  {
   "cell_type": "code",
   "execution_count": null,
   "id": "69549536-96f5-43ea-afc4-aaa6f79723ba",
   "metadata": {},
   "outputs": [],
   "source": [
    "rect_grp = imviz.app.data_collection.subset_groups[3]"
   ]
  },
  {
   "cell_type": "code",
   "execution_count": null,
   "id": "1ac4e746",
   "metadata": {},
   "outputs": [],
   "source": [
    "fig, axs = plt.subplots(1, 3)\n",
    "axs[0].imshow(rect_grp.subsets[0].to_mask(), origin='lower')\n",
    "axs[0].set_xlim(210, 250)\n",
    "axs[0].set_ylim(140, 160)\n",
    "axs[1].imshow(rect_grp.subsets[1].to_mask(), origin='lower')\n",
    "axs[1].set_xlim(105, 125)\n",
    "axs[1].set_ylim(70, 80)\n",
    "axs[2].imshow(rect_grp.subsets[2].to_mask(), origin='lower')\n",
    "axs[2].set_xlim(105, 125)\n",
    "axs[2].set_ylim(70, 80);"
   ]
  },
  {
   "cell_type": "markdown",
   "id": "2071b1be-ee74-41c3-bb36-02eb1eb4f0a8",
   "metadata": {},
   "source": [
    "Even when unrotated, a different pixel scale does affect the projected mask dimension. When rotated, it is not even a rectangle anymore; furthermore, even though this projection follows WCS linking, the array from `to_mask()` does not account for rotation that we see in the viewer."
   ]
  },
  {
   "cell_type": "markdown",
   "id": "b69abb83",
   "metadata": {},
   "source": [
    "### What is aperture photometry telling us now?"
   ]
  },
  {
   "cell_type": "code",
   "execution_count": null,
   "id": "d5ca3ec6",
   "metadata": {},
   "outputs": [],
   "source": [
    "phot_plugin = imviz.plugins[\"Aperture Photometry\"]._obj"
   ]
  },
  {
   "cell_type": "markdown",
   "id": "8fc3202b",
   "metadata": {},
   "source": [
    "To re-calculate for a different subset, uncomment the desired Subset and re-run affected cells."
   ]
  },
  {
   "cell_type": "code",
   "execution_count": null,
   "id": "2eee32c7",
   "metadata": {},
   "outputs": [],
   "source": [
    "phot_plugin.aperture_selected = \"Subset 1\"\n",
    "#phot_plugin.aperture_selected = \"Subset 2\"\n",
    "#phot_plugin.aperture_selected = \"Subset 3\"\n",
    "#phot_plugin.aperture_selected = \"Subset 4\""
   ]
  },
  {
   "cell_type": "markdown",
   "id": "dfbaf5f1",
   "metadata": {},
   "source": [
    "Calculate for the same Subset for all the data.\n",
    "\n",
    "Original data has a mean background of 5. Block-reduced data will have mean background of 20 (4 pixels combined into 1 pixel, while preserving total flux)."
   ]
  },
  {
   "cell_type": "code",
   "execution_count": null,
   "id": "5557c11f",
   "metadata": {},
   "outputs": [],
   "source": [
    "phot_plugin.background_selected = 'Manual'\n",
    "phot_plugin.background_value = 5.0\n",
    "\n",
    "phot_plugin.dataset_selected = \"gauss100_fits_wcs[PRIMARY,1]\"\n",
    "phot_plugin.vue_do_aper_phot()\n",
    "\n",
    "phot_plugin.background_value = 20.0\n",
    "\n",
    "phot_plugin.dataset_selected = \"gauss100_fits_wcs_block_reduced[PRIMARY,1]\"\n",
    "phot_plugin.vue_do_aper_phot()\n",
    "\n",
    "phot_plugin.dataset_selected = \"gauss100_fits_wcs_block_reduced_rotated[PRIMARY,1]\"\n",
    "phot_plugin.vue_do_aper_phot()"
   ]
  },
  {
   "cell_type": "markdown",
   "id": "94ed228d",
   "metadata": {},
   "source": [
    "Look at the results. The aperture sum should be close (within 10%) to the following numbers regardless of data if Subset is handled correctly:\n",
    "\n",
    "| Subset name | Aperture sum |\n",
    "| --- | --- |\n",
    "| Subset 1 | 738.8803424408962 |\n",
    "| Subset 2 | 857.5194857987592 |\n",
    "| Subset 3 | 472.17364321556005 |\n",
    "| Subset 4 | 837.0023608207703 |"
   ]
  },
  {
   "cell_type": "code",
   "execution_count": null,
   "id": "136e355f",
   "metadata": {},
   "outputs": [],
   "source": [
    "tbl = imviz.get_aperture_photometry_results()"
   ]
  },
  {
   "cell_type": "code",
   "execution_count": null,
   "id": "445b7540",
   "metadata": {},
   "outputs": [],
   "source": [
    "tbl[\"data_label\", \"subset_label\", \"sum\"]"
   ]
  },
  {
   "cell_type": "code",
   "execution_count": null,
   "id": "2aafbc62",
   "metadata": {},
   "outputs": [],
   "source": []
  }
 ],
 "metadata": {
  "kernelspec": {
   "display_name": "Python 3 (ipykernel)",
   "language": "python",
   "name": "python3"
  },
  "language_info": {
   "codemirror_mode": {
    "name": "ipython",
    "version": 3
   },
   "file_extension": ".py",
   "mimetype": "text/x-python",
   "name": "python",
   "nbconvert_exporter": "python",
   "pygments_lexer": "ipython3",
   "version": "3.11.0"
  }
 },
 "nbformat": 4,
 "nbformat_minor": 5
}
