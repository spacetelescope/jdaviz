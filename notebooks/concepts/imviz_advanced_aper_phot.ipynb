{
 "cells": [
  {
   "cell_type": "markdown",
   "id": "1f461b4e",
   "metadata": {},
   "source": [
    "This concept notebook is an attempt to create a \"worst case scenario\" for aperture photometry in Jdaviz.\n",
    "\n",
    "See https://github.com/spacetelescope/jdaviz/issues/2139#issuecomment-1507619222"
   ]
  },
  {
   "cell_type": "code",
   "execution_count": null,
   "id": "b946ec7e",
   "metadata": {},
   "outputs": [],
   "source": [
    "import matplotlib.pyplot as plt\n",
    "from astropy.utils.data import get_pkg_data_filename\n",
    "from regions import PixCoord, CirclePixelRegion, RectanglePixelRegion\n",
    "\n",
    "from jdaviz import Imviz\n",
    "\n",
    "%matplotlib inline"
   ]
  },
  {
   "cell_type": "code",
   "execution_count": null,
   "id": "6949a5a5-a67e-49a0-a80c-514ac4515098",
   "metadata": {},
   "outputs": [],
   "source": [
    "imviz = Imviz()\n",
    "imviz.show()"
   ]
  },
  {
   "cell_type": "markdown",
   "id": "940038df",
   "metadata": {},
   "source": [
    "### Image 1: A scene with regular WCS\n",
    "\n",
    "A hundred Gaussian objects with FITS WCS. This is the data used in `photutils/aperture/tests/test_stats.py`."
   ]
  },
  {
   "cell_type": "code",
   "execution_count": null,
   "id": "4741f22b",
   "metadata": {},
   "outputs": [],
   "source": [
    "file1 = get_pkg_data_filename('data/gauss100_fits_wcs.fits', package='jdaviz.configs.imviz.tests')\n",
    "imviz.load_data(file1)"
   ]
  },
  {
   "cell_type": "markdown",
   "id": "f03325fd-11ac-4e25-a88a-51482c6bfbc4",
   "metadata": {},
   "source": [
    "We will use circular apertures from the test case for now so we can check against answers from `photutils`."
   ]
  },
  {
   "cell_type": "code",
   "execution_count": null,
   "id": "7cca112b-0cbc-4c66-9948-6846e82cf860",
   "metadata": {},
   "outputs": [],
   "source": [
    "regions = []\n",
    "positions = [(145.1, 168.3), (84.7, 224.1), (48.3, 200.3)]\n",
    "for x, y in positions:\n",
    "    regions.append(CirclePixelRegion(center=PixCoord(x=x, y=y), radius=5))"
   ]
  },
  {
   "cell_type": "markdown",
   "id": "ad7b4322-8b51-43b5-ada6-e25f454e0f3c",
   "metadata": {},
   "source": [
    "Add one rectangular region too so we can study any assymetrical effects on Subset."
   ]
  },
  {
   "cell_type": "code",
   "execution_count": null,
   "id": "0f18ac72-1424-4820-918f-adf3b29113bf",
   "metadata": {},
   "outputs": [],
   "source": [
    "regions.append(RectanglePixelRegion(\n",
    "    center=PixCoord(x=229, y=152), width=17, height=5))"
   ]
  },
  {
   "cell_type": "code",
   "execution_count": null,
   "id": "1e1a50f9-66f8-441b-abb7-11091ab51ceb",
   "metadata": {},
   "outputs": [],
   "source": [
    "imviz.load_regions(regions)"
   ]
  },
  {
   "cell_type": "markdown",
   "id": "8e6fc84a-a53d-4de3-ba26-8d6ee4285e02",
   "metadata": {},
   "source": [
    "### Image 2: WCS with a different pixel scale\n",
    "\n",
    "Now we need an image would result in the Subset being hard to work with. Say, this image would have a different pixel scale. Offset of the center is also implicitly tested by using a different pixel scale.\n",
    "\n",
    "*Note: Originally, distortion was also planned but it added a huge amount of computation time to reproject and linking; hence it was abandoned from the test case.*\n",
    "\n",
    "We define a different pixel scale by down-sampling it by half each dimension."
   ]
  },
  {
   "cell_type": "code",
   "execution_count": null,
   "id": "b7f71606",
   "metadata": {},
   "outputs": [],
   "source": [
    "file2 = get_pkg_data_filename('data/gauss100_fits_wcs_block_reduced.fits', package='jdaviz.configs.imviz.tests')\n",
    "imviz.load_data(file2)"
   ]
  },
  {
   "cell_type": "markdown",
   "id": "987c96f0-ba8b-42b1-9ffd-6f50db3f190c",
   "metadata": {},
   "source": [
    "### Image 3: Add rotation to downsampled image\n",
    "\n",
    "Like above but with extra rotation."
   ]
  },
  {
   "cell_type": "code",
   "execution_count": null,
   "id": "91dc1847-1ae1-4a51-aa44-feac12f4c290",
   "metadata": {},
   "outputs": [],
   "source": [
    "file3 = get_pkg_data_filename('data/gauss100_fits_wcs_block_reduced_rotated.fits', package='jdaviz.configs.imviz.tests')\n",
    "imviz.load_data(file3)"
   ]
  },
  {
   "cell_type": "markdown",
   "id": "4be18968",
   "metadata": {},
   "source": [
    "### Link them by WCS"
   ]
  },
  {
   "cell_type": "code",
   "execution_count": null,
   "id": "8d78fcfe-d224-410a-a9d8-7ff84a3bd660",
   "metadata": {},
   "outputs": [],
   "source": [
    "imviz.link_data(link_type='wcs')"
   ]
  },
  {
   "cell_type": "markdown",
   "id": "fe16d7c9-5b41-45fe-b7a5-3f6c1e91ec95",
   "metadata": {},
   "source": [
    "### How is glue projecting the rectangle?\n",
    "\n",
    "How is `glue` really projecting the rectangle for all the data?"
   ]
  },
  {
   "cell_type": "code",
   "execution_count": null,
   "id": "69549536-96f5-43ea-afc4-aaa6f79723ba",
   "metadata": {},
   "outputs": [],
   "source": [
    "rect_grp = imviz.app.data_collection.subset_groups[3]"
   ]
  },
  {
   "cell_type": "code",
   "execution_count": null,
   "id": "5958db68-2d75-49da-bac5-4a1eefb59ded",
   "metadata": {},
   "outputs": [],
   "source": [
    "fig, axs = plt.subplots(1, 3)\n",
    "axs[0].imshow(rect_grp.subsets[0].to_mask(), origin='lower')\n",
    "axs[0].set_xlim(210, 250)\n",
    "axs[0].set_ylim(140, 160)\n",
    "axs[1].imshow(rect_grp.subsets[1].to_mask(), origin='lower')\n",
    "axs[1].set_xlim(105, 125)\n",
    "axs[1].set_ylim(70, 80)\n",
    "axs[2].imshow(rect_grp.subsets[2].to_mask(), origin='lower')\n",
    "axs[2].set_xlim(105, 125)\n",
    "axs[2].set_ylim(70, 80);"
   ]
  },
  {
   "cell_type": "markdown",
   "id": "2071b1be-ee74-41c3-bb36-02eb1eb4f0a8",
   "metadata": {},
   "source": [
    "Even when unrotated, a different pixel scale does affect the projected mask dimension. When rotated, it is not even a rectangle anymore; furthermore, even though this projection follows WCS linking, the array from `to_mask()` does not account for rotation that we see in the viewer."
   ]
  },
  {
   "cell_type": "code",
   "execution_count": null,
   "id": "192e6319-8af3-4450-980f-61fca40f711f",
   "metadata": {},
   "outputs": [],
   "source": []
  }
 ],
 "metadata": {
  "kernelspec": {
   "display_name": "Python 3 (ipykernel)",
   "language": "python",
   "name": "python3"
  },
  "language_info": {
   "codemirror_mode": {
    "name": "ipython",
    "version": 3
   },
   "file_extension": ".py",
   "mimetype": "text/x-python",
   "name": "python",
   "nbconvert_exporter": "python",
   "pygments_lexer": "ipython3",
   "version": "3.10.8"
  }
 },
 "nbformat": 4,
 "nbformat_minor": 5
}
