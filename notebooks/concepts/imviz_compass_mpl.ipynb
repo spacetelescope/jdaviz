{
 "cells": [
  {
   "cell_type": "markdown",
   "id": "9a8d6eac-6626-415d-ade4-3f986cf18a69",
   "metadata": {},
   "source": [
    "# Imviz compass visualization using Matplotlib\n",
    "\n",
    "This concept notebook visualizes the compass algorithm that Imviz will use. For simplicity, visualization is done using Matplotlib.\n",
    "\n",
    "Some of these examples are also in the unit tests for `wcs_utils.py`."
   ]
  },
  {
   "cell_type": "code",
   "execution_count": null,
   "id": "e571e723",
   "metadata": {},
   "outputs": [],
   "source": [
    "import gwcs\n",
    "import numpy as np\n",
    "from astropy import units as u\n",
    "from astropy.coordinates import ICRS\n",
    "from astropy.io import fits\n",
    "from astropy.modeling import models\n",
    "from astropy.utils.data import download_file\n",
    "from astropy.wcs import WCS\n",
    "from glue.core import Component, Data\n",
    "from gwcs import coordinate_frames as cf\n",
    "\n",
    "from jdaviz import Imviz\n",
    "from jdaviz.configs.imviz import wcs_utils"
   ]
  },
  {
   "cell_type": "code",
   "execution_count": null,
   "id": "fd58f8ef",
   "metadata": {},
   "outputs": [],
   "source": [
    "%matplotlib inline"
   ]
  },
  {
   "cell_type": "markdown",
   "id": "3779ae77-97fa-49db-85e5-7e8213c0cd30",
   "metadata": {},
   "source": [
    "## Case 1: Dummy WCS with 10x10 image"
   ]
  },
  {
   "cell_type": "code",
   "execution_count": null,
   "id": "ae33669d",
   "metadata": {},
   "outputs": [],
   "source": [
    "a = np.arange(100).reshape((10, 10))"
   ]
  },
  {
   "cell_type": "code",
   "execution_count": null,
   "id": "c334e59e",
   "metadata": {},
   "outputs": [],
   "source": [
    "w = WCS()"
   ]
  },
  {
   "cell_type": "code",
   "execution_count": null,
   "id": "20605e33",
   "metadata": {},
   "outputs": [],
   "source": [
    "_ = wcs_utils.draw_compass_mpl(a, wcs=w, show=True)"
   ]
  },
  {
   "cell_type": "markdown",
   "id": "2e63db00-18a4-455c-b683-94659dc25895",
   "metadata": {},
   "source": [
    "Now, let's try that in the Compass plugin. We will display this same image in Imviz. Open the Compass plugin to see the result."
   ]
  },
  {
   "cell_type": "code",
   "execution_count": null,
   "id": "f5d34d55-fe0b-4882-be37-02dededaab45",
   "metadata": {},
   "outputs": [],
   "source": [
    "hdu = fits.ImageHDU(a, name='SCI')\n",
    "hdu.header.update(w.to_header())"
   ]
  },
  {
   "cell_type": "code",
   "execution_count": null,
   "id": "df75a36b-0ba0-4641-9c9b-1cc4f72dd2d5",
   "metadata": {},
   "outputs": [],
   "source": [
    "imviz = Imviz()\n",
    "imviz.load_data(hdu, data_label='arr_with_dummy_wcs')\n",
    "imviz.show()"
   ]
  },
  {
   "cell_type": "markdown",
   "id": "8999c3b9-2bf3-4b6a-89e9-5f6ec843a73e",
   "metadata": {},
   "source": [
    "## Case 2: Real WCS with no rotation nor distortion\n",
    "\n",
    "We reuse the array from above but WCS from https://learn.astropy.org/tutorials/celestial_coords1.html example."
   ]
  },
  {
   "cell_type": "code",
   "execution_count": null,
   "id": "3253dd7f",
   "metadata": {},
   "outputs": [],
   "source": [
    "w = WCS({'CTYPE1': 'RA---TAN',\n",
    "         'CUNIT1': 'deg',\n",
    "         'CDELT1': -0.0002777777778,\n",
    "         'CRPIX1': 1,\n",
    "         'CRVAL1': 337.5202808,\n",
    "         'NAXIS1': 10,\n",
    "         'CTYPE2': 'DEC--TAN',\n",
    "         'CUNIT2': 'deg',\n",
    "         'CDELT2': 0.0002777777778,\n",
    "         'CRPIX2': 1,\n",
    "         'CRVAL2': -20.833333059999998,\n",
    "         'NAXIS2': 10})"
   ]
  },
  {
   "cell_type": "code",
   "execution_count": null,
   "id": "d2e73414",
   "metadata": {},
   "outputs": [],
   "source": [
    "_ = wcs_utils.draw_compass_mpl(a, wcs=w)"
   ]
  },
  {
   "cell_type": "markdown",
   "id": "a567e019",
   "metadata": {},
   "source": [
    "Now, let's try that in the Compass plugin. We will display this same image in Imviz. Open the Compass plugin to see the result."
   ]
  },
  {
   "cell_type": "code",
   "execution_count": null,
   "id": "c6ee0ec6",
   "metadata": {},
   "outputs": [],
   "source": [
    "hdu = fits.ImageHDU(a, name='SCI')\n",
    "hdu.header.update(w.to_header())"
   ]
  },
  {
   "cell_type": "code",
   "execution_count": null,
   "id": "44b8eb24",
   "metadata": {},
   "outputs": [],
   "source": [
    "imviz = Imviz()\n",
    "imviz.load_data(hdu, data_label='arr_with_simple_wcs')\n",
    "imviz.show()"
   ]
  },
  {
   "cell_type": "markdown",
   "id": "321b9356-abc6-4a8f-b76c-7f9bf284a248",
   "metadata": {},
   "source": [
    "## Case 3: HST/ACS FLT with distortion\n",
    "\n",
    "We replaced the actual ACS image (`jb5g05ubq_flt.fits`) with random data to avoid data download, but the WCS is real."
   ]
  },
  {
   "cell_type": "code",
   "execution_count": null,
   "id": "42a9e142",
   "metadata": {},
   "outputs": [],
   "source": [
    "a = np.random.random((2048, 4096))\n",
    "w = WCS({'WCSAXES': 2,\n",
    "         'CRPIX1': 2100.0,\n",
    "         'CRPIX2': 1024.0,\n",
    "         'PC1_1': -1.14852e-05,\n",
    "         'PC1_2': 7.01477e-06,\n",
    "         'PC2_1': 7.75765e-06,\n",
    "         'PC2_2': 1.20927e-05,\n",
    "         'CDELT1': 1.0,\n",
    "         'CDELT2': 1.0,\n",
    "         'CUNIT1': 'deg',\n",
    "         'CUNIT2': 'deg',\n",
    "         'CTYPE1': 'RA---TAN',\n",
    "         'CTYPE2': 'DEC--TAN',\n",
    "         'CRVAL1': 3.581704851882,\n",
    "         'CRVAL2': -30.39197867265,\n",
    "         'LONPOLE': 180.0,\n",
    "         'LATPOLE': -30.39197867265,\n",
    "         'MJDREF': 0.0,\n",
    "         'RADESYS': 'ICRS'})"
   ]
  },
  {
   "cell_type": "code",
   "execution_count": null,
   "id": "7bd46c49",
   "metadata": {},
   "outputs": [],
   "source": [
    "_ = wcs_utils.draw_compass_mpl(a, wcs=w)"
   ]
  },
  {
   "cell_type": "markdown",
   "id": "4862b82c",
   "metadata": {},
   "source": [
    "Now, let's try that in the Compass plugin. We will display this same image in Imviz. Open the Compass plugin to see the result."
   ]
  },
  {
   "cell_type": "code",
   "execution_count": null,
   "id": "d719c6aa",
   "metadata": {},
   "outputs": [],
   "source": [
    "hdu = fits.ImageHDU(a, name='SCI')\n",
    "hdu.header.update(w.to_header())"
   ]
  },
  {
   "cell_type": "code",
   "execution_count": null,
   "id": "d17663d1",
   "metadata": {},
   "outputs": [],
   "source": [
    "imviz = Imviz()\n",
    "imviz.load_data(hdu, data_label='jb5g05ubq_flt')\n",
    "imviz.show()"
   ]
  },
  {
   "cell_type": "markdown",
   "id": "c72b24e6-78ec-411d-aaaf-53babff6fea4",
   "metadata": {},
   "source": [
    "## Case 4: GWCS\n",
    "\n",
    "Again, we use random data. The GWCS is from https://gwcs.readthedocs.io/en/latest/#getting-started example."
   ]
  },
  {
   "cell_type": "code",
   "execution_count": null,
   "id": "1ff358a3",
   "metadata": {},
   "outputs": [],
   "source": [
    "a = np.random.random((1024, 2048))\n",
    "\n",
    "shift_by_crpix = models.Shift(-(2048 - 1) * u.pix) & models.Shift(-(1024 - 1) * u.pix)\n",
    "matrix = np.array([[1.290551569736E-05, 5.9525007864732E-06],\n",
    "                   [5.0226382102765E-06, -1.2644844123757E-05]])\n",
    "rotation = models.AffineTransformation2D(matrix * u.deg, translation=[0, 0] * u.deg)\n",
    "rotation.input_units_equivalencies = {\"x\": u.pixel_scale(1 * (u.deg / u.pix)),\n",
    "                                      \"y\": u.pixel_scale(1 * (u.deg / u.pix))}\n",
    "rotation.inverse = models.AffineTransformation2D(np.linalg.inv(matrix) * u.pix,\n",
    "                                                 translation=[0, 0] * u.pix)\n",
    "rotation.inverse.input_units_equivalencies = {\"x\": u.pixel_scale(1 * (u.pix / u.deg)),\n",
    "                                              \"y\": u.pixel_scale(1 * (u.pix / u.deg))}\n",
    "tan = models.Pix2Sky_TAN()\n",
    "celestial_rotation = models.RotateNative2Celestial(\n",
    "    5.63056810618 * u.deg, -72.05457184279 * u.deg, 180 * u.deg)\n",
    "det2sky = shift_by_crpix | rotation | tan | celestial_rotation\n",
    "det2sky.name = \"linear_transform\"\n",
    "detector_frame = cf.Frame2D(name=\"detector\", axes_names=(\"x\", \"y\"), unit=(u.pix, u.pix))\n",
    "sky_frame = cf.CelestialFrame(reference_frame=ICRS(), name='icrs', unit=(u.deg, u.deg))\n",
    "pipeline = [(detector_frame, det2sky), (sky_frame, None)]\n",
    "w = gwcs.wcs.WCS(pipeline)"
   ]
  },
  {
   "cell_type": "code",
   "execution_count": null,
   "id": "e99e5d27",
   "metadata": {},
   "outputs": [],
   "source": [
    "_ = wcs_utils.draw_compass_mpl(a, wcs=w)"
   ]
  },
  {
   "cell_type": "markdown",
   "id": "20c2a382",
   "metadata": {},
   "source": [
    "Now, let's try that in the Compass plugin. We will display this same image in Imviz. Open the Compass plugin to see the result."
   ]
  },
  {
   "cell_type": "code",
   "execution_count": null,
   "id": "c82866da",
   "metadata": {},
   "outputs": [],
   "source": [
    "data = Data(label='my_gwcs')\n",
    "data.coords = w\n",
    "component = Component.autotyped(a, units='MJy/sr')\n",
    "_ = data.add_component(component=component, label='DATA')"
   ]
  },
  {
   "cell_type": "code",
   "execution_count": null,
   "id": "261fcdc3",
   "metadata": {},
   "outputs": [],
   "source": [
    "imviz = Imviz()\n",
    "imviz.app.add_data(data, data.label)\n",
    "imviz.app.add_data_to_viewer('imviz-0', data.label)\n",
    "imviz.show()"
   ]
  },
  {
   "cell_type": "markdown",
   "id": "61076f0d",
   "metadata": {},
   "source": [
    "## Case 5: Bad WCS\n",
    "\n",
    "This image from the Imviz example notebook will give the following error when we attempt to calculate the compass in the backend:\n",
    "\n",
    "    NoConvergence: 'WCS.all_world2pix' failed to converge to the requested accuracy.\n",
    "    After 2 iterations, the solution is diverging at least for one input point.\n",
    "\n",
    "Therefore, you will not see the N and E axes in the display."
   ]
  },
  {
   "cell_type": "code",
   "execution_count": null,
   "id": "dd5d5697",
   "metadata": {},
   "outputs": [],
   "source": [
    "acs_47tuc_1 = download_file('https://mast.stsci.edu/api/v0.1/Download/file?uri=mast:HST/product/jbqf03gjq_flc.fits', cache=True)\n",
    "\n",
    "pf = fits.open(acs_47tuc_1)\n",
    "a = pf[1].data\n",
    "w = WCS(pf[1].header, pf)"
   ]
  },
  {
   "cell_type": "code",
   "execution_count": null,
   "id": "a2e6134e",
   "metadata": {},
   "outputs": [],
   "source": [
    "_ = wcs_utils.draw_compass_mpl(a, wcs=w)"
   ]
  },
  {
   "cell_type": "markdown",
   "id": "9f4afffd",
   "metadata": {},
   "source": [
    "Now, let's try that in the Compass plugin. We will display this same image in Imviz. Open the Compass plugin to see the result."
   ]
  },
  {
   "cell_type": "code",
   "execution_count": null,
   "id": "49c70162",
   "metadata": {},
   "outputs": [],
   "source": [
    "imviz = Imviz()\n",
    "imviz.load_data(acs_47tuc_1, data_label='acs_47tuc_1')\n",
    "imviz.show()"
   ]
  },
  {
   "cell_type": "markdown",
   "id": "ece58d1b",
   "metadata": {},
   "source": [
    "## Case 6: No WCS\n",
    "\n",
    "In this example, we will see how the Compass plugin behaves when image has no WCS. You will not see the N and E axes in the display."
   ]
  },
  {
   "cell_type": "code",
   "execution_count": null,
   "id": "6f07054e",
   "metadata": {},
   "outputs": [],
   "source": [
    "a = np.arange(100).reshape((10, 10))"
   ]
  },
  {
   "cell_type": "code",
   "execution_count": null,
   "id": "76e04d1e",
   "metadata": {},
   "outputs": [],
   "source": [
    "imviz = Imviz()\n",
    "imviz.load_data(a, data_label='no_wcs')\n",
    "imviz.show()"
   ]
  },
  {
   "cell_type": "markdown",
   "id": "519ac799",
   "metadata": {},
   "source": [
    "## Case 7: Dithered images\n",
    "\n",
    "What about two images dithered by one pixel in X, and a third one with no WCS? We display them all. Open the Compass plugin and blink the images using `b` key."
   ]
  },
  {
   "cell_type": "code",
   "execution_count": null,
   "id": "360e74e2",
   "metadata": {},
   "outputs": [],
   "source": [
    "a = np.arange(100).reshape((10, 10))\n",
    "\n",
    "# First data with WCS.\n",
    "hdu1 = fits.ImageHDU(a, name='SCI')\n",
    "hdu1.header.update({'CTYPE1': 'RA---TAN',\n",
    "                    'CUNIT1': 'deg',\n",
    "                    'CDELT1': -0.0002777777778,\n",
    "                    'CRPIX1': 1,\n",
    "                    'CRVAL1': 337.5202808,\n",
    "                    'NAXIS1': 10,\n",
    "                    'CTYPE2': 'DEC--TAN',\n",
    "                    'CUNIT2': 'deg',\n",
    "                    'CDELT2': 0.0002777777778,\n",
    "                    'CRPIX2': 1,\n",
    "                    'CRVAL2': -20.833333059999998,\n",
    "                    'NAXIS2': 10})\n",
    "\n",
    "# Second data with WCS, similar to above but dithered by 1 pixel in X.\n",
    "hdu2 = fits.ImageHDU(a, name='SCI')\n",
    "hdu2.header.update({'CTYPE1': 'RA---TAN',\n",
    "                    'CUNIT1': 'deg',\n",
    "                    'CDELT1': -0.0002777777778,\n",
    "                    'CRPIX1': 2,\n",
    "                    'CRVAL1': 337.5202808,\n",
    "                    'NAXIS1': 10,\n",
    "                    'CTYPE2': 'DEC--TAN',\n",
    "                    'CUNIT2': 'deg',\n",
    "                    'CDELT2': 0.0002777777778,\n",
    "                    'CRPIX2': 1,\n",
    "                    'CRVAL2': -20.833333059999998,\n",
    "                    'NAXIS2': 10})"
   ]
  },
  {
   "cell_type": "code",
   "execution_count": null,
   "id": "391f5efd",
   "metadata": {},
   "outputs": [],
   "source": [
    "imviz = Imviz()\n",
    "imviz.load_data(hdu1, data_label='has_wcs_1')\n",
    "imviz.load_data(hdu2, data_label='has_wcs_2')\n",
    "imviz.load_data(a, data_label='no_wcs')\n",
    "imviz.link_data(align_by='wcs')\n",
    "imviz.show()"
   ]
  },
  {
   "cell_type": "markdown",
   "id": "c063a038",
   "metadata": {},
   "source": [
    "## Case 8: Galactic center image from astropy-data"
   ]
  },
  {
   "cell_type": "code",
   "execution_count": null,
   "id": "5524cfe0",
   "metadata": {},
   "outputs": [],
   "source": [
    "filename = download_file('https://github.com/astropy/astropy-data/raw/gh-pages/galactic_center/gc_2mass_k.fits', cache=True)"
   ]
  },
  {
   "cell_type": "code",
   "execution_count": null,
   "id": "d52b6e67",
   "metadata": {},
   "outputs": [],
   "source": [
    "imviz = Imviz()\n",
    "imviz.load_data(filename, data_label='gc_2mass_k')\n",
    "imviz.show()"
   ]
  },
  {
   "cell_type": "code",
   "execution_count": null,
   "id": "1fb83d3e",
   "metadata": {},
   "outputs": [],
   "source": []
  }
 ],
 "metadata": {
  "kernelspec": {
   "display_name": "Python 3 (ipykernel)",
   "language": "python",
   "name": "python3"
  },
  "language_info": {
   "codemirror_mode": {
    "name": "ipython",
    "version": 3
   },
   "file_extension": ".py",
   "mimetype": "text/x-python",
   "name": "python",
   "nbconvert_exporter": "python",
   "pygments_lexer": "ipython3",
   "version": "3.9.7"
  }
 },
 "nbformat": 4,
 "nbformat_minor": 5
}
