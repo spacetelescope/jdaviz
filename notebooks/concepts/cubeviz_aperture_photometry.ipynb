{
 "cells": [
  {
   "cell_type": "markdown",
   "id": "449b2943-123a-4329-9080-64b0121fe64f",
   "metadata": {},
   "source": [
    "# Cubeviz Aperture Photometry\n",
    "\n",
    "Concept notebook to demonstrate aperture photometry in Cubeviz."
   ]
  },
  {
   "cell_type": "code",
   "execution_count": null,
   "id": "d1cba588-3dbb-4290-b551-d7d8423b590d",
   "metadata": {},
   "outputs": [],
   "source": [
    "import numpy as np\n",
    "from astropy import units as u\n",
    "from astropy.io import fits\n",
    "from astropy.nddata import StdDevUncertainty\n",
    "from astropy.wcs import WCS\n",
    "from regions import RectanglePixelRegion, PixCoord\n",
    "from specutils import Spectrum1D\n",
    "\n",
    "from jdaviz import Cubeviz"
   ]
  },
  {
   "cell_type": "markdown",
   "id": "6e20699f-fb00-49d4-9015-fcc421f737d5",
   "metadata": {},
   "source": [
    "## Cube with linear flux unit"
   ]
  },
  {
   "cell_type": "code",
   "execution_count": null,
   "id": "2da8b639-94be-46dd-90a8-84ad074c093a",
   "metadata": {},
   "outputs": [],
   "source": [
    "# Same data as the one in conftest.py\n",
    "\n",
    "def image_cube_hdu_obj_microns():\n",
    "    # Basic rectangle ramp for aperture photometry test.\n",
    "    a = np.zeros((8, 9, 10)).astype(np.float32)  # (nz, ny, nx)\n",
    "    for i in range(8):\n",
    "        a[i, :5, :3] = i + 1\n",
    "    flux_hdu = fits.ImageHDU(a)\n",
    "    flux_hdu.name = 'FLUX'\n",
    "\n",
    "    uncert_hdu = fits.ImageHDU(np.zeros((8, 9, 10)).astype(np.float32))\n",
    "    uncert_hdu.name = 'ERR'\n",
    "\n",
    "    mask_hdu = fits.ImageHDU(np.ones((8, 9, 10)).astype(np.uint16))\n",
    "    mask_hdu.name = 'MASK'\n",
    "\n",
    "    wcs = {\n",
    "        'WCSAXES': 3, 'CRPIX1': 38.0, 'CRPIX2': 38.0, 'CRPIX3': 1.0,\n",
    "        'CRVAL1': 205.4384, 'CRVAL2': 27.004754, 'CRVAL3': 4.890499866509344,\n",
    "        'CTYPE1': 'RA---TAN', 'CTYPE2': 'DEC--TAN', 'CTYPE3': 'WAVE',\n",
    "        'CUNIT1': 'deg', 'CUNIT2': 'deg', 'CUNIT3': 'um',\n",
    "        'CDELT1': 3.61111097865634E-05, 'CDELT2': 3.61111097865634E-05, 'CDELT3': 0.001000000047497451,  # noqa\n",
    "        'PC1_1 ': -1.0, 'PC1_2 ': 0.0, 'PC1_3 ': 0,\n",
    "        'PC2_1 ': 0.0, 'PC2_2 ': 1.0, 'PC2_3 ': 0,\n",
    "        'PC3_1 ': 0, 'PC3_2 ': 0, 'PC3_3 ': 1,\n",
    "        'DISPAXIS': 2, 'VELOSYS': -2538.02,\n",
    "        'SPECSYS': 'BARYCENT', 'RADESYS': 'ICRS', 'EQUINOX': 2000.0,\n",
    "        'LONPOLE': 180.0, 'LATPOLE': 27.004754,\n",
    "        'MJDREFI': 0.0, 'MJDREFF': 0.0, 'DATE-OBS': '2014-03-30'}\n",
    "\n",
    "    flux_hdu.header.update(wcs)\n",
    "    flux_hdu.header['BUNIT'] = '1E-17 erg*s^-1*cm^-2*Angstrom^-1'\n",
    "\n",
    "    uncert_hdu.header['BUNIT'] = '1E-17 erg*s^-1*cm^-2*Angstrom^-1'\n",
    "\n",
    "    return fits.HDUList([fits.PrimaryHDU(), flux_hdu, uncert_hdu, mask_hdu])\n",
    "\n",
    "test_cube = image_cube_hdu_obj_microns()"
   ]
  },
  {
   "cell_type": "code",
   "execution_count": null,
   "id": "9ee4685a-ce17-4e55-b53c-bd61e6ae9a42",
   "metadata": {},
   "outputs": [],
   "source": [
    "cubeviz = Cubeviz()"
   ]
  },
  {
   "cell_type": "code",
   "execution_count": null,
   "id": "b2be3e5d-9e93-4a7e-9350-cf126b9be6c9",
   "metadata": {},
   "outputs": [],
   "source": [
    "cubeviz.load_data(test_cube, data_label=\"test\")"
   ]
  },
  {
   "cell_type": "code",
   "execution_count": null,
   "id": "0b63a185-16fd-4b68-a992-f547c208e2f0",
   "metadata": {},
   "outputs": [],
   "source": [
    "cubeviz.show()"
   ]
  },
  {
   "cell_type": "code",
   "execution_count": null,
   "id": "2582b41b-2e9d-4451-8330-0ac5fbb91b19",
   "metadata": {},
   "outputs": [],
   "source": [
    "cubeviz.default_viewer._obj.state.reset_limits()"
   ]
  },
  {
   "cell_type": "code",
   "execution_count": null,
   "id": "80045658-6e56-4f4d-a6e6-2242af9a8b9d",
   "metadata": {},
   "outputs": [],
   "source": [
    "aper = RectanglePixelRegion(center=PixCoord(x=1, y=2), width=3, height=5)"
   ]
  },
  {
   "cell_type": "code",
   "execution_count": null,
   "id": "2c1decd5-c4b7-4a80-afbe-3c3ffd7261e2",
   "metadata": {},
   "outputs": [],
   "source": [
    "cubeviz.load_regions(aper)"
   ]
  },
  {
   "cell_type": "code",
   "execution_count": null,
   "id": "69417ba1-7791-4927-90b8-e5ff900feb89",
   "metadata": {},
   "outputs": [],
   "source": [
    "plg = cubeviz.plugins[\"Aperture Photometry\"]._obj\n",
    "cube_slice_plg = cubeviz.plugins[\"Slice\"]._obj"
   ]
  },
  {
   "cell_type": "code",
   "execution_count": null,
   "id": "2bae7903-f80a-41fa-a17e-3e47ef9c4ce2",
   "metadata": {},
   "outputs": [],
   "source": [
    "plg.open_in_tray()"
   ]
  },
  {
   "cell_type": "code",
   "execution_count": null,
   "id": "1646e299-2dbd-43f7-a11b-3900c7fcc11e",
   "metadata": {},
   "outputs": [],
   "source": [
    "plg.dataset_selected = \"test[FLUX]\""
   ]
  },
  {
   "cell_type": "code",
   "execution_count": null,
   "id": "13a21462-6c63-48b0-9a6b-161babf21a58",
   "metadata": {},
   "outputs": [],
   "source": [
    "plg.aperture_selected = \"Subset 1\""
   ]
  },
  {
   "cell_type": "code",
   "execution_count": null,
   "id": "863e6437-e149-44d9-9a98-6772952e756d",
   "metadata": {},
   "outputs": [],
   "source": [
    "plg.vue_do_aper_phot()"
   ]
  },
  {
   "cell_type": "markdown",
   "id": "be522ec9-b212-453b-adae-56bdc319e1b8",
   "metadata": {},
   "source": [
    "### Change slice"
   ]
  },
  {
   "cell_type": "code",
   "execution_count": null,
   "id": "b38cee36-6a92-48e6-90e6-189b114527c6",
   "metadata": {},
   "outputs": [],
   "source": [
    "cube_slice_plg.slice = 0"
   ]
  },
  {
   "cell_type": "code",
   "execution_count": null,
   "id": "578b3152-7510-47f5-9489-72327c14192a",
   "metadata": {},
   "outputs": [],
   "source": [
    "plg.vue_do_aper_phot()"
   ]
  },
  {
   "cell_type": "code",
   "execution_count": null,
   "id": "3873f16d-2a3a-4e3e-8570-d9cc7540cd5e",
   "metadata": {},
   "outputs": [],
   "source": [
    "# Change back\n",
    "cube_slice_plg.slice = 4"
   ]
  },
  {
   "cell_type": "markdown",
   "id": "20f5f9f1-7738-4eab-9ef9-64a44262a19d",
   "metadata": {},
   "source": [
    "### Collapse"
   ]
  },
  {
   "cell_type": "code",
   "execution_count": null,
   "id": "4f1009a1-47ac-4402-87e3-b615ae9a1567",
   "metadata": {},
   "outputs": [],
   "source": [
    "collapse_plg = cubeviz.plugins[\"Collapse\"]._obj"
   ]
  },
  {
   "cell_type": "code",
   "execution_count": null,
   "id": "dd9d8ac7-63c0-4d04-ba24-6bed98715119",
   "metadata": {},
   "outputs": [],
   "source": [
    "collapse_plg.vue_collapse()"
   ]
  },
  {
   "cell_type": "code",
   "execution_count": null,
   "id": "b945614c-ec73-4c77-9d03-4b49a46632ad",
   "metadata": {},
   "outputs": [],
   "source": [
    "cubeviz.app.add_data_to_viewer(\"uncert-viewer\", \"test[FLUX] collapsed\")"
   ]
  },
  {
   "cell_type": "code",
   "execution_count": null,
   "id": "4b59a420-3f4d-4115-9fea-0d89d6a7a4d7",
   "metadata": {},
   "outputs": [],
   "source": [
    "plg.dataset_selected = \"test[FLUX] collapsed\""
   ]
  },
  {
   "cell_type": "code",
   "execution_count": null,
   "id": "10067668-f6d3-4b25-bc53-f1350874b484",
   "metadata": {},
   "outputs": [],
   "source": [
    "plg.vue_do_aper_phot()"
   ]
  },
  {
   "cell_type": "markdown",
   "id": "d7e7cad8-b515-40d0-8ee0-549b44416fc9",
   "metadata": {},
   "source": [
    "### Moment map"
   ]
  },
  {
   "cell_type": "code",
   "execution_count": null,
   "id": "f5a52b82-6f76-406a-b72f-157a4e4b6a52",
   "metadata": {},
   "outputs": [],
   "source": [
    "moment_plg = cubeviz.plugins[\"Moment Maps\"]"
   ]
  },
  {
   "cell_type": "code",
   "execution_count": null,
   "id": "ff23a274-546a-4760-8a31-25c2a0a7c907",
   "metadata": {},
   "outputs": [],
   "source": [
    "m = moment_plg.calculate_moment()"
   ]
  },
  {
   "cell_type": "code",
   "execution_count": null,
   "id": "6b3b73a5-4f0c-4b16-82c9-7e73b6226127",
   "metadata": {},
   "outputs": [],
   "source": [
    "cubeviz.app.add_data_to_viewer(\"uncert-viewer\", \"test[FLUX] moment 0\")"
   ]
  },
  {
   "cell_type": "code",
   "execution_count": null,
   "id": "dcae38d6-983d-4285-8b2e-f12c7481c099",
   "metadata": {},
   "outputs": [],
   "source": [
    "plg.dataset_selected = \"test[FLUX] moment 0\""
   ]
  },
  {
   "cell_type": "code",
   "execution_count": null,
   "id": "9778e483-c0be-4ae0-b23e-d9bef518c1fd",
   "metadata": {},
   "outputs": [],
   "source": [
    "plg.vue_do_aper_phot()"
   ]
  },
  {
   "cell_type": "markdown",
   "id": "e8e1d1ab-61e5-4fbd-94a1-056ca1063f67",
   "metadata": {},
   "source": [
    "### Gaussian Smooth"
   ]
  },
  {
   "cell_type": "code",
   "execution_count": null,
   "id": "90cb98f0-37ce-4426-a268-ac1329b120d3",
   "metadata": {},
   "outputs": [],
   "source": [
    "gauss_plg = cubeviz.plugins[\"Gaussian Smooth\"]._obj"
   ]
  },
  {
   "cell_type": "code",
   "execution_count": null,
   "id": "e8e236ba-3373-4d9f-a131-7a0fb856db3c",
   "metadata": {},
   "outputs": [],
   "source": [
    "gauss_plg.mode_selected = \"Spatial\""
   ]
  },
  {
   "cell_type": "code",
   "execution_count": null,
   "id": "5812f082-0b9a-4516-bf71-f0553b3ceb13",
   "metadata": {},
   "outputs": [],
   "source": [
    "g = gauss_plg.smooth()"
   ]
  },
  {
   "cell_type": "code",
   "execution_count": null,
   "id": "2303463c-c934-4530-9d79-fd80f0cd158d",
   "metadata": {},
   "outputs": [],
   "source": [
    "cubeviz.app.add_data_to_viewer(\"uncert-viewer\", \"test[FLUX] spatial-smooth stddev-1.0\")"
   ]
  },
  {
   "cell_type": "code",
   "execution_count": null,
   "id": "89b1fd2c-4927-4590-bdb2-3736e68c9b13",
   "metadata": {},
   "outputs": [],
   "source": [
    "plg.dataset_selected = \"test[FLUX] spatial-smooth stddev-1.0\""
   ]
  },
  {
   "cell_type": "code",
   "execution_count": null,
   "id": "280f1a5f-57fb-4349-a8f5-f87bf926617f",
   "metadata": {},
   "outputs": [],
   "source": [
    "plg.vue_do_aper_phot()"
   ]
  },
  {
   "cell_type": "markdown",
   "id": "4ea8d429-741d-4f36-b2d4-9b3502f9b03f",
   "metadata": {},
   "source": [
    "### Show results"
   ]
  },
  {
   "cell_type": "code",
   "execution_count": null,
   "id": "a2a03cf0-7362-4384-8630-f713ce0a0e2e",
   "metadata": {},
   "outputs": [],
   "source": [
    "t = cubeviz.get_aperture_photometry_results()\n",
    "t  # Should have 5 rows"
   ]
  },
  {
   "cell_type": "markdown",
   "id": "ac81acf1-2aab-421a-88e8-4440c629ff11",
   "metadata": {},
   "source": [
    "## Cube with MJy/sr"
   ]
  },
  {
   "cell_type": "code",
   "execution_count": null,
   "id": "0a7d8efc-e40b-4a11-9680-b1fdc8168bb9",
   "metadata": {},
   "outputs": [],
   "source": [
    "def _create_spectrum1d_cube_with_fluxunit(fluxunit=u.Jy, shape=(2, 2, 4), with_uncerts=False):\n",
    "    # nz=2 nx=2 ny=4\n",
    "    flux = np.arange(np.prod(shape)).reshape(shape) * fluxunit\n",
    "    wcs_dict = {\"CTYPE1\": \"RA---TAN\", \"CTYPE2\": \"DEC--TAN\", \"CTYPE3\": \"WAVE-LOG\",\n",
    "                \"CRVAL1\": 205, \"CRVAL2\": 27, \"CRVAL3\": 4.622e-7,\n",
    "                \"CDELT1\": -0.0001, \"CDELT2\": 0.0001, \"CDELT3\": 8e-11,\n",
    "                \"CRPIX1\": 0, \"CRPIX2\": 0, \"CRPIX3\": 0,\n",
    "                # Need these for aperture photometry test.\n",
    "                 \"TELESCOP\": \"JWST\", \"BUNIT\": fluxunit.to_string(), \"PIXAR_A2\": 0.01}\n",
    "    w = WCS(wcs_dict)\n",
    "    if with_uncerts:\n",
    "        uncert = StdDevUncertainty(np.abs(np.random.normal(flux) * u.Jy))\n",
    "\n",
    "        return Spectrum1D(flux=flux,\n",
    "                          uncertainty=uncert,\n",
    "                          wcs=w,\n",
    "                          meta=wcs_dict)\n",
    "    else:\n",
    "        return Spectrum1D(flux=flux, wcs=w, meta=wcs_dict)\n",
    "\n",
    "test_cube2 = _create_spectrum1d_cube_with_fluxunit(fluxunit=u.MJy/u.sr)"
   ]
  },
  {
   "cell_type": "code",
   "execution_count": null,
   "id": "913eab67-8178-4630-b9f5-c830bfefd474",
   "metadata": {},
   "outputs": [],
   "source": [
    "cubeviz2 = Cubeviz()"
   ]
  },
  {
   "cell_type": "code",
   "execution_count": null,
   "id": "5ea5f674-e2ab-42ae-9ac6-50d43473234f",
   "metadata": {},
   "outputs": [],
   "source": [
    "cubeviz2.load_data(test_cube2, data_label=\"test\")"
   ]
  },
  {
   "cell_type": "code",
   "execution_count": null,
   "id": "d2e68c0a-bdea-42bb-8178-b5a1962aa481",
   "metadata": {},
   "outputs": [],
   "source": [
    "cubeviz2.show()"
   ]
  },
  {
   "cell_type": "code",
   "execution_count": null,
   "id": "2456fa67-f686-4363-9dc5-baba6e0c48bb",
   "metadata": {},
   "outputs": [],
   "source": [
    "cubeviz2.default_viewer._obj.state.reset_limits()"
   ]
  },
  {
   "cell_type": "code",
   "execution_count": null,
   "id": "d985b5fe-71a9-4460-83fe-80f0f9535a31",
   "metadata": {},
   "outputs": [],
   "source": [
    "aper2 = RectanglePixelRegion(center=PixCoord(x=1, y=3), width=1, height=1)\n",
    "bg2 = RectanglePixelRegion(center=PixCoord(x=0, y=2), width=1, height=1)\n",
    "cubeviz2.load_regions([aper2, bg2])"
   ]
  },
  {
   "cell_type": "code",
   "execution_count": null,
   "id": "3067f9a9-ef6d-4e12-b83e-b0eeb88954cd",
   "metadata": {},
   "outputs": [],
   "source": [
    "plg2 = cubeviz2.plugins[\"Aperture Photometry\"]._obj"
   ]
  },
  {
   "cell_type": "code",
   "execution_count": null,
   "id": "871fecb8-b9be-45b3-9701-7506892c9cbc",
   "metadata": {},
   "outputs": [],
   "source": [
    "plg2.open_in_tray()"
   ]
  },
  {
   "cell_type": "code",
   "execution_count": null,
   "id": "0fb28560-e5f1-440d-bba7-cebbf7183d0c",
   "metadata": {},
   "outputs": [],
   "source": [
    "plg2.dataset_selected = \"test[FLUX]\""
   ]
  },
  {
   "cell_type": "code",
   "execution_count": null,
   "id": "d15ccdbd-7e0b-4d1b-b505-ecbb4936562f",
   "metadata": {},
   "outputs": [],
   "source": [
    "plg2.aperture_selected = \"Subset 1\""
   ]
  },
  {
   "cell_type": "code",
   "execution_count": null,
   "id": "b3ed5ccd-96fa-42e3-82c7-fc30fe3da434",
   "metadata": {},
   "outputs": [],
   "source": [
    "plg2.background_selected = \"Subset 2\""
   ]
  },
  {
   "cell_type": "code",
   "execution_count": null,
   "id": "3105d9f0-0576-4711-a50d-662552c0ee98",
   "metadata": {},
   "outputs": [],
   "source": [
    "plg2.vue_do_aper_phot()"
   ]
  },
  {
   "cell_type": "code",
   "execution_count": null,
   "id": "4ef3bc6b-3dde-43d1-be38-149ace4f62ae",
   "metadata": {},
   "outputs": [],
   "source": [
    "t2 = cubeviz2.get_aperture_photometry_results()\n",
    "t2"
   ]
  },
  {
   "cell_type": "code",
   "execution_count": null,
   "id": "40963842-a330-41ac-a6e9-4f40eb9252c6",
   "metadata": {},
   "outputs": [],
   "source": []
  }
 ],
 "metadata": {
  "kernelspec": {
   "display_name": "Python 3 (ipykernel)",
   "language": "python",
   "name": "python3"
  },
  "language_info": {
   "codemirror_mode": {
    "name": "ipython",
    "version": 3
   },
   "file_extension": ".py",
   "mimetype": "text/x-python",
   "name": "python",
   "nbconvert_exporter": "python",
   "pygments_lexer": "ipython3",
   "version": "3.11.0"
  }
 },
 "nbformat": 4,
 "nbformat_minor": 5
}
