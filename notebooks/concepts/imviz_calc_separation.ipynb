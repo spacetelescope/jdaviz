{
 "cells": [
  {
   "cell_type": "markdown",
   "id": "e93cbede",
   "metadata": {},
   "source": [
    "This concept notebook shows an example of how one might measure distances on an image."
   ]
  },
  {
   "cell_type": "code",
   "execution_count": null,
   "id": "f30a9953",
   "metadata": {},
   "outputs": [],
   "source": [
    "import math\n",
    "\n",
    "from astropy import units as u\n",
    "from astroquery.mast import Observations\n",
    "from regions import RectanglePixelRegion, PixCoord\n",
    "\n",
    "from jdaviz import Imviz"
   ]
  },
  {
   "cell_type": "markdown",
   "id": "0c3001f6",
   "metadata": {},
   "source": [
    "We will use an image with some nice features to measure."
   ]
  },
  {
   "cell_type": "code",
   "execution_count": null,
   "id": "a0bfde5d",
   "metadata": {},
   "outputs": [],
   "source": [
    "filename = 'jw01349-o058_t001_miri_f1500w_i2d.fits'\n",
    "local_path = f'/path/to/{filename}'  # Change path as needed\n",
    "Observations.download_file(f'mast:JWST/product/{filename}', local_path=local_path, cache=True)"
   ]
  },
  {
   "cell_type": "code",
   "execution_count": null,
   "id": "d1fdf222",
   "metadata": {
    "scrolled": false
   },
   "outputs": [],
   "source": [
    "imviz = Imviz()\n",
    "imviz.load_data(local_path)\n",
    "imviz.show()"
   ]
  },
  {
   "cell_type": "markdown",
   "id": "2a6a0026",
   "metadata": {},
   "source": [
    "Adjust some viewer properties so features are visible and centered."
   ]
  },
  {
   "cell_type": "code",
   "execution_count": null,
   "id": "9002d2ec",
   "metadata": {},
   "outputs": [],
   "source": [
    "imviz.default_viewer.stretch = 'arcsinh'\n",
    "imviz.default_viewer.cuts = 'minmax'"
   ]
  },
  {
   "cell_type": "code",
   "execution_count": null,
   "id": "6b0bd83e",
   "metadata": {},
   "outputs": [],
   "source": [
    "imviz.default_viewer.center_on((767, 643))"
   ]
  },
  {
   "cell_type": "code",
   "execution_count": null,
   "id": "a45d3ea2",
   "metadata": {},
   "outputs": [],
   "source": [
    "imviz.default_viewer.zoom_level = 5"
   ]
  },
  {
   "cell_type": "markdown",
   "id": "518bdbaf",
   "metadata": {},
   "source": [
    "We programmatically mark features, but users usually would do this interactively, perhaps with the single-pixel subsets."
   ]
  },
  {
   "cell_type": "code",
   "execution_count": null,
   "id": "5ffe735a",
   "metadata": {},
   "outputs": [],
   "source": [
    "center_pt = RectanglePixelRegion(PixCoord(x=770, y=638), width=1, height=1)\n",
    "edge_pt = RectanglePixelRegion(PixCoord(x=786, y=661), width=1, height=1)"
   ]
  },
  {
   "cell_type": "code",
   "execution_count": null,
   "id": "ae0ff4bf",
   "metadata": {},
   "outputs": [],
   "source": [
    "imviz.load_regions([center_pt, edge_pt])"
   ]
  },
  {
   "cell_type": "markdown",
   "id": "10461ca3",
   "metadata": {},
   "source": [
    "Now, we have to get the info back out. This would work no matter how the features are marked as long as they are subsets, and not markers."
   ]
  },
  {
   "cell_type": "code",
   "execution_count": null,
   "id": "1bb6845b",
   "metadata": {},
   "outputs": [],
   "source": [
    "regions = imviz.get_interactive_regions()\n",
    "regions"
   ]
  },
  {
   "cell_type": "markdown",
   "id": "42fd2e3d",
   "metadata": {},
   "source": [
    "This part uses hidden methods and is not meant for end-users, but might be useful for a dev to use in internal implementations."
   ]
  },
  {
   "cell_type": "code",
   "execution_count": null,
   "id": "95679e9a",
   "metadata": {},
   "outputs": [],
   "source": [
    "# In a plugin, this could be the selected viewer.\n",
    "viewer = imviz.default_viewer"
   ]
  },
  {
   "cell_type": "code",
   "execution_count": null,
   "id": "50cc819d",
   "metadata": {},
   "outputs": [],
   "source": [
    "# In a plugin, this could be different depending on UI/UX.\n",
    "# Here, we hardcode for now.\n",
    "# In multi-image scenario, we would also need to call\n",
    "# viewer._get_real_xy(selected_image, subset.center.x, subset.center.y)\n",
    "# to get the correct pixel location.\n",
    "x0, y0 = regions['Subset 1'].center.x, regions['Subset 1'].center.y\n",
    "x1, y1 = regions['Subset 2'].center.x, regions['Subset 2'].center.y"
   ]
  },
  {
   "cell_type": "code",
   "execution_count": null,
   "id": "b8c2b094",
   "metadata": {},
   "outputs": [],
   "source": [
    "# In a plugin, this could be the selected data.\n",
    "data = imviz.app.data_collection[0]"
   ]
  },
  {
   "cell_type": "markdown",
   "id": "49951443",
   "metadata": {},
   "source": [
    "This gives you the separation in pixels. When linked by WCS and the non-reference data is selected, you will have to check that the actual pixel location is still in bounds or not. That is not done here."
   ]
  },
  {
   "cell_type": "code",
   "execution_count": null,
   "id": "be0f0c5e",
   "metadata": {},
   "outputs": [],
   "source": [
    "dx = x1 - x0\n",
    "dy = y1 - y0\n",
    "sep_pix = math.sqrt(dx * dx + dy * dy)\n",
    "sep_pix"
   ]
  },
  {
   "cell_type": "markdown",
   "id": "057a9bec",
   "metadata": {},
   "source": [
    "This gives you the separation in sky. WCS must be present for this to work. GWCS will return NaNs if pixels are outside of its bounding box, I think."
   ]
  },
  {
   "cell_type": "code",
   "execution_count": null,
   "id": "c36c5f70",
   "metadata": {},
   "outputs": [],
   "source": [
    "sky_coords = data.coords.pixel_to_world((x0, x1), (y0, y1))"
   ]
  },
  {
   "cell_type": "code",
   "execution_count": null,
   "id": "9ae8a658",
   "metadata": {},
   "outputs": [],
   "source": [
    "sep_arcsec = sky_coords[0].separation(sky_coords[1]).to(u.arcsec)\n",
    "sep_arcsec"
   ]
  },
  {
   "cell_type": "code",
   "execution_count": null,
   "id": "e3f6f3a9",
   "metadata": {},
   "outputs": [],
   "source": []
  }
 ],
 "metadata": {
  "kernelspec": {
   "display_name": "Python 3 (ipykernel)",
   "language": "python",
   "name": "python3"
  },
  "language_info": {
   "codemirror_mode": {
    "name": "ipython",
    "version": 3
   },
   "file_extension": ".py",
   "mimetype": "text/x-python",
   "name": "python",
   "nbconvert_exporter": "python",
   "pygments_lexer": "ipython3",
   "version": "3.10.4"
  }
 },
 "nbformat": 4,
 "nbformat_minor": 5
}
