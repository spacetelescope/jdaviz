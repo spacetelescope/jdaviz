{
 "cells": [
  {
   "cell_type": "code",
   "execution_count": null,
   "id": "0984f40c-15d5-41b9-9e70-37dda58c3afd",
   "metadata": {},
   "outputs": [],
   "source": [
    "import numpy as np\n",
    "import matplotlib.pyplot as plt\n",
    "from astropy.table import QTable\n",
    "from photutils.datasets import make_gaussian_sources_image, make_random_gaussians_table\n",
    "\n",
    "%matplotlib inline"
   ]
  },
  {
   "cell_type": "code",
   "execution_count": null,
   "id": "2e243795-8ed3-4410-99f1-4706f9fbb1b2",
   "metadata": {},
   "outputs": [],
   "source": [
    "#shape = (800, 800)\n",
    "#shape = (1600, 1600)\n",
    "shape = (2000, 2000)\n",
    "n_sources = 100\n",
    "param_ranges = {'amplitude': [500, 1000],\n",
    "                'x_mean': [0, shape[1]],\n",
    "                'y_mean': [0, shape[0]],\n",
    "                'x_stddev': [1, 5],\n",
    "                'y_stddev': [1, 5],\n",
    "                'theta': [0, np.pi]}\n",
    "sources = make_random_gaussians_table(n_sources, param_ranges, seed=42)"
   ]
  },
  {
   "cell_type": "code",
   "execution_count": null,
   "id": "17a6b41a-a4fc-4d53-9254-5cad1cd0e717",
   "metadata": {},
   "outputs": [],
   "source": [
    "arr = make_gaussian_sources_image(shape, sources) + 5.0\n",
    "\n",
    "# Noise\n",
    "rng = np.random.RandomState(12345)\n",
    "arr += rng.normal(loc=0.0, scale=2.0, size=shape)"
   ]
  },
  {
   "cell_type": "code",
   "execution_count": null,
   "id": "9121966d-0b1c-4d28-b538-dc85fabff69a",
   "metadata": {},
   "outputs": [],
   "source": [
    "fill = 666\n",
    "arr[:4, :] = fill\n",
    "arr[-4:, :] = fill\n",
    "arr[:, :4] = fill\n",
    "arr[:, -4:] = fill"
   ]
  },
  {
   "cell_type": "code",
   "execution_count": null,
   "id": "165ea850-70f9-4033-8d87-88823973940e",
   "metadata": {},
   "outputs": [],
   "source": [
    "xstep = max(1, round(arr.shape[1] / 400))\n",
    "ystep = max(1, round(arr.shape[0] / 400))\n",
    "subarr = arr[::ystep, ::xstep]"
   ]
  },
  {
   "cell_type": "code",
   "execution_count": null,
   "id": "210250bc-c782-47bd-b6fc-fefc053d6cc3",
   "metadata": {},
   "outputs": [],
   "source": [
    "print(xstep, ystep)\n",
    "print(arr.shape, subarr.shape)"
   ]
  },
  {
   "cell_type": "code",
   "execution_count": null,
   "id": "9849ddf0-99c9-418b-866f-ee74ec248fa0",
   "metadata": {},
   "outputs": [],
   "source": [
    "plt.imshow(arr)"
   ]
  },
  {
   "cell_type": "code",
   "execution_count": null,
   "id": "ecad40a5-a6a4-404f-b7bd-754e9876f645",
   "metadata": {},
   "outputs": [],
   "source": [
    "plt.imshow(subarr)"
   ]
  },
  {
   "cell_type": "code",
   "execution_count": null,
   "id": "90a5b346-105a-480e-aed2-8485bdcad936",
   "metadata": {},
   "outputs": [],
   "source": [
    "fig, ax = plt.subplots()\n",
    "_ = ax.hist(arr, bins=10)\n",
    "_ = ax.set_title(\"Original\")"
   ]
  },
  {
   "cell_type": "code",
   "execution_count": null,
   "id": "7c8984ab-4646-40e5-9dca-d01fd03daa08",
   "metadata": {},
   "outputs": [],
   "source": [
    "fig2, ax2 = plt.subplots()\n",
    "_ = ax2.hist(subarr, bins=10)\n",
    "_ = ax2.set_title(\"Gridded\")"
   ]
  },
  {
   "cell_type": "code",
   "execution_count": null,
   "id": "988b2c5a-61af-4f22-93d8-e53669aed2a3",
   "metadata": {},
   "outputs": [],
   "source": [
    "print(arr[:5, 5])\n",
    "print(subarr[:5, 5])"
   ]
  },
  {
   "cell_type": "code",
   "execution_count": null,
   "id": "273b4995-5f7d-44b4-b387-4e52ad3b3c98",
   "metadata": {},
   "outputs": [],
   "source": []
  }
 ],
 "metadata": {
  "kernelspec": {
   "display_name": "Python 3 (ipykernel)",
   "language": "python",
   "name": "python3"
  },
  "language_info": {
   "codemirror_mode": {
    "name": "ipython",
    "version": 3
   },
   "file_extension": ".py",
   "mimetype": "text/x-python",
   "name": "python",
   "nbconvert_exporter": "python",
   "pygments_lexer": "ipython3",
   "version": "3.12.0"
  }
 },
 "nbformat": 4,
 "nbformat_minor": 5
}
