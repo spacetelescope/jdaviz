{
 "cells": [
  {
   "cell_type": "markdown",
   "id": "8a6a099a",
   "metadata": {},
   "source": [
    "This notebook show how Imviz can visualized dithered JWST data, all of them have GWCS."
   ]
  },
  {
   "cell_type": "code",
   "execution_count": null,
   "id": "cdcac3b4",
   "metadata": {},
   "outputs": [],
   "source": [
    "import warnings\n",
    "\n",
    "from astroquery.mast import Observations \n",
    "\n",
    "from jdaviz import Imviz"
   ]
  },
  {
   "cell_type": "code",
   "execution_count": null,
   "id": "5024c064",
   "metadata": {},
   "outputs": [],
   "source": [
    "data_dir = \"/Users/username/Data\""
   ]
  },
  {
   "cell_type": "code",
   "execution_count": null,
   "id": "dd35669a",
   "metadata": {},
   "outputs": [],
   "source": [
    "files = ['jw01345-o001_t021_nircam_clear-f200w_i2d.fits',\n",
    "         #'jw01345-o002_t022_nircam_clear-f200w_i2d.fits',\n",
    "         #'jw01345-o003_t023_nircam_clear-f200w_i2d.fits',\n",
    "         #'jw01345-o004_t024_nircam_clear-f200w_i2d.fits',\n",
    "         'jw01345-o052_t022_nircam_clear-f200w_i2d.fits'\n",
    "        ]"
   ]
  },
  {
   "cell_type": "code",
   "execution_count": null,
   "id": "5b151dc2",
   "metadata": {},
   "outputs": [],
   "source": [
    "for fn in files:\n",
    "    uri = f\"mast:JWST/product/{fn}\"\n",
    "    result = Observations.download_file(uri, local_path=f'{data_dir}/{fn}', cache=True)"
   ]
  },
  {
   "cell_type": "code",
   "execution_count": null,
   "id": "8a8c0a4e",
   "metadata": {},
   "outputs": [],
   "source": [
    "imviz = Imviz()"
   ]
  },
  {
   "cell_type": "code",
   "execution_count": null,
   "id": "72de03f4",
   "metadata": {},
   "outputs": [],
   "source": [
    "with warnings.catch_warnings():\n",
    "    warnings.simplefilter('ignore')\n",
    "    with imviz.batch_load():\n",
    "        for fn in files:\n",
    "            imviz.load_data(f'{data_dir}/{fn}', data_label=fn[:17])"
   ]
  },
  {
   "cell_type": "code",
   "execution_count": null,
   "id": "f4b77fcb",
   "metadata": {},
   "outputs": [],
   "source": [
    "imviz.show()"
   ]
  },
  {
   "cell_type": "code",
   "execution_count": null,
   "id": "fab70d10",
   "metadata": {},
   "outputs": [],
   "source": [
    "# Link by WCS\n",
    "imviz.plugins['Links Control'].link_type = 'WCS'\n",
    "imviz.plugins['Links Control'].wcs_use_affine = True"
   ]
  },
  {
   "cell_type": "code",
   "execution_count": null,
   "id": "6e7d1198",
   "metadata": {},
   "outputs": [],
   "source": [
    "# Set color mode to easily distinguish between them\n",
    "imviz.plugins['Plot Options'].image_color_mode = 'Monochromatic'"
   ]
  },
  {
   "cell_type": "code",
   "execution_count": null,
   "id": "0fdd56dc",
   "metadata": {},
   "outputs": [],
   "source": [
    "# Home button\n",
    "imviz.default_viewer.state.reset_limits()"
   ]
  },
  {
   "cell_type": "code",
   "execution_count": null,
   "id": "a07e9de9",
   "metadata": {},
   "outputs": [],
   "source": []
  }
 ],
 "metadata": {
  "kernelspec": {
   "display_name": "Python 3 (ipykernel)",
   "language": "python",
   "name": "python3"
  },
  "language_info": {
   "codemirror_mode": {
    "name": "ipython",
    "version": 3
   },
   "file_extension": ".py",
   "mimetype": "text/x-python",
   "name": "python",
   "nbconvert_exporter": "python",
   "pygments_lexer": "ipython3",
   "version": "3.10.8"
  }
 },
 "nbformat": 4,
 "nbformat_minor": 5
}
