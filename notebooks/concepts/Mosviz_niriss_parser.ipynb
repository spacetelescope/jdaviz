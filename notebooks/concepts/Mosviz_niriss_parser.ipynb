{
 "cells": [
  {
   "cell_type": "code",
   "execution_count": null,
   "metadata": {},
   "outputs": [],
   "source": [
    "from jdaviz.configs.mosviz.helper import Mosviz\n",
    "from astropy.io import fits\n",
    "from pyinstrument import Profiler\n"
   ]
  },
  {
   "cell_type": "code",
   "execution_count": null,
   "metadata": {
    "scrolled": false
   },
   "outputs": [],
   "source": [
    "mosviz = Mosviz()\n",
    "mosviz.app"
   ]
  },
  {
   "cell_type": "code",
   "execution_count": null,
   "metadata": {
    "scrolled": false
   },
   "outputs": [],
   "source": [
    "# Load NIRISS data from directory\n",
    "profiler = Profiler()\n",
    "profiler.start()\n",
    "\n",
    "# code you want to profile\n",
    "\n",
    "\n",
    "niriss_dir = \"/Users/javerbukh/Documents/data_for_mosviz/NIRISS_for_parser_p0171/\"\n",
    "mosviz.load_niriss_data(niriss_dir)\n",
    "\n",
    "profiler.stop()\n",
    "\n",
    "print(profiler.output_text(unicode=True, color=True))"
   ]
  },
  {
   "cell_type": "markdown",
   "metadata": {},
   "source": [
    "# Everything below this line is code for testing/development purposes"
   ]
  },
  {
   "cell_type": "code",
   "execution_count": null,
   "metadata": {},
   "outputs": [],
   "source": [
    "# niriss_x1d = \"/Users/javerbukh/Documents/data_for_mosviz/NIRISS_for_parser/smplmc_f090w_WFSSC_dit1_nis_x1d.fits\"\n",
    "# niriss_image = \"/Users/javerbukh/Documents/data_for_mosviz/NIRISS_for_parser/smplmc_f090w_direct_dit1_nis_cal.fits\"\n",
    "# niriss_cal\n",
    "\n",
    "niriss_x1d = \"/Users/javerbukh/Documents/data_for_mosviz/NIRISS_for_parser_p0171_srctype/head_canucs_basic_F150W_WFSSC_dit1_x1d.fits\"\n",
    "niriss_image = \"/Users/javerbukh/Documents/data_for_mosviz/NIRISS_for_parser_p0171/canucs_basic_F150W_direct_dit1_i2d.fits\"\n",
    "niriss_cal = \"/Users/javerbukh/Documents/data_for_mosviz/NIRISS_for_parser_p0171/canucs_basic_F150W_WFSSC_dit1_cal.fits\"\n",
    "\n",
    "niriss_cal_r = \"/Users/javerbukh/Documents/data_for_mosviz/NIRISS_for_parser_p0171/canucs_basic_F150W_WFSSR_dit1_cal.fits\"\n",
    "\n",
    "niriss_hdu = fits.open(niriss_x1d)\n",
    "niriss_hdu.info()\n",
    "niriss_hdu[1].header"
   ]
  },
  {
   "cell_type": "code",
   "execution_count": null,
   "metadata": {},
   "outputs": [],
   "source": [
    "from astropy.io import fits\n",
    "for s1d in spectra_1d:\n",
    "    hdu = fits.open(s1d)\n",
    "    print(hdu[0].header)\n",
    "    print(\"############################################\")"
   ]
  },
  {
   "cell_type": "code",
   "execution_count": null,
   "metadata": {},
   "outputs": [],
   "source": [
    "niriss_x2d = \"/Users/javerbukh/Documents/data_for_mosviz/NIRISS_for_parser/smplmc_f150w_WFSSC_dit1_nis_cal.fits\"\n",
    "niriss_hdu = fits.open(niriss_x2d)\n",
    "niriss_hdu.info()\n",
    "niriss_hdu[8].header"
   ]
  },
  {
   "cell_type": "code",
   "execution_count": null,
   "metadata": {},
   "outputs": [],
   "source": [
    "niriss_direct = \"/Users/javerbukh/Documents/data_for_mosviz/NIRISS_for_parser/smplmc_f090w_direct_dit1_nis_cal.fits\"\n",
    "niriss_hdu = fits.open(niriss_direct)\n",
    "niriss_hdu.info()\n",
    "niriss_hdu[1].header"
   ]
  },
  {
   "cell_type": "code",
   "execution_count": null,
   "metadata": {},
   "outputs": [],
   "source": [
    "nirspec_x1d = \"/Users/javerbukh/Documents/data_for_mosviz/mosviz_nirspec_data_0.3/level3/f170lp-g235m_mos_observation-6-c0e0_s00227_s2d.fits\"\n",
    "nirspec_hdu = fits.open(nirspec_x1d)\n",
    "nirspec_hdu.info()\n",
    "nirspec_hdu[1].header"
   ]
  },
  {
   "cell_type": "code",
   "execution_count": null,
   "metadata": {},
   "outputs": [],
   "source": [
    "mosviz.app.get_viewer('table-viewer')._selected_data"
   ]
  },
  {
   "cell_type": "code",
   "execution_count": null,
   "metadata": {},
   "outputs": [],
   "source": [
    "niriss_image2 = \"/Users/javerbukh/Documents/data_for_mosviz/NIRISS_for_parser_p0171/canucs_basic_F150W_WFSSC_dit1_x1d.fits\"\n",
    "niriss_hdu = fits.open(niriss_image2)\n",
    "niriss_hdu.info()\n",
    "niriss_hdu[0].header\n"
   ]
  },
  {
   "cell_type": "code",
   "execution_count": null,
   "metadata": {},
   "outputs": [],
   "source": [
    "cat_file = \"/Users/javerbukh/Documents/data_for_mosviz/NIRISS_for_parser_p0171/canucs_basic_F150W_direct_dit1_cal.fits\"\n",
    "pupil = [x for x in cat_file.split(\"/\")[-1].split(\"_\") if x[0] == \"F\" or x[0] == \"f\"]\n",
    "pupil"
   ]
  },
  {
   "cell_type": "code",
   "execution_count": null,
   "metadata": {},
   "outputs": [],
   "source": [
    "for f in [\"2D Spectra C\", \"2D Spectra R\"]:\n",
    "    orientation = f[-1]\n",
    "    print(orientation)"
   ]
  },
  {
   "cell_type": "code",
   "execution_count": null,
   "metadata": {},
   "outputs": [],
   "source": [
    "from jdaviz.configs.specviz.helper import Specviz\n",
    "from astropy.io import fits\n",
    "from specutils import Spectrum1D, SpectrumList\n"
   ]
  },
  {
   "cell_type": "code",
   "execution_count": null,
   "metadata": {},
   "outputs": [],
   "source": [
    "specviz = Specviz()\n",
    "specviz.app"
   ]
  },
  {
   "cell_type": "code",
   "execution_count": null,
   "metadata": {},
   "outputs": [],
   "source": [
    "fname = niriss_x1d\n",
    "# with fits.open(fname) as temp:\n",
    "#     # TODO: Remove this once valid SRCTYPE values are present in all headers\n",
    "#     for hdu in temp:\n",
    "#         if \"SRCTYPE\" in hdu.header and (hdu.header[\"SRCTYPE\"] in [\"POINT\", \"EXTENDED\"]):\n",
    "#             pass\n",
    "#         else:\n",
    "#             hdu.header[\"SRCTYPE\"] = \"EXTENDED\"\n",
    "#     #temp = niriss_x1d\n",
    "specs = SpectrumList.read(fname)\n",
    "filter_name = \"F150W\"\n",
    "\n",
    "# Add 1d spectra in the order that filters were added\n",
    "\n",
    "# Orientation denoted by \"C\" or \"R\"\n",
    "orientation = \"C\"\n",
    "for spec in specs:\n",
    "    if spec.meta['header']['SPORDER'] == 1 and spec.meta['header']['EXTNAME'] == \"EXTRACT1D\":\n",
    "\n",
    "        label = \"{} Source {} spec1d {}\".format(filter_name,\n",
    "                                                spec.meta['header']['SOURCEID'],\n",
    "                                                orientation\n",
    "                                                )\n",
    "        print(label)\n",
    "        #spec_labels.append(label)\n",
    "        #app.data_collection[label] = spec\n",
    "        specviz.load_spectrum(spec, label)\n"
   ]
  },
  {
   "cell_type": "code",
   "execution_count": null,
   "metadata": {},
   "outputs": [],
   "source": []
  }
 ],
 "metadata": {
  "kernelspec": {
   "display_name": "Python 3",
   "language": "python",
   "name": "python3"
  },
  "language_info": {
   "codemirror_mode": {
    "name": "ipython",
    "version": 3
   },
   "file_extension": ".py",
   "mimetype": "text/x-python",
   "name": "python",
   "nbconvert_exporter": "python",
   "pygments_lexer": "ipython3",
   "version": "3.8.5"
  }
 },
 "nbformat": 4,
 "nbformat_minor": 4
}
