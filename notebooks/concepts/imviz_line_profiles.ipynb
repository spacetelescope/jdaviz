{
 "cells": [
  {
   "cell_type": "markdown",
   "id": "a4549fa2",
   "metadata": {},
   "source": [
    "This concept notebook is set up mainly to showcase Imviz Line Profiles (XY) plugin. Imviz will display two different small arrays of the same size but with different 2D Gaussian objects for ease of illustration."
   ]
  },
  {
   "cell_type": "code",
   "execution_count": null,
   "id": "5869f6b6",
   "metadata": {},
   "outputs": [],
   "source": [
    "import numpy as np\n",
    "from astropy import units as u\n",
    "from astropy.nddata import NDData\n",
    "from astropy.table import QTable\n",
    "from photutils.datasets import make_4gaussians_image, make_gaussian_sources_image\n",
    "from regions import PixCoord, CirclePixelRegion\n",
    "\n",
    "from jdaviz import Imviz"
   ]
  },
  {
   "cell_type": "code",
   "execution_count": null,
   "id": "f2a474b7",
   "metadata": {},
   "outputs": [],
   "source": [
    "image_1 = NDData(make_4gaussians_image(), unit=u.nJy)\n",
    "print(image_1.data.shape)  # ny, nx"
   ]
  },
  {
   "cell_type": "code",
   "execution_count": null,
   "id": "d8244b16",
   "metadata": {},
   "outputs": [],
   "source": [
    "table = QTable()\n",
    "table['amplitude'] = [50, 70, 150, 210]\n",
    "table['x_mean'] = [70, 140, 25, 80]\n",
    "table['y_mean'] = [60, 25, 50, 90]\n",
    "table['x_stddev'] = [2.6, 2.5, 3., 4.7]\n",
    "table['y_stddev'] = [15.2, 5.1, 3., 8.1]\n",
    "table['theta'] = np.radians(np.array([145., 20., 0., 60.]))\n",
    "image_2 = make_gaussian_sources_image(image_1.data.shape, table)"
   ]
  },
  {
   "cell_type": "code",
   "execution_count": null,
   "id": "deebbc64",
   "metadata": {},
   "outputs": [],
   "source": [
    "imviz = Imviz()"
   ]
  },
  {
   "cell_type": "code",
   "execution_count": null,
   "id": "5dd1b2a9",
   "metadata": {},
   "outputs": [],
   "source": [
    "imviz.load_data(image_1, data_label='1')\n",
    "imviz.load_data(image_2, data_label='2')"
   ]
  },
  {
   "cell_type": "code",
   "execution_count": null,
   "id": "2ad2181b",
   "metadata": {},
   "outputs": [],
   "source": [
    "imviz.show()"
   ]
  },
  {
   "cell_type": "markdown",
   "id": "820d482c",
   "metadata": {},
   "source": [
    "Draw some markers to show where we will try out the plots."
   ]
  },
  {
   "cell_type": "code",
   "execution_count": null,
   "id": "6ecf8d14",
   "metadata": {},
   "outputs": [],
   "source": [
    "regs_xy = [CirclePixelRegion(PixCoord(x, y), 3) for x, y in zip([5, 79.3, 24.7, 150], [5, 90.2, 50, 25])]"
   ]
  },
  {
   "cell_type": "code",
   "execution_count": null,
   "id": "b9bf78db",
   "metadata": {},
   "outputs": [],
   "source": [
    "imviz.default_viewer.add_markers(regs_xy)"
   ]
  },
  {
   "cell_type": "markdown",
   "id": "334a7062",
   "metadata": {},
   "source": [
    "Create a second viewer and load a completely different image."
   ]
  },
  {
   "cell_type": "code",
   "execution_count": null,
   "id": "a1129e28",
   "metadata": {},
   "outputs": [],
   "source": [
    "just_noise = np.random.random(image_1.data.shape)"
   ]
  },
  {
   "cell_type": "code",
   "execution_count": null,
   "id": "34f6817c",
   "metadata": {},
   "outputs": [],
   "source": [
    "viewer_2 = imviz.create_image_viewer()"
   ]
  },
  {
   "cell_type": "code",
   "execution_count": null,
   "id": "7c955df5",
   "metadata": {},
   "outputs": [],
   "source": [
    "imviz.load_data(just_noise, data_label='noise', show_in_viewer=False)\n",
    "imviz.app.add_data_to_viewer('imviz-1', 'noise')"
   ]
  },
  {
   "cell_type": "code",
   "execution_count": null,
   "id": "064f39cd",
   "metadata": {},
   "outputs": [],
   "source": [
    "viewer_2.add_markers(regs_xy)"
   ]
  },
  {
   "cell_type": "markdown",
   "id": "d0222b93",
   "metadata": {},
   "source": [
    "Hmmm..."
   ]
  },
  {
   "cell_type": "code",
   "execution_count": null,
   "id": "80e4db73",
   "metadata": {},
   "outputs": [],
   "source": [
    "from regions import PolygonPixelRegion"
   ]
  },
  {
   "cell_type": "code",
   "execution_count": null,
   "id": "a623f23f",
   "metadata": {},
   "outputs": [],
   "source": [
    "viewer_2.reset_markers()"
   ]
  },
  {
   "cell_type": "code",
   "execution_count": null,
   "id": "cbd3f22d",
   "metadata": {},
   "outputs": [],
   "source": [
    "x = [1.04728634, 1.0204958, 0.94012415, 1.95816496, 1.95816496,\n",
    "     2.94941523, 2.92262468, 2.92262468, 3.8870844, 3.96745604,\n",
    "     3.02978687, 3.96745604, 4.82475357, 4.74438192, 8.17357203,\n",
    "     8.17357203, 8.92370736, 9.88816708, 9.03086955, 9.96853872,\n",
    "     9.91495762, 11.04016063, 10.95978898, 10.93299844, 11.9242487,\n",
    "     12.00462034, 11.95103925, 11.09374172, 9.96853872, 9.96853872,\n",
    "     9.96853872, 9.0576601, 9.004079, 3.77992221, 3.8335033,\n",
    "     2.92262468, 3.00299632, 1.77063113, 1.04728634]\n",
    "y = [2.02814867, 3.12281621, 4.19011706, 4.13538369, 5.03848441,\n",
    "     5.01111772, 6.10578526, 7.14571942, 7.2004528, 8.02145345,\n",
    "     9.03402092, 9.11612099, 8.10355352, 7.2004528, 7.17308611,\n",
    "     8.24038696, 9.00665424, 9.0887543, 7.14571942, 7.09098604,\n",
    "     6.02368519, 6.10578526, 4.90165096, 4.13538369, 4.02591693,\n",
    "     2.9038827, 1.89131523, 3.50594985, 3.53331654, 2.79441595,\n",
    "     1.9734153, 2.11024874, 1.17978133, 1.23451471, 2.02814867,\n",
    "     2.16498211, 3.47858316, 3.50594985, 2.02814867]\n",
    "reg_si = PolygonPixelRegion(PixCoord(x=x, y=y))"
   ]
  },
  {
   "cell_type": "code",
   "execution_count": null,
   "id": "07c2201d",
   "metadata": {},
   "outputs": [],
   "source": [
    "viewer_2.add_markers(reg_si, marker_name=\"space_invader\")"
   ]
  },
  {
   "cell_type": "code",
   "execution_count": null,
   "id": "c05f300c",
   "metadata": {},
   "outputs": [],
   "source": []
  }
 ],
 "metadata": {
  "kernelspec": {
   "display_name": "Python 3 (ipykernel)",
   "language": "python",
   "name": "python3"
  },
  "language_info": {
   "codemirror_mode": {
    "name": "ipython",
    "version": 3
   },
   "file_extension": ".py",
   "mimetype": "text/x-python",
   "name": "python",
   "nbconvert_exporter": "python",
   "pygments_lexer": "ipython3",
   "version": "3.11.0"
  }
 },
 "nbformat": 4,
 "nbformat_minor": 5
}
