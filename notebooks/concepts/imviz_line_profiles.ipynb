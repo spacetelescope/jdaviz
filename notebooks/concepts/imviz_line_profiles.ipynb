{
 "cells": [
  {
   "cell_type": "markdown",
   "id": "a4549fa2",
   "metadata": {},
   "source": [
    "This concept notebook is set up mainly to showcase Image Profiles (XY) plugin. Imviz will display two different small arrays of the same size but with different 2D Gaussian objects for ease of illustration."
   ]
  },
  {
   "cell_type": "code",
   "execution_count": null,
   "id": "5869f6b6",
   "metadata": {},
   "outputs": [],
   "source": [
    "import numpy as np\n",
    "from astropy import units as u\n",
    "from astropy.nddata import NDData\n",
    "from astropy.table import Table, QTable\n",
    "from photutils.datasets import make_4gaussians_image, make_gaussian_sources_image\n",
    "\n",
    "from jdaviz import Imviz"
   ]
  },
  {
   "cell_type": "code",
   "execution_count": null,
   "id": "f2a474b7",
   "metadata": {},
   "outputs": [],
   "source": [
    "image_1 = NDData(make_4gaussians_image(), unit=u.nJy)\n",
    "print(image_1.data.shape)  # ny, nx"
   ]
  },
  {
   "cell_type": "code",
   "execution_count": null,
   "id": "d8244b16",
   "metadata": {},
   "outputs": [],
   "source": [
    "table = QTable()\n",
    "table['amplitude'] = [50, 70, 150, 210]\n",
    "table['x_mean'] = [70, 140, 25, 80]\n",
    "table['y_mean'] = [60, 25, 50, 90]\n",
    "table['x_stddev'] = [2.6, 2.5, 3., 4.7]\n",
    "table['y_stddev'] = [15.2, 5.1, 3., 8.1]\n",
    "table['theta'] = np.radians(np.array([145., 20., 0., 60.]))\n",
    "image_2 = make_gaussian_sources_image(image_1.data.shape, table)"
   ]
  },
  {
   "cell_type": "code",
   "execution_count": null,
   "id": "deebbc64",
   "metadata": {},
   "outputs": [],
   "source": [
    "imviz = Imviz()"
   ]
  },
  {
   "cell_type": "code",
   "execution_count": null,
   "id": "5dd1b2a9",
   "metadata": {},
   "outputs": [],
   "source": [
    "imviz.load_data(image_1, data_label='1')\n",
    "imviz.load_data(image_2, data_label='2')"
   ]
  },
  {
   "cell_type": "code",
   "execution_count": null,
   "id": "2ad2181b",
   "metadata": {},
   "outputs": [],
   "source": [
    "imviz.show()"
   ]
  },
  {
   "cell_type": "markdown",
   "id": "820d482c",
   "metadata": {},
   "source": [
    "Draw some markers to show where we will try out the plots."
   ]
  },
  {
   "cell_type": "code",
   "execution_count": null,
   "id": "6ecf8d14",
   "metadata": {},
   "outputs": [],
   "source": [
    "t_xy = Table({'x': [5, 79.3, 24.7, 150],\n",
    "              'y': [5, 90.2, 50, 25]})"
   ]
  },
  {
   "cell_type": "code",
   "execution_count": null,
   "id": "b9bf78db",
   "metadata": {},
   "outputs": [],
   "source": [
    "imviz.default_viewer.add_markers(t_xy)"
   ]
  },
  {
   "cell_type": "markdown",
   "id": "334a7062",
   "metadata": {},
   "source": [
    "Create a second viewer and load a completely different image."
   ]
  },
  {
   "cell_type": "code",
   "execution_count": null,
   "id": "a1129e28",
   "metadata": {},
   "outputs": [],
   "source": [
    "just_noise = np.random.random(image_1.data.shape)"
   ]
  },
  {
   "cell_type": "code",
   "execution_count": null,
   "id": "34f6817c",
   "metadata": {},
   "outputs": [],
   "source": [
    "viewer_2 = imviz.create_image_viewer()"
   ]
  },
  {
   "cell_type": "code",
   "execution_count": null,
   "id": "7c955df5",
   "metadata": {},
   "outputs": [],
   "source": [
    "imviz.load_data(just_noise, data_label='noise', show_in_viewer=False)\n",
    "imviz.app.add_data_to_viewer('imviz-1', 'noise')"
   ]
  },
  {
   "cell_type": "code",
   "execution_count": null,
   "id": "064f39cd",
   "metadata": {},
   "outputs": [],
   "source": [
    "viewer_2.add_markers(t_xy)"
   ]
  },
  {
   "cell_type": "code",
   "execution_count": null,
   "id": "89fd4a25",
   "metadata": {},
   "outputs": [],
   "source": []
  }
 ],
 "metadata": {
  "kernelspec": {
   "display_name": "Python 3 (ipykernel)",
   "language": "python",
   "name": "python3"
  },
  "language_info": {
   "codemirror_mode": {
    "name": "ipython",
    "version": 3
   },
   "file_extension": ".py",
   "mimetype": "text/x-python",
   "name": "python",
   "nbconvert_exporter": "python",
   "pygments_lexer": "ipython3",
   "version": "3.9.7"
  }
 },
 "nbformat": 4,
 "nbformat_minor": 5
}
