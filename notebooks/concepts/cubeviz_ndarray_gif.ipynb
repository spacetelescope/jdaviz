{
 "cells": [
  {
   "cell_type": "markdown",
   "id": "f07603dd",
   "metadata": {},
   "source": [
    "# Cubeviz with Numpy Cube and GIF\n",
    "\n",
    "This concept notebook shows Cubeviz loading:\n",
    "\n",
    "  * plain Numpy array, and\n",
    "  * GIF animation as a playable cube"
   ]
  },
  {
   "cell_type": "code",
   "execution_count": null,
   "id": "0adf0be6",
   "metadata": {
    "tags": []
   },
   "outputs": [],
   "source": [
    "from jdaviz import Cubeviz"
   ]
  },
  {
   "cell_type": "markdown",
   "id": "3bd69931",
   "metadata": {},
   "source": [
    "## From array\n",
    "\n",
    "For `flux-viewer`, `(0, 0)` of first slice should have value of zero and should be at bottom left. Cubeviz requires the input cube to have axes order of `(x, y, z)`.\n",
    "\n",
    "For `uncert-viewer`, the values are all random."
   ]
  },
  {
   "cell_type": "code",
   "execution_count": null,
   "id": "5fb6ab3e",
   "metadata": {},
   "outputs": [],
   "source": [
    "import numpy as np"
   ]
  },
  {
   "cell_type": "code",
   "execution_count": null,
   "id": "b52e2b0c",
   "metadata": {},
   "outputs": [],
   "source": [
    "a = np.arange(5 * 8 * 10).reshape((8, 5, 10))  # x, y, z\n",
    "b = np.random.random(a.shape)"
   ]
  },
  {
   "cell_type": "code",
   "execution_count": null,
   "id": "385d69c9",
   "metadata": {},
   "outputs": [],
   "source": [
    "cubeviz = Cubeviz()"
   ]
  },
  {
   "cell_type": "code",
   "execution_count": null,
   "id": "3cd294b2",
   "metadata": {},
   "outputs": [],
   "source": [
    "cubeviz.load_data(a, data_label='ordered')\n",
    "cubeviz.load_data(b, data_label='random', data_type='uncert', override_cube_limit=True)"
   ]
  },
  {
   "cell_type": "code",
   "execution_count": null,
   "id": "d088e647",
   "metadata": {},
   "outputs": [],
   "source": [
    "cubeviz.show()"
   ]
  },
  {
   "cell_type": "markdown",
   "id": "65427228",
   "metadata": {},
   "source": [
    "### But what about roundtripping?"
   ]
  },
  {
   "cell_type": "code",
   "execution_count": null,
   "id": "873089bb",
   "metadata": {},
   "outputs": [],
   "source": [
    "orig_cube = cubeviz.get_data('ordered')\n",
    "orig_cube.shape  # Input was (8, 5, 10)  # x, y, z"
   ]
  },
  {
   "cell_type": "code",
   "execution_count": null,
   "id": "dfe43427",
   "metadata": {},
   "outputs": [],
   "source": [
    "cubeviz.load_data(orig_cube.flux.value * 0.1, \"roundtrip_test\", override_cube_limit=True)"
   ]
  },
  {
   "cell_type": "code",
   "execution_count": null,
   "id": "1f7e9209",
   "metadata": {},
   "outputs": [],
   "source": [
    "data_2 = cubeviz.get_data('roundtrip_test')\n",
    "data_2.shape"
   ]
  },
  {
   "cell_type": "markdown",
   "id": "014f2ab7",
   "metadata": {},
   "source": [
    "## From GIF\n",
    "\n",
    "The GIF is from https://media4.giphy.com/media/J5pnZ53pj4cmu30Rx5/giphy.gif. This needs `imageio` and Pillow to be installed as well."
   ]
  },
  {
   "cell_type": "code",
   "execution_count": null,
   "id": "fab04442",
   "metadata": {
    "tags": []
   },
   "outputs": [],
   "source": [
    "filename = 'baby_shark.gif'"
   ]
  },
  {
   "cell_type": "code",
   "execution_count": null,
   "id": "c89c8d5f",
   "metadata": {
    "tags": []
   },
   "outputs": [],
   "source": [
    "cubeviz2 = Cubeviz()"
   ]
  },
  {
   "cell_type": "code",
   "execution_count": null,
   "id": "137fdde0",
   "metadata": {
    "tags": []
   },
   "outputs": [],
   "source": [
    "cubeviz2.load_data(filename)"
   ]
  },
  {
   "cell_type": "code",
   "execution_count": null,
   "id": "ab4eca75",
   "metadata": {
    "tags": []
   },
   "outputs": [],
   "source": [
    "cubeviz2.show()"
   ]
  },
  {
   "cell_type": "markdown",
   "id": "b288fe1c",
   "metadata": {},
   "source": [
    "### But what about roundtripping?\n",
    "\n",
    "Well, sort of..."
   ]
  },
  {
   "cell_type": "code",
   "execution_count": null,
   "id": "22902812",
   "metadata": {},
   "outputs": [],
   "source": [
    "export_plg = cubeviz2.plugins[\"Export Plot\"]"
   ]
  },
  {
   "cell_type": "code",
   "execution_count": null,
   "id": "b78bbf5a",
   "metadata": {},
   "outputs": [],
   "source": [
    "# Or you can use the GUI.\n",
    "export_plg.save_movie(0, 131, fps=10, filename=\"baby_shark_roundtrip.mp4\")"
   ]
  },
  {
   "cell_type": "markdown",
   "id": "4c00ffed",
   "metadata": {},
   "source": [
    "See the rendered movie at https://www.youtube.com/watch?v=n8czt1ZQUNk"
   ]
  },
  {
   "cell_type": "markdown",
   "id": "baec2fe1",
   "metadata": {},
   "source": [
    "### More shark!\n",
    "\n",
    "Ellie says “more shark”! See the demo at https://www.youtube.com/watch?v=ZTHJfSdmnBA"
   ]
  },
  {
   "cell_type": "code",
   "execution_count": null,
   "id": "c68bed4b",
   "metadata": {
    "tags": []
   },
   "outputs": [],
   "source": [
    "cubeviz2.app.add_data_to_viewer(\"uncert-viewer\", \"baby_shark\")"
   ]
  },
  {
   "cell_type": "code",
   "execution_count": null,
   "id": "1cd9ecd1",
   "metadata": {
    "tags": []
   },
   "outputs": [],
   "source": [
    "plot_plg = cubeviz2.plugins[\"Plot Options\"]"
   ]
  },
  {
   "cell_type": "code",
   "execution_count": null,
   "id": "e34310f2",
   "metadata": {
    "tags": []
   },
   "outputs": [],
   "source": [
    "plot_plg.viewer = \"flux-viewer\"\n",
    "plot_plg.image_color_mode = \"Monochromatic\"\n",
    "plot_plg.image_color = \"Red\""
   ]
  },
  {
   "cell_type": "code",
   "execution_count": null,
   "id": "252fe8be",
   "metadata": {
    "tags": []
   },
   "outputs": [],
   "source": [
    "plot_plg.viewer = \"uncert-viewer\"\n",
    "plot_plg.image_color_mode = \"Monochromatic\"\n",
    "plot_plg.image_color = \"Blue\""
   ]
  },
  {
   "cell_type": "code",
   "execution_count": null,
   "id": "82111003",
   "metadata": {
    "tags": []
   },
   "outputs": [],
   "source": [
    "slice_plg = cubeviz2.plugins[\"Slice\"]"
   ]
  },
  {
   "cell_type": "code",
   "execution_count": null,
   "id": "41de986e-c051-4021-a51e-bbdb6b478505",
   "metadata": {
    "tags": []
   },
   "outputs": [],
   "source": [
    "slice_plg.slice = 0"
   ]
  },
  {
   "cell_type": "code",
   "execution_count": null,
   "id": "7cf924c0",
   "metadata": {
    "tags": []
   },
   "outputs": [],
   "source": [
    "# More shark!\n",
    "slice_plg._obj.vue_play_start_stop()"
   ]
  },
  {
   "cell_type": "code",
   "execution_count": null,
   "id": "b212b4fd",
   "metadata": {
    "tags": []
   },
   "outputs": [],
   "source": [
    "# Run again to stop.\n",
    "slice_plg._obj.vue_play_start_stop()"
   ]
  },
  {
   "cell_type": "code",
   "execution_count": null,
   "id": "03f27eb1-531f-4509-ba7c-e5a3661a58eb",
   "metadata": {},
   "outputs": [],
   "source": []
  }
 ],
 "metadata": {
  "kernelspec": {
   "display_name": "Python 3 (ipykernel)",
   "language": "python",
   "name": "python3"
  },
  "language_info": {
   "codemirror_mode": {
    "name": "ipython",
    "version": 3
   },
   "file_extension": ".py",
   "mimetype": "text/x-python",
   "name": "python",
   "nbconvert_exporter": "python",
   "pygments_lexer": "ipython3",
   "version": "3.11.0"
  }
 },
 "nbformat": 4,
 "nbformat_minor": 5
}
