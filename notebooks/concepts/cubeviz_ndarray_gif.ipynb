{
 "cells": [
  {
   "cell_type": "markdown",
   "id": "f07603dd",
   "metadata": {},
   "source": [
    "# Cubeviz with Numpy Cube and GIF\n",
    "\n",
    "This concept notebook shows Cubeviz loading:\n",
    "\n",
    "  * plain Numpy array, and\n",
    "  * GIF animation as a playable cube"
   ]
  },
  {
   "cell_type": "code",
   "execution_count": null,
   "id": "0adf0be6",
   "metadata": {},
   "outputs": [],
   "source": [
    "from jdaviz import Cubeviz"
   ]
  },
  {
   "cell_type": "markdown",
   "id": "3bd69931",
   "metadata": {},
   "source": [
    "## From array\n",
    "\n",
    "For `flux-viewer`, `(0, 0)` of first slice should have value of zero and should be at bottom left. Cubeviz requires the input cube to have axes order of `(x, y, z)`.\n",
    "\n",
    "For `uncert-viewer`, the values are all random."
   ]
  },
  {
   "cell_type": "code",
   "execution_count": null,
   "id": "5fb6ab3e",
   "metadata": {},
   "outputs": [],
   "source": [
    "import numpy as np"
   ]
  },
  {
   "cell_type": "code",
   "execution_count": null,
   "id": "b52e2b0c",
   "metadata": {},
   "outputs": [],
   "source": [
    "a = np.arange(5 * 8 * 10).reshape((8, 5, 10))  # x, y, z\n",
    "b = np.random.random(a.shape)"
   ]
  },
  {
   "cell_type": "code",
   "execution_count": null,
   "id": "385d69c9",
   "metadata": {},
   "outputs": [],
   "source": [
    "cubeviz = Cubeviz()"
   ]
  },
  {
   "cell_type": "code",
   "execution_count": null,
   "id": "3cd294b2",
   "metadata": {},
   "outputs": [],
   "source": [
    "cubeviz.load_data(a, data_label='ordered')\n",
    "cubeviz.load_data(b, data_label='random', data_type='uncert', override_cube_limit=True)"
   ]
  },
  {
   "cell_type": "code",
   "execution_count": null,
   "id": "d088e647",
   "metadata": {},
   "outputs": [],
   "source": [
    "cubeviz.show()"
   ]
  },
  {
   "cell_type": "markdown",
   "id": "65427228",
   "metadata": {},
   "source": [
    "### But what about roundtripping?"
   ]
  },
  {
   "cell_type": "code",
   "execution_count": null,
   "id": "873089bb",
   "metadata": {},
   "outputs": [],
   "source": [
    "data = cubeviz.app.get_data_from_viewer('flux-viewer', 'ordered')\n",
    "orig_cube = data.get_object(statistic=None)\n",
    "orig_cube.shape  # Input was (8, 5, 10)  # x, y, z"
   ]
  },
  {
   "cell_type": "code",
   "execution_count": null,
   "id": "dfe43427",
   "metadata": {},
   "outputs": [],
   "source": [
    "cubeviz.load_data(orig_cube.flux.value * 0.1, \"roundtrip_test\", override_cube_limit=True)"
   ]
  },
  {
   "cell_type": "code",
   "execution_count": null,
   "id": "1f7e9209",
   "metadata": {},
   "outputs": [],
   "source": [
    "data_2 = cubeviz.app.get_data_from_viewer('flux-viewer', 'roundtrip_test')\n",
    "data_2.shape"
   ]
  },
  {
   "cell_type": "markdown",
   "id": "014f2ab7",
   "metadata": {},
   "source": [
    "## From GIF\n",
    "\n",
    "The GIF is from https://media4.giphy.com/media/J5pnZ53pj4cmu30Rx5/giphy.gif. This needs `imageio` and Pillow to be installed as well."
   ]
  },
  {
   "cell_type": "code",
   "execution_count": null,
   "id": "fab04442",
   "metadata": {},
   "outputs": [],
   "source": [
    "filename = 'baby_shark.gif'"
   ]
  },
  {
   "cell_type": "code",
   "execution_count": null,
   "id": "c89c8d5f",
   "metadata": {},
   "outputs": [],
   "source": [
    "cubeviz2 = Cubeviz()"
   ]
  },
  {
   "cell_type": "code",
   "execution_count": null,
   "id": "137fdde0",
   "metadata": {},
   "outputs": [],
   "source": [
    "cubeviz2.load_data(filename)"
   ]
  },
  {
   "cell_type": "code",
   "execution_count": null,
   "id": "ab4eca75",
   "metadata": {
    "scrolled": false
   },
   "outputs": [],
   "source": [
    "cubeviz2.show()"
   ]
  },
  {
   "cell_type": "code",
   "execution_count": null,
   "id": "4d1af33f",
   "metadata": {},
   "outputs": [],
   "source": []
  }
 ],
 "metadata": {
  "kernelspec": {
   "display_name": "Python 3 (ipykernel)",
   "language": "python",
   "name": "python3"
  },
  "language_info": {
   "codemirror_mode": {
    "name": "ipython",
    "version": 3
   },
   "file_extension": ".py",
   "mimetype": "text/x-python",
   "name": "python",
   "nbconvert_exporter": "python",
   "pygments_lexer": "ipython3",
   "version": "3.10.4"
  }
 },
 "nbformat": 4,
 "nbformat_minor": 5
}
