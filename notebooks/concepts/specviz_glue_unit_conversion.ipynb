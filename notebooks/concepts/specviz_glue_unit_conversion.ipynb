{
 "cells": [
  {
   "cell_type": "markdown",
   "id": "57c41ae5",
   "metadata": {},
   "source": [
    "This is a concept notebook to investigate Glue unit conversion behavior integrated into Jdaviz spectrum viewer."
   ]
  },
  {
   "cell_type": "code",
   "execution_count": null,
   "id": "2b3bbfb1",
   "metadata": {},
   "outputs": [],
   "source": [
    "import numpy as np\n",
    "from astropy import units as u\n",
    "from specutils import Spectrum1D\n",
    "\n",
    "from jdaviz import Specviz"
   ]
  },
  {
   "cell_type": "markdown",
   "id": "0d253733",
   "metadata": {},
   "source": [
    "First spectrum."
   ]
  },
  {
   "cell_type": "code",
   "execution_count": null,
   "id": "cba69bb7",
   "metadata": {},
   "outputs": [],
   "source": [
    "wave1 = np.linspace(2, 5, 10) * u.um\n",
    "flux1 = [1, 2, 3, 4, 5, 5, 4, 3, 2, 1] * u.Jy\n",
    "spec1 = Spectrum1D(flux=flux1, spectral_axis=wave1)\n",
    "\n",
    "print(wave1)\n",
    "print(flux1)"
   ]
  },
  {
   "cell_type": "markdown",
   "id": "1e0e7dc5",
   "metadata": {},
   "source": [
    "Second spectrum in different units and with slight offsets in spectral axis."
   ]
  },
  {
   "cell_type": "code",
   "execution_count": null,
   "id": "26bc794d",
   "metadata": {},
   "outputs": [],
   "source": [
    "wave2 = (wave1 + (0.1 * u.um)).to(u.GHz, u.spectral())\n",
    "flux2 = flux1.to(u.mJy)\n",
    "spec2 = Spectrum1D(flux=flux2, spectral_axis=wave2)\n",
    "\n",
    "print(wave2)\n",
    "print(wave2.to(u.um, u.spectral()))\n",
    "print(flux2)"
   ]
  },
  {
   "cell_type": "markdown",
   "id": "2bb4f4ea",
   "metadata": {},
   "source": [
    "Fire up Specviz."
   ]
  },
  {
   "cell_type": "code",
   "execution_count": null,
   "id": "74692a02",
   "metadata": {},
   "outputs": [],
   "source": [
    "specviz = Specviz()"
   ]
  },
  {
   "cell_type": "code",
   "execution_count": null,
   "id": "efdba701",
   "metadata": {},
   "outputs": [],
   "source": [
    "specviz.show()"
   ]
  },
  {
   "cell_type": "markdown",
   "id": "642fbae1",
   "metadata": {},
   "source": [
    "Load the data into Specviz. Desired behavior:\n",
    "\n",
    "1. \"Jy_um\" would load with Jy in Y-axis and um in X-axis.\n",
    "2. \"mJy_GHz\" would load with data automatically converted to Jy and um in the plot. You would see the same shape but slightly offset in X-axis, just slightly."
   ]
  },
  {
   "cell_type": "code",
   "execution_count": null,
   "id": "5ee09160",
   "metadata": {
    "scrolled": true
   },
   "outputs": [],
   "source": [
    "specviz.load_data(spec1, data_label=\"Jy_um\")"
   ]
  },
  {
   "cell_type": "code",
   "execution_count": null,
   "id": "9655292b",
   "metadata": {},
   "outputs": [],
   "source": [
    "specviz.load_data(spec2, data_label=\"mJy_GHz\")"
   ]
  },
  {
   "cell_type": "markdown",
   "id": "e6012551",
   "metadata": {},
   "source": [
    "Change the spectral axis display unit to GHz."
   ]
  },
  {
   "cell_type": "code",
   "execution_count": null,
   "id": "6a4611b3",
   "metadata": {},
   "outputs": [],
   "source": [
    "viewer = specviz.app.get_viewer(\"spectrum-viewer\")"
   ]
  },
  {
   "cell_type": "code",
   "execution_count": null,
   "id": "ac319e71",
   "metadata": {},
   "outputs": [],
   "source": [
    "viewer.state.x_display_unit = \"GHz\""
   ]
  },
  {
   "cell_type": "markdown",
   "id": "b2e84da2",
   "metadata": {},
   "source": [
    "Change the flux axis display unit to FLAM."
   ]
  },
  {
   "cell_type": "code",
   "execution_count": null,
   "id": "4892cb38",
   "metadata": {},
   "outputs": [],
   "source": [
    "FLAM = u.erg / (u.s * u.cm * u.cm * u.AA)\n",
    "\n",
    "# If astropy can do it, Jdaviz should too.\n",
    "spec1.flux.to(FLAM, u.spectral_density(spec1.spectral_axis))"
   ]
  },
  {
   "cell_type": "code",
   "execution_count": null,
   "id": "3be87c54",
   "metadata": {},
   "outputs": [],
   "source": [
    "# this MIGHT fail depending on the version of astropy (since glue harcodes the expected string formatting \n",
    "# for units, whereas astropy recently changed the default order of units)\n",
    "try:\n",
    "    viewer.state.y_display_unit = FLAM.to_string()\n",
    "except ValueError as e:\n",
    "    print(\"setting y_display_unit failed: \", repr(e))"
   ]
  },
  {
   "cell_type": "markdown",
   "id": "116e5806",
   "metadata": {},
   "source": [
    "The plugin select component, however, is unit-aware and will handle mapping to the string formatting expected by glue"
   ]
  },
  {
   "cell_type": "code",
   "execution_count": null,
   "id": "da5df8d4",
   "metadata": {},
   "outputs": [],
   "source": [
    "uc = specviz.plugins['Unit Conversion']\n",
    "uc.flux_unit.choices"
   ]
  },
  {
   "cell_type": "code",
   "execution_count": null,
   "id": "b74ae8aa",
   "metadata": {},
   "outputs": [],
   "source": [
    "uc.flux_unit = FLAM.to_string()"
   ]
  },
  {
   "cell_type": "markdown",
   "id": "8be218b4",
   "metadata": {},
   "source": [
    "Change the spectral axis again, this time to Angstrom via the plugin API."
   ]
  },
  {
   "cell_type": "code",
   "execution_count": null,
   "id": "8f9073f7",
   "metadata": {},
   "outputs": [],
   "source": [
    "uc.spectral_unit = 'Angstrom'"
   ]
  },
  {
   "cell_type": "markdown",
   "id": "fa487529",
   "metadata": {},
   "source": [
    "Change everything back to original units."
   ]
  },
  {
   "cell_type": "code",
   "execution_count": null,
   "id": "8c110686",
   "metadata": {},
   "outputs": [],
   "source": [
    "viewer.state.x_display_unit = \"micron\"\n",
    "viewer.state.y_display_unit = \"Jy\""
   ]
  },
  {
   "cell_type": "code",
   "execution_count": null,
   "id": "87642b18",
   "metadata": {},
   "outputs": [],
   "source": []
  }
 ],
 "metadata": {
  "kernelspec": {
   "display_name": "Python 3 (ipykernel)",
   "language": "python",
   "name": "python3"
  },
  "language_info": {
   "codemirror_mode": {
    "name": "ipython",
    "version": 3
   },
   "file_extension": ".py",
   "mimetype": "text/x-python",
   "name": "python",
   "nbconvert_exporter": "python",
   "pygments_lexer": "ipython3",
   "version": "3.8.15"
  }
 },
 "nbformat": 4,
 "nbformat_minor": 5
}
