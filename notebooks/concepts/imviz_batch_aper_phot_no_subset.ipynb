{
 "cells": [
  {
   "cell_type": "code",
   "execution_count": null,
   "id": "c6645331-721b-4399-9192-9814c504662c",
   "metadata": {},
   "outputs": [],
   "source": [
    "from astropy.utils.data import get_pkg_data_filename\n",
    "\n",
    "from jdaviz import Imviz"
   ]
  },
  {
   "cell_type": "code",
   "execution_count": null,
   "id": "ad038b58-9b2a-457c-8192-850c9a57fcb2",
   "metadata": {},
   "outputs": [],
   "source": [
    "imviz = Imviz()"
   ]
  },
  {
   "cell_type": "code",
   "execution_count": null,
   "id": "23eb425e-8a4b-4bf9-9c0b-e6ead4b4c5f6",
   "metadata": {},
   "outputs": [],
   "source": [
    "imviz.show()"
   ]
  },
  {
   "cell_type": "markdown",
   "id": "57923149-0093-493a-a790-8aeebf957e95",
   "metadata": {},
   "source": [
    "A hundred Gaussian objects with FITS WCS. This is the data used in `photutils/aperture/tests/test_stats.py`."
   ]
  },
  {
   "cell_type": "code",
   "execution_count": null,
   "id": "487d6f0c-fac7-40cf-aba3-6ecec8536894",
   "metadata": {},
   "outputs": [],
   "source": [
    "file1 = get_pkg_data_filename('data/gauss100_fits_wcs.fits', package='jdaviz.configs.imviz.tests')\n",
    "imviz.load_data(file1)"
   ]
  },
  {
   "cell_type": "markdown",
   "id": "85f9512a-d135-4dc8-9e08-52cfe896e48d",
   "metadata": {},
   "source": [
    "Pretend this is user interactively marking some stars/galaxies."
   ]
  },
  {
   "cell_type": "code",
   "execution_count": null,
   "id": "3d492844-bd14-4918-9fb1-e44c39074307",
   "metadata": {},
   "outputs": [],
   "source": [
    "viewer = imviz.default_viewer\n",
    "markers_plugin = imviz.plugins[\"Markers\"]\n",
    "markers_plugin.keep_active = True\n",
    "label_mouseover = imviz.app.session.application._tools['g-coords-info']"
   ]
  },
  {
   "cell_type": "code",
   "execution_count": null,
   "id": "76fa03b1-7cac-426f-a990-9b16c89f97ca",
   "metadata": {},
   "outputs": [],
   "source": [
    "locs = [(6.93155173252845, 253.77958634705334),\n",
    "        (155.66839936, 233.13442641),\n",
    "        (237.77363749, 182.16669274),\n",
    "        (335.66836747, 141.52153412),\n",
    "        (396.93152107, 109.26347172)]"
   ]
  },
  {
   "cell_type": "code",
   "execution_count": null,
   "id": "560df376-cad2-41b1-9e1c-e19249397b73",
   "metadata": {},
   "outputs": [],
   "source": [
    "for x, y in locs:\n",
    "    label_mouseover._viewer_mouse_event(viewer._obj, {'event': 'mousemove', 'domain': {'x': x, 'y': y}})\n",
    "    markers_plugin._obj._on_viewer_key_event(viewer._obj, {'event': 'keydown', 'key': 'm'})"
   ]
  },
  {
   "cell_type": "markdown",
   "id": "5446f385-6147-498c-a4a1-9578cbdc7ff5",
   "metadata": {},
   "source": [
    "Zoom to fit."
   ]
  },
  {
   "cell_type": "code",
   "execution_count": null,
   "id": "4bb5e390-c2a8-4357-9c63-84e36a88a703",
   "metadata": {},
   "outputs": [],
   "source": [
    "viewer._obj.reset_limits()"
   ]
  },
  {
   "cell_type": "markdown",
   "id": "3a8fa9dc-a231-4eab-884a-ef6ec97ccb09",
   "metadata": {},
   "source": [
    "Now, we access what the user marked."
   ]
  },
  {
   "cell_type": "code",
   "execution_count": null,
   "id": "567f67c5-979a-4e92-af8c-4073eba7d0ab",
   "metadata": {},
   "outputs": [],
   "source": [
    "tbl = markers_plugin._obj.table._qtable"
   ]
  },
  {
   "cell_type": "code",
   "execution_count": null,
   "id": "32bf5d8d-7640-4f06-a9c7-f448b520f087",
   "metadata": {},
   "outputs": [],
   "source": [
    "tbl"
   ]
  },
  {
   "cell_type": "markdown",
   "id": "3522727d-a219-4470-9e93-7bf052cb0f7e",
   "metadata": {},
   "source": [
    "We build apertures.\n",
    "\n",
    "*TODO: How to let user set radius or shape? Markers plugin only gives you the center.*"
   ]
  },
  {
   "cell_type": "code",
   "execution_count": null,
   "id": "265984b9-73cf-4ce1-a6d7-a1652c349603",
   "metadata": {},
   "outputs": [],
   "source": [
    "from regions import CirclePixelRegion, PixCoord"
   ]
  },
  {
   "cell_type": "code",
   "execution_count": null,
   "id": "571b0e49-f410-4be8-b310-4a66001900af",
   "metadata": {},
   "outputs": [],
   "source": [
    "radius = 3\n",
    "apertures = [CirclePixelRegion(PixCoord(x, y), radius) for x, y in tbl[\"pixel\"]]"
   ]
  },
  {
   "cell_type": "markdown",
   "id": "caa17693-e88b-48fe-8c41-cf59022deeb9",
   "metadata": {},
   "source": [
    "We force Aperture Photometry plugin to use our apertures instead of Subset.\n",
    "\n",
    "*FIXME: Ignore background for now.*"
   ]
  },
  {
   "cell_type": "code",
   "execution_count": null,
   "id": "7d72f759-fe15-400a-85a3-503c24b03ee4",
   "metadata": {},
   "outputs": [],
   "source": [
    "aperphot_plg = imviz.plugins[\"Aperture Photometry\"]"
   ]
  },
  {
   "cell_type": "code",
   "execution_count": null,
   "id": "d7ddef13-31b2-4c75-9da4-ca1233c340f8",
   "metadata": {},
   "outputs": [],
   "source": [
    "options = [{\"aperture\": aperture} for aperture in apertures]\n",
    "aperphot_plg._obj.calculate_batch_photometry(options=options, full_exceptions=True)"
   ]
  },
  {
   "cell_type": "markdown",
   "id": "ea36f5b4-c37a-4047-aa65-30399cf23073",
   "metadata": {},
   "source": [
    "Profit!!!"
   ]
  },
  {
   "cell_type": "code",
   "execution_count": null,
   "id": "ffcba8be-7108-4e9e-8f6a-3564fd7ce5ce",
   "metadata": {},
   "outputs": [],
   "source": [
    "imviz.get_aperture_photometry_results()"
   ]
  },
  {
   "cell_type": "code",
   "execution_count": null,
   "id": "68b1fe59-1dc8-4d25-b634-1d97eae8b740",
   "metadata": {},
   "outputs": [],
   "source": []
  }
 ],
 "metadata": {
  "kernelspec": {
   "display_name": "Python 3 (ipykernel)",
   "language": "python",
   "name": "python3"
  },
  "language_info": {
   "codemirror_mode": {
    "name": "ipython",
    "version": 3
   },
   "file_extension": ".py",
   "mimetype": "text/x-python",
   "name": "python",
   "nbconvert_exporter": "python",
   "pygments_lexer": "ipython3",
   "version": "3.12.2"
  }
 },
 "nbformat": 4,
 "nbformat_minor": 5
}
