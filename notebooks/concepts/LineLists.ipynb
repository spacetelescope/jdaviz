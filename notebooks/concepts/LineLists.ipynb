{
 "cells": [
  {
   "cell_type": "code",
   "execution_count": null,
   "metadata": {
    "scrolled": false
   },
   "outputs": [],
   "source": [
    "#from jdaviz.app import Application\n",
    "from jdaviz import Specviz\n",
    "\n",
    "#app = Application(configuration='cubeviz')\n",
    "specviz = Specviz()\n",
    "specviz.app"
   ]
  },
  {
   "cell_type": "code",
   "execution_count": null,
   "metadata": {
    "scrolled": false
   },
   "outputs": [],
   "source": [
    "from astropy.utils.data import download_file\n",
    "\n",
    "# This file is originally from https://data.sdss.org/sas/dr14/manga/spectro/redux/v2_1_2/7495/stack/manga-7495-12704-LOGCUBE.fits.gz\n",
    "# but has been modified to correct some inconsistencies in the way units are parsed\n",
    "fn = download_file('https://stsci.box.com/shared/static/28a88k1qfipo4yxc4p4d40v4axtlal8y.fits', cache=True)\n",
    "specviz.app.load_data(fn)"
   ]
  },
  {
   "cell_type": "markdown",
   "metadata": {},
   "source": [
    "### Adding line lists via code in cells\n",
    "\n",
    "Line lists are expected to be input as an astropy `QTable`, with at minimum \"linename\" and \"rest\" fields. The user can optionally specify a \"color\" column if they want each line to be a different color. \n",
    "\n",
    "The first step is to load the line list into the specviz instance using `specviz.load_line_list(lines)`. A line list as described as above is required, and there is an optional `replace` parameter that, if set to True, replaces any existing lines with those input. The default behavior is to add newly loaded lines to the existing list.\n",
    "\n",
    "Note that the line list functionality is all actually happening under the hood in the spectrum viewer (and thus could also be used in e.g. Cubeviz); the Specviz methods are convenience wrappers. "
   ]
  },
  {
   "cell_type": "code",
   "execution_count": null,
   "metadata": {},
   "outputs": [],
   "source": [
    "from astropy.table import QTable\n",
    "import astropy.units as u\n",
    "\n",
    "lt = QTable()\n",
    "lt['linename'] = ['Halpha', 'Hbeta']\n",
    "lt['rest'] = [6.563e-7, 4.862e-7]*u.m\n",
    "\n",
    "specviz.load_line_list(lt)\n",
    "specviz.spectral_lines"
   ]
  },
  {
   "cell_type": "markdown",
   "metadata": {},
   "source": [
    "If the loaded table has a `listname` column, the lines will show up in the Line List UI under that heading. Otherwise, they will by default show up under the `Custom` heading."
   ]
  },
  {
   "cell_type": "code",
   "execution_count": null,
   "metadata": {},
   "outputs": [],
   "source": [
    "lt = QTable()\n",
    "lt['linename'] = ['Test1', 'Test2']\n",
    "lt['rest'] = [6.8e-7, 4.4e-7]*u.m\n",
    "lt['listname'] = \"Test\"\n",
    "\n",
    "specviz.load_line_list(lt)\n",
    "specviz.spectral_lines"
   ]
  },
  {
   "cell_type": "markdown",
   "metadata": {},
   "source": [
    "Adding the lines to the plot is as simple as calling the `plot_spectral_lines` function:"
   ]
  },
  {
   "cell_type": "code",
   "execution_count": null,
   "metadata": {},
   "outputs": [],
   "source": [
    "specviz.plot_spectral_lines()"
   ]
  },
  {
   "cell_type": "markdown",
   "metadata": {},
   "source": [
    "And one can erase all spectral lines from the plot as below:"
   ]
  },
  {
   "cell_type": "code",
   "execution_count": null,
   "metadata": {},
   "outputs": [],
   "source": [
    "specviz.erase_spectral_lines()"
   ]
  },
  {
   "cell_type": "markdown",
   "metadata": {},
   "source": [
    "### Preset line lists\n",
    "\n",
    "We also include with the jdaviz package a set of predefined line lists that can be loaded and plotted by the user. The names of these lists, which can be accessed via `specviz.available_linelists`, can be passed to `specviz.load_line_list` instead of passing in a QTable. The `replace` keyword still works as above."
   ]
  },
  {
   "cell_type": "code",
   "execution_count": null,
   "metadata": {},
   "outputs": [],
   "source": [
    "specviz.available_linelists"
   ]
  },
  {
   "cell_type": "code",
   "execution_count": null,
   "metadata": {},
   "outputs": [],
   "source": [
    "specviz.load_line_list(\"Common Nebular\", replace=True)"
   ]
  },
  {
   "cell_type": "code",
   "execution_count": null,
   "metadata": {},
   "outputs": [],
   "source": [
    "specviz.spectral_lines"
   ]
  },
  {
   "cell_type": "code",
   "execution_count": null,
   "metadata": {},
   "outputs": [],
   "source": [
    "specviz.plot_spectral_lines()"
   ]
  }
 ],
 "metadata": {
  "kernelspec": {
   "display_name": "Python 3",
   "language": "python",
   "name": "python3"
  },
  "language_info": {
   "codemirror_mode": {
    "name": "ipython",
    "version": 3
   },
   "file_extension": ".py",
   "mimetype": "text/x-python",
   "name": "python",
   "nbconvert_exporter": "python",
   "pygments_lexer": "ipython3",
   "version": "3.8.2"
  }
 },
 "nbformat": 4,
 "nbformat_minor": 4
}
