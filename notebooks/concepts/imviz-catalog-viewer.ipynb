{
 "cells": [
  {
   "cell_type": "markdown",
   "id": "16f874ae-9141-4bc2-91d4-78256b60da3f",
   "metadata": {},
   "source": [
    "# Image of M4 + linked Gaia DR3 color-magnitude diagram\n",
    "\n",
    "Download a DSS2 Red image of M4, and load it into Imviz:"
   ]
  },
  {
   "cell_type": "code",
   "execution_count": null,
   "id": "fbda5896-c105-467c-87b5-2d624869ef3c",
   "metadata": {},
   "outputs": [],
   "source": [
    "from jdaviz import Imviz\n",
    "from astropy.coordinates import SkyCoord\n",
    "from astroquery.skyview import SkyView\n",
    "from astroquery.vizier import Vizier\n",
    "import astropy.units as u\n",
    "from jdaviz.configs.imviz.plugins.parsers import component_ids\n",
    "from glue.core.component_link import ComponentLink\n",
    "from glue.core.roi import RectangularROI\n",
    "\n",
    "target_name = 'M4'\n",
    "\n",
    "m4 = SkyCoord.from_name(target_name)\n",
    "image = SkyView.get_images(target_name, survey='DSS2 Red', pixels=4000, radius=0.5 * u.deg)[0]\n",
    "\n",
    "imviz = Imviz()\n",
    "imviz.load_data(image, data_label=target_name)\n",
    "imviz.show('sidecar:split-bottom')"
   ]
  },
  {
   "cell_type": "markdown",
   "id": "92bc9bc9-8132-4ad6-8eef-204b8ebcfa43",
   "metadata": {},
   "source": [
    "Set up some plot options:"
   ]
  },
  {
   "cell_type": "code",
   "execution_count": null,
   "id": "7ccf85fe-066f-4043-809f-0b9648bc36d1",
   "metadata": {},
   "outputs": [],
   "source": [
    "plot_options = imviz.plugins['Plot Options']._obj\n",
    "plot_options.axes_visible_value = True\n",
    "plot_options.show_viewer_labels = True\n",
    "plot_options.layer_selected = f'{target_name}[PRIMARY,1]'\n",
    "plot_options.image_colormap_value = 'viridis'"
   ]
  },
  {
   "cell_type": "markdown",
   "id": "379f6b56-6707-4eda-9bd1-a24d75d76e07",
   "metadata": {},
   "source": [
    "Query the Gaia DR3 catalog for stars brighter than $V<10$  within 0.05$^\\circ$ of M4:"
   ]
  },
  {
   "cell_type": "code",
   "execution_count": null,
   "id": "6af0efc5-7c41-456a-a1ca-d52da5e2cbd6",
   "metadata": {},
   "outputs": [],
   "source": [
    "columns = ['source_id', 'ra', 'dec', 'phot_bp_mean_mag', 'phot_rp_mean_mag', 'parallax']\n",
    "sources = Vizier(\n",
    "    catalog='I/355/gaiadr3', columns=columns, row_limit=10_000\n",
    ").query_region(\n",
    "    m4, radius=0.05 * u.deg, column_filters={\"Vmag\": \"<10\"}\n",
    ")[0]\n",
    "sources['bp-rp'] = sources['BPmag'] - sources['RPmag']\n",
    "sources.rename_columns(['RA_ICRS', 'DE_ICRS'], ['ra', 'dec'])"
   ]
  },
  {
   "cell_type": "markdown",
   "id": "311273d4-ea36-45d9-ad97-8e58ca27eba2",
   "metadata": {},
   "source": [
    "Remove units from these QTable columns:"
   ]
  },
  {
   "cell_type": "code",
   "execution_count": null,
   "id": "5c46b8ec-1347-4e9c-b55d-3dabe03f9851",
   "metadata": {},
   "outputs": [],
   "source": [
    "for col in sources.colnames:\n",
    "    if hasattr(sources[col], 'quantity'):\n",
    "        sources[col] = sources[col].quantity.value\n",
    "\n",
    "imviz.load_data(sources)"
   ]
  },
  {
   "cell_type": "code",
   "execution_count": null,
   "id": "0c346f9f-cc37-4ab2-b2bc-9229167b1e6c",
   "metadata": {},
   "outputs": [],
   "source": [
    "data1, data2 = imviz.app.data_collection[:2]\n",
    "\n",
    "links = [\n",
    "    ComponentLink([data1.id['Right Ascension']], data2.id['ra']),\n",
    "    ComponentLink([data1.id['Declination']], data2.id['dec'])\n",
    "]\n",
    "\n",
    "for link in links:\n",
    "    imviz.app.data_collection.add_link(link)"
   ]
  },
  {
   "cell_type": "markdown",
   "id": "600891b7-1999-4842-804c-07a7984d4665",
   "metadata": {},
   "source": [
    "Set the scatter plot axes to be the BP-RP color and BP magnitude, flip y-axis limits so brightest sources are at the top of the color magnitude diagram:"
   ]
  },
  {
   "cell_type": "code",
   "execution_count": null,
   "id": "58c8a61c-446c-4691-89a7-544c281f91ef",
   "metadata": {},
   "outputs": [],
   "source": [
    "imviz.app.add_data_to_viewer('imviz-1', 'catalog')\n",
    "scatter_viewer = imviz.viewers['imviz-1']._obj\n",
    "\n",
    "scatter_viewer.state.x_att = imviz.app.data_collection[1].id['bp-rp']\n",
    "scatter_viewer.state.y_att = imviz.app.data_collection[1].id['BPmag']\n",
    "\n",
    "scatter_viewer.state.y_lim_helper.flip_limits()\n",
    "scatter_viewer.set_limits(x_min=0, x_max=2.5)"
   ]
  },
  {
   "cell_type": "code",
   "execution_count": null,
   "id": "329bb006-35ec-4f79-b11b-99dd1c261747",
   "metadata": {},
   "outputs": [],
   "source": [
    "plot_options.layer_selected = 'catalog'\n",
    "plot_options.marker_color_value = 'gray'\n",
    "plot_options.marker_opacity_value = 0.6\n",
    "plot_options.marker_size_scale_value = 10"
   ]
  },
  {
   "cell_type": "markdown",
   "id": "bb07942c-3b50-4be1-8e18-218bae017530",
   "metadata": {},
   "source": [
    "Select horizontal branch stars from the color-magnitude diagram:"
   ]
  },
  {
   "cell_type": "code",
   "execution_count": null,
   "id": "6c82b561-da4e-4cf2-a212-001aa189f4b8",
   "metadata": {},
   "outputs": [],
   "source": [
    "imviz.viewers['imviz-1']._obj.apply_roi(RectangularROI(0.5, 1.5, 10, 14))"
   ]
  },
  {
   "cell_type": "markdown",
   "id": "aa8f9857-ffe9-43eb-8419-746b6421f533",
   "metadata": {},
   "source": [
    "Make the subset markers easier to see:"
   ]
  },
  {
   "cell_type": "code",
   "execution_count": null,
   "id": "5a2845cd-6410-431d-a6e8-8d0b268be487",
   "metadata": {},
   "outputs": [],
   "source": [
    "plot_options.layer_selected = 'Subset 1'\n",
    "plot_options.marker_color_value = 'r'\n",
    "plot_options.marker_opacity_value = 0.9\n",
    "plot_options.marker_size_scale_value = 10"
   ]
  },
  {
   "cell_type": "code",
   "execution_count": null,
   "id": "a33570d8-4fff-43ac-b6fe-ef4a4b409abe",
   "metadata": {},
   "outputs": [],
   "source": [
    "plot_options.layer_selected = 'Subset 2'\n",
    "plot_options.marker_color_value = 'g'\n",
    "plot_options.marker_opacity_value = 0.9\n",
    "plot_options.marker_size_scale_value = 10"
   ]
  },
  {
   "cell_type": "code",
   "execution_count": null,
   "id": "f7a28202-1746-416b-98cd-8761e74886cb",
   "metadata": {},
   "outputs": [],
   "source": []
  }
 ],
 "metadata": {
  "kernelspec": {
   "display_name": "Python 3 (ipykernel)",
   "language": "python",
   "name": "python3"
  },
  "language_info": {
   "codemirror_mode": {
    "name": "ipython",
    "version": 3
   },
   "file_extension": ".py",
   "mimetype": "text/x-python",
   "name": "python",
   "nbconvert_exporter": "python",
   "pygments_lexer": "ipython3",
   "version": "3.11.5"
  }
 },
 "nbformat": 4,
 "nbformat_minor": 5
}
