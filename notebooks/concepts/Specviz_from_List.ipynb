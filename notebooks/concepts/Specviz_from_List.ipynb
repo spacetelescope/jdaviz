{
 "cells": [
  {
   "cell_type": "markdown",
   "id": "17d43695",
   "metadata": {},
   "source": [
    "# SpectrumList reading by Specviz"
   ]
  },
  {
   "cell_type": "markdown",
   "id": "7d96dae3",
   "metadata": {},
   "source": [
    "This demonstrates the reading of a set of x1d files by specviz, using internally an instance of SpectrumList.\n",
    "\n",
    "The desired result is the simultaneous display of all spectra in the list."
   ]
  },
  {
   "cell_type": "code",
   "execution_count": null,
   "id": "96971b54",
   "metadata": {},
   "outputs": [],
   "source": [
    "import os\n",
    "import glob\n",
    "import tempfile\n",
    "from zipfile import ZipFile\n",
    "\n",
    "from astropy.utils.data import download_file\n",
    "\n",
    "from specutils import SpectrumList\n",
    "\n",
    "from jdaviz import Specviz"
   ]
  },
  {
   "cell_type": "code",
   "execution_count": null,
   "id": "d1a8fdbb",
   "metadata": {
    "scrolled": false
   },
   "outputs": [],
   "source": [
    "# Read data set from zip file\n",
    "\n",
    "example_data = 'https://data.science.stsci.edu/redirect/JWST/jwst-data_analysis_tools/MIRI_MRS_specutils_test/MIRI-MRS-test-data.zip'\n",
    "\n",
    "data_dir = tempfile.gettempdir()\n",
    "zipfile = download_file(example_data)\n",
    "with ZipFile(zipfile, 'r') as fd:\n",
    "    fd.extractall(data_dir)\n",
    "    \n",
    "print(f'Data set is in {data_dir}')"
   ]
  },
  {
   "cell_type": "code",
   "execution_count": null,
   "id": "f5657b71",
   "metadata": {
    "scrolled": false
   },
   "outputs": [],
   "source": [
    "specviz = Specviz()\n",
    "specviz.app"
   ]
  },
  {
   "cell_type": "code",
   "execution_count": null,
   "id": "4b3a8944",
   "metadata": {
    "scrolled": false
   },
   "outputs": [],
   "source": [
    "specviz.load_spectrum(data_dir)"
   ]
  }
 ],
 "metadata": {
  "kernelspec": {
   "display_name": "Python 3",
   "language": "python",
   "name": "python3"
  },
  "language_info": {
   "codemirror_mode": {
    "name": "ipython",
    "version": 3
   },
   "file_extension": ".py",
   "mimetype": "text/x-python",
   "name": "python",
   "nbconvert_exporter": "python",
   "pygments_lexer": "ipython3",
   "version": "3.8.10"
  }
 },
 "nbformat": 4,
 "nbformat_minor": 5
}
