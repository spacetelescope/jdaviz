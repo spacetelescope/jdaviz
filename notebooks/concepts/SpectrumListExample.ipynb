{
 "cells": [
  {
   "cell_type": "code",
   "execution_count": null,
   "id": "96971b54",
   "metadata": {},
   "outputs": [],
   "source": [
    "import os\n",
    "import glob\n",
    "import tempfile\n",
    "from zipfile import ZipFile\n",
    "\n",
    "from astropy.utils.data import download_file\n",
    "\n",
    "from specutils import SpectrumList"
   ]
  },
  {
   "cell_type": "code",
   "execution_count": null,
   "id": "d1a8fdbb",
   "metadata": {
    "scrolled": false
   },
   "outputs": [],
   "source": [
    "# Read data set from zip file\n",
    "\n",
    "example_data = 'https://data.science.stsci.edu/redirect/JWST/jwst-data_analysis_tools/MIRI_MRS_specutils_test/MIRI-MRS-test-data.zip'\n",
    "\n",
    "data_dir = tempfile.gettempdir()\n",
    "zipfile = download_file(example_data)\n",
    "with ZipFile(zipfile, 'r') as fd:\n",
    "    fd.extractall(data_dir)\n",
    "    \n",
    "print(f'Data set is in {data_dir}')"
   ]
  },
  {
   "cell_type": "code",
   "execution_count": null,
   "id": "1e4f3ba0",
   "metadata": {},
   "outputs": [],
   "source": [
    "# Make a SpectrumList instance from all _x1d.fits files in directory\n",
    "\n",
    "splist = SpectrumList.read(data_dir)"
   ]
  },
  {
   "cell_type": "code",
   "execution_count": null,
   "id": "1a664128",
   "metadata": {},
   "outputs": [],
   "source": [
    "# SpectrumList is just a regular list where each member is an instance of Spectrum1D\n",
    "\n",
    "splist[0]"
   ]
  },
  {
   "cell_type": "code",
   "execution_count": null,
   "id": "07a720c9",
   "metadata": {},
   "outputs": [],
   "source": [
    "len(splist)"
   ]
  },
  {
   "cell_type": "code",
   "execution_count": null,
   "id": "311c81b4",
   "metadata": {},
   "outputs": [],
   "source": [
    "# Can build SpectrumList from a list of file names as well.\n",
    "\n",
    "filelist = glob.glob(os.path.join(data_dir, \"*_x1d.fits\"))\n",
    "for name in filelist:\n",
    "    print(name)\n",
    "\n",
    "splist = SpectrumList.read(filelist)\n",
    "splist[0]"
   ]
  }
 ],
 "metadata": {
  "kernelspec": {
   "display_name": "Python 3",
   "language": "python",
   "name": "python3"
  },
  "language_info": {
   "codemirror_mode": {
    "name": "ipython",
    "version": 3
   },
   "file_extension": ".py",
   "mimetype": "text/x-python",
   "name": "python",
   "nbconvert_exporter": "python",
   "pygments_lexer": "ipython3",
   "version": "3.8.10"
  }
 },
 "nbformat": 4,
 "nbformat_minor": 5
}
