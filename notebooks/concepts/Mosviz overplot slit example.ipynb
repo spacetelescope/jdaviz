{
 "cells": [
  {
   "cell_type": "markdown",
   "metadata": {},
   "source": [
    "# Load jdaviz app in Mosviz configuration"
   ]
  },
  {
   "cell_type": "code",
   "execution_count": 1,
   "metadata": {
    "scrolled": false
   },
   "outputs": [
    {
     "name": "stderr",
     "output_type": "stream",
     "text": [
      "/Users/javerbukh/anaconda3/envs/specviz_uc_bug/lib/python3.8/site-packages/glue/external/echo/__init__.py:3: UserWarning: glue.external.echo is deprecated, import from echo directly instead\n",
      "  warnings.warn('glue.external.echo is deprecated, import from echo directly instead')\n"
     ]
    }
   ],
   "source": [
    "from jdaviz.configs.mosviz.helper import Mosviz"
   ]
  },
  {
   "cell_type": "code",
   "execution_count": 2,
   "metadata": {
    "scrolled": false
   },
   "outputs": [
    {
     "data": {
      "application/vnd.jupyter.widget-view+json": {
       "model_id": "d036ec3e07de4f599df80df924642df3",
       "version_major": 2,
       "version_minor": 0
      },
      "text/plain": [
       "Application(components={'g-viewer-tab': '<template>\\n  <component :is=\"stack.container\">\\n    <g-viewer-tab\\n …"
      ]
     },
     "metadata": {},
     "output_type": "display_data"
    }
   ],
   "source": [
    "mosviz = Mosviz()\n",
    "mosviz.app"
   ]
  },
  {
   "cell_type": "markdown",
   "metadata": {},
   "source": [
    "## Load data"
   ]
  },
  {
   "cell_type": "code",
   "execution_count": null,
   "metadata": {},
   "outputs": [],
   "source": [
    "import glob\n",
    "\n",
    "spectra_1d = []\n",
    "spectra_2d = []\n",
    "images = []\n",
    "\n",
    "from astropy.utils.data import download_file\n",
    "import tempfile\n",
    "import pathlib\n",
    "from zipfile import ZipFile\n",
    "\n",
    "fn = download_file('https://stsci.box.com/shared/static/ovyxi5eund92yoadvv01mynwt8t5n7jv.zip', cache=True)\n",
    "with ZipFile(fn, 'r') as sample_data_zip:\n",
    "    # Unzip sample data archive\n",
    "    sample_data_zip.extractall(tempfile.gettempdir())\n",
    "    \n",
    "level3_path = (pathlib.Path(tempfile.gettempdir()) / 'mosviz_nirspec_data_0.3' / 'level3')\n",
    "for file_path in glob.glob(str(level3_path / '*')):\n",
    "    if 'x1d' in file_path:\n",
    "        spectra_1d.append(file_path)\n",
    "    elif 's2d' in file_path:\n",
    "        spectra_2d.append(file_path)\n",
    "        \n",
    "        \n",
    "for i in range(len(spectra_1d)):\n",
    "    images.append(str(level3_path / 'mosviz_cutouts' / '227.fits'))\n",
    "\n",
    "mosviz.load_1d_spectra(spectra_1d)\n",
    "mosviz.load_2d_spectra(spectra_2d)\n",
    "mosviz.load_images(images)"
   ]
  },
  {
   "cell_type": "markdown",
   "metadata": {},
   "source": [
    "# Everything below this is test code used for development\n",
    "---"
   ]
  },
  {
   "cell_type": "code",
   "execution_count": null,
   "metadata": {},
   "outputs": [],
   "source": [
    "fig_image = mosviz.app.get_viewer(\"image-viewer\").figure"
   ]
  },
  {
   "cell_type": "code",
   "execution_count": null,
   "metadata": {},
   "outputs": [],
   "source": [
    "import bqplot\n",
    "from regions import RectanglePixelRegion, PixCoord\n",
    "from ipywidgets import VBox\n",
    "import numpy as np\n",
    "from bqplot import *\n",
    "\n",
    "def region_to_vertices(region):\n",
    "    p = region.to_polygon()\n",
    "    return p.vertices.x, p.vertices.y"
   ]
  },
  {
   "cell_type": "markdown",
   "metadata": {},
   "source": [
    "# Extract slit data from files and visualize"
   ]
  },
  {
   "cell_type": "code",
   "execution_count": null,
   "metadata": {},
   "outputs": [],
   "source": [
    "# Load 2d spectrum data on the right image viewer\n",
    "#spectrum_2d_file = \"/mosviz_nirspec_data_0.3/level3/f170lp-g235m_mos_observation-6-c0e0_s00227_cal.fits\"\n",
    "# app.load_data(spectrum_2d_file)"
   ]
  },
  {
   "cell_type": "code",
   "execution_count": null,
   "metadata": {},
   "outputs": [],
   "source": [
    "#spectrum_2d_file = \"/mosviz_nirspec_data_0.3/level3/f170lp-g235m_mos_observation-6-c0e0_s00482_s2d.fits\"\n",
    "# from astropy.io import fits\n",
    "# hdu = fits.open(spectrum_2d_file)\n",
    "# header = hdu[1].header\n",
    "# [print(x) for x in header]"
   ]
  },
  {
   "cell_type": "markdown",
   "metadata": {},
   "source": [
    "### Set 2D Spectrum viewer (top right) to visualize f170lp-g235m_mos_observation-6-c0e0_s00227_cal.fits"
   ]
  },
  {
   "cell_type": "code",
   "execution_count": null,
   "metadata": {},
   "outputs": [],
   "source": [
    "fig_2d = mosviz.app.get_viewer(\"spectrum-2d-viewer\").figure"
   ]
  },
  {
   "cell_type": "code",
   "execution_count": null,
   "metadata": {},
   "outputs": [],
   "source": [
    "from astropy.io import fits\n",
    "hdu = fits.open(spectrum_2d_file)\n",
    "header = hdu[1].header\n",
    "[print(x) for x in header]"
   ]
  },
  {
   "cell_type": "code",
   "execution_count": null,
   "metadata": {},
   "outputs": [],
   "source": [
    "# Code to create SkyRegions\n",
    "\n",
    "from regions import  RectangleSkyRegion,RectanglePixelRegion\n",
    "from astropy.coordinates import Angle, SkyCoord\n",
    "from astropy import units as u \n",
    "from astropy.wcs import WCS\n",
    "def jwst_header_to_skyregion(header):\n",
    "    s_region = header['S_REGION']\n",
    "    footprint = s_region.split(\"POLYGON ICRS\")[1].split()\n",
    "    ra = np.array(footprint[::2], dtype=np.float)\n",
    "    dec = np.array(footprint[1::2], dtype=np.float)\n",
    "        \n",
    "    # Find center of slit\n",
    "    cra = (max(ra) + min(ra))/2 \n",
    "    cdec = (max(dec) + min(dec))/2\n",
    "    \n",
    "    # Find center as skycoord\n",
    "    skycoord = SkyCoord(cra, cdec,\n",
    "                        unit=(u.Unit(u.deg),\n",
    "                              u.Unit(u.deg)))\n",
    "    \n",
    "    # Puts corners of slit into skycoord object\n",
    "    corners = SkyCoord(ra, dec, unit=\"deg\")\n",
    "    \n",
    "    # Compute length and width\n",
    "    length = corners[0].separation(corners[1])\n",
    "    width = corners[1].separation(corners[2])\n",
    "    length = Angle(length, u.deg)\n",
    "    width = Angle(width, u.deg)\n",
    "    \n",
    "    skyregion = RectangleSkyRegion(center=skycoord, width=width, height=length)\n",
    "    return skyregion"
   ]
  },
  {
   "cell_type": "code",
   "execution_count": null,
   "metadata": {},
   "outputs": [],
   "source": [
    "# Set WCS\n",
    "\n",
    "sky_region = jwst_header_to_skyregion(header)\n",
    "header_copy = header.copy()\n",
    "header_copy['WCSAXES'] = 2\n",
    "for key in header:\n",
    "    if '3' in key:\n",
    "        header_copy.remove(key)\n",
    "wcs_2d = WCS(header_copy)\n"
   ]
  },
  {
   "cell_type": "code",
   "execution_count": null,
   "metadata": {},
   "outputs": [],
   "source": [
    "# Use wcs of image viewer to scale slit dimensions correctly\n",
    "image_hdu = fits.open(cutout_image_file)\n",
    "wcs_image = WCS(image_hdu[0].header)\n",
    "\n",
    "pixel_region = sky_region.to_pixel(wcs_image)\n"
   ]
  },
  {
   "cell_type": "code",
   "execution_count": null,
   "metadata": {},
   "outputs": [],
   "source": [
    "# Create polygon region from the pixel region and set vertices\n",
    "pix_rec = pixel_region.to_polygon()\n",
    "\n",
    "x_coords = pix_rec.vertices.x\n",
    "y_coords = pix_rec.vertices.y\n",
    "\n",
    "# Create LinearScale that is the same size as the image viewer\n",
    "scales={'x': fig_image.interaction.x_scale, 'y':fig_image.interaction.y_scale}\n",
    "\n",
    "# Create slit\n",
    "patch2 = bqplot.Lines(x=x_coords, y=y_coords, scales=scales, fill='none', colors = [\"red\"], stroke_width=2, close_path=True)\n",
    "\n",
    "# Visualize slit on the figure\n",
    "fig_image.marks = fig_image.marks + [patch2]\n",
    "fig_image\n",
    "\n",
    "print(x_coords, y_coords, scales)"
   ]
  },
  {
   "cell_type": "code",
   "execution_count": null,
   "metadata": {},
   "outputs": [],
   "source": [
    "fig_image = mosviz.app.get_viewer(\"image-viewer\").figure\n",
    "fig_image.axes[1].tick_format = None\n",
    "fig_image.axes[0].tick_format = None\n",
    "\n",
    "fig_image.axes[1].label = \"y: pixels\"\n",
    "fig_image.axes[0].label = \"x: pixels\""
   ]
  },
  {
   "cell_type": "code",
   "execution_count": null,
   "metadata": {},
   "outputs": [],
   "source": [
    "table = mosviz.app.get_viewer('table-viewer')"
   ]
  },
  {
   "cell_type": "code",
   "execution_count": null,
   "metadata": {},
   "outputs": [],
   "source": [
    "dir(table)"
   ]
  },
  {
   "cell_type": "code",
   "execution_count": null,
   "metadata": {},
   "outputs": [],
   "source": [
    "table._on_row_selected()"
   ]
  },
  {
   "cell_type": "code",
   "execution_count": null,
   "metadata": {},
   "outputs": [],
   "source": [
    "spec1d = mosviz.app.get_viewer(\"spectrum-viewer\")\n",
    "spec1d.figure.axes[1].tick_format = \"font_size: 6\"\n",
    "spec1d.figure.axes[1]"
   ]
  },
  {
   "cell_type": "code",
   "execution_count": null,
   "metadata": {},
   "outputs": [],
   "source": [
    "spec2d = mosviz.app.get_viewer(\"spectrum-2d-viewer\")\n",
    "spec2d.figure.axes[0].visible = False\n",
    "spec2d.figure.axes[1].label = \"y: pixel\"\n",
    "spec2d.figure.axes[1].tick_format = None\n",
    "spec2d.figure.axes[1].label_location = 'start'\n",
    "\n",
    "spec2d.figure.min_aspect_ratio"
   ]
  },
  {
   "cell_type": "code",
   "execution_count": null,
   "metadata": {},
   "outputs": [],
   "source": [
    "data = mosviz.app.get_viewer(\"image-viewer\").data()\n",
    "data[0].get_object().meta"
   ]
  },
  {
   "cell_type": "code",
   "execution_count": null,
   "metadata": {},
   "outputs": [],
   "source": [
    "spec2d_data = spec2d.data()[0]\n",
    "spec2d_data.wcs"
   ]
  },
  {
   "cell_type": "code",
   "execution_count": null,
   "metadata": {},
   "outputs": [],
   "source": [
    "spec1d_data = spec1d.data()[0]\n",
    "spec1d_data.unit"
   ]
  },
  {
   "cell_type": "code",
   "execution_count": null,
   "metadata": {},
   "outputs": [],
   "source": []
  }
 ],
 "metadata": {
  "kernelspec": {
   "display_name": "Python 3",
   "language": "python",
   "name": "python3"
  },
  "language_info": {
   "codemirror_mode": {
    "name": "ipython",
    "version": 3
   },
   "file_extension": ".py",
   "mimetype": "text/x-python",
   "name": "python",
   "nbconvert_exporter": "python",
   "pygments_lexer": "ipython3",
   "version": "3.8.5"
  }
 },
 "nbformat": 4,
 "nbformat_minor": 2
}
