{
 "cells": [
  {
   "cell_type": "markdown",
   "id": "280f0160",
   "metadata": {},
   "source": [
    "# Hacky Timeviz\n",
    "\n",
    "Hack Specviz to load time series."
   ]
  },
  {
   "cell_type": "code",
   "execution_count": null,
   "id": "4392decd",
   "metadata": {},
   "outputs": [],
   "source": [
    "from astropy import units as u\n",
    "from astropy.timeseries import TimeSeries\n",
    "from astropy.utils.data import get_pkg_data_filename\n",
    "from specutils import Spectrum1D\n",
    "\n",
    "from jdaviz import Specviz"
   ]
  },
  {
   "cell_type": "markdown",
   "id": "1d973557",
   "metadata": {},
   "source": [
    "This is from https://docs.astropy.org/en/stable/timeseries/index.html"
   ]
  },
  {
   "cell_type": "code",
   "execution_count": null,
   "id": "64303fcc",
   "metadata": {},
   "outputs": [],
   "source": [
    "filename = get_pkg_data_filename('timeseries/kplr010666592-2009131110544_slc.fits')  "
   ]
  },
  {
   "cell_type": "code",
   "execution_count": null,
   "id": "f6de9e2d",
   "metadata": {},
   "outputs": [],
   "source": [
    "ts = TimeSeries.read(filename, format='kepler.fits')  "
   ]
  },
  {
   "cell_type": "code",
   "execution_count": null,
   "id": "62d7c52f",
   "metadata": {},
   "outputs": [],
   "source": [
    "flux = ts['sap_flux']  # Quantity"
   ]
  },
  {
   "cell_type": "code",
   "execution_count": null,
   "id": "8c5c3051",
   "metadata": {},
   "outputs": [],
   "source": [
    "t = ts['time']  # Time"
   ]
  },
  {
   "cell_type": "markdown",
   "id": "992ee9ff",
   "metadata": {},
   "source": [
    "To load this into Spectrum1D, we hack the time axis by changing it to MJD and lying to `specutils` about its units."
   ]
  },
  {
   "cell_type": "code",
   "execution_count": null,
   "id": "4b58d2b3",
   "metadata": {},
   "outputs": [],
   "source": [
    "sp = Spectrum1D(flux=flux, spectral_axis=t.mjd * u.pix)"
   ]
  },
  {
   "cell_type": "markdown",
   "id": "cffd2175",
   "metadata": {},
   "source": [
    "Now we load it normally but we also need to hack the X-axis label."
   ]
  },
  {
   "cell_type": "code",
   "execution_count": null,
   "id": "fbefa24c",
   "metadata": {},
   "outputs": [],
   "source": [
    "viz = Specviz()"
   ]
  },
  {
   "cell_type": "code",
   "execution_count": null,
   "id": "cc8f2efa",
   "metadata": {},
   "outputs": [],
   "source": [
    "viz.load_data(sp, data_label='kplr010666592-2009131110544_slc')"
   ]
  },
  {
   "cell_type": "code",
   "execution_count": null,
   "id": "1c486e47",
   "metadata": {},
   "outputs": [],
   "source": [
    "viewer = viz.app.get_viewer_by_id('specviz-0')"
   ]
  },
  {
   "cell_type": "code",
   "execution_count": null,
   "id": "2994ce92",
   "metadata": {},
   "outputs": [],
   "source": [
    "viewer.figure.axes[0].label = 'Time (MJD)'"
   ]
  },
  {
   "cell_type": "code",
   "execution_count": null,
   "id": "08f023e2",
   "metadata": {},
   "outputs": [],
   "source": [
    "viz.app"
   ]
  },
  {
   "cell_type": "markdown",
   "id": "8ab8599d",
   "metadata": {},
   "source": [
    "This is by no means good for production. To use this as is, there will be a lot of conversion between \"pix\" and MJD internally.\n",
    "\n",
    "For production, we probably need Glue to support time series?"
   ]
  },
  {
   "cell_type": "code",
   "execution_count": null,
   "id": "a1016e03",
   "metadata": {},
   "outputs": [],
   "source": []
  }
 ],
 "metadata": {
  "kernelspec": {
   "display_name": "Python 3 (ipykernel)",
   "language": "python",
   "name": "python3"
  },
  "language_info": {
   "codemirror_mode": {
    "name": "ipython",
    "version": 3
   },
   "file_extension": ".py",
   "mimetype": "text/x-python",
   "name": "python",
   "nbconvert_exporter": "python",
   "pygments_lexer": "ipython3",
   "version": "3.9.7"
  }
 },
 "nbformat": 4,
 "nbformat_minor": 5
}
