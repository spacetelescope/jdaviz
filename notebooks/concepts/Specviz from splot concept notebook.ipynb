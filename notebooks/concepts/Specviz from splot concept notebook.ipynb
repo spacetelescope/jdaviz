{
 "cells": [
  {
   "cell_type": "markdown",
   "metadata": {},
   "source": [
    "This notebook's goal is to present a concept notebook of specviz, using workflows from the [IRAF splot tool](https://iraf.net/irafhelp.php?val=splot&help=Help+Page).  The feature/workflow list for splot came from a [trello board](https://trello.com/b/glMEUlE3/iraf-splot-feature-list), but the features are copied here to frame this notebook. Note also there is discussion of some of this notebook's features in the corresponding Github Pull Request: https://github.com/spacetelescope/jdaviz/pull/133"
   ]
  },
  {
   "cell_type": "markdown",
   "metadata": {},
   "source": [
    "This notebook is organized around broad themes of planned `specviz` features, and how they address specific SPLOT functionality.  All SPLOT functionality is listed here, although at the end several features are listed as \"not to be implemented\".\n",
    "\n",
    "Also note that most feattures in this notebook are divided into sections: \n",
    "1. A specification of how this can/should be accomplished \"in the notebook\".  It is important to recognize that \"in the notebook\" assumes there is an active specviz session somewhere in the notebook that is used as the \"hub\" for operations, even when the operations are all Python functions that do not directly require interactivity. \n",
    "2. The desktop interface - this is more focused on \"quick look\" type behavior.\n",
    "3. The MAST interface - this is only highlighted where distinct points need to be made from 1 or 2 (which otherwise overlap a lot)."
   ]
  },
  {
   "cell_type": "markdown",
   "metadata": {},
   "source": [
    "# Loading data/creating specviz:"
   ]
  },
  {
   "cell_type": "markdown",
   "metadata": {},
   "source": [
    "Spectra to be loaded in specviz should be compatible with `Spectrum1D`, which should be viewed as the prime \"input\" to `specviz`.  \n",
    "\n",
    "1.  This means that in the notebook, `Spectrum1D` loaders can be used directly:"
   ]
  },
  {
   "cell_type": "code",
   "execution_count": null,
   "metadata": {},
   "outputs": [],
   "source": [
    "import specutils\n",
    "\n",
    "spec_url = 'https://dr14.sdss.org/optical/spectrum/view/data/format=fits/spec=lite?plateid=1323&mjd=52797&fiberid=12'\n",
    "spec = specutils.Spectrum1D.read(spec_url)"
   ]
  },
  {
   "cell_type": "markdown",
   "metadata": {},
   "source": [
    "This spectrum should then be natively read by the specviz helper object (for more on the \"helper\" concept, see [jdaviz#104](https://github.com/spacetelescope/jdaviz/issues/104#issuecomment-624740003)) using a relevant method:"
   ]
  },
  {
   "cell_type": "code",
   "execution_count": null,
   "metadata": {},
   "outputs": [],
   "source": [
    "import jdaviz\n",
    "\n",
    "specviz = jdaviz.Specviz()\n",
    "specviz.load_data(spec)\n",
    "\n",
    "specviz  # <- could also be specviz.show(), but in the end it's just a wrapper in `Specviz._repr_html_`"
   ]
  },
  {
   "cell_type": "markdown",
   "metadata": {},
   "source": [
    "    Note that this should automatically select the `.flux` part of the spectrum in the viewer at the time `load_data` is called, *not* require the user to do something to load that spectrum. The resulting spectrum should be a plot of the `flux` in \"bin\" form, since for JWST the \"flux in bins\" interpretation of spectra is preferred.  (There should eventually be an option to show it as a connected line, but that's not mandatory initially.)\n",
    "    \n",
    "    To show what *should* pop up in the above cell, below I create a glue viewer that resembles what the expected specviz main window should show. The actual application will have additional features like the plugin tray and data loading via the UI, but this shows the primary science-focused interaction space (the spectrum itself):"
   ]
  },
  {
   "cell_type": "code",
   "execution_count": 9,
   "metadata": {},
   "outputs": [
    {
     "name": "stdout",
     "output_type": "stream",
     "text": [
      "FYI: glupyter version: 0.2.dev143+g99ecd9e\n"
     ]
    },
    {
     "data": {
      "application/vnd.jupyter.widget-view+json": {
       "model_id": "863ca3ff7d3245c49336e9fd1fd48939",
       "version_major": 2,
       "version_minor": 0
      },
      "text/plain": [
       "Html(children=[Toolbar(children=[ToolbarItems(children=[BasicJupyterToolbar(children=[Tooltip(bottom=True, chi…"
      ]
     },
     "metadata": {},
     "output_type": "display_data"
    },
    {
     "data": {
      "text/plain": [
       "<glue_jupyter.bqplot.profile.viewer.BqplotProfileView at 0x7fd34569edf0>"
      ]
     },
     "execution_count": 9,
     "metadata": {},
     "output_type": "execute_result"
    }
   ],
   "source": [
    "# THIS CELL IS FOR ILLUSTRATION OF WHAT THE UI LOOKS LIKE FOR EXPLAINING THE CONCEPTS, NOT INTENDED AS AN ACTUAL NOTEBOOK API FOR USERS.  IT PROBABLY NEEDS TO BE EXECUTED TO ACTUALLY SHOW ANYTHING THOUGH\n",
    "import glue_jupyter\n",
    "print('FYI: glupyter version:', glue_jupyter.__version__)\n",
    "from glue_jupyter import jglue\n",
    "from astropy.io import fits\n",
    "\n",
    "app = jglue()\n",
    "data = app.add_data(spectrum=spec)\n",
    "viewer = app.profile1d(data='spectrum')\n",
    "viewer"
   ]
  },
  {
   "cell_type": "markdown",
   "metadata": {},
   "source": [
    "    There also needs to be some way to load from a file path. This should use the exact same mechanism but use a file path or URL:"
   ]
  },
  {
   "cell_type": "code",
   "execution_count": null,
   "metadata": {},
   "outputs": [],
   "source": [
    "specviz.load_data(spec_url)  #<- auto-downloads from the internet\n",
    "\n",
    "# downalod to a local file and load it by name\n",
    "!wget --content-disposition $spec_url\n",
    "specviz.load_data('spec-1323-52797-0012.fits') "
   ]
  },
  {
   "cell_type": "markdown",
   "metadata": {},
   "source": [
    "    Internally this should do the same as loading the `Spectrum1D` - i.e. first convert it to `Spectrum1D` using `read` and then load it into glue/jdaviz. That way the user can know exactly what is happening when they do it with a GUI button or at the command line."
   ]
  },
  {
   "cell_type": "markdown",
   "metadata": {},
   "source": [
    "2. In the UI, the above should be possible using the \"open\" or \"import data\" button - the intention would be for it to all behave just as described above, but via a file browser (or command-line file path) instead of via a notebook method call. Note that this means for the *first* spectrum imported (either from the command-line or the \"import\" button) will automatically appear a la `load_data`, but see below for the behavior for additional spectra."
   ]
  },
  {
   "cell_type": "markdown",
   "metadata": {},
   "source": [
    "### Multiple spectra in one `specviz` "
   ]
  },
  {
   "cell_type": "markdown",
   "metadata": {},
   "source": [
    "Because glupyter/glue support multiple data being loaded at the same time, it should also be possible to load data even if it's not all getting displayed initially.\n",
    "\n",
    "1.  In the notebook this is just a different method that otherwise behaves the same as `load_data`, just doesn't replace what's being shown - E.g.,"
   ]
  },
  {
   "cell_type": "code",
   "execution_count": null,
   "metadata": {},
   "outputs": [],
   "source": [
    "specviz.add_data('some_other_spectrum.fits') #<- this would do exactly the same as `load_data` but just not show it\n",
    "# OR \n",
    "specviz.add_data('some_other_spectrum.fits', show=True)  #<- this would automatically add the flux as a new layer in the UI"
   ]
  },
  {
   "cell_type": "markdown",
   "metadata": {},
   "source": [
    "The inputs to `add_data` could also be a list/iterable, which then just does the above operation over every element of the list."
   ]
  },
  {
   "cell_type": "markdown",
   "metadata": {},
   "source": [
    "2. In the UI, if the user does \"import data\" a second time (meaning \"any time there is already some other data loaded\"), the equivalent of `add_data` happens, but this should pop up a notification for the user that says something like \"load successful. mark checkbox to see in viewer\"."
   ]
  },
  {
   "cell_type": "markdown",
   "metadata": {},
   "source": [
    "## Uncertainties/mask"
   ]
  },
  {
   "cell_type": "markdown",
   "metadata": {},
   "source": [
    "If the `Spectrum1D` object loaded contains an uncertainty and/or mask attribute, these should be loaded into glue when `load_data` is called.  However, by default only the spectrum itself should be *shown* at that time. The user can show it later using standard `jdaviz` interactions if desired. We *may* wish some syntactic convenience for the notebook as well - e.g.:"
   ]
  },
  {
   "cell_type": "code",
   "execution_count": null,
   "metadata": {},
   "outputs": [],
   "source": [
    "specviz.show_uncertainty()\n",
    "specviz.show_mask()"
   ]
  },
  {
   "cell_type": "markdown",
   "metadata": {},
   "source": [
    "There are different possible ways to show these components of the spectrum.  As a starting point, uncertainties may be best shown as a partially-transparent 1-$\\sigma$ shaded band surrounding the spectrum.  An alternative (which might be preferred, or used as an option based on user testing) is to use (stem-less?) error bars, but the shaded band should be implemented initially.\n",
    "\n",
    "The starting point for showing a spectrum's mask is to have masked data points not be part of the spectrum itself (i.e. the spectrum \"bins\" should skip over them) but have a colored \"X\" for where the masked point would have been if it were not masked.  An alternative (to be implemented or not following user testing) is to use a shaded red vertical band.\n",
    "\n",
    "(For both the color should be the same color as the spectrum itself.)"
   ]
  },
  {
   "cell_type": "markdown",
   "metadata": {},
   "source": [
    "## Accessing the spectrum\n",
    "\n",
    "(only relevant for notebook/developer usage) - When a single spectrum is loaded using `load_data`, it should be easy to get that spectrum back again.  E.g.,"
   ]
  },
  {
   "cell_type": "code",
   "execution_count": null,
   "metadata": {},
   "outputs": [],
   "source": [
    "spec = specviz.visible_spectrum  #<- a Spectrum1D object\n",
    "spec.flux, spec.uncertainty, ..."
   ]
  },
  {
   "cell_type": "markdown",
   "metadata": {},
   "source": [
    "However, this is ambiguous if multiple spectra are loaded (see the `add_data` discussion above). Addressing this ambiguity would be possible using the glue-level names associated with these data:"
   ]
  },
  {
   "cell_type": "code",
   "execution_count": null,
   "metadata": {},
   "outputs": [],
   "source": [
    "spec = specviz.app.get_viewer_data('spectrum-with-some-name')  #<- this is a single spectrum because it was requested *by name* following the glue convention"
   ]
  },
  {
   "cell_type": "markdown",
   "metadata": {},
   "source": [
    "To make this easier for users who don't know/care about the glue internals, the helper can have an accessor to just get all the spectrum that currently appear:"
   ]
  },
  {
   "cell_type": "code",
   "execution_count": null,
   "metadata": {},
   "outputs": [],
   "source": [
    "specs = specviz.get_viewer_data()\n",
    "spec = specs[0]  #<- this is a Spectrum1D"
   ]
  },
  {
   "cell_type": "markdown",
   "metadata": {},
   "source": [
    "The `visible_spectrum` above would then be basically a shortcut for `specviz.get_viewer_data()[0]`, although it *might* also raise an exception if more than one spectrum is showing as a way for the user to be cued into the idea that they need to account for the possibility of multiple spectrum being shown.\n",
    "\n",
    "So then in the below, `specviz.visible_spectrum` is used for simplicity, but it should all work the same if `specviz.get_viewer_data()[0]` is substituted."
   ]
  },
  {
   "cell_type": "markdown",
   "metadata": {},
   "source": [
    " ## SPLOT commands addressed by data loading operations "
   ]
  },
  {
   "cell_type": "markdown",
   "metadata": {},
   "source": [
    "### Options: images\n",
    "\n",
    "*Description*:\n",
    "\n",
    "The actual spectrum file that gets loaded when splot starts.\n",
    "\n",
    "*Note* \"images\" here is a term SPLOT uses which seems to imply 2d spectra or cubes, but in this context means roughly \"a fits file with spectra in it\"."
   ]
  },
  {
   "cell_type": "markdown",
   "metadata": {},
   "source": [
    "### g -- get another spectrum\n",
    "\n",
    "*Description*:\n",
    "\n",
    "The current spectrum is replaced by the\n",
    "        new  spectrum.   The  aperture/line  and  band  are  queried  is \n",
    "        necessary.\n"
   ]
  },
  {
   "cell_type": "markdown",
   "metadata": {},
   "source": [
    "### Query: next_image\n",
    "\n",
    "*Description*:\n",
    "\n"
   ]
  },
  {
   "cell_type": "markdown",
   "metadata": {},
   "source": [
    "# Zoom/Pan\n",
    "\n",
    "The UI should support standard plot interaction options, including:\n",
    "\n",
    "* Zooming *vertically* (without zooming horizontally)\n",
    "* Zooming *horizontally* (without zooming vertically)\n",
    "* A \"reset to initial view\" option - i.e., show the whole spectrum.\n",
    "* Box-select zooming (implicitly also panning)\n",
    "* Standard \"hand\"/touch-style panning\n",
    "* Center view on click/keystroke (optional/lower priority)"
   ]
  },
  {
   "cell_type": "markdown",
   "metadata": {},
   "source": [
    "### Explicily specifying limits\n",
    "\n",
    "There should also be a way to manually set the plot limits:\n",
    "\n",
    "1. In the notebook - e.g.:"
   ]
  },
  {
   "cell_type": "code",
   "execution_count": null,
   "metadata": {},
   "outputs": [],
   "source": [
    "specviz.y_limits = (0, 1000) # <- uses whatever the current units are\n",
    "\n",
    "# note this is already available as part of the glue viewer, so this should be syntactic sugar for something like:\n",
    "specviz.spectrum_viewer.state.y_min = 0\n",
    "specviz.spectrum_viewer.state.y_max = 1000"
   ]
  },
  {
   "cell_type": "markdown",
   "metadata": {},
   "source": [
    "    The notebook interface should also understand units.  That is, this should set the view to 5000 - 7000 angstroms regardless of what units the spectrum itself is in:"
   ]
  },
  {
   "cell_type": "code",
   "execution_count": null,
   "metadata": {},
   "outputs": [],
   "source": [
    "from astropy import units as u\n",
    "\n",
    "specviz.x_limits = (5000*u.angstrom, 7000*u.angstrom)\n",
    "\n",
    "# if possible this should *also* defer to glue for unit-handling, but if that is non-trivial it could be part of the helper class"
   ]
  },
  {
   "cell_type": "markdown",
   "metadata": {},
   "source": [
    "    The above should *also* support `SpectralRegion`s as a convenience.  E.g., the above should be the same as:"
   ]
  },
  {
   "cell_type": "code",
   "execution_count": null,
   "metadata": {},
   "outputs": [],
   "source": [
    "region = specutils.SpectralRegion(5000*u.angstrom, 7000*u.angstrom)\n",
    "specviz.x_limits = region"
   ]
  },
  {
   "cell_type": "markdown",
   "metadata": {},
   "source": [
    "    Closely related, it should be possible to \"flip\" the x-axis.  With manual specification this should be as simple as:"
   ]
  },
  {
   "cell_type": "code",
   "execution_count": null,
   "metadata": {},
   "outputs": [],
   "source": [
    "specviz.x_limits = (7000*u.angstrom, 5000*u.angstrom)"
   ]
  },
  {
   "cell_type": "markdown",
   "metadata": {},
   "source": [
    "    But it might also be useful to have a convenience:"
   ]
  },
  {
   "cell_type": "code",
   "execution_count": null,
   "metadata": {},
   "outputs": [],
   "source": [
    "specviz.flip_x()"
   ]
  },
  {
   "cell_type": "markdown",
   "metadata": {},
   "source": [
    "Note that an option to flip the x-axis is [ALREADY IMPLEMENTED] in glupyter, but the above may be convenient syntactic sugar"
   ]
  },
  {
   "cell_type": "markdown",
   "metadata": {},
   "source": [
    "2. In the UI, in general the above should use glue/bqplot's native controls for this, and this functionality should be added where it does not exist (although unit-specification support might be complex enough to treat as a stretch goal for the UI)."
   ]
  },
  {
   "cell_type": "markdown",
   "metadata": {},
   "source": [
    "#### Autoscaling:"
   ]
  },
  {
   "cell_type": "markdown",
   "metadata": {},
   "source": [
    "There should also be autoscale options which means \"go from the beginning to end\".  \n",
    "\n",
    "1. In the notebook, this might be as simple as:"
   ]
  },
  {
   "cell_type": "code",
   "execution_count": null,
   "metadata": {},
   "outputs": [],
   "source": [
    "specviz.reset_view()\n",
    "\n",
    "#which should be equivalent to:\n",
    "\n",
    "specviz.x_limits = 'auto'\n",
    "specviz.y_limits = 'auto'\n",
    "\n",
    "# or similar"
   ]
  },
  {
   "cell_type": "markdown",
   "metadata": {},
   "source": [
    "    Additionally, to address the SPLOT `b` command use case, it should be possible to do:"
   ]
  },
  {
   "cell_type": "code",
   "execution_count": null,
   "metadata": {},
   "outputs": [],
   "source": [
    "specviz.y_limits = (0, 'auto')"
   ]
  },
  {
   "cell_type": "markdown",
   "metadata": {},
   "source": [
    "    Which would mean \"go from 0 to wherever the highest y value is in the spectrum\""
   ]
  },
  {
   "cell_type": "markdown",
   "metadata": {},
   "source": [
    "    Additionally, autoscaling might be better done as a method, because we may want more complicated ways of doing autoscaling:"
   ]
  },
  {
   "cell_type": "code",
   "execution_count": null,
   "metadata": {},
   "outputs": [],
   "source": [
    "specviz.autoscale_y()  #<- same as above\n",
    "specivz.autoscale_y(sigma_clipping=True)  #<- y-scale using sigma-clipping to get the range to view - useful when a spectrum has a few artifact outliers  "
   ]
  },
  {
   "cell_type": "markdown",
   "metadata": {},
   "source": [
    "2. These notebook commands should eventually be exposed in the UI, probably via a plugin, although those using the glue machinery will already be available via glue itself."
   ]
  },
  {
   "cell_type": "markdown",
   "metadata": {},
   "source": [
    "## SPLOT commands addressed by pan/zoom:"
   ]
  },
  {
   "cell_type": "markdown",
   "metadata": {},
   "source": [
    "### a -- Expand and autoscale to the data range between two cursor positions\n",
    "\n",
    "*Description*:\n",
    "\n"
   ]
  },
  {
   "cell_type": "markdown",
   "metadata": {},
   "source": [
    "### b -- Set the plot base level to zero rather than autoscaling\n",
    "\n",
    "*Description*:\n",
    "\n"
   ]
  },
  {
   "cell_type": "markdown",
   "metadata": {},
   "source": [
    "### c -- clear all windowing and redraw the current full spectrum.\n",
    "\n",
    "*Description*:\n",
    "\n",
    "Clear  all windowing and redraw the full current spectrum.  This\n",
    "        redraws the spectrum and cancels any effects of  the  'a',  'z',\n",
    "        and  'w'  keys.  The 'r' key is used to redraw the spectrum with\n",
    "        the current windowing.\n",
    "    \n"
   ]
  },
  {
   "cell_type": "markdown",
   "metadata": {},
   "source": [
    "### r -- Redraw  the  spectrum with the current windowing.\n",
    "\n",
    "*Description*:\n",
    "\n",
    "Redraw  the  spectrum with the current windowing.  To redraw the\n",
    "        full spectrum and cancel any windowing use the 'c' key."
   ]
  },
  {
   "cell_type": "markdown",
   "metadata": {},
   "source": [
    "### w -- window the graph\n",
    "\n",
    "*Description*:\n",
    "\n",
    "Window the graph.  For further help type '?'  to  the  \"window:\"\n",
    "        prompt  or  see  help under \u000egtools\u000f.  To cancel the windowing use\n",
    "        'a'."
   ]
  },
  {
   "cell_type": "markdown",
   "metadata": {},
   "source": [
    "### z -- Zoom the graph by a factor of 2 in x.\n",
    "\n",
    "*Description*:\n",
    "\n"
   ]
  },
  {
   "cell_type": "markdown",
   "metadata": {},
   "source": [
    "### , -- Shift the graph window to the left.\n",
    "\n",
    "*Description*:\n",
    "\n"
   ]
  },
  {
   "cell_type": "markdown",
   "metadata": {},
   "source": [
    "### . -- Shift the graph window to the right.\n",
    "\n",
    "*Description*:\n",
    "\n"
   ]
  },
  {
   "cell_type": "markdown",
   "metadata": {},
   "source": [
    "### Options: wcreset\n",
    "\n",
    "*Description*:\n",
    "\n",
    "Option \n",
    "        \"wreset\"  resets  the  graph  limits  to  those specified by the\n",
    "        \u000exmin\u000f, \u000exmax\u000f, \u000eymin\u000f, \u000eymax\u000f parameters whenever  a  new  spectrum  is\n",
    "        plotted.  "
   ]
  },
  {
   "cell_type": "markdown",
   "metadata": {},
   "source": [
    "### Options: flip\n",
    "\n",
    "*Description*:\n",
    "\n",
    "The  \"flip\" option selects that initially the spectra\n",
    "        be plotted with decreasing  wavelengths. "
   ]
  },
  {
   "cell_type": "markdown",
   "metadata": {},
   "source": [
    "### Options: auto\n",
    "\n",
    "*Description*:\n",
    "\n",
    "Option  \"auto\"\n",
    "        automatically  replots  the  graph  whenever  changes  are made.\n",
    "        Otherwise the graph is replotted with  keystrokes  'c'  or  'r'."
   ]
  },
  {
   "cell_type": "markdown",
   "metadata": {},
   "source": [
    "### Options: zero\n",
    "\n",
    "*Description*:\n",
    "\n",
    "Option  \"zero\"  makes  the initial minimum y of the graphs occur\n",
    "        at zero.  Otherwise the limits are set  automatically  from  the\n",
    "        range  of  the  data  or  the  \u000eymin\u000f  parameter. "
   ]
  },
  {
   "cell_type": "markdown",
   "metadata": {},
   "source": [
    "### Initial limits of graph (xmim,xmax,ymin,ymax)\n",
    "\n",
    "*Description*:\n",
    "\n",
    " The  default  limits  for  the initial graph.  If INDEF then the\n",
    "        limit is determined from the range of  the  data  (autoscaling).\n",
    "        These  values  can  be changed interactively with 'w' window key\n",
    "        options or the cursor commands \":/xwindow\" and \":/ywindow\"  (see\n",
    "        \u000egtools\u000f).\n"
   ]
  },
  {
   "cell_type": "markdown",
   "metadata": {},
   "source": [
    "# Measurements over interactively-specified spectral regions"
   ]
  },
  {
   "cell_type": "markdown",
   "metadata": {},
   "source": [
    "Many science use cases depend on measurements of parts of a spectrum like spectral lines, which are most easily specified interactively in \"quick look\" situations.  Specviz should support this use case by:\n",
    "\n",
    "1. For notebooks, providing an easy way to extract SpectralRegion objects from selections made in the specviz UI. This would most straightforwardly be accomplished by making a subset selection, and then providing a way to convert that into a SpectralRegion.  E.g., if the user uses the horizontal-selection to create a subset,  they can do:"
   ]
  },
  {
   "cell_type": "code",
   "execution_count": null,
   "metadata": {},
   "outputs": [],
   "source": [
    "reg = specviz.get_selected_spectral_region()  #<- uses the \"most recent\" selection\n",
    "reg2 = specviz.get_selected_spectral_region('Subset 2')  #<- uses glue's name for the subset\n",
    "\n",
    "all_regs = specviz.get_selected_spectral_region(all=True)  #<- this would be *all* the subsets combined together into a single SpectralRegion object, which is [ALREADY IMPLEMENTED] by SpectralRegion (but not specviz).  \n",
    "# See the \"fractional_pixel_extraction\" jdaviz notebook for an example of the above"
   ]
  },
  {
   "cell_type": "markdown",
   "metadata": {},
   "source": [
    "    Note that it is critical for some use cases that the above should yield spectral regions that are correct *even to the sub-pixel*.  That is, if the user does a region selection that ends between two pixels, that should be reflected in the SpectralRegion - this means using subset *states* in glue instead of the subset itself.\n",
    "\n",
    "    These selections can now be used with standard specutils analysis functions in a notebook setting (these are [ALREADY IMPLEMENTED]):"
   ]
  },
  {
   "cell_type": "code",
   "execution_count": null,
   "metadata": {},
   "outputs": [],
   "source": [
    "specutils.analysis.line_flux(specviz.visible_spectrum, specviz.get_selected_spectral_region())\n",
    "\n",
    "specutils.analysis.equivalent_width(specviz.visible_spectrum, regions=specviz.get_selected_spectral_region())\n",
    "\n",
    "specutils.analysis.gaussian_fwhm(specviz.visible_spectrum, specviz.get_selected_spectral_region())\n",
    "\n",
    "specutils.analysis.snr(specviz.visible_spectrum, specviz.get_selected_spectral_region())"
   ]
  },
  {
   "cell_type": "markdown",
   "metadata": {},
   "source": [
    "    In addition to region selection, there is value in having a way to extract a specific point in the displayed spectrum into the notebook. (Some examples are shown below) - while there are many potential solutions to this, the simplest is a stateful/blocking \"get location\" method.  E.g.,"
   ]
  },
  {
   "cell_type": "code",
   "execution_count": null,
   "metadata": {},
   "outputs": [],
   "source": [
    "spectral_coordinate, flux_coordinate = specviz.get_marked_location()"
   ]
  },
  {
   "cell_type": "markdown",
   "metadata": {},
   "source": [
    "    This method would use a marked location that the user would mark using a special singleton marking tool. (and raise an exception if no mark is present).  This is the default thing to try first. \n",
    "    \n",
    "    An alternative (to be tried if the above does not meet user testing or is harder to implement) is to have this not be stateful but rather report on the last clicked location in the specviz plot.  Another alternative is to have a special single-pixel selection mode. Or it could be a \"blocking\" tool that locks up the kernel until the user clicks on a point (a la SPLOT)."
   ]
  },
  {
   "cell_type": "markdown",
   "metadata": {},
   "source": [
    "2. In the Desktop interface, relevant analysis functions like the above should be exposed as information plugins - when run this plugin would simply show the result of these functions as run in the latest `get_spectral_region` subset exactly as shown above but auto-update when the user creates a new/updates the current subset.\n",
    "\n",
    "    One additional related piece of functionality that should be added to the above plugins: provide a way to replicate the `e` key feature below.  That is, provide a quick way for the user to not just specify the spectral region, but also mark two points to do automatic continuum-specification.  This defines a simple linear continuum, which the plugin could subtract from and divide from the spectrum before doing the calculation desired.  How exactly the user specifies the two points is TBD, but perhaps could be a glue box-selection, or a special two-click stateful operation particular to the plugin.  \n",
    "    \n",
    "    Note that in *addition* to this there should eventually be a way to do more thorough model + continuum fitting options as outlined further below, but the emphasis here is on a quick-and-easy version like the `e` key of splot that doesn't require full understanding of continuum fitting. \n",
    "    \n",
    "3. Note that in the MAST interface, a lot of the same functionality is needed, although probably more simplified versions - to see a bit more detail see https://innerspace.stsci.edu/display/ASB/Rank+list+of+features, Functional Features - Visualization, Spectral Manipulation, and Spectral Analysis."
   ]
  },
  {
   "cell_type": "markdown",
   "metadata": {},
   "source": [
    "## SPLOT commands related to region-based measurements addressed above"
   ]
  },
  {
   "cell_type": "markdown",
   "metadata": {},
   "source": [
    "## e -- Measure equivalent width\n",
    "\n",
    "*Description*:\n",
    "\n",
    "Measure equivalent width by marking two continuum points  around\n",
    "        the  line  to  be  measured.  The linear continuum is subtracted\n",
    "        and the flux is determined by simply  summing  the  pixels  with\n",
    "        partial  pixels  at  the  ends.   Returned  values  are the line\n",
    "        center, continuum at the region center, flux above or below  the\n",
    "        continuum, and the equivalent width."
   ]
  },
  {
   "cell_type": "markdown",
   "metadata": {},
   "source": [
    "### h -- Measure  equivalent  widths assuming a gaussian profile with the         width measured at a specified point.\n",
    "\n",
    "*Description*:\n",
    "\n",
    "Measure  equivalent  widths assuming a gaussian profile with the\n",
    "        width measured at a specified point.  Note that this  is  not  a\n",
    "        gaussian  fit (see 'k' to fit a gaussian)!  The gaussian profile\n",
    "        determined here may be subtracted with the '-'  key.   A  second\n",
    "        cursor key is requested with one of the following values:\n",
    "\n",
    "        a   Mark  the  continuum  level  at  the line center and use the\n",
    "            LEFT half width at the half flux point.\n",
    "        \n",
    "        b   Mark the continuum level at the  line  center  and  use  the\n",
    "            RIGHT half width at the half flux point.\n",
    "        \n",
    "        c   Mark  the  continuum  level  at  the line center and use the\n",
    "            FULL width at the half flux point.\n",
    "        \n",
    "        l   Mark  a  flux  level  at  the  line  center  relative  to  a \n",
    "            normalized  continuum  and  use  the LEFT width at that flux\n",
    "            point.\n",
    "        \n",
    "        r   Mark  a  flux  level  at  the  line  center  relative  to  a \n",
    "            normalized  continuum  and  use the RIGHT width at that flux\n",
    "            point.\n",
    "        \n",
    "        k   Mark  a  flux  level  at  the  line  center  relative  to  a \n",
    "            normalized  continuum  and  use  the FULL width at that flux\n",
    "            point."
   ]
  },
  {
   "cell_type": "markdown",
   "metadata": {},
   "source": [
    "### m -- Compute the mean, RMS, and signal-to-noise over a region  marked         with two x cursor positions.\n",
    "\n",
    "*Description*:\n",
    "\n"
   ]
  },
  {
   "cell_type": "markdown",
   "metadata": {},
   "source": [
    "## SPACE -- prints  the  cursor  position  and value of the nearest pixel.\n",
    "\n",
    "*Description*:\n",
    "\n"
   ]
  },
  {
   "cell_type": "markdown",
   "metadata": {},
   "source": [
    "This could be exposed in the UI but in that case `jdaviz` is more consistent with a continuously-updated value instead of a \"only when a keystroke fires\" implementation.  \n",
    "\n",
    "TBD question: should it be a plugin, or (optional) part of the main UI/viewer?"
   ]
  },
  {
   "cell_type": "markdown",
   "metadata": {},
   "source": [
    "# Fitting-related functionality \n",
    "\n",
    "The below discussion includes both fitting in the sense of fitting individual spectral lines *and* continuum fitting.  Both use the same machinery, but with different appropriate models.\n",
    "\n",
    "1. For a notebook, most of the fitting-related functionality is best implemented via specutils and Astropy's model-fitting machinery applied to the specviz spectrum. All but the specviz-accessing parts are [ALREADY IMPLEMENTED]. E.g., to fit a order-12 legendre polynomial to a continuum while excluding the H$\\alpha$ region, and then using it to subtract the continuum from the existing specviz spectrum, one could do:"
   ]
  },
  {
   "cell_type": "code",
   "execution_count": 38,
   "metadata": {},
   "outputs": [],
   "source": [
    "continuum = specutils.fitting.fit_continuum(specviz.visible_spectrum, \n",
    "                                            model=astropy.modeling.models.Legendre1D(12),\n",
    "                                            exclude_regions=[specutils.SpectralRegion.from_center(6563*u.angstrom, 30*u.angstrom)])\n",
    "\n",
    "continuum_subtracted_spectrum = specviz.visible_spectrum - continuum(specviz.visible_spectrum.spectral_axis)\n",
    "\n",
    "specviz.load_data(continuum_subtracted_spectrum)"
   ]
  },
  {
   "cell_type": "markdown",
   "metadata": {},
   "source": [
    "    An almost-identical interface can be used to fit spectral lines.  For example, to fit a voigt profile to the most-recently selected subset:"
   ]
  },
  {
   "cell_type": "code",
   "execution_count": null,
   "metadata": {},
   "outputs": [],
   "source": [
    "specutils.fitting.fit_lines(specviz.visible_spectrum,\n",
    "                            astropy.modeling.models.Voigt1D(),\n",
    "                            window=specviz.get_selected_region())"
   ]
  },
  {
   "cell_type": "markdown",
   "metadata": {},
   "source": [
    "2. for the desktop interface, A fitting UI is necessary for the above steps, which is currently in-progress for cubeviz.  The same model-fitting UI should be adopted for specviz.  Missing pieces that are needed to replicate SPLOT functionality include:\n",
    "\n",
    "    * A way to generate a new spectrum in specviz that comes from subtracting a fitted continuum from the current spectrum (overlaps with the arithmetic discussion below)\n",
    "    * A way to generate a new spectrum in specviz that comes from dividing by a fitted continuum from the current spectrum (overlaps with the arithmetic discussion below)\n",
    "    * Functionality to allow sigma-clipping as part of the fitting process (bonus/stretch goal to actually *show* the clipped points)\n",
    "    * Functionality to allow manual rejection of specific points to be excluded in the fit.\n",
    "    \n",
    "    Note that the first two are available trivially from the notebook interface.  The latter two area also possible from a notebook but not necessarily easy."
   ]
  },
  {
   "cell_type": "markdown",
   "metadata": {},
   "source": [
    "## SPLOT commands around fitting addressed above"
   ]
  },
  {
   "cell_type": "markdown",
   "metadata": {},
   "source": [
    "### t -- fit a function to the spectrum.\n",
    "\n",
    "*Description*:\n",
    "\n",
    "\n",
    "Fit a function to the spectrum using the ICFIT mode.   Typically interactive  rejection is used to exclude spectra lines from the fit in order to fit a  smooth  continuum.   A  second  keystroke selects what to do with the fit.\n",
    "        \n",
    "        /   Normalize  by  the  fit.   When  fitting  the continuum this\n",
    "            continuum normalizes the spectrum.\n",
    "        \n",
    "        -  Subtract the fit.  When fitting the continuum this  continuum\n",
    "           subtracts the spectrum.\n",
    "        \n",
    "        f   Replace the spectrum by the fit.\n",
    "        \n",
    "        c   Clean  the  spectrum by replacing any rejected points by the\n",
    "            fit.\n",
    "  \n",
    "        n   Do the fitting but leave the spectrum unchanged  (a  NOP  on\n",
    "            the  spectrum).   This  is  useful to play with the spectrum\n",
    "            using the capabilities of ICFIT.\n",
    "        \n",
    "        q   Quit  and  don't  do  any  fitting.   The  spectrum  is  not \n",
    "            modified.\n"
   ]
  },
  {
   "cell_type": "markdown",
   "metadata": {},
   "source": [
    "### d -- Mark two  continuum  points  and  fit  (deblend)  multiple  line         profiles.\n",
    "\n",
    "*Description*:\n",
    "\n",
    "Detailed description in the splot help file...\n"
   ]
  },
  {
   "cell_type": "markdown",
   "metadata": {},
   "source": [
    "### k -- Mark two continuum points and fit a single  line  profile.\n",
    "\n",
    "*Description*:\n",
    "\n",
    "Mark two continuum points and fit a single  line  profile.   The\n",
    "        second  key  selects  the type of profile: g for gaussian, l for\n",
    "        lorentzian, and v for voigt.  Any other second key  defaults  to\n",
    "        gaussian.   The center, continuum at the center, core intensity,\n",
    "        integrated flux, equivalent width, and  FWHMs  are  printed  and\n",
    "        saved  in  the  log file.  See 'd' for fitting multiple profile\n",
    "        and '-' to subtract the fit."
   ]
  },
  {
   "cell_type": "markdown",
   "metadata": {},
   "source": [
    "### - -- Subtract the fit\n",
    "\n",
    "*Description*:\n",
    "\n",
    "Subtract the fits generated by the 'd'  (deblend),  'k'  (single\n",
    "        profile  fit),  and  'h'  (gaussian  of  specified  width).  The\n",
    "        region to be subtracted is marked with two cursor positions."
   ]
  },
  {
   "cell_type": "markdown",
   "metadata": {},
   "source": [
    "### Fitting: function\n",
    "\n",
    "*Description*:\n",
    "\n",
    "Function   to   be  fit  to  the  spectra.   The  functions  are \n",
    "        \"legendre\"   (legendre   polynomial),   \"chebyshev\"   (chebyshev  \n",
    "        polynomial),  \"spline1\"  (linear  spline),  and \"spline3\" (cubic\n",
    "        spline).  The functions may be abbreviated.\n"
   ]
  },
  {
   "cell_type": "markdown",
   "metadata": {},
   "source": [
    "### Fitting: order\n",
    "\n",
    "*Description*:\n",
    "\n",
    "**order**\n",
    "        The order of the polynomials or the number of spline pieces."
   ]
  },
  {
   "cell_type": "markdown",
   "metadata": {},
   "source": [
    "### Fitting: low_reject, high_reject\n",
    "\n",
    "*Description*:\n",
    "\n",
    "Rejection limits below  and  above  the  fit  in  units  of  the\n",
    "        residual  sigma.   Unequal  limits  are  used to reject spectral\n",
    "        lines on one side of the continuum during continuum fitting.\n"
   ]
  },
  {
   "cell_type": "markdown",
   "metadata": {},
   "source": [
    "### Fitting: niterate\n",
    "\n",
    "*Description*:\n",
    "\n",
    "Number of rejection iterations."
   ]
  },
  {
   "cell_type": "markdown",
   "metadata": {},
   "source": [
    "### Fitting: grow\n",
    "\n",
    "*Description*:\n",
    "\n",
    "When a pixel is rejected, pixels within  this  distance  of  the\n",
    "        rejected pixel are also rejected.\n"
   ]
  },
  {
   "cell_type": "markdown",
   "metadata": {},
   "source": [
    "### Fitting: markrej\n",
    "\n",
    "*Description*:\n",
    "\n",
    "Mark  rejected  points?   If  there  are many rejected points it\n",
    "        might be desired to not mark rejected points."
   ]
  },
  {
   "cell_type": "markdown",
   "metadata": {},
   "source": [
    "# Arithmetic-related operations "
   ]
  },
  {
   "cell_type": "markdown",
   "metadata": {},
   "source": [
    "This section deals with arithmetic between multiple spectra.\n",
    "\n",
    "1. In the notebook, this is trivial, as `Spectrum1D` objects support arithmetic.  E.g., subtracting a smoothed version of a spectrum from the spectrum and showing it can be done as:"
   ]
  },
  {
   "cell_type": "code",
   "execution_count": null,
   "metadata": {},
   "outputs": [],
   "source": [
    "specviz.load_data(specviz.visible_spectrum - box_smooth(specviz.visible_spectrum, 10))"
   ]
  },
  {
   "cell_type": "markdown",
   "metadata": {},
   "source": [
    "2. In the UI, this is potentially much more complicated, as a plugin to support arithmetic would be necessary. Such a plugin is possible, but not necessarily desirable, as part experience suggests the feature requests for this quickly spiral, suggesting simply saying \"use the notebook\" is a better answer.\n",
    "\n",
    "    Note, though: two piece of arithmetic are critical: a way to subtract a fitted continuum and a way to divide by it.  These could be implemented as part of the *fitting* plugin, however, to avoid having to write a separate arithmetic plugin for this purpose. So the baseline specviz should anclude options for subtracting/dividing by continuum in the fitting UI, and a more general arithmetic plugin (which *must* use the same underlying `specutils` machinery to not confuse users) is an option to consider later."
   ]
  },
  {
   "cell_type": "markdown",
   "metadata": {},
   "source": [
    "## SPLOT commands related to arithmetic addressed above"
   ]
  },
  {
   "cell_type": "markdown",
   "metadata": {},
   "source": [
    "### Query: Spec2\n",
    "\n",
    "*Description*:\n",
    "\n"
   ]
  },
  {
   "cell_type": "markdown",
   "metadata": {},
   "source": [
    "### Query: constant\n",
    "\n",
    "*Description*:\n",
    "\n"
   ]
  },
  {
   "cell_type": "markdown",
   "metadata": {},
   "source": [
    "### f -- Arithmetic function mode\n",
    "\n",
    "*Description*:\n",
    "\n",
    "\n",
    "Enter  arithmetic  function  mode.  This  mode allows arithmetic\n",
    "        functions to be applied to the spectrum. The  pixel  values  are\n",
    "        modified  according  to the function request and may be saved as\n",
    "        a new spectrum with the 'i' command.  Operations with  a  second\n",
    "        spectrum  are  done  in wavelength space and the second spectrum\n",
    "        is automatically resampled if necessary.   If  one  spectrum  is\n",
    "        longer  than  the  other,  only the smaller number of pixels are\n",
    "        affected.  To exit this mode type 'q'.\n",
    "        \n",
    "The keystrokes listed in the checklist are available  in  the  function  mode.\n",
    "        Binary  operations  with a constant or a second spectrum produce\n",
    "        a query for the constant value or spectrum name.\n",
    "        "
   ]
  },
  {
   "cell_type": "markdown",
   "metadata": {},
   "source": [
    "# Unit-related operations"
   ]
  },
  {
   "cell_type": "markdown",
   "metadata": {},
   "source": [
    "Because `Spectrum1D` objects carry their units and spectral axes, many of the unit operations in SPLOT are implicit by virtue of having units associated with a spectrum. Additionally `glue` natively understands the concept of world coordinates (i.e., the spectral coordinate) and corresponding pixel coordinates.  Hence SPLOT-related functionality of setting wavelengths units or scales is most straightforwardly addressed in a notebook setting:\n",
    "\n",
    "1. For example, if a user starts with a spectrum that has only pixels but wants to specify a linear wavelength axis, they can simply create one in a new Spectrum1D:"
   ]
  },
  {
   "cell_type": "code",
   "execution_count": null,
   "metadata": {},
   "outputs": [],
   "source": [
    "new_spec = specutils.Spectrum1D(flux=specviz.visible_spectrum.flux,\n",
    "                     spectral_axis=np.linspace(4000*u.angstrom,7000*u.angstrom, specviz.visible_spectrum.flux.size))\n",
    "specviz.load_data(new_spec)"
   ]
  },
  {
   "cell_type": "markdown",
   "metadata": {},
   "source": [
    "And an even simpler operation to convert the flux units:"
   ]
  },
  {
   "cell_type": "code",
   "execution_count": null,
   "metadata": {},
   "outputs": [],
   "source": [
    "specviz.load_data(specviz.visible_spectrum.new_flux_unit(u.Jy))"
   ]
  },
  {
   "cell_type": "markdown",
   "metadata": {},
   "source": [
    "To change the *display* of the spectrum using specviz is less trivial, but should be possible - while a glue-style approach is feasible:"
   ]
  },
  {
   "cell_type": "code",
   "execution_count": 59,
   "metadata": {},
   "outputs": [],
   "source": [
    "specviz.app.get_viewer().state.x_att = specviz.app.data_collection.data[0].components[0]"
   ]
  },
  {
   "cell_type": "markdown",
   "metadata": {},
   "source": [
    "A simple method that reproduces the above might be better:"
   ]
  },
  {
   "cell_type": "code",
   "execution_count": null,
   "metadata": {},
   "outputs": [],
   "source": [
    "specviz.use_pixel_axis()\n",
    "specviz.use_spectral_axis()"
   ]
  },
  {
   "cell_type": "markdown",
   "metadata": {},
   "source": [
    "2. Units should be *displayed* where available. Unit conversion in both the spectral_axis and the flux axis (including f_nu to f_lambda) should also be possible - ideally this is either the user types a unit in (using astropy units parsing), or a dropdown of common spectral units, or better yet: both (i.e. a dropdown with common units that can also be free-hand editable text - although this may or may not be an already existing vue/ipy widget?).  Note that it is a mandatory requirement that f_nu/f_lambda conversions *not* change the x-axis units unless specifically required, and therefore that this plugin support the y-axis unit conversions and x-axis conversions independently."
   ]
  },
  {
   "cell_type": "markdown",
   "metadata": {},
   "source": [
    "## SPLOT commands related to unit operations addressed above"
   ]
  },
  {
   "cell_type": "markdown",
   "metadata": {},
   "source": [
    "### $ -- Switch    between   physical   pixel   coordinates   and   world           (dispersion) coordinates.\n",
    "\n",
    "*Description*:\n",
    "\n"
   ]
  },
  {
   "cell_type": "markdown",
   "metadata": {},
   "source": [
    "### p -- define a linear wavelength scale\n",
    "\n",
    "*Description*:\n",
    "\n",
    "Define  a  linear  wavelength  scale.  The user is queried for a\n",
    "        starting  wavelength  and  an  ending  wavelength.   If   either \n",
    "        (though  not  both)  are  specified  as  INDEF  a  dispersion is\n",
    "        queried for and used  to  compute  an  endpoint.   A  wavelength\n",
    "        scale  set this way will be used for other spectra which are not\n",
    "        dispersion corrected.\n",
    "    "
   ]
  },
  {
   "cell_type": "markdown",
   "metadata": {},
   "source": [
    "### :units -- Change the coordinate units in the plot.\n",
    "\n",
    "*Description*:\n",
    "\n"
   ]
  },
  {
   "cell_type": "markdown",
   "metadata": {},
   "source": [
    "### Options: units\n",
    "\n",
    "*Description*:\n",
    "\n",
    "\n",
    "        Dispersion coordinate units for the plot.  If the  spectra  have\n",
    "        known  units,  currently  this is generally Angstroms, the units\n",
    "        may be converted to other units for  plotting  as  specified  by\n",
    "        this  task  parameter.  If this parameter is the null string and\n",
    "        the  world  coordinate  system  attribute   \"units_display\"   is \n",
    "        defined  then  that  will be used.  If both this task parameters\n",
    "        and \"units_display\" are not given then the  spectrum  dispersion\n",
    "        units   will   be   used.    The   units  may  also  be  changed \n",
    "        interactively.  See the units section of the \u000epackage\u000f help for  a\n",
    "        further description and available units.\n"
   ]
  },
  {
   "cell_type": "markdown",
   "metadata": {},
   "source": [
    "### l -- convert to f-lambda\n",
    "\n",
    "*Description*:\n",
    "\n",
    "Convert to flux per unit wavelength (f-lambda). The spectrum  is\n",
    "        assumed  to  be  flux  calibrated  in  flux  per  unit frequency\n",
    "        (f-nu).  See also 'n'."
   ]
  },
  {
   "cell_type": "markdown",
   "metadata": {},
   "source": [
    "### n -- convert to fnu\n",
    "\n",
    "*Description*:\n",
    "\n"
   ]
  },
  {
   "cell_type": "markdown",
   "metadata": {},
   "source": [
    "# Redshifting, line lists, and related spectral coordinate shifts "
   ]
  },
  {
   "cell_type": "markdown",
   "metadata": {},
   "source": [
    "There should be a redshift slider (optional?) somewhere in the specviz UI.  This slider should update the redshift/radial_velocity recorded in the spectrum's `.spectral_axis.redshift`/.spectral_axis.radial_velocity` attributes.\n",
    "\n",
    "1. In the notebook these can be accessed directly as informational items:"
   ]
  },
  {
   "cell_type": "code",
   "execution_count": null,
   "metadata": {},
   "outputs": [],
   "source": [
    "specviz.visible_spectrum.redshift, specviz.visible_spectrum.radial_velocity"
   ]
  },
  {
   "cell_type": "markdown",
   "metadata": {},
   "source": [
    "    Similarly, the functionality of the `u` and `v` keys are also available in the notebook as long as the pixel location under the cursor is available - e.g., to do the shift that corresponds to `u` followed by `z` and `6563` as the rest wavelength:"
   ]
  },
  {
   "cell_type": "code",
   "execution_count": null,
   "metadata": {},
   "outputs": [],
   "source": [
    "obs_wl = specviz.get_marked_location()[0]  #<- blocks until the user clicks a line\n",
    "specviz.visible_spectrum.redshift = obs_wl/6563-1"
   ]
  },
  {
   "cell_type": "markdown",
   "metadata": {},
   "source": [
    "Similar operations on `specviz.visible_spectrum.spectral_axis` allow `v` or other more complex workflows."
   ]
  },
  {
   "cell_type": "markdown",
   "metadata": {},
   "source": [
    "2. A plugin could be written to handle workflows like `u` and `v` below and have them set the redshift appropriately.  It is not clear these are common enough to need to be in a plugin as opposed to directing users to the notebook as stated above, however."
   ]
  },
  {
   "cell_type": "markdown",
   "metadata": {},
   "source": [
    "### Line lists "
   ]
  },
  {
   "cell_type": "markdown",
   "metadata": {},
   "source": [
    "While the redshift is useful contextual information, it is most important when used to identify spectral lines.  For this purpose the user needs to be able to input line lists appropriate for their science case. The below describe how to specify such line lists, but regardless the intent is for the user to then see those lines displayed in `specviz`, redshifted to wherver they should be given the value of the `.redshift`/`.radial_velocity` attribute.\n",
    "\n",
    "1. In the notebook line lists should be loadable straightforwardly as astropy tables with spectrally-appropriate units.  The most straightforward option is to consume any table that has 'linename' and 'rest' columns:"
   ]
  },
  {
   "cell_type": "code",
   "execution_count": null,
   "metadata": {},
   "outputs": [],
   "source": [
    "linelist_table = astropy.table.Table()\n",
    "linelist_table['linename'] = ['Halpha', 'Hbeta']\n",
    "linelist_table['rest'] = [6563, 4862]*u.angstrom\n",
    "linelist_table['more information'] = ...\n",
    "\n",
    "specviz.load_linelist(linelist_table)"
   ]
  },
  {
   "cell_type": "markdown",
   "metadata": {},
   "source": [
    "2. In the UI, either a plugin or a pane specifically dedicated to this (perhaps associated with the \"redshift\" slider?) should present a few options: a \"galaxies\" linelist, a \"stars\" linelist, and a \"load file...\" option.  The first two would be curated lists (ideally in `specutils` but could be in `jdaviz`), while \"load file...\" would prompt the user for a file, which would then be read as `astropy.table.Table.read('/path/to/file')`.  This ensures the same line list tables can be used in the notebook and the UI setting."
   ]
  },
  {
   "cell_type": "markdown",
   "metadata": {},
   "source": [
    "Regardless of the above, in the end vertical lines should appear at the locations specified in `'rest'`, and the UI should have at least a few styling options exposed (although that may be a lower-priority stretch goal in detail)."
   ]
  },
  {
   "cell_type": "markdown",
   "metadata": {},
   "source": [
    "### Marking lines\n",
    "\n",
    "Relatedly, there should be a way to quickly and easily mark a specific point in a spectrum and say \"find the line near here\".\n",
    "\n",
    "1. In the notebook this should be a method that follows the some workflow as the `get_marked_location` mentioned above, but combined with the `find_lines` and `centroid` functions in `specutils`.  E.g., the user would do something like:"
   ]
  },
  {
   "cell_type": "code",
   "execution_count": null,
   "metadata": {},
   "outputs": [],
   "source": [
    "line_center = specviz.mark_line(name='Halpha', line_finding_window=50*u.angstrom, ...other options for `find_lines` or `centroid`)"
   ]
  },
  {
   "cell_type": "markdown",
   "metadata": {},
   "source": [
    "    Which would then use find_lines to get a first guess and `centroid` to identify the center.  This would then get registered in specviz as one of the lines in this spectrum, which would allow something like:"
   ]
  },
  {
   "cell_type": "code",
   "execution_count": null,
   "metadata": {},
   "outputs": [],
   "source": [
    "z = specviz.guess_redshift_from_lines()\n",
    "spec.redshift = z"
   ]
  },
  {
   "cell_type": "markdown",
   "metadata": {},
   "source": [
    "    Which would find which marked lines match the linelist and use that to produce an estimate of the redshift. Note that this should all be \"syntactic sugar\" and clearly indicate in the docstring how the user might reproduce this workflow on their own if they want to e.g. use their own `centroid` function that works best for their specific data."
   ]
  },
  {
   "cell_type": "markdown",
   "metadata": {},
   "source": [
    "2. The above workflow should be available in a plugin for redshifting, which might *also* have options for x-corr redshifting (details of that TBD, but it is logically closely connected)."
   ]
  },
  {
   "cell_type": "markdown",
   "metadata": {},
   "source": [
    "### Rest/observed conversions\n",
    "\n",
    "Another important use case after the above are addressed is the ability to show a \"rest-frame\" x-axis.\n",
    "\n",
    "1. In the notebook, `specutils.spectral_axis` is now a `SpectralCoord` object that [already understands rest/observed conversions](https://docs.astropy.org/en/latest/coordinates/spectralcoord.html#reference-frame-transformations). For operations that require the rest x-axis, this should just require:"
   ]
  },
  {
   "cell_type": "code",
   "execution_count": null,
   "metadata": {},
   "outputs": [],
   "source": [
    "rest_axis = spec.spectral_axis.to_rest()\n",
    "... do something with rest_axis ..."
   ]
  },
  {
   "cell_type": "markdown",
   "metadata": {},
   "source": [
    "2. In the UI there should should be a toggle box somewhere to toggle between rest and observed.  This would use the `SpectralCoord` machinery exactly as shown above, updated as the redshift slider is moved.  A better alternative is to show *both* the rest and observed on the top and bottom, but that is not mandatory if it is technically difficult. Either way, the toggle of the UI state should also be accessible via a convenient helper along the lines of:"
   ]
  },
  {
   "cell_type": "code",
   "execution_count": null,
   "metadata": {},
   "outputs": [],
   "source": [
    "specviz.show_rest_spectral_axis()\n",
    "specviz.show_observed_spectral_axis()"
   ]
  },
  {
   "cell_type": "markdown",
   "metadata": {},
   "source": [
    "(And the vertical lines for any loaded line list then should appear at their appropriate *rest* locations)"
   ]
  },
  {
   "cell_type": "markdown",
   "metadata": {},
   "source": [
    "## SPLOT commands related to redshifting operations addressed above"
   ]
  },
  {
   "cell_type": "markdown",
   "metadata": {},
   "source": [
    "### u -- Adjust  the user coordinate scale.\n",
    "\n",
    "*Description*:\n",
    "\n",
    "Adjust  the user coordinate scale.  There are three options, 'd' mark a position with the  cursor  and  doppler  shift  it  to  a specified  value,  'z'  mark  a  position  with  the  cursor and zeropoint shift it  to  a  specified  value,  or  'l'  mark  two positions   and   enter   two  values  to  define  a  linear  (in  wavelength) dispersion scale.  The  units  used  for  input  are those  currently  displayed.   A  wavelength  scale set this way will  be  used  for  other  spectra  which  are  not  dispersion  corrected."
   ]
  },
  {
   "cell_type": "markdown",
   "metadata": {},
   "source": [
    "### v -- Toggle  to  a velocity scale using the position of the cursor as         the velocity origin and back.\n",
    "\n",
    "*Description*:\n",
    "\n"
   ]
  },
  {
   "cell_type": "markdown",
   "metadata": {},
   "source": [
    "# Functionality for multidimensional spectra\n",
    "\n",
    "SPLOT includes functionality (partly from broader IRAF) for doing spectral operations on multidimensional arrays like \"2d\" spectra or data cubes.  This is intentionally not a target for `specviz` so it is not a priority of the UI. Instead, `mosviz` and `cubeviz` target such datasets.  \n",
    "\n",
    "That said, much of the multidimensional SPLOT workflows can be addressed from the notebook by slicing spectrum objects (this does not address 2d or cube views, but SPLOT does not either):"
   ]
  },
  {
   "cell_type": "code",
   "execution_count": null,
   "metadata": {},
   "outputs": [],
   "source": [
    "import numpy as np\n",
    "spectrum2d = np.random.randn(50, 1024) # A fake \"2d spectrum\" to approximate a 50-pixel slit with 1024 spectral pixels along columns\n",
    "\n",
    "spec = specutils.Spectrum1D(spectral_axis=np.arange(1024)*u.pixel,\n",
    "                            flux=spectrum2d[25]*u.adu)\n",
    "specviz.load_data(spec)"
   ]
  },
  {
   "cell_type": "markdown",
   "metadata": {},
   "source": [
    "Or alternatively, if a data cube or other construct can be loaded as a `SpectrumCollection`, it could simply be loaded as:"
   ]
  },
  {
   "cell_type": "code",
   "execution_count": null,
   "metadata": {},
   "outputs": [],
   "source": [
    "speccoll = specutils.SpectrumCollection.read('...') # assume this is a 50x50xn_spec data cube\n",
    "\n",
    "specviz.load_data(speccoll[20, 30])  # shows the 20, 30th spaxel"
   ]
  },
  {
   "cell_type": "markdown",
   "metadata": {},
   "source": [
    "The above could potentially be exposed as part of a custom file-loading UI for the desktop tool, but it is not clear that this is a priority so should probably be considered a \"nice to have\" or \"stretch goal\"."
   ]
  },
  {
   "cell_type": "markdown",
   "metadata": {},
   "source": [
    "## SPLOT commands addressed by multidimensional loading or mosviz"
   ]
  },
  {
   "cell_type": "markdown",
   "metadata": {},
   "source": [
    "### Options: line and band: \n",
    "\n",
    "*Description*:\n",
    "\n",
    "One  may  use  an         image  section to select a desired column, line, or band\n",
    "\n",
    "**line, band**\n",
    "        The  image  line/aperture  and  band  to  plot  in  two or three\n",
    "        dimensional images.   For  multiaperture  spectra  the  aperture\n",
    "        specified  by  the  line  parameter  is  first sought and if not\n",
    "        found the specified image  line  is  selected.   For  other  two\n",
    "        dimensional   images,  such  as  long  slit  spectra,  the  line \n",
    "        parameter specifies a line or column.  Note  that  if  the  line\n",
    "        and  band  parameters  are specified on the command line it will\n",
    "        not be possible to change them interactively.\n"
   ]
  },
  {
   "cell_type": "markdown",
   "metadata": {},
   "source": [
    "### ( -- In multiaperture spectra go to the  spectrum  in  the  preceding         image  line.\n",
    "\n",
    "*Description*:\n",
    "\n",
    "In multiaperture spectra go to the  spectrum  in  the  preceding\n",
    "        image  line.   If  there  is only one line go to the spectrum in\n",
    "        the preceding band."
   ]
  },
  {
   "cell_type": "markdown",
   "metadata": {},
   "source": [
    "### ) -- In multiaperture spectra go to the  spectrum  in  the  following         image  line.\n",
    "\n",
    "*Description*:\n",
    "\n",
    "In multiaperture spectra go to the  spectrum  in  the  following\n",
    "        image  line.   If  there  is only one line go to the spectrum in\n",
    "        the following band."
   ]
  },
  {
   "cell_type": "markdown",
   "metadata": {},
   "source": [
    "### q -- quit and go to the next input spectrum\n",
    "\n",
    "*Description*:\n",
    "\n",
    "Quit and go on to next input spectrum.  After the last  spectrum\n",
    "        exit."
   ]
  },
  {
   "cell_type": "markdown",
   "metadata": {},
   "source": [
    "### # -- Get  a  different  line  in   multiaperture   spectra   or   two          dimensional images.\n",
    "\n",
    "*Description*:\n",
    "\n",
    "Get  a  different  line  in   multiaperture   spectra   or   two \n",
    "        dimensional images.  The aperture/line/column is queried."
   ]
  },
  {
   "cell_type": "markdown",
   "metadata": {},
   "source": [
    "### % -- Get a different band in a three dimensional image.\n",
    "\n",
    "*Description*:\n",
    "\n"
   ]
  },
  {
   "cell_type": "markdown",
   "metadata": {},
   "source": [
    "### :dispaxis <val> -- Show or change dispersion axis for 2D images.\n",
    "\n",
    "*Description*:\n",
    "\n"
   ]
  },
  {
   "cell_type": "markdown",
   "metadata": {},
   "source": [
    "### :sum -- Show or change summing for 2D images.\n",
    "\n",
    "*Description*:\n",
    "\n"
   ]
  },
  {
   "cell_type": "markdown",
   "metadata": {},
   "source": [
    "# Other implemented/to-implement SPLOT functionality"
   ]
  },
  {
   "cell_type": "markdown",
   "metadata": {},
   "source": [
    "## Options: histogram\n",
    "\n",
    "*Description*:\n",
    "\n",
    "Option \"histogram\"  plots  the  spectra  in  a  histogram  style\n",
    "        rather  than  connecting  the  pixel  centers. "
   ]
  },
  {
   "cell_type": "markdown",
   "metadata": {},
   "source": [
    "### Specviz Solution\n",
    "\n",
    "`specviz` should default to histogram style (although there's some disagreement about this), and it's a \"nice to have\" option to be able to toggle between that and line-connected style.  But either way this is non-critical."
   ]
  },
  {
   "cell_type": "markdown",
   "metadata": {},
   "source": [
    "## : log, nolog -- Enable/Disable  logging  of  measurements  to  the file specified by the parameter save_file.\n",
    "\n",
    "*Description*:\n",
    "\n"
   ]
  },
  {
   "cell_type": "markdown",
   "metadata": {},
   "source": [
    "### Options: save_file\n",
    "\n",
    "*Description*:\n",
    "\n",
    "save_file\n",
    "        The  file  to  contain  any  results generated by the equivalent\n",
    "        width or deblending functions.  Results are added to  this  file\n",
    "        until  the  file is deleted.  If the filename is null (\"\"), then\n",
    "        no results are saved.\n"
   ]
  },
  {
   "cell_type": "markdown",
   "metadata": {},
   "source": [
    "#### :# -- Add comment to logfile\n",
    "\n",
    "*Description*:\n",
    "\n"
   ]
  },
  {
   "cell_type": "markdown",
   "metadata": {},
   "source": [
    "#### :show -- Page the full output of  the  previous  deblend  and  equivalent         width measurements.\n",
    "\n",
    "*Description*:\n",
    "\n"
   ]
  },
  {
   "cell_type": "markdown",
   "metadata": {},
   "source": [
    "### Specviz Solution\n",
    "\n",
    "\n",
    "`specviz` will meet the logging need in two ways:\n",
    "\n",
    "1. For notebook-oriented workflows, the notebook itself can the \"save file\" - e.g., computing the equivalent width using a `SpectrumRegion` that's explicitly specified already records the result for reproducibility. [ALREADY IMPLEMENTED]\n",
    "2. For desktop tool workflows (or notebook workflows in part using plugins), a log should be available to track operations. This could/should use the standard Python logging functionality, but to reproduce the specific needs of SPLOT, plugins should have a way to explicitly say \"log my results\". This log file should be accessible in the UI which would then have a \"save\" option for the user to record this if they want to. Note it is not clearly exactly what workflows require this so it's somewhat \"nice-to-have\", and probably also needs a start/stop option (or at least a way to clear and then save only what came after clearing)."
   ]
  },
  {
   "cell_type": "markdown",
   "metadata": {},
   "source": [
    "## Labels: various forms of labeling\n",
    "\n",
    "*Description*:\n",
    "\n",
    "    Labels:\n",
    "\n",
    "        :label <label> <format>\n",
    "            Add a label at the cursor position.\n",
    "        \n",
    "        :mabove <label> <format>\n",
    "            Add  a  tick mark and label above the spectrum at the cursor\n",
    "            position.\n",
    "        \n",
    "        :mbelow <label> <format>\n",
    "            Add a tick mark and label below the spectrum at  the  cursor\n",
    "            position.\n",
    "        \n",
    "        The  label  must  be  quoted  if  it  contains  blanks.  A label\n",
    "        beginning with % (i.e. %.2f) is treated as a format  for  the  x\n",
    "        cursor  position.   The  optional  format is a gtext string (see\n",
    "        help on \"cursors\").   The  labels  are  not  remembered  between\n",
    "        redraws."
   ]
  },
  {
   "cell_type": "markdown",
   "metadata": {},
   "source": [
    "### Specviz Solution\n",
    "\n",
    "\n",
    "`bqplot` and `glue`/`glupyter` have mechanisms for setting labels.  It might be a bonus to add convenient accessors to make setting such labels easier along the lines of the cell below (but not this is not critical functionality):"
   ]
  },
  {
   "cell_type": "code",
   "execution_count": null,
   "metadata": {},
   "outputs": [],
   "source": [
    "specviz.set_flux_label('My Nobel Prize-winning spectrum', include_unit=False, ... other plotting options passed on to glue...)\n",
    "specviz.set_spec_label('My special name for the spectral axis', include_unit=True, ... other plotting options passed on to glue...)"
   ]
  },
  {
   "cell_type": "markdown",
   "metadata": {},
   "source": [
    "## i --  Write the current spectrum out to a new or existing image.\n",
    "\n",
    "*Description*:\n",
    "\n"
   ]
  },
  {
   "cell_type": "markdown",
   "metadata": {},
   "source": [
    "#### Query: new_image (for saving results of spectrum arithmetic)\n",
    "\n",
    "*Description*:\n",
    "\n",
    " In response to  'i'  (write  current  spectrum)  this  parameter\n",
    "        specifies  the  name  of a new image to create or existing image\n",
    "        to overwrite.\n",
    "\n",
    "Modifications  to  the spectra being analyzed may be saved using the\n",
    "    'i' key in a new, the current, or other  existing  spectra.   A  new\n",
    "    image  is  created  as  a new copy of the current spectrum and so if\n",
    "    the  current  spectrum  is  part  of  a  multiple   spectrum   image \n",
    "    (including  a  long slit spectrum) the other spectra are copied.  If\n",
    "    other spectra in the same image are then modified and saved use  the\n",
    "    overwrite  option  to  replace then in the new output image.  If the\n",
    "    output spectrum already exists then the \u000eoverwrite\u000f flag must  be  set\n",
    "    to  allow  modifying  the  data.   This  includes  the case when the\n",
    "    output spectrum is the same as the input  spectrum.   The  only  odd\n",
    "    case  here  is  when  the  input spectrum is one dimensional and the\n",
    "    output spectrum is two  dimensional.   In  this  case  the  user  is\n",
    "    queried for the line to be written.\n"
   ]
  },
  {
   "cell_type": "markdown",
   "metadata": {},
   "source": [
    "#### Query: overwrite\n",
    "\n",
    "*Description*:\n",
    "\n"
   ]
  },
  {
   "cell_type": "markdown",
   "metadata": {},
   "source": [
    "### Specviz Solution\n",
    "\n",
    "\n",
    "The above three can be addressed by:\n",
    "\n",
    "1. In the notebook, `Spectrum1D.write` is the best way to write out a spectrum in a standard way.\n",
    "2. In the desktop interface, a plugin to do `Spectrum1D.write` on a loaded spectrum is an option.  *However* it is not clear that this meets any needs if the arithmetic operations are not exposed in the UI (see the above discussion), so this should only be implemented if this is done and/or there is some other identified need. However, the outputs of *analysis* operations (as opposed to the modified spectrum itself) are important to be saveable, which should be done on a plugin-by-plugin basis."
   ]
  },
  {
   "cell_type": "markdown",
   "metadata": {},
   "source": [
    "### j -- Set  the  value  of  the  nearest pixel to the x cursor to the y         cursor position.\n",
    "\n",
    "*Description*:\n",
    "\n"
   ]
  },
  {
   "cell_type": "code",
   "execution_count": null,
   "metadata": {},
   "outputs": [],
   "source": [
    "specviz.visible_spectrum.flux[pixel_shown] = desired_value"
   ]
  },
  {
   "cell_type": "markdown",
   "metadata": {},
   "source": [
    "In principle this is [ALREADY IMPLEMENTED] *but* it is not clear to me if the current implementation allows in-place setting - that should be checked.\n",
    "\n",
    "2. In the UI this could be implemented as a plugin or a special selection mode, although it is not at all clear that this is that useful for any known \"desktop-specific\" use case if the notebook option above is supported and documented."
   ]
  },
  {
   "cell_type": "markdown",
   "metadata": {},
   "source": [
    "## s -- smooth via boxcar.\n",
    "\n",
    "*Description*:\n",
    "\n",
    "Smooth via a boxcar.  The user is prompted for the box size."
   ]
  },
  {
   "cell_type": "markdown",
   "metadata": {},
   "source": [
    "### Specviz Solution\n",
    "\n",
    "\n",
    "1. In a notebook, this is done via `specutils` smoothing functionality, which then would be given as an updated spectrum:"
   ]
  },
  {
   "cell_type": "code",
   "execution_count": null,
   "metadata": {},
   "outputs": [],
   "source": [
    "smoothed_spec = specutils.manipulation.box_smooth(specviz.visible_spectrum, width)\n",
    "specviz.add_data(smoothed_spec, show=True)  # <- to overplot\n",
    "specviz.load_data(smoothed_spec)  #<- to replace the current spectrum"
   ]
  },
  {
   "cell_type": "markdown",
   "metadata": {},
   "source": [
    "2. In the UI this can be implemented via a smoothing plugin that does the above [ALREADY IMPLEMENTED]"
   ]
  },
  {
   "cell_type": "markdown",
   "metadata": {},
   "source": [
    "# Specviz functionality in mosviz or cubeviz"
   ]
  },
  {
   "cell_type": "markdown",
   "metadata": {},
   "source": [
    "Note that some of the functionality here is also desirable in cubeviz or mosviz since both have a \"specviz view\". While the plugin architecture means plugins built for specviz can also work in other `jdaviz` configurations (as long as the viewers are named appropriately), the same does not hold for the notebook interactions outlined above.  For those, however, the below idiom should be used:"
   ]
  },
  {
   "cell_type": "code",
   "execution_count": null,
   "metadata": {},
   "outputs": [],
   "source": [
    "cubeviz = jdaviz.Cubeviz(...)\n",
    "... do whatever is necessary to load the relevant cubeviz data ...\n",
    "\n",
    "specviz = jdaviz.Specviz(app=cubeviz.app)\n",
    "specviz.autoscale_y() #<- assuming the viewer in cubeviz is the same name, this should work transparently"
   ]
  },
  {
   "cell_type": "markdown",
   "metadata": {},
   "source": [
    "# Won't-implement SPLOT features/options"
   ]
  },
  {
   "cell_type": "markdown",
   "metadata": {},
   "source": [
    "### x -- \"Etch-a-sketch\"  mode.  Straight   lines   are   drawn   between          successive  positions  of the cursor.\n",
    "\n",
    "*Description*:\n",
    "\n",
    "\"Etch-a-sketch\"  mode.  Straight   lines   are   drawn   between \n",
    "        successive  positions  of the cursor. Requires 2 cursor settings\n",
    "        in x.  The nearest pixels are used as the endpoints.  To draw  a\n",
    "        line  between  arbitrary  y  values  first use 'j' to adjust the\n",
    "        endpoints or set the \"xydraw\" option.\n",
    "        \n",
    "**NOTES** It's not clear any science use case really needs this, and if desired it is better to be done using plotting machinery directly."
   ]
  },
  {
   "cell_type": "markdown",
   "metadata": {},
   "source": [
    "### Options: xydraw\n",
    "\n",
    "*Description*:\n",
    "\n",
    "Option \"xydraw\"\n",
    "        changes the 'x' draw key to use both x and y cursor  values  for\n",
    "        drawing  rather  than  the  nearest pixel value for the y value.\n",
    "        \n",
    "**NOTES** (see `x` above)"
   ]
  },
  {
   "cell_type": "markdown",
   "metadata": {},
   "source": [
    "# Not-relevant-for-jdaviz SPLOT features/options "
   ]
  },
  {
   "cell_type": "markdown",
   "metadata": {},
   "source": [
    "### I -- Force a fatal error interrupt to leave the graph.\n",
    "\n",
    "*Description*:\n",
    "\n",
    "Force a fatal error interrupt to leave the graph.  This  is  used\n",
    "        because  the  normal  interrupt  character is ignored in graphics\n",
    "        mode.\n",
    "        \n",
    "**NOTES** There is no stateful \"graph\" in either the desktop tool or a notebook, so there is no need to have a special way to trigger an interrupt."
   ]
  },
  {
   "cell_type": "markdown",
   "metadata": {},
   "source": [
    "### Options: nosysid\n",
    "\n",
    "*Description*:\n",
    "\n",
    "Option \"nosysid\"\n",
    "        excludes  the  system  banner  from  the  graph  title.\n",
    "        \n",
    "**NOTES**: No relevant \"system banner\" in jdaviz"
   ]
  },
  {
   "cell_type": "markdown",
   "metadata": {},
   "source": [
    "### o -- set overplot flag / Options: overplot\n",
    "\n",
    "*Description*:\n",
    "\n",
    "Set  overplot  flag.   The  next  plot will overplot the current\n",
    "        plot.  Normally this key is immediately followed by one of  'g',\n",
    "        '#',  '%',  '(',  or  ')'.   The  \":overplot\"  colon command and\n",
    "        overplot parameter option may be used to set overplotting to  be\n",
    "        permanently on.\n",
    "        \n",
    "The  \"overplot\"  options \n",
    "        overplots all graphs and a screen erase  only  occurs  with  the\n",
    "        redraw key.\n",
    "\n",
    "**NOTES**: Natively supported by glue, but follows a different idiom (\"layers\"), so this way of thinking does not apply.  Instead multiple plotting layers can be turned on and off in the glupyter interface (UI or programmatically)."
   ]
  },
  {
   "cell_type": "markdown",
   "metadata": {},
   "source": [
    "### Options: nerrsample (number of samples for error calculation)\n",
    "\n",
    "*Description*:\n",
    "\n",
    "nerrsample = 0\n",
    "        Number of samples for the error computation.  A value less  than\n",
    "        10  turns  off  the  error  computation.   A value of ~10 does a\n",
    "        rough error analysis, a value of ~50  does  a  reasonable  error\n",
    "        analysis,  and a value >100 does a detailed error analysis.  The\n",
    "        larger this value the longer the analysis takes.\n",
    "        \n",
    "        \n",
    "**NOTES** Not relevant for specviz because uncertainty handling is part of the fitting/etc process not a global property of the viz tool"
   ]
  },
  {
   "cell_type": "markdown",
   "metadata": {},
   "source": [
    "### Options: sigma0 (used for calculating uncertainties)\n",
    "\n",
    "*Description*:\n",
    "\n",
    "** sigma0 = INDEF, invgain = INDEF **\n",
    "The pixel sigmas are modeled by the formula:\n",
    "        \n",
    "            sigma**2 = sigma0**2 + invgain * I\n",
    "        \n",
    "where I is the pixel value and \"**2\" means  the  square  of  the\n",
    "        quantity.   If  either parameter is specified as INDEF or with a\n",
    "        value less than zero then no sigma estimates are made and so  no\n",
    "        error estimates for the measured parameters are made.\n",
    "        \n",
    "**NOTES** Not relevant for specviz because uncertainty handling is part of the fitting/etc process not a global property of the viz tool"
   ]
  },
  {
   "cell_type": "markdown",
   "metadata": {},
   "source": [
    "### ? -- Page help information\n",
    "\n",
    "*Description*:\n",
    "\n",
    "**NOTES** IRAF-style help is not relevant for jdaviz - the documentation, docstrings, or tooltips, etc should be used"
   ]
  },
  {
   "cell_type": "markdown",
   "metadata": {},
   "source": [
    "### / -- Cycle through short status line help\n",
    "\n",
    "*Description*:\n",
    "\n",
    "\n",
    "**NOTES** IRAF-style help is not relevant for jdaviz - the documentation, docstrings, or tooltips, etc should be used\n"
   ]
  },
  {
   "cell_type": "markdown",
   "metadata": {},
   "source": [
    "### :/help -- get help on GTOOLS options\n",
    "\n",
    "*Description*:\n",
    "\n",
    "\n",
    "**NOTES** IRAF-style help is not relevant for jdaviz - the documentation, docstrings, or tooltips, etc should be used\n"
   ]
  },
  {
   "cell_type": "markdown",
   "metadata": {},
   "source": [
    "### :.help -- get help on standard cursor mode options\n",
    "\n",
    "*Description*:\n",
    "\n",
    "\n",
    "**NOTES** IRAF-style help is not relevant for jdaviz - the documentation, docstrings, or tooltips, etc should be used\n"
   ]
  },
  {
   "cell_type": "markdown",
   "metadata": {},
   "source": [
    "### Calibration: star_name\n",
    "\n",
    "*Description*:\n",
    "\n",
    "**NOTES** Calibration functionality is out-of-scope for specviz, as it should be in pipelines or part of custom (typically notebook) workflows."
   ]
  },
  {
   "cell_type": "markdown",
   "metadata": {},
   "source": [
    "### Calibration: mag\n",
    "\n",
    "*Description*:\n",
    "\n",
    "**NOTES** Calibration functionality is out-of-scope for specviz, as it should be in pipelines or part of custom (typically notebook) workflows."
   ]
  },
  {
   "cell_type": "markdown",
   "metadata": {},
   "source": [
    "### Calibration: magband\n",
    "\n",
    "*Description*:\n",
    "\n",
    "**NOTES** Calibration functionality is out-of-scope for specviz, as it should be in pipelines or part of custom (typically notebook) workflows."
   ]
  },
  {
   "cell_type": "markdown",
   "metadata": {},
   "source": [
    "### Calibration: teff\n",
    "\n",
    "*Description*:\n",
    "\n",
    "**NOTES** Calibration functionality is out-of-scope for specviz, as it should be in pipelines or part of custom (typically notebook) workflows."
   ]
  },
  {
   "cell_type": "markdown",
   "metadata": {},
   "source": [
    "### Calibration: caldir\n",
    "\n",
    "*Description*:\n",
    "\n",
    "**NOTES** Calibration functionality is out-of-scope for specviz, as it should be in pipelines or part of custom (typically notebook) workflows."
   ]
  },
  {
   "cell_type": "markdown",
   "metadata": {},
   "source": [
    "### Calibration: fnuzero\n",
    "\n",
    "*Description*:\n",
    "\n",
    "**NOTES** Calibration functionality is out-of-scope for specviz, as it should be in pipelines or part of custom (typically notebook) workflows."
   ]
  },
  {
   "cell_type": "markdown",
   "metadata": {},
   "source": [
    "### y -- Overplot standard star values from a calibration file.\n",
    "\n",
    "*Description*:\n",
    "\n",
    "**NOTES** Calibration functionality is out-of-scope for specviz, as it should be in pipelines or part of custom (typically notebook) workflows."
   ]
  },
  {
   "cell_type": "markdown",
   "metadata": {},
   "source": [
    "### Query: wavelength\n",
    "\n",
    "*Description*:\n",
    "\n",
    "**NOTES** Not relevant because anything that it is used for in IRAF would get a custom plugin input or a notebook keyword parameter."
   ]
  },
  {
   "cell_type": "markdown",
   "metadata": {},
   "source": [
    "### Query: linelist\n",
    "\n",
    "*Description*:\n",
    "\n",
    "\n",
    "**NOTES** Not relevant because anything that it is used for in IRAF would get a custom plugin input or a notebook keyword parameter."
   ]
  },
  {
   "cell_type": "markdown",
   "metadata": {},
   "source": [
    "### Query: wstart, wend, dw\n",
    "\n",
    "*Description*:\n",
    "\n",
    "\n",
    "**NOTES** Not relevant because anything that it is used for in IRAF would get a custom plugin input or a notebook keyword parameter."
   ]
  },
  {
   "cell_type": "markdown",
   "metadata": {},
   "source": [
    "### Query: boxsize (for smoothing)\n",
    "\n",
    "*Description*:\n",
    "\n",
    "**NOTES** Not relevant because anything that it is used for in IRAF would get a custom plugin input or a notebook keyword parameter."
   ]
  },
  {
   "cell_type": "markdown",
   "metadata": {},
   "source": [
    "# Temporary space "
   ]
  },
  {
   "cell_type": "code",
   "execution_count": 3,
   "metadata": {},
   "outputs": [
    {
     "ename": "IndexError",
     "evalue": "tuple index out of range",
     "output_type": "error",
     "traceback": [
      "\u001b[0;31m---------------------------------------------------------------------------\u001b[0m",
      "\u001b[0;31mIndexError\u001b[0m                                Traceback (most recent call last)",
      "\u001b[0;32m<ipython-input-3-ea574005d450>\u001b[0m in \u001b[0;36m<module>\u001b[0;34m\u001b[0m\n\u001b[0;32m----> 1\u001b[0;31m \u001b[0mss\u001b[0m \u001b[0;34m=\u001b[0m \u001b[0mapp\u001b[0m\u001b[0;34m.\u001b[0m\u001b[0mdata_collection\u001b[0m\u001b[0;34m.\u001b[0m\u001b[0msubset_groups\u001b[0m\u001b[0;34m[\u001b[0m\u001b[0;36m0\u001b[0m\u001b[0;34m]\u001b[0m\u001b[0;34m.\u001b[0m\u001b[0msubsets\u001b[0m\u001b[0;34m[\u001b[0m\u001b[0;36m0\u001b[0m\u001b[0;34m]\u001b[0m\u001b[0;34m.\u001b[0m\u001b[0msubset_state\u001b[0m\u001b[0;34m\u001b[0m\u001b[0;34m\u001b[0m\u001b[0m\n\u001b[0m\u001b[1;32m      2\u001b[0m \u001b[0mss\u001b[0m\u001b[0;34m.\u001b[0m\u001b[0mlo\u001b[0m\u001b[0;34m,\u001b[0m \u001b[0mss\u001b[0m\u001b[0;34m.\u001b[0m\u001b[0mhi\u001b[0m\u001b[0;34m\u001b[0m\u001b[0;34m\u001b[0m\u001b[0m\n",
      "\u001b[0;31mIndexError\u001b[0m: tuple index out of range"
     ]
    }
   ],
   "source": [
    "ss = app.data_collection.subset_groups[0].subsets[0].subset_state\n",
    "ss.lo, ss.hi"
   ]
  },
  {
   "cell_type": "markdown",
   "metadata": {},
   "source": [
    "### Code to import notebook content from Trello"
   ]
  },
  {
   "cell_type": "code",
   "execution_count": null,
   "metadata": {},
   "outputs": [],
   "source": [
    "import requests\n",
    "\n",
    "j = requests.get('https://trello.com/b/glMEUlE3.json').json()"
   ]
  },
  {
   "cell_type": "code",
   "execution_count": null,
   "metadata": {},
   "outputs": [],
   "source": [
    "import nbformat as nbf\n",
    "\n",
    "nb = nbf.read('Specviz from splot concept notebook.ipynb', nbf.NO_CONVERT)\n",
    "nbfapi = getattr(nbf, 'v'+str(nb['nbformat']))"
   ]
  },
  {
   "cell_type": "code",
   "execution_count": null,
   "metadata": {},
   "outputs": [],
   "source": [
    "for card in j['cards']:\n",
    "    if card['name'] == 'IRAF Splot help text':\n",
    "        continue\n",
    "    markdown_text = '### '+ card['name'] + '\\n\\n*Description*:\\n\\n' + card['desc']\n",
    "    nb['cells'].append(nbfapi.new_markdown_cell(markdown_text))\n",
    "nbf.write(nb, 'output.ipynb')\n",
    "# now manually move that to overwrite this file"
   ]
  },
  {
   "cell_type": "code",
   "execution_count": 42,
   "metadata": {
    "scrolled": true
   },
   "outputs": [
    {
     "name": "stdout",
     "output_type": "stream",
     "text": [
      "SPLOT (Jul95)                 noao.onedspec                SPLOT (Jul95)\n",
      "\n",
      "\n",
      "\n",
      "NAME\n",
      "    splot -- plot and analyze spectra\n",
      "    \n",
      "    \n",
      "USAGE\n",
      "    splot images [line [band]]\n",
      "    \n",
      "    \n",
      "PARAMETERS\n",
      "    \n",
      "    images\n",
      "        List of images (spectra) to plot.  If the image is 2D or 3D  the\n",
      "        line  and  band  parameters  are  used.   Successive  images are\n",
      "        plotted following each 'q'  cursor  command.   One  may  use  an\n",
      "        image  section to select a desired column, line, or band but the\n",
      "        full image will be in memory and any  updates  to  the  spectrum\n",
      "        will be part of the full image.\n",
      "    \n",
      "    line, band\n",
      "        The  image  line/aperture  and  band  to  plot  in  two or three\n",
      "        dimensional images.   For  multiaperture  spectra  the  aperture\n",
      "        specified  by  the  line  parameter  is  first sought and if not\n",
      "        found the specified image  line  is  selected.   For  other  two\n",
      "        dimensional   images,  such  as  long  slit  spectra,  the  line \n",
      "        parameter specifies a line or column.  Note  that  if  the  line\n",
      "        and  band  parameters  are specified on the command line it will\n",
      "        not be possible to change them interactively.\n",
      "    \n",
      "    units = \"\"\n",
      "        Dispersion coordinate units for the plot.  If the  spectra  have\n",
      "        known  units,  currently  this is generally Angstroms, the units\n",
      "        may be converted to other units for  plotting  as  specified  by\n",
      "        this  task  parameter.  If this parameter is the null string and\n",
      "        the  world  coordinate  system  attribute   \"units_display\"   is \n",
      "        defined  then  that  will be used.  If both this task parameters\n",
      "        and \"units_display\" are not given then the  spectrum  dispersion\n",
      "        units   will   be   used.    The   units  may  also  be  changed \n",
      "        interactively.  See the units section of the \u000epackage\u000f help for  a\n",
      "        further description and available units.\n",
      "    \n",
      "    options = \"auto\" [auto,zero,xydraw,histogram,nosysid,wcreset,flip,overplot]\n",
      "        A  list  of  zero  or  more, possibly abbreviated, options.  The\n",
      "        options can also be toggled with colon commands.  The  currently\n",
      "        defined  options  are  \"auto\",  \"zero\",  \"xydraw\",  \"histogram\", \n",
      "        \"nosysid\", \"wreset\",  \"flip\",  and  \"overplot\".   Option  \"auto\"\n",
      "        automatically  replots  the  graph  whenever  changes  are made.\n",
      "        Otherwise the graph is replotted with  keystrokes  'c'  or  'r'.\n",
      "        Option  \"zero\"  makes  the initial minimum y of the graphs occur\n",
      "        at zero.  Otherwise the limits are set  automatically  from  the\n",
      "        range  of  the  data  or  the  \u000eymin\u000f  parameter.  Option \"xydraw\"\n",
      "        changes the 'x' draw key to use both x and y cursor  values  for\n",
      "        drawing  rather  than  the  nearest pixel value for the y value.\n",
      "\n",
      "\n",
      "                                  -1-\n",
      "\f",
      "SPLOT (Jul95)                 noao.onedspec                SPLOT (Jul95)\n",
      "\n",
      "\n",
      "\n",
      "        Option \"histogram\"  plots  the  spectra  in  a  histogram  style\n",
      "        rather  than  connecting  the  pixel  centers.  Option \"nosysid\"\n",
      "        excludes  the  system  banner  from  the  graph  title.   Option \n",
      "        \"wreset\"  resets  the  graph  limits  to  those specified by the\n",
      "        \u000exmin\u000f, \u000exmax\u000f, \u000eymin\u000f, \u000eymax\u000f parameters whenever  a  new  spectrum  is\n",
      "        plotted.   The  \"flip\" option selects that initially the spectra\n",
      "        be plotted with decreasing  wavelengths.   The  options  may  be\n",
      "        queried  and  changed  interactively.   The  \"overplot\"  options \n",
      "        overplots all graphs and a screen erase  only  occurs  with  the\n",
      "        redraw key.\n",
      "    \n",
      "    xmin = INDEF, xmax = INDEF, ymin = INDEF, ymax = INDEF\n",
      "        The  default  limits  for  the initial graph.  If INDEF then the\n",
      "        limit is determined from the range of  the  data  (autoscaling).\n",
      "        These  values  can  be changed interactively with 'w' window key\n",
      "        options or the cursor commands \":/xwindow\" and \":/ywindow\"  (see\n",
      "        \u000egtools\u000f).\n",
      "    \n",
      "    save_file = \"splot.log\"\n",
      "        The  file  to  contain  any  results generated by the equivalent\n",
      "        width or deblending functions.  Results are added to  this  file\n",
      "        until  the  file is deleted.  If the filename is null (\"\"), then\n",
      "        no results are saved.\n",
      "    \n",
      "    graphics = \"stdgraph\"\n",
      "        Output graphics device: one of \"stdgraph\", \"stdplot\",  \"stdvdm\",\n",
      "        or device name.\n",
      "    \n",
      "    cursor = \"\"\n",
      "        Graphics  cursor  input.   When null the standard cursor is used\n",
      "        otherwise the specified file is used.\n",
      "    \n",
      "    The following parameters are used for error estimates  in  the  'd',\n",
      "    'k',  and 'e' key measurements.  See the ERROR ESTIMATES section for\n",
      "    a discussion of the error estimates.\n",
      "    \n",
      "    nerrsample = 0\n",
      "        Number of samples for the error computation.  A value less  than\n",
      "        10  turns  off  the  error  computation.   A value of ~10 does a\n",
      "        rough error analysis, a value of ~50  does  a  reasonable  error\n",
      "        analysis,  and a value >100 does a detailed error analysis.  The\n",
      "        larger this value the longer the analysis takes.\n",
      "    \n",
      "    sigma0 = INDEF, invgain = INDEF\n",
      "        The pixel sigmas are modeled by the formula:\n",
      "        \n",
      "            sigma**2 = sigma0**2 + invgain * I\n",
      "        \n",
      "        where I is the pixel value and \"**2\" means  the  square  of  the\n",
      "        quantity.   If  either parameter is specified as INDEF or with a\n",
      "        value less than zero then no sigma estimates are made and so  no\n",
      "        error estimates for the measured parameters are made.\n",
      "\n",
      "\n",
      "                                  -2-\n",
      "\f",
      "SPLOT (Jul95)                 noao.onedspec                SPLOT (Jul95)\n",
      "\n",
      "\n",
      "\n",
      "    The  following  parameters  are  for  the  interactive curve fitting\n",
      "    function entered with the 't' key.  This function  is  usually  used\n",
      "    for  continuum  fitting.  The values of these parameters are updated\n",
      "    during  the  fitting.   See  \u000eicfit\u000f   for   additional   details   on \n",
      "    interactive curve fitting.\n",
      "    \n",
      "    function = \"spline3\"\n",
      "        Function   to   be  fit  to  the  spectra.   The  functions  are \n",
      "        \"legendre\"   (legendre   polynomial),   \"chebyshev\"   (chebyshev  \n",
      "        polynomial),  \"spline1\"  (linear  spline),  and \"spline3\" (cubic\n",
      "        spline).  The functions may be abbreviated.\n",
      "    \n",
      "    order = 1\n",
      "        The order of the polynomials or the number of spline pieces.\n",
      "    \n",
      "    low_reject = 2., high_reject = 4.\n",
      "        Rejection limits below  and  above  the  fit  in  units  of  the\n",
      "        residual  sigma.   Unequal  limits  are  used to reject spectral\n",
      "        lines on one side of the continuum during continuum fitting.\n",
      "    \n",
      "    niterate = 10\n",
      "        Number of rejection iterations.\n",
      "    \n",
      "    grow = 1.\n",
      "        When a pixel is rejected, pixels within  this  distance  of  the\n",
      "        rejected pixel are also rejected.\n",
      "    \n",
      "    markrej = yes\n",
      "        Mark  rejected  points?   If  there  are many rejected points it\n",
      "        might be desired to not mark rejected points.\n",
      "    \n",
      "    The following parameters are used to overplot standard  star  fluxes\n",
      "    with  the  'y'  key.   See \u000estandard\u000f for more information about these\n",
      "    parameters.\n",
      "    \n",
      "    star_name\n",
      "        Query parameter for the standard star fluxes to be  overplotted.\n",
      "        Unrecognized  names  or a \"?\" will print a list of the available\n",
      "        stars in the specified calibration directory.\n",
      "    \n",
      "    mag The magnitude of the observed star in  the  band  given  by  the\n",
      "        \u000emagband\u000f  parameter.  If the magnitude is not in the same band as\n",
      "        the  blackbody  calibration  file  then  the  magnitude  may  be \n",
      "        converted  to  the  calibration  band  provided the \"params.dat\"\n",
      "        file containing relative magnitudes between the two bands is  in\n",
      "        the calibration directory\n",
      "    \n",
      "    magband\n",
      "        The  standard  band  name  for the input magnitude.  This should\n",
      "        generally be the same band as the  blackbody  calibration  file.\n",
      "        If  it is not the magnitude will be converted to the calibration\n",
      "        band.\n",
      "\n",
      "\n",
      "                                  -3-\n",
      "\f",
      "SPLOT (Jul95)                 noao.onedspec                SPLOT (Jul95)\n",
      "\n",
      "\n",
      "\n",
      "    teff\n",
      "        The effective temperature (deg K) or the spectral  type  of  the\n",
      "        star  being  calibrated.   If  a  spectral  type  is specified a\n",
      "        \"params.dat\" file must exist in the calibration directory.   The\n",
      "        spectral  types  are  specified  in  the  same  form  as  in the\n",
      "        \"params.dat\"  file.   For  the  standard  blackbody  calibration \n",
      "        directory  the  spectral  types  are specified as A0I, A0III, or\n",
      "        A0V, where A  can  be  any  letter  OBAFGKM,  the  single  digit\n",
      "        subclass  is  between  0 and 9, and the luminosity class is one\n",
      "        of I, III, or V.  If no luminosity class is given  it  defaults\n",
      "        to dwarf.\n",
      "    \n",
      "    caldir = \")_.caldir\"\n",
      "        The  standard  star  calibration  directory.   The default value\n",
      "        redirects the value to the parameter of the  same  name  in  the\n",
      "        package parameters.\n",
      "    \n",
      "    fnuzero = 3.68e-20\n",
      "        The  absolute  flux  per  unit  frequency at a magnitude of zero\n",
      "        used to to convert the calibration magnitudes to absolute flux.\n",
      "    \n",
      "    The following  parameters  are  used  for  queries  in  response  to\n",
      "    particular keystrokes.\n",
      "    \n",
      "    next_image\n",
      "        In  response  to  'g'  (get next image) this parameter specifies\n",
      "        the image.\n",
      "    \n",
      "    new_image\n",
      "        In response to  'i'  (write  current  spectrum)  this  parameter\n",
      "        specifies  the  name  of a new image to create or existing image\n",
      "        to overwrite.\n",
      "    \n",
      "    overwrite = no\n",
      "        Overwrite an existing  output  image?   If  set  to  yes  it  is\n",
      "        possible  to write back into the input spectrum or to some other\n",
      "        existing image.  Otherwise the user is queried again for  a  new\n",
      "        image name.\n",
      "    \n",
      "    spec2\n",
      "        When  adding,  subtracting, multiplying, or dividing by a second\n",
      "        spectrum ('+',  '-',  '*',  '/'  keys  in  the  'f'  mode)  this\n",
      "        parameter is used to get the name of the second spectrum.\n",
      "    \n",
      "    constant\n",
      "        When  adding  or  multiplying  by a constant ('p' or 'm' keys in\n",
      "        the 'f' mode) the parameter is used to get the constant.\n",
      "    \n",
      "    wavelength\n",
      "        This parameter is used to  get  a  dispersion  coordinate  value\n",
      "        during  deblending  or  when changing the dispersion coordinates\n",
      "        with 'u'.\n",
      "\n",
      "\n",
      "                                  -4-\n",
      "\f",
      "SPLOT (Jul95)                 noao.onedspec                SPLOT (Jul95)\n",
      "\n",
      "\n",
      "\n",
      "    linelist\n",
      "        During deblending this parameter is used to get a list  of  line\n",
      "        positions, peak values, profile types, and widths.\n",
      "    \n",
      "    wstart, wend, dw\n",
      "        In  response to 'p' (convert to a linear wavelength scale) these\n",
      "        parameters specify the starting wavelength,  ending  wavelength,\n",
      "        and wavelength per pixel.\n",
      "    \n",
      "    boxsize\n",
      "        In  response  to  's'  (smooth) this parameter specifies the box\n",
      "        size in pixels to be used for  the  boxcar  smooth.   The  value\n",
      "        must  be odd.  If an even value is specified the next larger odd\n",
      "        value is actually used.\n",
      "    \n",
      "    \n",
      "DESCRIPTION\n",
      "    \u000eSplot\u000f provides  an  interactive  facility  to  display  and  analyze\n",
      "    spectra.   See  also  \u000ebplot\u000f  for  a  version of this task useful for\n",
      "    making many plots noninteractively.   Each  spectrum  in  the  image\n",
      "    list  is  displayed  successively.  To quit the current image and go\n",
      "    on to the next the 'q' cursor command  is  used.   If  an  image  is\n",
      "    two-dimensional,  such  as  with  multiple  aperture  or  long  slit \n",
      "    spectra, the aperture  or  image  column/line  to  be  displayed  is\n",
      "    needed.   If  the image is three-dimensional, such as with the extra\n",
      "    information produced  by  \u000eapextract\u000f,  the  band  is  needed.   These\n",
      "    parameters  are  queried  unless  specified on the command line.  If\n",
      "    given on the command line it will not be  possible  to  change  them\n",
      "    interactively.\n",
      "    \n",
      "    The  plots are made on the specified graphics device which is usually\n",
      "    to the graphics terminal.  The initial plot limits are set with  the\n",
      "    parameters  \u000exmin\u000f,  \u000exmax\u000f,  \u000eymin\u000f,  and \u000eymax\u000f.  If a limit is INDEF then\n",
      "    that limit is determined from the range of  the  data.   The  \"zero\"\n",
      "    option  may  also  be  set in the \u000eoptions\u000f parameter to set the lower\n",
      "    intensity limit to zero.  Other options that may be set  to  control\n",
      "    the  initial  plot  are to exclude the system identification banner,\n",
      "    and to select a histogram line type instead of connecting the  pixel\n",
      "    centers.  The dispersion units used in the plot are set by the \u000eunits\u000f\n",
      "    parameter.  This allows converting to  units  other  than  those  in\n",
      "    which the dispersion coordinates are defined in the spectra.\n",
      "    \n",
      "    The  \u000eoption\u000f  parameter,  mentioned in the previous paragraph, is a a\n",
      "    list of zero or more options.  As  previously  noted,  some  of  the\n",
      "    options  control  the  initial  appearance of the plots.  The \"auto\"\n",
      "    option determines  how  frequently  plots  are  redrawn.   For  slow\n",
      "    terminals  or  via  modems one might wish to minimize the redrawing.\n",
      "    The default, however, is to  redraw  when  changes  are  made.   The\n",
      "    \"xydraw\" parameter is specific to the 'x' key.\n",
      "    \n",
      "    After  the  initial  graph  is  made  an  interactive cursor loop is\n",
      "    entered.  The \u000ecursor\u000f parameter may be reset to read from a file  but\n",
      "\n",
      "\n",
      "                                  -5-\n",
      "\f",
      "SPLOT (Jul95)                 noao.onedspec                SPLOT (Jul95)\n",
      "\n",
      "\n",
      "\n",
      "    generally  the  graphics  device  cursor  is  read.  The cursor loop\n",
      "    takes single keystroke commands and typed in commands begun  with  a\n",
      "    colon,  called  colon  commands.  These commands are described below\n",
      "    and a summary of the commands may  be  produced  interactively  with\n",
      "    the '?' key or a scrolling help on the status line with the '/' key.\n",
      "    \n",
      "    Modifications  to  the spectra being analyzed may be saved using the\n",
      "    'i' key in a new, the current, or other  existing  spectra.   A  new\n",
      "    image  is  created  as  a new copy of the current spectrum and so if\n",
      "    the  current  spectrum  is  part  of  a  multiple   spectrum   image \n",
      "    (including  a  long slit spectrum) the other spectra are copied.  If\n",
      "    other spectra in the same image are then modified and saved use  the\n",
      "    overwrite  option  to  replace then in the new output image.  If the\n",
      "    output spectrum already exists then the \u000eoverwrite\u000f flag must  be  set\n",
      "    to  allow  modifying  the  data.   This  includes  the case when the\n",
      "    output spectrum is the same as the input  spectrum.   The  only  odd\n",
      "    case  here  is  when  the  input spectrum is one dimensional and the\n",
      "    output spectrum is two  dimensional.   In  this  case  the  user  is\n",
      "    queried for the line to be written.\n",
      "    \n",
      "    The  other form of output, apart from that produced on the terminal,\n",
      "    are  measurements  of  equivalent   widths,   and   other   analysis \n",
      "    functions.   This  information  will be recorded in the \u000esave\u000f_\u000efile\u000f if\n",
      "    specified.\n",
      "    \n",
      "    The following keystrokes are active in addition to the  normal  IRAF\n",
      "    cursor facilities (available with \":.help\"):\n",
      "    \n",
      "    \n",
      "    ?   Page help information.\n",
      "    \n",
      "    /   Cycle through short status line help.\n",
      "    \n",
      "    <space>\n",
      "        The  space  bar  prints  the  cursor  position  and value of the\n",
      "        nearest pixel.\n",
      "    \n",
      "    a   Expand and autoscale  to  the  data  range  between  two  cursor\n",
      "        positions.   See also 'w', and 'z'.  Selecting no range, that is\n",
      "        the two cursor positions the same, produces an autoscale of  the\n",
      "        whole spectrum.\n",
      "    \n",
      "    b   Set the plot base level to zero rather than autoscaling.\n",
      "    \n",
      "    c   Clear  all windowing and redraw the full current spectrum.  This\n",
      "        redraws the spectrum and cancels any effects of  the  'a',  'z',\n",
      "        and  'w'  keys.  The 'r' key is used to redraw the spectrum with\n",
      "        the current windowing.\n",
      "    \n",
      "\n",
      "\n",
      "\n",
      "\n",
      "\n",
      "                                  -6-\n",
      "\f",
      "SPLOT (Jul95)                 noao.onedspec                SPLOT (Jul95)\n",
      "\n",
      "\n",
      "\n",
      "    d   Mark two  continuum  points  and  fit  (deblend)  multiple  line\n",
      "        profiles.   The center, continuum at the center, core intensity,\n",
      "        integrated flux, equivalent width, FWHMs for  each  profile  are\n",
      "        printed  and  saved  in  the  log  file.   See 'k' for fitting a\n",
      "        single profile and '-' to subtract the fitted profiles.\n",
      "    \n",
      "    e   Measure equivalent width by marking two continuum points  around\n",
      "        the  line  to  be  measured.  The linear continuum is subtracted\n",
      "        and the flux is determined by simply  summing  the  pixels  with\n",
      "        partial  pixels  at  the  ends.   Returned  values  are the line\n",
      "        center, continuum at the region center, flux above or below  the\n",
      "        continuum, and the equivalent width.\n",
      "    \n",
      "    f   Enter  arithmetic  function  mode.  This  mode allows arithmetic\n",
      "        functions to be applied to the spectrum. The  pixel  values  are\n",
      "        modified  according  to the function request and may be saved as\n",
      "        a new spectrum with the 'i' command.  Operations with  a  second\n",
      "        spectrum  are  done  in wavelength space and the second spectrum\n",
      "        is automatically resampled if necessary.   If  one  spectrum  is\n",
      "        longer  than  the  other,  only the smaller number of pixels are\n",
      "        affected.  To exit this mode type 'q'.\n",
      "        \n",
      "        The following keystrokes are available  in  the  function  mode.\n",
      "        Binary  operations  with a constant or a second spectrum produce\n",
      "        a query for the constant value or spectrum name.\n",
      "        \n",
      "        a   Absolute value\n",
      "        \n",
      "        d   Power of base 10 (inverse log base 10)\n",
      "        \n",
      "        e   Power of base e (inverse log base e)\n",
      "        \n",
      "        i   Inverse/reciprocal (values equal to zero are set to  0.0  in\n",
      "            the inverse)\n",
      "        \n",
      "        l   Log  base  10  (values  less than or equal to 0.0 are set to\n",
      "            -0.5)\n",
      "        \n",
      "        m   Multiply by a constant (constant is queried)\n",
      "        \n",
      "        n   Log base e (values less than or equal  to  0.0  are  set  to\n",
      "            -0.5)\n",
      "        \n",
      "        p   Add by a constant (constant is queried)\n",
      "        \n",
      "        q   Quit Function mode\n",
      "        \n",
      "        s   Square root (values less than 0.0 are set to 0.0)\n",
      "        \n",
      "\n",
      "\n",
      "\n",
      "\n",
      "\n",
      "                                  -7-\n",
      "\f",
      "SPLOT (Jul95)                 noao.onedspec                SPLOT (Jul95)\n",
      "\n",
      "\n",
      "\n",
      "        +   Add another spectrum\n",
      "        \n",
      "        -  Subtract another spectrum\n",
      "        \n",
      "        *   Multiply by another spectrum\n",
      "        \n",
      "        /   Divide by another spectrum\n",
      "    \n",
      "    g   Get  another  spectrum.  The current spectrum is replaced by the\n",
      "        new  spectrum.   The  aperture/line  and  band  are  queried  is \n",
      "        necessary.\n",
      "    \n",
      "    h   Measure  equivalent  widths assuming a gaussian profile with the\n",
      "        width measured at a specified point.  Note that this  is  not  a\n",
      "        gaussian  fit (see 'k' to fit a gaussian)!  The gaussian profile\n",
      "        determined here may be subtracted with the '-'  key.   A  second\n",
      "        cursor key is requested with one of the following values:\n",
      "        \n",
      "        a   Mark  the  continuum  level  at  the line center and use the\n",
      "            LEFT half width at the half flux point.\n",
      "        \n",
      "        b   Mark the continuum level at the  line  center  and  use  the\n",
      "            RIGHT half width at the half flux point.\n",
      "        \n",
      "        c   Mark  the  continuum  level  at  the line center and use the\n",
      "            FULL width at the half flux point.\n",
      "        \n",
      "        l   Mark  a  flux  level  at  the  line  center  relative  to  a \n",
      "            normalized  continuum  and  use  the LEFT width at that flux\n",
      "            point.\n",
      "        \n",
      "        r   Mark  a  flux  level  at  the  line  center  relative  to  a \n",
      "            normalized  continuum  and  use the RIGHT width at that flux\n",
      "            point.\n",
      "        \n",
      "        k   Mark  a  flux  level  at  the  line  center  relative  to  a \n",
      "            normalized  continuum  and  use  the FULL width at that flux\n",
      "            point.\n",
      "    \n",
      "    i   Write the current spectrum out to a new or existing image.   The\n",
      "        image name is queried and overwriting must be confirmed.\n",
      "    \n",
      "    j   Set  the  value  of  the  nearest pixel to the x cursor to the y\n",
      "        cursor position.\n",
      "    \n",
      "    k + (g, l or v)\n",
      "        Mark two continuum points and fit a single  line  profile.   The\n",
      "        second  key  selects  the type of profile: g for gaussian, l for\n",
      "        lorentzian, and v for voigt.  Any other second key  defaults  to\n",
      "        gaussian.   The center, continuum at the center, core intensity,\n",
      "        integrated flux, equivalent width, and  FWHMs  are  printed  and\n",
      "        saved  in  the  log file.  See 'd' for fitting multiple profiles\n",
      "\n",
      "\n",
      "                                  -8-\n",
      "\f",
      "SPLOT (Jul95)                 noao.onedspec                SPLOT (Jul95)\n",
      "\n",
      "\n",
      "\n",
      "        and '-' to subtract the fit.\n",
      "    \n",
      "    l   Convert to flux per unit wavelength (f-lambda). The spectrum  is\n",
      "        assumed  to  be  flux  calibrated  in  flux  per  unit frequency\n",
      "        (f-nu).  See also 'n'.\n",
      "    \n",
      "    m   Compute the mean, RMS, and signal-to-noise over a region  marked\n",
      "        with two x cursor positions.\n",
      "    \n",
      "    n   Convert  to  flux  per  unit  frequency  (f-nu). The spectrum is\n",
      "        assumed to be  flux  calibrated  in  flux  per  unit  wavelength\n",
      "        (f-lambda).  See also 'l'.\n",
      "    \n",
      "    o   Set  overplot  flag.   The  next  plot will overplot the current\n",
      "        plot.  Normally this key is immediately followed by one of  'g',\n",
      "        '#',  '%',  '(',  or  ')'.   The  \":overplot\"  colon command and\n",
      "        overplot parameter option may be used to set overplotting to  be\n",
      "        permanently on.\n",
      "    \n",
      "    p   Define  a  linear  wavelength  scale.  The user is queried for a\n",
      "        starting  wavelength  and  an  ending  wavelength.   If   either \n",
      "        (though  not  both)  are  specified  as  INDEF  a  dispersion is\n",
      "        queried for and used  to  compute  an  endpoint.   A  wavelength\n",
      "        scale  set this way will be used for other spectra which are not\n",
      "        dispersion corrected.\n",
      "    \n",
      "    q   Quit and go on to next input spectrum.  After the last  spectrum\n",
      "        exit.\n",
      "    \n",
      "    r   Redraw  the  spectrum with the current windowing.  To redraw the\n",
      "        full spectrum and cancel any windowing use the 'c' key.\n",
      "    \n",
      "    s   Smooth via a boxcar.  The user is prompted for the box size.\n",
      "    \n",
      "    t   Fit a function to the spectrum using the ICFIT mode.   Typically\n",
      "        interactive  rejection is used to exclude spectra lines from the\n",
      "        fit in order to fit a  smooth  continuum.   A  second  keystroke\n",
      "        selects what to do with the fit.\n",
      "        \n",
      "        /   Normalize  by  the  fit.   When  fitting  the continuum this\n",
      "            continuum normalizes the spectrum.\n",
      "        \n",
      "        -  Subtract the fit.  When fitting the continuum this  continuum\n",
      "           subtracts the spectrum.\n",
      "        \n",
      "        f   Replace the spectrum by the fit.\n",
      "        \n",
      "        c   Clean  the  spectrum by replacing any rejected points by the\n",
      "            fit.\n",
      "        \n",
      "\n",
      "\n",
      "\n",
      "\n",
      "                                  -9-\n",
      "\f",
      "SPLOT (Jul95)                 noao.onedspec                SPLOT (Jul95)\n",
      "\n",
      "\n",
      "\n",
      "        n   Do the fitting but leave the spectrum unchanged  (a  NOP  on\n",
      "            the  spectrum).   This  is  useful to play with the spectrum\n",
      "            using the capabilities of ICFIT.\n",
      "        \n",
      "        q   Quit  and  don't  do  any  fitting.   The  spectrum  is  not \n",
      "            modified.\n",
      "    \n",
      "    u   Adjust  the user coordinate scale.  There are three options, 'd'\n",
      "        mark a position with the  cursor  and  doppler  shift  it  to  a\n",
      "        specified  value,  'z'  mark  a  position  with  the  cursor and\n",
      "        zeropoint shift it  to  a  specified  value,  or  'l'  mark  two\n",
      "        positions   and   enter   two  values  to  define  a  linear  (in \n",
      "        wavelength) dispersion scale.  The  units  used  for  input  are\n",
      "        those  currently  displayed.   A  wavelength  scale set this way\n",
      "        will  be  used  for  other  spectra  which  are  not  dispersion \n",
      "        corrected.\n",
      "    \n",
      "    v   Toggle  to  a velocity scale using the position of the cursor as\n",
      "        the velocity origin and back.\n",
      "    \n",
      "    w   Window the graph.  For further help type '?'  to  the  \"window:\"\n",
      "        prompt  or  see  help under \u000egtools\u000f.  To cancel the windowing use\n",
      "        'a'.\n",
      "    \n",
      "    x   \"Etch-a-sketch\"  mode.  Straight   lines   are   drawn   between \n",
      "        successive  positions  of the cursor. Requires 2 cursor settings\n",
      "        in x.  The nearest pixels are used as the endpoints.  To draw  a\n",
      "        line  between  arbitrary  y  values  first use 'j' to adjust the\n",
      "        endpoints or set the \"xydraw\" option.\n",
      "    \n",
      "    y   Overplot standard star values from a calibration file.\n",
      "    \n",
      "    z   Zoom the graph by a factor of 2 in x.\n",
      "    \n",
      "    (   In multiaperture spectra go to the  spectrum  in  the  preceding\n",
      "        image  line.   If  there  is only one line go to the spectrum in\n",
      "        the preceding band.\n",
      "    \n",
      "    )   In multiaperture spectra go to the  spectrum  in  the  following\n",
      "        image  line.   If  there  is only one line go to the spectrum in\n",
      "        the following band.\n",
      "    \n",
      "    #   Get  a  different  line  in   multiaperture   spectra   or   two \n",
      "        dimensional images.  The aperture/line/column is queried.\n",
      "    \n",
      "    %   Get a different band in a three dimensional image.\n",
      "    \n",
      "    $   Switch    between   physical   pixel   coordinates   and   world  \n",
      "        (dispersion) coordinates.\n",
      "    \n",
      "\n",
      "\n",
      "\n",
      "\n",
      "                                 -10-\n",
      "\f",
      "SPLOT (Jul95)                 noao.onedspec                SPLOT (Jul95)\n",
      "\n",
      "\n",
      "\n",
      "    -   Subtract the fits generated by the 'd'  (deblend),  'k'  (single\n",
      "        profile  fit),  and  'h'  (gaussian  of  specified  width).  The\n",
      "        region to be subtracted is marked with two cursor positions.\n",
      "    \n",
      "    ',' Shift the graph window to the left.\n",
      "    \n",
      "    .   Shift the graph window to the right.\n",
      "    \n",
      "    I   Force a fatal error interrupt to leave the graph.  This  is  used\n",
      "        because  the  normal  interrupt  character is ignored in graphics\n",
      "        mode.\n",
      "    \n",
      "    \n",
      "    :show\n",
      "        Page the full output of  the  previous  deblend  and  equivalent\n",
      "        width measurements.\n",
      "    \n",
      "    :log\n",
      "        Enable  logging  of  measurements  to  the file specified by the\n",
      "        parameter \u000esave\u000f_\u000efile\u000f.  When the program is first entered  logging\n",
      "        is  enabled (provided a log file is specified).  There is no way\n",
      "        to change the file name from within the program.\n",
      "    \n",
      "    :nolog\n",
      "        Disable logging of measurements.\n",
      "    \n",
      "    :dispaxis <val>\n",
      "        Show or change dispersion axis for 2D images.\n",
      "    \n",
      "    :nsum <val>\n",
      "        Show or change summing for 2D images.\n",
      "    \n",
      "    :units <value>\n",
      "        Change the coordinate units in the plot.   See  below  for  more\n",
      "        information.\n",
      "    \n",
      "    :# <comment>\n",
      "        Add comment to logfile.\n",
      "    \n",
      "    Labels:\n",
      "        :label <label> <format>\n",
      "            Add a label at the cursor position.\n",
      "        \n",
      "        :mabove <label> <format>\n",
      "            Add  a  tick mark and label above the spectrum at the cursor\n",
      "            position.\n",
      "        \n",
      "        :mbelow <label> <format>\n",
      "            Add a tick mark and label below the spectrum at  the  cursor\n",
      "            position.\n",
      "        \n",
      "        The  label  must  be  quoted  if  it  contains  blanks.  A label\n",
      "\n",
      "\n",
      "                                 -11-\n",
      "\f",
      "SPLOT (Jul95)                 noao.onedspec                SPLOT (Jul95)\n",
      "\n",
      "\n",
      "\n",
      "        beginning with % (i.e. %.2f) is treated as a format  for  the  x\n",
      "        cursor  position.   The  optional  format is a gtext string (see\n",
      "        help on \"cursors\").   The  labels  are  not  remembered  between\n",
      "        redraws.\n",
      "    \n",
      "    \n",
      "    :auto [yes|no]\n",
      "        Enable/disable autodraw option\n",
      "    \n",
      "    :zero [yes|no]\n",
      "        Enable/disable zero baseline option\n",
      "    \n",
      "    :xydraw [yes|no]\n",
      "        Enable/disable xydraw option\n",
      "    \n",
      "    :hist [yes|no]\n",
      "        Enable/disable histogram line type option\n",
      "    \n",
      "    :nosysid [yes|no]\n",
      "        Enable/disable system ID option\n",
      "    \n",
      "    :wreset [yes|no]\n",
      "        Enable/disable window reset for new spectra option\n",
      "    \n",
      "    :flip [yes|no]\n",
      "        Enable/disable the flipped coordinates option\n",
      "    \n",
      "    :overplot [yes|no]\n",
      "        Enable/disable the permanent overplot option\n",
      "    \n",
      "    \n",
      "    \n",
      "    :/help\n",
      "        Get help on GTOOLS options.\n",
      "    \n",
      "    :.help\n",
      "        Get help on standard cursor mode options\n",
      "    \n",
      "    \n",
      "PROFILE FITTING AND DEBLENDING\n",
      "    The  single  profile  ('k')  and  multiple  profile deblending ('d')\n",
      "    commands fit gaussian, lorentzian, and voigt line  profiles  with  a\n",
      "    linear  background.   The  single profile fit, 'k' key, is a special\n",
      "    case of the multiple profile fitting designed to be simple  to  use.\n",
      "    Two  cursor positions define the region to be fit and a fixed linear\n",
      "    continuum.  The second key is used to select the type of profile  to\n",
      "    fit  with  'g'  for gaussian, 'l' for lorentzian, and 'v' for voigt.\n",
      "    Any other second key  will  default  to  a  gaussian  profile.   The\n",
      "    profile  center, peak strength, and width(s) are then determined and\n",
      "    the results are printed on the status line  and  in  the  log  file.\n",
      "    The meaning of these quantities is described later.  The fit is also\n",
      "    overplotted and may be subtracted  from  the  spectrum  subsequently\n",
      "\n",
      "\n",
      "                                 -12-\n",
      "\f",
      "SPLOT (Jul95)                 noao.onedspec                SPLOT (Jul95)\n",
      "\n",
      "\n",
      "\n",
      "    with the '-' key.\n",
      "    \n",
      "    The  more  complex deblending function, 'd' key, defines the fitting\n",
      "    region and initial linear continuum in the same way with two  cursor\n",
      "    positions.   The  continuum  may  be  included  in the fitting as an\n",
      "    option.  The lines to be fit are entered with the  cursor  near  the\n",
      "    line  center  ('g' for gaussian, 'l' for lorentzian, 'v' for voigt),\n",
      "    by typing the wavelengths ('t'), or read from  a  file  ('f').   The\n",
      "    latter  two  methods  are useful if the wavelengths of the lines are\n",
      "    known accurately and if fits restricting the  absolute  or  relative\n",
      "    positions  of  the lines will be used.  The 't' key is restricted to\n",
      "    gaussian fits only.\n",
      "    \n",
      "    The 'f' key asks for a line list file.  The format of this file  has\n",
      "    one or more columns.  The columns are the wavelength, the peak value\n",
      "    (relative to the continuum with negative values  being  absorption),\n",
      "    the  profile type (gaussian, lorentzian, or voigt), and the gaussian\n",
      "    and/or lorentzian FWHM.  End columns may be missing or INDEF  values\n",
      "    may  be  used to have values be approximated.  Below are examples of\n",
      "    the file line formats\n",
      "    \n",
      "            wavelength\n",
      "            wavelength peak\n",
      "            wavelength peak (gaussian|lorenzian|voigt)\n",
      "            wavelength peak gaussian gfwhm\n",
      "            wavelength peak lorentzian lfwhm\n",
      "            wavelength peak voigt gfwhm\n",
      "            wavelength peak voigt gfwhm lfwhm\n",
      "    \n",
      "            1234.5                  <- Wavelength only\n",
      "            1234.5 -100             <- Wavelength and peak\n",
      "            1234.5 INDEF v          <- Wavelength and profile type\n",
      "            1234.5 INDEF g 12       <- Wavelength and gaussian FWHM\n",
      "    \n",
      "    where peak is the peak value, gfwhm is the gaussian FWHM, and  lfwhm\n",
      "    is the lorentzian FWHM.  This format is the same as used by \u000efitprofs\u000f\n",
      "    and also by \u000eartdata\u000f.\u000emk1dspec\u000f (except in the latter case the peak  is\n",
      "    normalized to a continuum of 1).\n",
      "    \n",
      "    There  are  four  queries made to define the set of parameters to be\n",
      "    fit or constrained.  The positions may  be  held  \"fixed\"  at  their\n",
      "    input  values,  allowed to shift by a \"single\" offset from the input\n",
      "    values, or \"all\" positions may be  fit  independently.   The  widths\n",
      "    may  be  constrained to a \"single\" value or \"all\" fit independently.\n",
      "    The linear background may be included in the fit or  kept  fixed  at\n",
      "    that input using the cursor.\n",
      "    \n",
      "    As  noted  above,  sometimes the absolute or relative wavelengths of\n",
      "    the lines are known a priori and this information may be entered  by\n",
      "    typing  the wavelengths explicitly using the 't' option or read from\n",
      "    a file using the 'f'  option  during  marking.   In  this  case  one\n",
      "    should  fix  or fit a single shift for the position.  The latter may\n",
      "\n",
      "\n",
      "                                 -13-\n",
      "\f",
      "SPLOT (Jul95)                 noao.onedspec                SPLOT (Jul95)\n",
      "\n",
      "\n",
      "\n",
      "    be useful if the lines are known but there is a  measurable  doppler\n",
      "    shift.\n",
      "    \n",
      "    After  the fit, the modeled lines are overplotted.  The line center,\n",
      "    flux, equivalent width, and full width half maxima  are  printed  on\n",
      "    the  status line for the first line.  The values for the other lines\n",
      "    and the RMS of the fit may be examined by scrolling the status  line\n",
      "    using the '+', '-', and 'r' keys.  To continue enter 'q'.\n",
      "    \n",
      "    The  fitting  may  be  repeated  with different options until exited\n",
      "    with 'q'.  For each line in the blend  the  line  center,  continuum\n",
      "    intensity  at the line center, the core intensity above or below the\n",
      "    continuum, the FWHM for the gaussian and lorentzian parts, the  flux\n",
      "    above  or below the continuum, and the equivalent width are recorded\n",
      "    in the log file.  All these  parameters  except  the  continuum  are\n",
      "    based  on  the  fitted  analytic  profiles.   Thus,  even though the\n",
      "    fitted  region  may  not  extend  into  the  wings  of  a  line  the \n",
      "    equivalent  width  measurements  include  the  wings  in  the fitted\n",
      "    profile.  For direct integration of the flux use the 'e' key.\n",
      "    \n",
      "    The fitted model may be subtracted from the data (after exiting  the\n",
      "    deblending  function) using the '-' (minus) keystroke to delimit the\n",
      "    region for which the subtraction is to  be  performed.  This  allows\n",
      "    you  to fit a portion of a line which may be contaminated by a blend\n",
      "    and then subtract away the entire  line  to  examine  the  remaining\n",
      "    components.\n",
      "    \n",
      "    The   fitting   uses   an   interactive   algorithm   based  on  the \n",
      "    Levenberg-Marquardt method.  The iterations attempt to  improve  the\n",
      "    fit  by  varying the parameters along the gradient of improvement in\n",
      "    the chi square.  This method requires that the  initial  values  for\n",
      "    the  parameters  be  close  enough  that  the  gradient leads to the\n",
      "    correct solution rather than an incorrect local minimum in  the  chi\n",
      "    square.  The initial values are determined as follows:\n",
      "    \n",
      "        1.  If the lines are input from a data file then those values\n",
      "            in the file are used.  Missing information is determined\n",
      "            as below.\n",
      "        2.  The line centers are those specified by the user\n",
      "            either by marking with the cursor, entering the wavelenths,\n",
      "            for read from a file.\n",
      "        3.  The initial widths are obtained by dividing the width of\n",
      "            the marked fitting region by the number of lines and then\n",
      "            dividing this width by a factor depending on the profile\n",
      "            type.\n",
      "        4.  The initial peak intensities are the data values at the\n",
      "            given line centers with the marked continuum subtracted.\n",
      "    \n",
      "    Note  that  each  time a new fitting option is specified the initial\n",
      "    parameters are those from the previous fits.  Thus  the  results  do\n",
      "    depend  on the history of previous fits until the fitting is exited.\n",
      "    Within  each  fit  an  iteration  of  parameters  is  performed   as \n",
      "\n",
      "\n",
      "                                 -14-\n",
      "\f",
      "SPLOT (Jul95)                 noao.onedspec                SPLOT (Jul95)\n",
      "\n",
      "\n",
      "\n",
      "    described next.\n",
      "    \n",
      "    The  iteration  is  more likely to fail if one initially attempts to\n",
      "    fit too many parameters simultaneously.  A constrained  approach  to\n",
      "    the   solution   is  obtained  by  iterating  starting  with  a  few \n",
      "    parameters  and  then  adding  more  parameters  as   the   solution \n",
      "    approaches  the  true chi square minimum.  This is done by using the\n",
      "    solutions from the more constrained options as  the  starting  point\n",
      "    for  the less constrained options.  In particular, the positions and\n",
      "    a single width are fit first with fixed background.   Then  multiple\n",
      "    widths and the background are added.\n",
      "    \n",
      "    To  conclude,  here are some general comments.  The most restrictive\n",
      "    (fixed positions and single width(s)) will give odd results  if  the\n",
      "    initial  positions  are  not  close  to  the true centers.  The most\n",
      "    general (simultaneous positions, widths, and  background)  can  also\n",
      "    lead  to incorrect results by using unphysically different widths to\n",
      "    make one line very narrow and another very broad in  an  attempt  to\n",
      "    fit  very  blended  lines.   The algorithm works well when the lines\n",
      "    are not severely blended and the shapes of the lines  are  close  to\n",
      "    the profile type.\n",
      "    \n",
      "    \n",
      "CENTROID, FLUX, AND EQUIVALENT WIDTH DETERMINATIONS\n",
      "    There  are  currently five techniques in SPLOT to measure equivalent\n",
      "    widths   and   other   line   profile   parameters.   The   simplest  \n",
      "    (conceptually)  is  by  integration  of the pixel values between two\n",
      "    marked pixels. This is invoked  with the 'e'  keystroke.   The  user\n",
      "    marks  the  two  edges  of  the line at the continuum.  The measured\n",
      "    line center, contiuum value, line flux,  and  equivalent  width  are\n",
      "    given by:\n",
      "    \n",
      "            center = sum (w(i) * (I(i)-C(i))**3/2) / sum ((I(i)-C(i))**3/2)\n",
      "            continuum = C(midpoint)\n",
      "            flux = sum ((I(i)-C(i)) * (w(i2) - w(i1)) / (i2 - i2)\n",
      "            eq. width = sum (1 - I(i)/C(i))\n",
      "    \n",
      "    where  w(i) is the wavelength of pixel i,  i1 and i2 are the nearest\n",
      "    integer pixel limits of the integrated  wavelength  range,  I(i)  is\n",
      "    the  data  value of pixel i, C(i) is the continuum at pixel (i), and\n",
      "    the sum is over the marked range of  pixels.   The  continuum  is  a\n",
      "    linear   function   between  the  two  points  marked.   The  factor \n",
      "    mulitplying the  continuum  subtracted  pixel  values  in  the  flux\n",
      "    calculation  is  the  wavelength interval per pixel so that the flux\n",
      "    integration is done in wavelength units.   (See  the  discussion  at\n",
      "    the end of this section concerning flux units).\n",
      "    \n",
      "    The  most  complex  method  for computing line profile parameters is\n",
      "    performed by the  profile  fitting  and  deblending  commands  which\n",
      "    compute  a  non-linear  least-squares fit to the line(s).  These are\n",
      "    invoked with the 'd' or 'k'  keystroke.   These  were  described  in\n",
      "    detail previously.\n",
      "\n",
      "\n",
      "                                 -15-\n",
      "\f",
      "SPLOT (Jul95)                 noao.onedspec                SPLOT (Jul95)\n",
      "\n",
      "\n",
      "\n",
      "    The  fourth  and fifth methods, selected with the 'h' key, determine\n",
      "    the equivalent width from a gaussian profile defined by  a  constant\n",
      "    continuum  level  \"cont\",  a core depth \"core\", and the width of the\n",
      "    line \"dw\" at some intermediate level \"Iw\".\n",
      "    \n",
      "         I(w) = cont + core * exp (-0.5*((w-center)/sigma)**2)\n",
      "         sigma = dw / 2 / sqrt (2 * ln (core/Iw))\n",
      "         fwhm = 2.355 * sigma\n",
      "         flux = core * sigma * sqrt (2*pi)\n",
      "         eq. width = abs (flux) / cont\n",
      "    \n",
      "    where w is wavelength.\n",
      "    \n",
      "    For ease of use with  a  large  number  of  lines  only  one  cursor\n",
      "    position  is  used  to  mark  the  center  of  the line and one flux\n",
      "    level.  Note that both  the  x  any  y  cursor  positions  are  read\n",
      "    simultaneously.   From  the  x  cursor  position the line center and\n",
      "    core intensity are determined.   The  region  around  the  specified\n",
      "    line  position  is  searched for a minimum or maximum and a parabola\n",
      "    is fit to better define the extremum.\n",
      "    \n",
      "    The two methods based on the simple gaussian  profile  model  differ\n",
      "    in  how  they use the y cursor position and what part of the line is\n",
      "    used.  After typing 'h' one selects the method and  whether  to  use\n",
      "    the  left,  right,  or both sides of the line by a second keystroke.\n",
      "    The 'l', 'r', and 'k' keys require a continuum level of one.  The  y\n",
      "    cursor  position  defines where the width of the line is determined.\n",
      "    The 'a', 'b', and 'c' keys use the y cursor position to  define  the\n",
      "    continuum  and  the  line  width is determined at the point half way\n",
      "    between the line core and the continuum.  In both  cases  the  width\n",
      "    at  the appropriate level is determined by the interception of the y\n",
      "    level with the data using linear interpolation between pixels.   The\n",
      "    one-sided  measurements  use  the half-width on the appropriate side\n",
      "    and the two-sided measurements use the full-width.\n",
      "    \n",
      "    The adopted gaussian line profile is drawn over the spectrum and the\n",
      "    horizontal  and  vertical lines show the measured line width and the\n",
      "    depth of the line center from the continuum.  This  model  may  also\n",
      "    be subtracted from the spectrum using the '-' key.\n",
      "    \n",
      "    The  major advantages of these methods are that only a single cursor\n",
      "    setting (both the x and y positions are used) is required  and  they\n",
      "    are  fast.   The  'l',  'r',  and  'k' keys give more flexibility in\n",
      "    adjusting  the  width  of  the  gaussian  line  at  the  expense  or \n",
      "    requiring  that the spectrum be normalized to a unit continuum.  The\n",
      "    'a', 'b', and 'c' keys allow measurements at any continuum level  at\n",
      "    the  expense  of  only  using  the  half flux level to determine the\n",
      "    gaussian line width.\n",
      "    \n",
      "    All these methods print and record in the log file the line  center,\n",
      "    continuum intensity at the line center, the flux, and the equivalent\n",
      "    width.  For the 'e' key the flux is directly  integrated  while  for\n",
      "\n",
      "\n",
      "                                 -16-\n",
      "\f",
      "SPLOT (Jul95)                 noao.onedspec                SPLOT (Jul95)\n",
      "\n",
      "\n",
      "\n",
      "    the  other  methods the fitted gaussian is integrated.  In addition,\n",
      "    for the profile fitting methods the core intensity  above  or  below\n",
      "    the  continuum,  and  the  FWHMs  are also printed.  A zero value is\n",
      "    record for the gaussian or lorentzian width  if  the  value  is  not\n",
      "    determined   by  profile  fit.   A  brief  line  of  data  for  each \n",
      "    measurement is printed on the graphics  status  line.   To  get  the\n",
      "    full  output  and  the  output  from  previous  measurements use the\n",
      "    command \":show\".  This pages the output on the text output which may\n",
      "    involve erasing the graphics.\n",
      "    \n",
      "    The  integrated fluxes for all the methods  are in the same units as\n",
      "    the intensities and the integration is done in the same units as the\n",
      "    plotted  scale.   It  is  the user's responsibility to keep track of\n",
      "    the flux units.  As a caution, if the  data  is  in  flux  per  unit\n",
      "    frequency,  say  ergs/cm2/sec/hz,  and  the  dispersion in Angstroms\n",
      "    then the integrated flux will not be in the usual units but will  be\n",
      "    A-ergs/cm2/sec/hz.   For  flux  in  wavelength units, ergs/cm2/sec/A\n",
      "    and the dispersion scale in Angstroms the integrated  flux  will  be\n",
      "    correct; i.e. ergs/cm2/sec.\n",
      "    \n",
      "    Note  that  one can compute integrated flux in pixel units  by using\n",
      "    the '$' to plot in pixels.  This is appropriate if the pixel  values\n",
      "    are  in  data  numbers  or photon counts to get total data number or\n",
      "    photons.\n",
      "    \n",
      "    \n",
      "ERROR ESTIMATES\n",
      "    The deblending ('d'), single  profile  fitting  ('k'),  and  profile\n",
      "    integration  and  equivalent  width  ('e')  functions  provide error\n",
      "    estimates for the measured parameters.  This requires  a  model  for\n",
      "    the  pixel  sigmas.   Currently  this  model  is  based on a Poisson\n",
      "    statistics model of the data.  The model parameters are  a  constant\n",
      "    gaussian  sigma and an \"inverse gain\" as specified by the parameters\n",
      "    \u000esigma0\u000f and \u000einvgain\u000f.  These parameters are used to compute the  pixel\n",
      "    value sigma from the following formula:\n",
      "    \n",
      "        sigma**2 = sigma0**2 + invgain * I\n",
      "    \n",
      "    where  I  is  the  pixel  value  and  \"**2\"  means the square of the\n",
      "    quantity.\n",
      "    \n",
      "    If either the constant sigma or the inverse gain  are  specified  as\n",
      "    INDEF  or  with values less than zero then no noise model is applied\n",
      "    and no error estimates are computed.  Also if the  number  of  error\n",
      "    samples  is less than 10 then no error estimates are computed.  Note\n",
      "    that for processed spectra this noise model will  not  generally  be\n",
      "    the  same  as the detector readout noise and gain.  These parameters\n",
      "    would need to be estimated in some way using the statistics  of  the\n",
      "    spectrum.   The use of an inverse gain rather than a direct gain was\n",
      "    chosen to  allow  a  value  of  zero  for  this  parameter.   This\n",
      "    provides a model with constant uncertainties.\n",
      "    \n",
      "\n",
      "\n",
      "                                 -17-\n",
      "\f",
      "SPLOT (Jul95)                 noao.onedspec                SPLOT (Jul95)\n",
      "\n",
      "\n",
      "\n",
      "    The direct profile integration error estimates are computed by error\n",
      "    propagation assuming independent pixel sigmas.  Also it  is  assumed\n",
      "    that  the  marked  linear  background  has  no  errors.   The  error \n",
      "    estimates are one sigma  estimates.   They  are  given  in  the  log\n",
      "    output  (which  may  also  be view without exiting the program using\n",
      "    the :show command) below the  value  to  which  they  apply  and  in\n",
      "    parenthesis.\n",
      "    \n",
      "    The  deblending  and  profile  fit  error  estimates are computed by\n",
      "    Monte-Carlo simulation.  The model is fit to  the  data  (using  the\n",
      "    sigmas)   and   this  model  is  used  to  describe  the  noise-free \n",
      "    spectrum.   A  number  of  simulations,  given  by  the   \u000enerrsample\u000f \n",
      "    parameter,  are  created  in which random gaussian noise is added to\n",
      "    the noise-free spectrum  using  the  pixel  sigmas  from  the  noise\n",
      "    model.   The  model  fitting  is  done  for  each simulation and the\n",
      "    absolute deviation of each fitted parameter to  model  parameter  is\n",
      "    recorded.   The  error  estimate  for the each parameter is then the\n",
      "    absolute deviation containing  68.3%  of  the  parameter  estimates.\n",
      "    This  corresponds  to  one  sigma  if  the distribution of parameter\n",
      "    estimates is gaussian though this method does not assume this.\n",
      "    \n",
      "    The Monte-Carlo technique  automatically  includes  all  effects  of\n",
      "    parameter  correlations  and  does not depend on any approximations.\n",
      "    However the computation  of  the  errors  does  take  a  significant\n",
      "    amount  of  time.   The amount of time and the accuracy of the error\n",
      "    estimates depend on how many simulations are done.  A  small  number\n",
      "    of  samples  (of  order  10)  is  fast but gives crude estimates.  A\n",
      "    large number (greater than 100) is slow but  gives  good  estimates.\n",
      "    A compromise value of 50 is recommended for many applications.\n",
      "    \n",
      "    \n",
      "UNITS\n",
      "    The  dispersion  units  capability  of  \u000esplot\u000f  allows specifying the\n",
      "    units with the \u000eunits\u000f parameter and interactively changing the  units\n",
      "    with  the \":units\" command.  In addition the 'v' key allows plotting\n",
      "    in velocity units with the zero point velocity defined by the cursor\n",
      "    position.\n",
      "    \n",
      "    The  units are specified by strings having a unit type from the list\n",
      "    below along with the possible  preceding  modifiers,  \"inverse\",  to\n",
      "    select  the  inverse  of  the  unit  and \"log\" to select logarithmic\n",
      "    units.  For  example  \"log  angstroms\"  to  plot  the  logarithm  of \n",
      "    wavelength  in  Angstroms and \"inv microns\" to plot inverse microns.\n",
      "    The various identifiers may be abbreviated as words but  the  syntax\n",
      "    is  not  sophisticated  enough  to  recognized  standard  scientific \n",
      "    abbreviations except as noted below.\n",
      "    \n",
      "               angstroms - Wavelength in Angstroms\n",
      "              nanometers - Wavelength in nanometers\n",
      "            millimicrons - Wavelength in millimicrons\n",
      "                 microns - Wavelength in microns\n",
      "             millimeters - Wavelength in millimeters\n",
      "\n",
      "\n",
      "                                 -18-\n",
      "\f",
      "SPLOT (Jul95)                 noao.onedspec                SPLOT (Jul95)\n",
      "\n",
      "\n",
      "\n",
      "              centimeter - Wavelength in centimeters\n",
      "                  meters - Wavelength in meters\n",
      "                   hertz - Frequency in hertz (cycles per second)\n",
      "               kilohertz - Frequency in kilohertz\n",
      "               megahertz - Frequency in megahertz\n",
      "                gigahertz - Frequency in gigahertz\n",
      "                     m/s - Velocity in meters per second\n",
      "                    km/s - Velocity in kilometers per second\n",
      "                      ev - Energy in electron volts\n",
      "                     kev - Energy in kilo electron volts\n",
      "                     mev - Energy in mega electron volts\n",
      "    \n",
      "                      nm - Wavelength in nanometers\n",
      "                      mm - Wavelength in millimeters\n",
      "                      cm - Wavelength in centimeters\n",
      "                       m - Wavelength in meters\n",
      "                      Hz - Frequency in hertz (cycles per second)\n",
      "                     KHz - Frequency in kilohertz\n",
      "                     MHz - Frequency in megahertz\n",
      "                     GHz - Frequency in gigahertz\n",
      "                      wn - Wave number (inverse centimeters)\n",
      "    \n",
      "    The velocity units require a trailing value and  unit  defining  the\n",
      "    velocity  zero  point.   For  example to plot velocity relative to a\n",
      "    wavelength of 1 micron the unit string would be:\n",
      "    \n",
      "            km/s 1 micron\n",
      "    \n",
      "    Some additional examples of units strings are:\n",
      "    \n",
      "            milliang\n",
      "            megahertz\n",
      "            inv mic\n",
      "            log hertz\n",
      "            m/s 3 inv mic\n",
      "    \n",
      "    \n",
      "EXAMPLES\n",
      "    This task has a very large number of commands and capabilities which\n",
      "    are  interactive  and   graphical.   Therefore it these examples are\n",
      "    fairly superficial.  The user is  encouraged  to  simply  experiment\n",
      "    with the task.  To get some help use the '?' or '/' keys.\n",
      "    \n",
      "    1.   To  plot  a  single spectrum and record any measurements in the\n",
      "    file 'ngc7662':\n",
      "    \n",
      "            cl> splot spectrum save_file=ngc7662\n",
      "    \n",
      "    2.  To force all plots to display zero as the minimum y value:\n",
      "    \n",
      "            cl> splot spectrum options=\"auto, zero\"\n",
      "    \n",
      "\n",
      "\n",
      "                                 -19-\n",
      "\f",
      "SPLOT (Jul95)                 noao.onedspec                SPLOT (Jul95)\n",
      "\n",
      "\n",
      "\n",
      "    Note that the options auto  and  zero  can  be  abbreviated  to  one\n",
      "    character.\n",
      "    \n",
      "    3.   To  successively  display  graphs for a set of spectra with the\n",
      "    wavelength limits set to 3000 to 6000 angstroms:\n",
      "    \n",
      "            cl> splot spec* xmin=3000 xmax=6000\n",
      "    \n",
      "    4.  To make batch plots create a file containing the  simple  cursor\n",
      "    command\n",
      "    \n",
      "            0 0 0 q\n",
      "    \n",
      "    or an empty file and then execute one of the following:\n",
      "    \n",
      "            cl> splot spec* graphics=stdplot cursor=curfile\n",
      "            cl> set stdvdm=splot.mc\n",
      "            cl> splot spec* graphics=stdvdm cursor=curfile\n",
      "            cl> splot spec* cursor=curfile >G splot.mc\n",
      "    \n",
      "    The  first  example  sends  the  plots  to  the standard plot device\n",
      "    specified by the environment variable \"stdplot\".  The  next  example\n",
      "    sends  the  plots  to  the  standard  virtual  display metacode file\n",
      "    specified by the environment variable \"stdvdm\".   The  last  example\n",
      "    redirects  the  standard graphics to the metacode file splot.mc.  To\n",
      "    spool the metacode file the tasks \u000estdplot\u000f and \u000egkimosaic\u000f may be used.\n",
      "    For  a  large  number of plots \u000egkimosaic\u000f is preferred since it places\n",
      "    many plots on one page instead of one plot per page.  The other  GKI\n",
      "    tasks  in  the \u000eplot\u000f package may be used to examine the contents of a\n",
      "    metacode file.  A simple script call \u000ebplot\u000f  is  provided  which  has\n",
      "    the default cursor file given above and default device of \"stdplot\".\n",
      "    \n",
      "    5.   More complex plots may be produced both interactively using the\n",
      "    '=' key or the \":.snap\"  or \":.write\" commands  or  by  preparing  a\n",
      "    script of cursor commands.\n",
      "    \n",
      "    \n",
      "REVISIONS\n",
      "    \n",
      "    SPLOT V2.11\n",
      "        The  profile  fitting  and  deblending  was  expanded to include\n",
      "        lorentzian and voigt profiles.  A  new  parameter  controls  the\n",
      "        number of Monte-Carlo samples used in the error estimates.\n",
      "        \n",
      "        Added colon commands for labeling.\n",
      "    \n",
      "    SPLOT V2.10.3\n",
      "        The  'u'  key  now  allows  three  ways to adjust the dispersion\n",
      "        scale.  The old method of setting a linear dispersion  scale  is\n",
      "        retained  as  well as adding a doppler and zeropoint adjustment.\n",
      "        The coordinates are input in the currently displayed units.\n",
      "        \n",
      "\n",
      "\n",
      "                                 -20-\n",
      "\f",
      "SPLOT (Jul95)                 noao.onedspec                SPLOT (Jul95)\n",
      "\n",
      "\n",
      "\n",
      "        If a wavelength scale is set with either 'p'  or  'u'  then  any\n",
      "        other  spectra  which  are  not  dispersion corrected will adopt\n",
      "        this wavelength scale.\n",
      "        \n",
      "        The '(' and ')' keys cycle through bands if there  is  only  one\n",
      "        spectrum.\n",
      "        \n",
      "        A  new  option,  \"flip\", has been added to the options parameter\n",
      "        to select that the spectra are plotted in decreasing wavelength.\n",
      "        \n",
      "        A  new  options  \"overplot\"  has  been  added  to  the   options \n",
      "        parameters  and  colon commands to permanently set overplotting.\n",
      "        This allows quickly overplotting many spectra.\n",
      "        \n",
      "        This task will now write out the current display  units  in  the\n",
      "        \"units_display\"  WCS  attribute.   The  default  task units have\n",
      "        been changed to \"\"  to  allow  picking  up  the  \"units_display\"\n",
      "        units if defined.\n",
      "        \n",
      "        The  deblending  and  gaussian  fitting  code now subsamples the\n",
      "        profile by a factor of 3 and fits the data pixels to the sum  of\n",
      "        the  three subsamples.  This accounts for finite sampling of the\n",
      "        data.\n",
      "        \n",
      "        Error estimates are provided for the deblending ('d'),  gaussian\n",
      "        fitting ('k'), and profile integration ('e') results.\n",
      "    \n",
      "    SPLOT V2.10\n",
      "        This  is a new version with a significant number of changes.  In\n",
      "        addition to the task changes the other general  changes  to  the\n",
      "        spectroscopy  packages  also  apply.   In  particular, long slit\n",
      "        spectra and spectra with nonlinear dispersion functions  may  be\n",
      "        used  with  this task.  The image header or package dispaxis and\n",
      "        nsum parameters allow automatically extracting spectra  from  2D\n",
      "        image.   The  task  parameters  have  been modified primarily to\n",
      "        obtain the desired  initial  graph  without  needing  to  do  it\n",
      "        interactively.   In  particular,  the new band parameter selects\n",
      "        the  band  in  3D  images,  the  units  parameter  selects   the \n",
      "        dispersion  units,  and  the  new histogram, nosysid, and xydraw\n",
      "        options select histogram line type, whether to include a  system\n",
      "        ID   banner,  and  allow  editing  a  spectrum  using  different \n",
      "        endpoint criteria.\n",
      "        \n",
      "        Because nearly every key is used there has been some  shuffling,\n",
      "        consolidating,  or  elimination of keys.  One needs to check the\n",
      "        run time '?' help or the help to determine the key changes.\n",
      "        \n",
      "        Deblending  may  now  use   any   number   of   components   and \n",
      "        simultaneous  fitting  of a linear background.  A new simplified\n",
      "        version of Gaussian fitting for a single line has been added  in\n",
      "        the  'k'  key.   The  old  'k',  'h',  and  'v' equivalent width\n",
      "        commands are all part of the single 'h' command using  a  second\n",
      "\n",
      "\n",
      "                                 -21-\n",
      "\f",
      "SPLOT (Jul95)                 noao.onedspec                SPLOT (Jul95)\n",
      "\n",
      "\n",
      "\n",
      "        key  to  select a specific option.  The Gaussian line model from\n",
      "        these modes may now be subtracted from the spectrum in the  same\n",
      "        way   as  the  Gaussian  fitting.   The  one-sided  options,  in \n",
      "        particular, are interesting in this regard as a new capability.\n",
      "        \n",
      "        The arithmetic functions between two spectra  are  now  done  in\n",
      "        wavelength   with   resampling   to  a  common  dispersion  done \n",
      "        automatically.  The 't' key now provides for the full  power  of\n",
      "        the  ICFIT  package  to  be  used  on  a  spectrum for continuum\n",
      "        normalization, subtraction, or  line  and  cosmic  ray  removal.\n",
      "        The  'x' editing key may now use the nearest pixel values rather\n",
      "        than only the y cursor position to replace regions  by  straight\n",
      "        line  segments.   The  mode  is  selected  by  the  task  option \n",
      "        parameter \"xydraw\".\n",
      "        \n",
      "        Control over  the  graph  window  (plotting  limits)  is  better\n",
      "        integrated  so that redrawing, zooming, shifting, and the GTOOLS\n",
      "        window commands all work well together.  The new 'c' key  resets\n",
      "        the  window  to the full spectrum allowing the 'r' redraw key to\n",
      "        redraw the  current  window  to  clean  up  overplots  from  the\n",
      "        Gaussian fits or spectrum editing.\n",
      "        \n",
      "        The  dispersion units may now be selected and changed to be from\n",
      "        hertz to Mev and the log or inverse (for wave numbers) of  units\n",
      "        taken.   As  part  of  the  units  package  the 'v' key or colon\n",
      "        commands may be used  to  plot  in  velocity  relative  to  some\n",
      "        origin.   The  $  key  now easily toggles between the dispersion\n",
      "        units (whatever they may be) and pixels coordinates.\n",
      "        \n",
      "        Selection of spectra has become more complex with  multiaperture\n",
      "        and  long  slit  spectra.   New  keys allow selecting apertures,\n",
      "        lines, columns, and bands as well as quickly  scrolling  through\n",
      "        the  lines  in multiaperture spectra.  Overplotting is also more\n",
      "        general and consistent with other tasks by using the 'o' key  to\n",
      "        toggle  the  next  plot to be overplotted.  Overplots, including\n",
      "        those of the Gaussian line models, are now done in  a  different\n",
      "        line type.\n",
      "        \n",
      "        There  are  new colon commands to change the dispersion axis and\n",
      "        summing parameters for 2D image, to toggle logging, and also  to\n",
      "        put  comments  into  the  log file.  All the options may also be\n",
      "        set with colon commands.\n",
      "    \n",
      "    \n",
      "SEE ALSO\n",
      "    bplot, gtools, icfit, standard, package,  specplot,  graph,  implot,\n",
      "    fitprofs\n",
      "\n"
     ]
    }
   ],
   "source": [
    "splot_help_file = requests.get(j['cards'][0]['attachments'][0]['url'])\n",
    "print(splot_help_file.text)"
   ]
  }
 ],
 "metadata": {
  "kernelspec": {
   "display_name": "Python 3",
   "language": "python",
   "name": "python3"
  },
  "language_info": {
   "codemirror_mode": {
    "name": "ipython",
    "version": 3
   },
   "file_extension": ".py",
   "mimetype": "text/x-python",
   "name": "python",
   "nbconvert_exporter": "python",
   "pygments_lexer": "ipython3",
   "version": "3.8.2"
  }
 },
 "nbformat": 4,
 "nbformat_minor": 4
}
