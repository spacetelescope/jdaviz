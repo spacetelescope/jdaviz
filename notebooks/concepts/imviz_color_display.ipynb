{
 "cells": [
  {
   "cell_type": "markdown",
   "id": "7217354a-14fa-4f51-ba9d-c9dd681bfbef",
   "metadata": {},
   "source": [
    "## Proof of concept using Imviz to display RGB layers"
   ]
  },
  {
   "cell_type": "markdown",
   "id": "90c32d76-c1aa-47ad-aa4c-4d58ba280a4e",
   "metadata": {},
   "source": [
    "We start off by silencing warnings that can happen when loading data as well as deprecation warnings, for clarity:"
   ]
  },
  {
   "cell_type": "code",
   "execution_count": null,
   "id": "21ab7547-44c4-447e-9889-a3f0d9f37ec3",
   "metadata": {},
   "outputs": [],
   "source": [
    "import warnings\n",
    "warnings.simplefilter('ignore')"
   ]
  },
  {
   "cell_type": "markdown",
   "id": "cd336487-dc60-44f8-8fb5-4b604eabdc4f",
   "metadata": {},
   "source": [
    "Import modules needed for this notebook."
   ]
  },
  {
   "cell_type": "code",
   "execution_count": null,
   "id": "f21afb11-3f9f-4f21-8301-7c108d4db7fb",
   "metadata": {},
   "outputs": [],
   "source": [
    "from glue.core.component_link import ComponentLink\n",
    "from skimage.io import imread\n",
    "\n",
    "from jdaviz import Imviz"
   ]
  },
  {
   "cell_type": "markdown",
   "id": "699da430-3ecc-4a74-ad08-3fc5b6b567a5",
   "metadata": {},
   "source": [
    "Read in the RGB layers as different Numpy arrays."
   ]
  },
  {
   "cell_type": "code",
   "execution_count": null,
   "id": "03856648-38ac-4819-b5e7-aeacf4f5fbbd",
   "metadata": {},
   "outputs": [],
   "source": [
    "# Point filename to your RGB file (e.g., JPEG)\n",
    "filename = 'ogle_galaxy_in_color.jpg'\n",
    "\n",
    "im = imread(filename)\n",
    "im_r = im[:, :, 0][::-1, :]\n",
    "im_g = im[:, :, 1][::-1, :]\n",
    "im_b = im[:, :, 2][::-1, :]"
   ]
  },
  {
   "cell_type": "markdown",
   "id": "bad85e72-c882-4886-b8b2-f424fd034858",
   "metadata": {},
   "source": [
    "Start Imviz app and load RGB channels into different data layers."
   ]
  },
  {
   "cell_type": "code",
   "execution_count": null,
   "id": "5d0f5574-807a-4952-ba48-aae7d693860a",
   "metadata": {},
   "outputs": [],
   "source": [
    "imviz = Imviz()\n",
    "imviz.load_data(im_r, data_label='Red')\n",
    "imviz.load_data(im_g, data_label='Green')\n",
    "imviz.load_data(im_b, data_label='Blue')\n",
    "\n",
    "viewer = imviz.default_viewer\n",
    "\n",
    "imviz.app"
   ]
  },
  {
   "cell_type": "markdown",
   "id": "29286689-1936-452b-98c3-a52c7e06b408",
   "metadata": {},
   "source": [
    "Assign the different RGB layers."
   ]
  },
  {
   "cell_type": "code",
   "execution_count": null,
   "id": "39982c0c-0482-407c-8e57-c5a0029d0537",
   "metadata": {},
   "outputs": [],
   "source": [
    "viewer.state.color_mode = 'One color per layer'\n",
    "viewer.state.layers[0].color = 'red'\n",
    "viewer.state.layers[1].color = 'green'\n",
    "viewer.state.layers[2].color = 'blue'"
   ]
  },
  {
   "cell_type": "markdown",
   "id": "fa7b7dc0-6178-4cfa-b07a-717e30367f57",
   "metadata": {},
   "source": [
    "**Note:** If you blink, you need to run this again. Don't blink!"
   ]
  },
  {
   "cell_type": "code",
   "execution_count": null,
   "id": "d94c666d-99ce-4e94-b3d4-81744921e4ca",
   "metadata": {},
   "outputs": [],
   "source": []
  }
 ],
 "metadata": {
  "kernelspec": {
   "display_name": "Python 3",
   "language": "python",
   "name": "python3"
  },
  "language_info": {
   "codemirror_mode": {
    "name": "ipython",
    "version": 3
   },
   "file_extension": ".py",
   "mimetype": "text/x-python",
   "name": "python",
   "nbconvert_exporter": "python",
   "pygments_lexer": "ipython3",
   "version": "3.8.3"
  }
 },
 "nbformat": 4,
 "nbformat_minor": 5
}
