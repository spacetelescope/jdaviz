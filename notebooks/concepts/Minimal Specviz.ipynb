{
 "cells": [
  {
   "cell_type": "markdown",
   "metadata": {},
   "source": [
    "# A Minimal Specviz+notebook Workflow\n",
    "\n",
    "This notebook provides a short example of combining the Specviz interactive visualization tool of the `jdaviz` package with a more traditional non-interactive Python workflow.  The science case is loading a single 1D-spectrum (from the [Sloan Digital Sky Survey](https://www.sdss.org/)) and measuring the flux in a single spectral line (${\\rm H}\\alpha$)."
   ]
  },
  {
   "cell_type": "markdown",
   "metadata": {},
   "source": [
    "We begin by creating an instance of the `Specviz` helper class, which provides a range of conveniences for the discerning astronomy to easily work with the visualization tool.  Ending the cell with the `.app` attribute of that instance will show the viz tool."
   ]
  },
  {
   "cell_type": "code",
   "execution_count": null,
   "metadata": {},
   "outputs": [],
   "source": [
    "from jdaviz import Specviz\n",
    "\n",
    "specviz = Specviz()\n",
    "specviz.app"
   ]
  },
  {
   "cell_type": "markdown",
   "metadata": {},
   "source": [
    "The above is currently empty. While one could use the \"import\" option to find a local file on disk, a notebook workflow is more amenable to downloading and loading a spectrum directly in Python code.  To do this, we load our spectrum using the `specutils` package. This provides maximum flexibility because `Spectrum1D` objects can either be created from local data files, URLs (as shown below), or manually from user-provided arrays.\n",
    "\n",
    "We then use the `Specviz.load_data` method to load the data into the array - this should then immediately show the spectrum in the cell above. "
   ]
  },
  {
   "cell_type": "code",
   "execution_count": null,
   "metadata": {},
   "outputs": [],
   "source": [
    "import specutils\n",
    "\n",
    "spec_url = 'https://dr14.sdss.org/optical/spectrum/view/data/format=fits/spec=lite?plateid=1323&mjd=52797&fiberid=12'\n",
    "spec = specutils.Spectrum1D.read(spec_url, cache=True)\n",
    "\n",
    "specviz.load_spectrum(spec)"
   ]
  },
  {
   "cell_type": "markdown",
   "metadata": {},
   "source": [
    "That spectrum looks great! But the line we are looking for is pretty narrow.  We could use the UI to zoom, which can be done using the pan/zoom tool, but you can also execute the cell below to zoom the view in on the region around ${\\rm H}\\alpha$:"
   ]
  },
  {
   "cell_type": "code",
   "execution_count": null,
   "metadata": {},
   "outputs": [],
   "source": [
    "# zoom in on Halpha region\n",
    "v = specviz.app.get_viewer('spectrum-viewer')\n",
    "v.state.x_min = 6500\n",
    "v.state.x_max = 6750"
   ]
  },
  {
   "cell_type": "markdown",
   "metadata": {},
   "source": [
    "If the spectrum has uncertainties, we can display them as a shadded band around the spectral trace."
   ]
  },
  {
   "cell_type": "code",
   "execution_count": null,
   "metadata": {},
   "outputs": [],
   "source": [
    "v.show_uncertainties()"
   ]
  },
  {
   "cell_type": "markdown",
   "metadata": {},
   "source": [
    "If the spectrum has masked data points, we can mark them on the plot."
   ]
  },
  {
   "cell_type": "code",
   "execution_count": null,
   "metadata": {},
   "outputs": [],
   "source": [
    "v.show_mask()"
   ]
  },
  {
   "cell_type": "markdown",
   "metadata": {},
   "source": [
    "This erases the unceratinties and masks from the plot."
   ]
  },
  {
   "cell_type": "code",
   "execution_count": null,
   "metadata": {},
   "outputs": [],
   "source": [
    "v.clean()"
   ]
  },
  {
   "cell_type": "markdown",
   "metadata": {},
   "source": [
    "Now use the Glupyter range selection tool (expand the menu and choose the second tool), and select the area around the ${\\rm H}\\alpha$ line.  Then you can execute the cell below to get that selection into a format `specutils` understands:"
   ]
  },
  {
   "cell_type": "code",
   "execution_count": null,
   "metadata": {},
   "outputs": [],
   "source": [
    "line_region = specviz.get_spectral_regions()['Subset 1']\n",
    "line_region"
   ]
  },
  {
   "cell_type": "code",
   "execution_count": null,
   "metadata": {},
   "outputs": [],
   "source": [
    "# To reproduce the exact values this notebook was written assuming, uncomment the below\n",
    "# line_region = specutils.SpectralRegion(6557.48830955*u.angstrom, 6584.69919391*u.angstrom)"
   ]
  },
  {
   "cell_type": "markdown",
   "metadata": {},
   "source": [
    "Now with that region selected, we can build a Gaussian + Constant continuum model to fit the selected line, and then fit it to just the data in the selected region:"
   ]
  },
  {
   "cell_type": "code",
   "execution_count": null,
   "metadata": {},
   "outputs": [],
   "source": [
    "from astropy.modeling import models\n",
    "from specutils.fitting import fit_lines\n",
    "from  specutils import manipulation\n",
    "\n",
    "line_model_guess = models.Gaussian1D(mean=(line_region.lower + line_region.upper)/2, \n",
    "                                     stddev=3, \n",
    "                                     amplitude=1000) + models.Const1D(200)\n",
    "\n",
    "#fit that model to the selected region\n",
    "\n",
    "# after a bug fix, the below should just be a single line:\n",
    "# fit_lines(spec, line_model_guess, window=line_region)\n",
    "\n",
    "extracted = manipulation.extract_region(spec, line_region)\n",
    "extracted.mask[:] = False\n",
    "fitted_line = fit_lines(extracted, line_model_guess)\n",
    "\n",
    "fitted_line"
   ]
  },
  {
   "cell_type": "markdown",
   "metadata": {},
   "source": [
    "Now we plot that model with the spectrum to examine the fit:"
   ]
  },
  {
   "cell_type": "code",
   "execution_count": null,
   "metadata": {},
   "outputs": [],
   "source": [
    "import numpy as np\n",
    "from matplotlib import pyplot as plt\n",
    "from astropy import units as u\n",
    "\n",
    "plt.plot(spec.spectral_axis, spec.flux, lw=3)\n",
    "\n",
    "model_lamb = np.linspace(v.state.x_min, v.state.x_max, 1000)*u.angstrom\n",
    "plt.plot(model_lamb, fitted_line(model_lamb), '-', lw=2)\n",
    "\n",
    "plt.xlim(v.state.x_min, v.state.x_max)\n",
    "plt.ylim(v.state.y_min, v.state.y_max);"
   ]
  },
  {
   "cell_type": "markdown",
   "metadata": {},
   "source": [
    "Looks good! \n",
    "\n",
    "Now to achieve the final goal of a line flux measurement, we can integrate over the line: "
   ]
  },
  {
   "cell_type": "code",
   "execution_count": null,
   "metadata": {},
   "outputs": [],
   "source": [
    "from scipy.integrate import quad\n",
    "\n",
    "quad(fitted_line.unitless_model.left, 6500, 6700)[0] * fitted_line.return_units*spec.spectral_axis.unit"
   ]
  }
 ],
 "metadata": {
  "kernelspec": {
   "display_name": "Python 3",
   "language": "python",
   "name": "python3"
  },
  "language_info": {
   "codemirror_mode": {
    "name": "ipython",
    "version": 3
   },
   "file_extension": ".py",
   "mimetype": "text/x-python",
   "name": "python",
   "nbconvert_exporter": "python",
   "pygments_lexer": "ipython3",
   "version": "3.7.3"
  }
 },
 "nbformat": 4,
 "nbformat_minor": 4
}
