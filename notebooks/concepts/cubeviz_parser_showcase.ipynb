{
 "cells": [
  {
   "cell_type": "markdown",
   "id": "1cbc8201",
   "metadata": {},
   "source": [
    "This notebook showcases all the things that Cubeviz can load."
   ]
  },
  {
   "cell_type": "code",
   "execution_count": null,
   "id": "bcd50736",
   "metadata": {},
   "outputs": [],
   "source": [
    "import numpy as np\n",
    "from astropy import units as u\n",
    "from astropy.io import fits\n",
    "from astropy.nddata import StdDevUncertainty\n",
    "from astropy.utils.data import download_file\n",
    "from astropy.wcs import WCS\n",
    "from specutils import Spectrum1D\n",
    "\n",
    "from jdaviz import Cubeviz"
   ]
  },
  {
   "cell_type": "markdown",
   "id": "52b8ba99",
   "metadata": {},
   "source": [
    "# FITS Data Cube (FITS File)\n",
    "\n",
    "This file is from Cubeviz example notebook."
   ]
  },
  {
   "cell_type": "code",
   "execution_count": null,
   "id": "8082be4e",
   "metadata": {},
   "outputs": [],
   "source": [
    "manga_logcube = download_file('https://stsci.box.com/shared/static/28a88k1qfipo4yxc4p4d40v4axtlal8y.fits', cache=True)"
   ]
  },
  {
   "cell_type": "code",
   "execution_count": null,
   "id": "4cc8660d",
   "metadata": {},
   "outputs": [],
   "source": [
    "fits.info(manga_logcube)"
   ]
  },
  {
   "cell_type": "code",
   "execution_count": null,
   "id": "2b00d92a",
   "metadata": {},
   "outputs": [],
   "source": [
    "viz = Cubeviz()\n",
    "viz.load_data(manga_logcube, data_label='manga-7495-12704-LOGCUBE')\n",
    "viz.app"
   ]
  },
  {
   "cell_type": "markdown",
   "id": "d6e34e6a",
   "metadata": {},
   "source": [
    "# FITS Data Cube (HDUList)\n",
    "\n",
    "This is a test case adapted from Cubeviz parser test fixture, `image_hdu_obj`."
   ]
  },
  {
   "cell_type": "code",
   "execution_count": null,
   "id": "f6b3aa91",
   "metadata": {},
   "outputs": [],
   "source": [
    "flux_hdu = fits.ImageHDU(np.random.random((5, 10, 10)).astype(np.float32))\n",
    "flux_hdu.name = 'FLUX'\n",
    "\n",
    "uncert_hdu = fits.ImageHDU(np.sqrt(flux_hdu.data))\n",
    "uncert_hdu.name = 'ERR'\n",
    "\n",
    "mask_hdu = fits.ImageHDU(np.random.randint(0, 16, (5, 10, 10), dtype=np.int32))\n",
    "mask_hdu.name = 'MASK'\n",
    "\n",
    "wcs_header = {\n",
    "    'WCSAXES': 3, 'CRPIX1': 38.0, 'CRPIX2': 38.0, 'CRPIX3': 1.0,\n",
    "    'PC1_1 ': -0.000138889, 'PC2_2 ': 0.000138889,\n",
    "    'PC3_3 ': 8.33903304339E-11, 'CDELT1': 1.0, 'CDELT2': 1.0,\n",
    "    'CDELT3': 1.0, 'CUNIT1': 'deg', 'CUNIT2': 'deg', 'CUNIT3': 'm',\n",
    "    'CTYPE1': 'RA---TAN', 'CTYPE2': 'DEC--TAN', 'CTYPE3': 'WAVE-LOG',\n",
    "    'CRVAL1': 205.4384, 'CRVAL2': 27.004754, 'CRVAL3': 3.62159598486E-07,\n",
    "    'LONPOLE': 180.0, 'LATPOLE': 27.004754, 'MJDREFI': 0.0,\n",
    "    'MJDREFF': 0.0, 'DATE-OBS': '2014-03-30',\n",
    "    'RADESYS': 'FK5', 'EQUINOX': 2000.0}\n",
    "\n",
    "flux_hdu.header.update(wcs_header)\n",
    "flux_hdu.header['BUNIT'] = '1E-17 erg*s^-1*cm^-2*Angstrom^-1*pix^-1'\n",
    "\n",
    "hdu_list = fits.HDUList([fits.PrimaryHDU(), flux_hdu, uncert_hdu, mask_hdu])\n",
    "hdu_list.info()"
   ]
  },
  {
   "cell_type": "code",
   "execution_count": null,
   "id": "3d821921",
   "metadata": {},
   "outputs": [],
   "source": [
    "viz = Cubeviz()\n",
    "viz.load_data(hdu_list, data_label='mycube')\n",
    "viz.app"
   ]
  },
  {
   "cell_type": "markdown",
   "id": "adfac3f8",
   "metadata": {},
   "source": [
    "# FITS Data Cube (Individual HDUs)\n",
    "\n",
    "This reuses HDUs created above. Instead of passing in HDUList, we load one HDU at a time."
   ]
  },
  {
   "cell_type": "code",
   "execution_count": null,
   "id": "5952d20c",
   "metadata": {},
   "outputs": [],
   "source": [
    "viz = Cubeviz()\n",
    "viz.load_data(flux_hdu, data_label='myhdu[left]')\n",
    "viz.load_data(uncert_hdu, data_label='myhdu[center]')\n",
    "viz.load_data(mask_hdu, data_label='myhdu[right]')\n",
    "viz.app"
   ]
  },
  {
   "cell_type": "markdown",
   "id": "31e763d4",
   "metadata": {},
   "source": [
    "# HST WFC3/IR Ramp (Spectrum1D, 3D)\n",
    "\n",
    "This is a little more complicated because we need to stack all the different 2D extensions into respective cubes. We do not attempt to recreate a composite WCS here, but rather just use a dummy one."
   ]
  },
  {
   "cell_type": "code",
   "execution_count": null,
   "id": "a7abb0ed",
   "metadata": {},
   "outputs": [],
   "source": [
    "wfc3ir_file = download_file('https://mast.stsci.edu/api/v0.1/Download/file?uri=mast:HST/product/icgk01a8q_ima.fits', cache=True)\n",
    "fits.info(wfc3ir_file)"
   ]
  },
  {
   "cell_type": "code",
   "execution_count": null,
   "id": "faf326e7",
   "metadata": {},
   "outputs": [],
   "source": [
    "sci_unit = u.electron / u.s  # From BUNIT but its value is invalid for astropy.units\n",
    "err_unit = sci_unit  # Assume the same\n",
    "\n",
    "with fits.open(wfc3ir_file) as pf:\n",
    "    sci_cube = np.stack([hdu.data for hdu in pf if hdu.name == 'SCI']) * sci_unit\n",
    "    err_cube = np.stack([hdu.data for hdu in pf if hdu.name == 'ERR']) * err_unit\n",
    "    dq_cube = np.stack([hdu.data for hdu in pf if hdu.name == 'DQ']) * u.dimensionless_unscaled\n",
    "    \n",
    "uncertainty = StdDevUncertainty()\n",
    "uncertainty.array = err_cube"
   ]
  },
  {
   "cell_type": "code",
   "execution_count": null,
   "id": "46bc1a96",
   "metadata": {},
   "outputs": [],
   "source": [
    "# Assign dummy WCS for now. Constructing actual WCS is out of scope here.\n",
    "from jdaviz.configs.cubeviz.plugins.parsers import generate_dummy_fits_wcs_3d\n",
    "fake_wcs = generate_dummy_fits_wcs_3d()"
   ]
  },
  {
   "cell_type": "code",
   "execution_count": null,
   "id": "ba5101df",
   "metadata": {},
   "outputs": [],
   "source": [
    "sc = Spectrum1D(flux=sci_cube, uncertainty=uncertainty, mask=dq_cube, wcs=fake_wcs)"
   ]
  },
  {
   "cell_type": "code",
   "execution_count": null,
   "id": "68425d14",
   "metadata": {},
   "outputs": [],
   "source": [
    "viz = Cubeviz()\n",
    "viz.load_data(sc, data_label='icgk01a8q_ima.fits')\n",
    "viz.app"
   ]
  },
  {
   "cell_type": "markdown",
   "id": "7f6fd792",
   "metadata": {},
   "source": [
    "# JWST s3d (FITS File)"
   ]
  },
  {
   "cell_type": "code",
   "execution_count": null,
   "id": "e4d1a89f",
   "metadata": {},
   "outputs": [],
   "source": [
    "# Ask Brian Cherinka if you want the file.\n",
    "s3d_filename = 'jw00619-o094_t001_miri_ch1-long_s3d.fits'"
   ]
  },
  {
   "cell_type": "code",
   "execution_count": null,
   "id": "6582f964",
   "metadata": {},
   "outputs": [],
   "source": [
    "viz = Cubeviz()\n",
    "viz.load_data(s3d_filename)\n",
    "viz.app"
   ]
  },
  {
   "cell_type": "markdown",
   "id": "95ee7ede",
   "metadata": {},
   "source": [
    "# Spectrum1D (1D)\n",
    "\n",
    "This is from `specutils` example."
   ]
  },
  {
   "cell_type": "code",
   "execution_count": null,
   "id": "617939c1",
   "metadata": {},
   "outputs": [],
   "source": [
    "sp_filename = download_file('https://data.sdss.org/sas/dr16/sdss/spectro/redux/26/spectra/1323/spec-1323-52797-0012.fits', cache=True)\n",
    "fits.info(sp_filename)"
   ]
  },
  {
   "cell_type": "code",
   "execution_count": null,
   "id": "2b774dc4",
   "metadata": {},
   "outputs": [],
   "source": [
    "with fits.open(sp_filename) as pf:\n",
    "    lamb = 10 ** pf[1].data['loglam'] * u.AA \n",
    "    flux = pf[1].data['flux'] * 10**-17 * u.Unit('erg cm-2 s-1 AA-1')\n",
    "    sp = Spectrum1D(spectral_axis=lamb, flux=flux)"
   ]
  },
  {
   "cell_type": "code",
   "execution_count": null,
   "id": "0d7e3cf5",
   "metadata": {},
   "outputs": [],
   "source": [
    "viz = Cubeviz()\n",
    "viz.load_data(sp, data_label='spec-1323-52797-0012')\n",
    "viz.app"
   ]
  },
  {
   "cell_type": "markdown",
   "id": "cbfe1ef5",
   "metadata": {},
   "source": [
    "# Numpy Array (3D)"
   ]
  },
  {
   "cell_type": "code",
   "execution_count": null,
   "id": "d0dad5c7",
   "metadata": {},
   "outputs": [],
   "source": [
    "sci_arr = np.random.random((5, 10, 10))\n",
    "err_arr = np.sqrt(sci_arr)"
   ]
  },
  {
   "cell_type": "code",
   "execution_count": null,
   "id": "3d99959f",
   "metadata": {},
   "outputs": [],
   "source": [
    "viz = Cubeviz()\n",
    "viz.load_data(sci_arr, data_type='flux', data_label='myarray[SCI]')\n",
    "viz.load_data(err_arr, data_type='uncert', data_label='myarray[ERR]')\n",
    "viz.app"
   ]
  },
  {
   "cell_type": "markdown",
   "id": "28868502",
   "metadata": {},
   "source": [
    "# Invalid Data\n",
    "\n",
    "Cubeviz now should throw exception instead of giving misleading success message."
   ]
  },
  {
   "cell_type": "code",
   "execution_count": null,
   "id": "b45194f7",
   "metadata": {},
   "outputs": [],
   "source": [
    "image2d = np.random.random((10, 10))"
   ]
  },
  {
   "cell_type": "code",
   "execution_count": null,
   "id": "c3842ca8",
   "metadata": {},
   "outputs": [],
   "source": [
    "viz = Cubeviz()\n",
    "viz.load_data(image2d)"
   ]
  },
  {
   "cell_type": "code",
   "execution_count": null,
   "id": "05bd2a58",
   "metadata": {},
   "outputs": [],
   "source": []
  }
 ],
 "metadata": {
  "kernelspec": {
   "display_name": "Python 3 (ipykernel)",
   "language": "python",
   "name": "python3"
  },
  "language_info": {
   "codemirror_mode": {
    "name": "ipython",
    "version": 3
   },
   "file_extension": ".py",
   "mimetype": "text/x-python",
   "name": "python",
   "nbconvert_exporter": "python",
   "pygments_lexer": "ipython3",
   "version": "3.9.7"
  }
 },
 "nbformat": 4,
 "nbformat_minor": 5
}
