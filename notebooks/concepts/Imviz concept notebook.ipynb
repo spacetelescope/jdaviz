{
 "cells": [
  {
   "cell_type": "markdown",
   "id": "handed-person",
   "metadata": {},
   "source": [
    "# Proof of concept of ImViz requirements using glupyter/bqplot"
   ]
  },
  {
   "cell_type": "markdown",
   "id": "frozen-oracle",
   "metadata": {},
   "source": [
    "We start off by silencing warnings that can happen when loading data as well as deprecation warnings, for clarity:"
   ]
  },
  {
   "cell_type": "code",
   "execution_count": null,
   "id": "handed-chicago",
   "metadata": {},
   "outputs": [],
   "source": [
    "import warnings\n",
    "warnings.simplefilter('ignore')"
   ]
  },
  {
   "cell_type": "markdown",
   "id": "early-schedule",
   "metadata": {},
   "source": [
    "Next we import all the required modules/classes/functions:"
   ]
  },
  {
   "cell_type": "code",
   "execution_count": null,
   "id": "durable-briefs",
   "metadata": {},
   "outputs": [],
   "source": [
    "import math\n",
    "from jdaviz import ImViz, ImVizTwoPanel\n",
    "from ipywidgets import Button, HBox\n",
    "import matplotlib.pyplot as plt\n",
    "from echo import delay_callback\n",
    "from bqplot import Label\n",
    "from bqplot_image_gl.interacts import MouseInteraction\n",
    "from glue.plugins.wcs_autolinking.wcs_autolinking import WCSLink"
   ]
  },
  {
   "cell_type": "markdown",
   "id": "discrete-winning",
   "metadata": {},
   "source": [
    "## Basic features"
   ]
  },
  {
   "cell_type": "markdown",
   "id": "advance-exhibition",
   "metadata": {},
   "source": [
    "We start off by looking at some of the basic features using a single-image viewer jdaviz app:"
   ]
  },
  {
   "cell_type": "code",
   "execution_count": null,
   "id": "covered-bikini",
   "metadata": {
    "scrolled": false
   },
   "outputs": [],
   "source": [
    "imviz = ImViz()\n",
    "imviz.load_data('jw01072001001_01101_00001_nrcb1_cal.fits')\n",
    "\n",
    "viewer = imviz.app.get_viewer('viewer-1')\n",
    "viewer.add_data('jw01072001001_01101_00001_nrcb1_cal[SCI]')\n",
    "viewer.state.show_axes = False\n",
    "viewer.state.layers[0].percentile = 99\n",
    "\n",
    "imviz.app"
   ]
  },
  {
   "cell_type": "markdown",
   "id": "changing-width",
   "metadata": {},
   "source": [
    "Panning and zooming is possible by showing the viewer toolbar and clicking on the '+'-shaped icon, then dragging around in the image and using scrolling to zoom in and out. To change the stretch and colormap, show the **Layer** options accessible through the last icon in the viewer toolbar.\n",
    "\n",
    "We can also change these programmatically, for example the stretch:"
   ]
  },
  {
   "cell_type": "code",
   "execution_count": null,
   "id": "sonic-cuisine",
   "metadata": {},
   "outputs": [],
   "source": [
    "viewer.state.layers[0].stretch = 'sqrt'"
   ]
  },
  {
   "cell_type": "markdown",
   "id": "automatic-engineer",
   "metadata": {},
   "source": [
    "the colormap:"
   ]
  },
  {
   "cell_type": "code",
   "execution_count": null,
   "id": "authorized-liberty",
   "metadata": {},
   "outputs": [],
   "source": [
    "viewer.state.layers[0].cmap = plt.cm.viridis"
   ]
  },
  {
   "cell_type": "markdown",
   "id": "close-picture",
   "metadata": {},
   "source": [
    "the limits via the percentile option:"
   ]
  },
  {
   "cell_type": "code",
   "execution_count": null,
   "id": "compressed-potential",
   "metadata": {},
   "outputs": [],
   "source": [
    "viewer.state.layers[0].percentile = 90"
   ]
  },
  {
   "cell_type": "markdown",
   "id": "intimate-steam",
   "metadata": {},
   "source": [
    "or the limits directly:"
   ]
  },
  {
   "cell_type": "code",
   "execution_count": null,
   "id": "inappropriate-holmes",
   "metadata": {},
   "outputs": [],
   "source": [
    "viewer.state.layers[0].v_min = -10\n",
    "viewer.state.layers[0].v_max = +100"
   ]
  },
  {
   "cell_type": "markdown",
   "id": "patent-christopher",
   "metadata": {},
   "source": [
    "## Mouse over coordinates\n",
    "\n",
    "By default, there is no overlay showing the current cursor position, but this can be added by making use of the ``MouseInteraction`` class in the bqplot-image-gl package. We set up a new ImViz instance:"
   ]
  },
  {
   "cell_type": "code",
   "execution_count": null,
   "id": "public-wright",
   "metadata": {},
   "outputs": [],
   "source": [
    "imviz = ImViz()\n",
    "imviz.load_data('jw01072001001_01101_00001_nrcb1_cal.fits')\n",
    "\n",
    "viewer = imviz.app.get_viewer('viewer-1')\n",
    "viewer.add_data('jw01072001001_01101_00001_nrcb1_cal[SCI]')\n",
    "viewer.state.show_axes = False\n",
    "viewer.state.layers[0].percentile = 99"
   ]
  },
  {
   "cell_type": "markdown",
   "id": "floral-phenomenon",
   "metadata": {},
   "source": [
    "Next up we set up a bqplot label which we add to the bottom left corner of the plot in orange (we could in fact show this also below/above the plot, or include a background box to ensure the text is readable):"
   ]
  },
  {
   "cell_type": "code",
   "execution_count": null,
   "id": "rental-circle",
   "metadata": {},
   "outputs": [],
   "source": [
    "label = Label(x=[0.05], y=[0.05], text=[''], default_size=12, colors=['orange'])\n",
    "viewer.figure.marks = viewer.figure.marks + [label]"
   ]
  },
  {
   "cell_type": "markdown",
   "id": "sunrise-velvet",
   "metadata": {},
   "source": [
    "and we create a callback function which will find the world coordinates of the cursor and the pixel value (note that this is hard-coded to assume the data is 2-d and has a celestial WCS, and that there is just one dataset in the viewer):"
   ]
  },
  {
   "cell_type": "code",
   "execution_count": null,
   "id": "polished-university",
   "metadata": {},
   "outputs": [],
   "source": [
    "def on_mouse_msg(interaction, data, buffers):\n",
    "    \n",
    "    image = imviz.app.data_collection[0]\n",
    "    \n",
    "    # Extract data coordinates - these are pixels in the image\n",
    "    x = data['domain']['x']\n",
    "    y = data['domain']['y']\n",
    "    \n",
    "    overlay = f'x={x:.1f} y={y:.1f}'\n",
    "    \n",
    "    # Convert these to a SkyCoord via WCS - note that for other datasets\n",
    "    # we aren't actually guaranteed to get a SkyCoord out, just for images\n",
    "    # with valid celestial WCS\n",
    "    celestial_coordinates = image.coords.pixel_to_world(x, y).icrs.to_string('hmsdms')\n",
    "    overlay += f' ICRS={celestial_coordinates}'\n",
    "    \n",
    "    # Extract data values at this position\n",
    "    if x > -0.5 and y > -0.5 and x < image.shape[1] and y < image.shape[0]:\n",
    "        value = image.get_data(image.main_components[0])[int(round(y)), int(round(x))]\n",
    "        overlay += f' data={value:.2g}'\n",
    "\n",
    "    # For now we just show the coordinates but it would be easy to show the data\n",
    "    # values for one or more of the images\n",
    "    \n",
    "    if data['event'] == 'mousemove':\n",
    "        label.text = [overlay]\n",
    "    elif data['event'] == 'mouseleave':\n",
    "        label.text = \"\"\n",
    "    elif data['event'] == 'mouseenter':\n",
    "        label.text = \"\"\n",
    "        \n",
    "image = viewer.figure.marks[0]\n",
    "interaction = MouseInteraction(x_scale=image.scales['x'], y_scale=image.scales['y'], move_throttle=70)\n",
    "viewer.figure.interaction = interaction\n",
    "interaction.on_msg(on_mouse_msg)"
   ]
  },
  {
   "cell_type": "markdown",
   "id": "accompanied-liquid",
   "metadata": {},
   "source": [
    "As you hover over the following image, you should see the overlay in the bottom left:"
   ]
  },
  {
   "cell_type": "code",
   "execution_count": null,
   "id": "ready-incentive",
   "metadata": {},
   "outputs": [],
   "source": [
    "imviz.app"
   ]
  },
  {
   "cell_type": "markdown",
   "id": "infrared-jenny",
   "metadata": {},
   "source": [
    "## WCS Linking\n",
    "\n",
    "Another ImViz requirement is the ability to show two images side by side and lock the field of view even if the WCSes are different. For now we implement a simple version of locking which is that every time the user clicks on a position, the field of view in both image viewers is updated to be centred on that position:"
   ]
  },
  {
   "cell_type": "code",
   "execution_count": null,
   "id": "lasting-shannon",
   "metadata": {},
   "outputs": [],
   "source": [
    "def get_sync_button(viewer1, viewer2):\n",
    "    \n",
    "    button_sync = Button(description=\"Sync field of view\")\n",
    "\n",
    "    def sync_fov(b):\n",
    "        viewer2.state.x_min = viewer1.state.x_min\n",
    "        viewer2.state.x_max = viewer1.state.x_max\n",
    "        viewer2.state.y_min = viewer1.state.y_min\n",
    "        viewer2.state.y_max = viewer1.state.y_max\n",
    "\n",
    "    button_sync.on_click(sync_fov)\n",
    "    \n",
    "    image = viewer1.figure.marks[0]\n",
    "\n",
    "    interaction = MouseInteraction(x_scale=image.scales['x'], y_scale=image.scales['y'], move_throttle=70)\n",
    "\n",
    "    viewer1.figure.interaction = interaction\n",
    "\n",
    "    def on_mouse_msg(interaction, data, buffers):\n",
    "        if data['event'] == 'click':\n",
    "            x = data['domain']['x']\n",
    "            y = data['domain']['y']\n",
    "            dx = viewer1.state.x_max - viewer1.state.x_min\n",
    "            dy = viewer1.state.y_max - viewer1.state.y_min\n",
    "            with delay_callback(viewer1.state, 'x_min', 'x_max', 'y_min', 'y_max'):\n",
    "                with delay_callback(viewer2.state, 'x_min', 'x_max', 'y_min', 'y_max'):\n",
    "                    viewer1.state.x_min = viewer2.state.x_min = x - dx / 2\n",
    "                    viewer1.state.x_max = viewer2.state.x_max = x + dx / 2\n",
    "                    viewer1.state.y_min = viewer2.state.y_min = y - dy / 2\n",
    "                    viewer1.state.y_max = viewer2.state.y_max = y + dy / 2\n",
    "\n",
    "    interaction.on_msg(on_mouse_msg)\n",
    "    \n",
    "    return button_sync"
   ]
  },
  {
   "cell_type": "markdown",
   "id": "suited-annotation",
   "metadata": {},
   "source": [
    "We set up a 2-panel version of ImViz and load in the two datasets:"
   ]
  },
  {
   "cell_type": "code",
   "execution_count": null,
   "id": "excited-mexico",
   "metadata": {},
   "outputs": [],
   "source": [
    "imviz = ImVizTwoPanel()\n",
    "imviz.load_data('jw01072001001_01101_00001_nrcb1_cal.fits')\n",
    "imviz.load_data('jw01072001001_01101_00005_nrcb1_cal.fits')\n",
    "\n",
    "imviz.app.data_collection.add_link(WCSLink(imviz.app.data_collection['jw01072001001_01101_00001_nrcb1_cal[SCI]'],\n",
    "                                           imviz.app.data_collection['jw01072001001_01101_00005_nrcb1_cal[SCI]'] ))\n",
    "\n",
    "viewer1 = imviz.app.get_viewer('viewer-1')\n",
    "viewer1.add_data('jw01072001001_01101_00001_nrcb1_cal[SCI]')\n",
    "viewer1.state.show_axes = False\n",
    "viewer1.state.layers[0].percentile = 99\n",
    "\n",
    "viewer2 = imviz.app.get_viewer('viewer-2')\n",
    "viewer2.add_data('jw01072001001_01101_00001_nrcb1_cal[SCI]')\n",
    "viewer2.add_data('jw01072001001_01101_00005_nrcb1_cal[SCI]')\n",
    "viewer2.state.show_axes = False\n",
    "viewer2.state.layers[0].visible = False\n",
    "viewer2.state.layers[1].percentile = 99\n",
    "viewer2.state.reference_data = imviz.app.data_collection['jw01072001001_01101_00001_nrcb1_cal[SCI]']"
   ]
  },
  {
   "cell_type": "markdown",
   "id": "greenhouse-discipline",
   "metadata": {},
   "source": [
    "Note that above we essentially add an invisible layer to the second image viewer so that we can select this dataset as a reference dataset in both image viewers, which means that even if the images have different WCS, the field of views will be identical."
   ]
  },
  {
   "cell_type": "code",
   "execution_count": null,
   "id": "floating-ocean",
   "metadata": {
    "scrolled": false
   },
   "outputs": [],
   "source": [
    "imviz.app"
   ]
  },
  {
   "cell_type": "markdown",
   "id": "second-fabric",
   "metadata": {},
   "source": [
    "If you click on the following button and click somewhere in the left viewer, the images will both be centred on that position. Note that if you pan/zoom or make a selection you will need to run the following cell again for now so that the interaction gets re-enabled"
   ]
  },
  {
   "cell_type": "code",
   "execution_count": null,
   "id": "invisible-parts",
   "metadata": {},
   "outputs": [],
   "source": [
    "button1 = get_sync_button(viewer1, viewer2)\n",
    "button1"
   ]
  },
  {
   "cell_type": "markdown",
   "id": "muslim-politics",
   "metadata": {},
   "source": [
    "We can also look at an example with very different resolutions and WCS:"
   ]
  },
  {
   "cell_type": "code",
   "execution_count": null,
   "id": "satisfactory-settlement",
   "metadata": {},
   "outputs": [],
   "source": [
    "imviz = ImVizTwoPanel()\n",
    "imviz.load_data('jw01072001001_01101_00001_nrcb1_cal.fits')\n",
    "imviz.load_data('2mass_j.fits')\n",
    "\n",
    "imviz.app.data_collection.add_link(WCSLink(imviz.app.data_collection['jw01072001001_01101_00001_nrcb1_cal[SCI]'],\n",
    "                                           imviz.app.data_collection['2mass_j'] ))\n",
    "\n",
    "viewer1 = imviz.app.get_viewer('viewer-1')\n",
    "viewer1.add_data('jw01072001001_01101_00001_nrcb1_cal[SCI]')\n",
    "viewer1.state.show_axes = False\n",
    "viewer1.state.layers[0].percentile = 99\n",
    "\n",
    "viewer2 = imviz.app.get_viewer('viewer-2')\n",
    "viewer2.add_data('jw01072001001_01101_00001_nrcb1_cal[SCI]')\n",
    "viewer2.add_data('2mass_j')\n",
    "viewer2.state.show_axes = False\n",
    "viewer2.state.layers[0].visible = False\n",
    "viewer2.state.layers[1].percentile = 99\n",
    "viewer2.state.reference_data = imviz.app.data_collection['jw01072001001_01101_00001_nrcb1_cal[SCI]']\n",
    "\n",
    "imviz.app"
   ]
  },
  {
   "cell_type": "code",
   "execution_count": null,
   "id": "christian-classroom",
   "metadata": {},
   "outputs": [],
   "source": [
    "button1 = get_sync_button(viewer1, viewer2)\n",
    "button1"
   ]
  },
  {
   "cell_type": "markdown",
   "id": "authentic-connection",
   "metadata": {},
   "source": [
    "## Overlaying data/transparency"
   ]
  },
  {
   "cell_type": "markdown",
   "id": "light-salmon",
   "metadata": {},
   "source": [
    "A build-in feature in glue-jupyter is the ability to fade between layers:"
   ]
  },
  {
   "cell_type": "code",
   "execution_count": null,
   "id": "relevant-distinction",
   "metadata": {
    "scrolled": false
   },
   "outputs": [],
   "source": [
    "imviz = ImViz()\n",
    "imviz.load_data('jw01072001001_01101_00001_nrcb1_cal.fits')\n",
    "imviz.load_data('jw01072001001_01101_00005_nrcb1_cal.fits')\n",
    "\n",
    "imviz.app.data_collection.add_link(WCSLink(imviz.app.data_collection['jw01072001001_01101_00001_nrcb1_cal[SCI]'],\n",
    "                                           imviz.app.data_collection['jw01072001001_01101_00005_nrcb1_cal[SCI]'] ))\n",
    "\n",
    "viewer1 = imviz.app.get_viewer('viewer-1')\n",
    "viewer1.add_data('jw01072001001_01101_00001_nrcb1_cal[SCI]')\n",
    "viewer1.add_data('jw01072001001_01101_00005_nrcb1_cal[SCI]')\n",
    "viewer1.state.show_axes = False\n",
    "viewer1.state.layers[0].percentile = 99\n",
    "viewer1.state.layers[1].percentile = 99\n",
    "\n",
    "imviz.app"
   ]
  },
  {
   "cell_type": "markdown",
   "id": "reserved-stamp",
   "metadata": {},
   "source": [
    "If you go to the layer options and select the second layer in the drop-down and play with the opacity slider you can fade between the two images."
   ]
  },
  {
   "cell_type": "markdown",
   "id": "moral-japanese",
   "metadata": {},
   "source": [
    "## Blinking\n",
    "\n",
    "A variation on the above example is that we can set up a button (or in future a keyboard shortcut) to blink between images:"
   ]
  },
  {
   "cell_type": "code",
   "execution_count": null,
   "id": "secondary-conservation",
   "metadata": {},
   "outputs": [],
   "source": [
    "imviz = ImViz()\n",
    "imviz.load_data('jw01072001001_01101_00001_nrcb1_cal.fits')\n",
    "imviz.load_data('jw01072001001_01101_00005_nrcb1_cal.fits')\n",
    "\n",
    "imviz.app.data_collection.add_link(WCSLink(imviz.app.data_collection['jw01072001001_01101_00001_nrcb1_cal[SCI]'],\n",
    "                                           imviz.app.data_collection['jw01072001001_01101_00005_nrcb1_cal[SCI]'] ))\n",
    "\n",
    "viewer = imviz.app.get_viewer('viewer-1')\n",
    "viewer.add_data('jw01072001001_01101_00001_nrcb1_cal[SCI]')\n",
    "viewer.add_data('jw01072001001_01101_00005_nrcb1_cal[SCI]')\n",
    "viewer.state.show_axes = False\n",
    "viewer.state.layers[0].percentile = 99\n",
    "viewer.state.layers[1].percentile = 99\n",
    "\n",
    "imviz.app"
   ]
  },
  {
   "cell_type": "markdown",
   "id": "individual-bradley",
   "metadata": {},
   "source": [
    "Click on the following button to see this in action:"
   ]
  },
  {
   "cell_type": "code",
   "execution_count": null,
   "id": "recreational-decrease",
   "metadata": {},
   "outputs": [],
   "source": [
    "button_blink = Button(description='Blink images')\n",
    "\n",
    "def blink(event):\n",
    "    viewer.state.layers[1].visible = not viewer.state.layers[1].visible\n",
    "    \n",
    "button_blink.on_click(blink)\n",
    "button_blink"
   ]
  },
  {
   "cell_type": "markdown",
   "id": "local-selection",
   "metadata": {},
   "source": [
    "## Astropy regions\n",
    "\n",
    "It is already possible to make selections/regions in images and export these to astropy regions:"
   ]
  },
  {
   "cell_type": "code",
   "execution_count": null,
   "id": "alone-syracuse",
   "metadata": {},
   "outputs": [],
   "source": [
    "imviz = ImViz()\n",
    "imviz.load_data('jw01072001001_01101_00001_nrcb1_cal.fits')\n",
    "\n",
    "viewer = imviz.app.get_viewer('viewer-1')\n",
    "viewer.add_data('jw01072001001_01101_00001_nrcb1_cal[SCI]')\n",
    "viewer.state.show_axes = False\n",
    "viewer.state.layers[0].percentile = 99\n",
    "\n",
    "imviz.app"
   ]
  },
  {
   "cell_type": "markdown",
   "id": "incident-judges",
   "metadata": {},
   "source": [
    "Click on the viewer toolbar then click on the circular selection tool, and drag and click to select an interesting region on the sky. We can then export this region with:"
   ]
  },
  {
   "cell_type": "code",
   "execution_count": null,
   "id": "loose-disclaimer",
   "metadata": {},
   "outputs": [],
   "source": [
    "regions = imviz.app.get_subsets_from_viewer('viewer-1')"
   ]
  },
  {
   "cell_type": "code",
   "execution_count": null,
   "id": "thirty-writer",
   "metadata": {},
   "outputs": [],
   "source": [
    "regions"
   ]
  },
  {
   "cell_type": "markdown",
   "id": "turned-letters",
   "metadata": {},
   "source": [
    "Since the region is an astropy region, we can e.g. convert it to a mask:"
   ]
  },
  {
   "cell_type": "code",
   "execution_count": null,
   "id": "nutritional-mistress",
   "metadata": {},
   "outputs": [],
   "source": [
    "mask = regions['Subset 1'].to_mask(mode='exact')"
   ]
  },
  {
   "cell_type": "code",
   "execution_count": null,
   "id": "accomplished-glasgow",
   "metadata": {},
   "outputs": [],
   "source": [
    "plt.imshow(mask.to_image((2048, 2048)), origin='lower')"
   ]
  },
  {
   "cell_type": "code",
   "execution_count": null,
   "id": "connected-invite",
   "metadata": {},
   "outputs": [],
   "source": []
  }
 ],
 "metadata": {
  "kernelspec": {
   "display_name": "Python 3",
   "language": "python",
   "name": "python3"
  },
  "language_info": {
   "codemirror_mode": {
    "name": "ipython",
    "version": 3
   },
   "file_extension": ".py",
   "mimetype": "text/x-python",
   "name": "python",
   "nbconvert_exporter": "python",
   "pygments_lexer": "ipython3",
   "version": "3.9.1"
  }
 },
 "nbformat": 4,
 "nbformat_minor": 5
}
