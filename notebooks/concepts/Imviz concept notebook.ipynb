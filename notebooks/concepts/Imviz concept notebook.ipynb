{
 "cells": [
  {
   "cell_type": "markdown",
   "metadata": {},
   "source": [
    "See [Ginga quick reference guide](https://ginga.readthedocs.io/en/latest/quickref.html) for zoom, pan, stretch (contrast, cuts), and colormaps controls."
   ]
  },
  {
   "cell_type": "code",
   "execution_count": null,
   "metadata": {},
   "outputs": [],
   "source": [
    "import warnings\n",
    "\n",
    "with warnings.catch_warnings():\n",
    "    warnings.simplefilter('ignore')\n",
    "\n",
    "    from jdaviz import Imviz\n",
    "    imviz = Imviz()\n",
    "\n",
    "imviz"
   ]
  },
  {
   "cell_type": "code",
   "execution_count": null,
   "metadata": {},
   "outputs": [],
   "source": [
    "from astropy.utils.data import download_file\n",
    "\n",
    "filename = download_file('http://data.astropy.org/photometry/spitzer_example_image.fits', cache=True)"
   ]
  },
  {
   "cell_type": "code",
   "execution_count": null,
   "metadata": {},
   "outputs": [],
   "source": [
    "imviz.load_data(filename)"
   ]
  },
  {
   "cell_type": "markdown",
   "metadata": {},
   "source": [
    "Programmatic controls showcase: Uncomment any command of interest and try it for yourselves!"
   ]
  },
  {
   "cell_type": "code",
   "execution_count": null,
   "metadata": {},
   "outputs": [],
   "source": [
    "# Precise zoom\n",
    "#imviz.zoom(2)\n",
    "\n",
    "# Precise pan-to (X, Y)\n",
    "#imviz.center_on((100, 500))\n",
    "\n",
    "# Precise pan-to (RA, Dec)\n",
    "#from astropy.coordinates import SkyCoord\n",
    "#coo = SkyCoord('01h12m56.144s +00d11m53.10s')\n",
    "#imviz.center_on(coo)\n",
    "\n",
    "# Precise stretch, choose from ['linear', 'log', 'power', 'sqrt', 'squared', 'asinh', 'sinh', 'histeq']\n",
    "#imviz.stretch = 'linear'\n",
    "\n",
    "# Precise cuts (auto), choose from ['minmax', 'median', 'histogram', 'stddev', 'zscale']\n",
    "#imviz.cuts = 'zscale'\n",
    "\n",
    "# Precise cuts (manual)\n",
    "#imviz.cuts = (0, 15)\n",
    "\n",
    "# Precise colormap, choose from output of imviz.colormap_options\n",
    "#imviz.set_colormap('viridis')"
   ]
  },
  {
   "cell_type": "code",
   "execution_count": null,
   "metadata": {},
   "outputs": [],
   "source": []
  }
 ],
 "metadata": {
  "kernelspec": {
   "display_name": "Python 3",
   "language": "python",
   "name": "python3"
  },
  "language_info": {
   "codemirror_mode": {
    "name": "ipython",
    "version": 3
   },
   "file_extension": ".py",
   "mimetype": "text/x-python",
   "name": "python",
   "nbconvert_exporter": "python",
   "pygments_lexer": "ipython3",
   "version": "3.8.3"
  }
 },
 "nbformat": 4,
 "nbformat_minor": 4
}
