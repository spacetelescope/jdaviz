{
 "cells": [
  {
   "cell_type": "code",
   "execution_count": null,
   "metadata": {},
   "outputs": [],
   "source": [
    "from jdaviz.app import Application\n",
    "\n",
    "app = Application(configuration='cubeviz')\n",
    "app"
   ]
  },
  {
   "cell_type": "code",
   "execution_count": null,
   "metadata": {},
   "outputs": [],
   "source": [
    "from astropy.utils.data import download_file\n",
    "\n",
    "fn = download_file('https://data.sdss.org/sas/dr14/manga/spectro/redux/v2_1_2/7495/stack/manga-7495-12704-LOGCUBE.fits.gz', cache=True)\n",
    "app.load_data(fn)"
   ]
  },
  {
   "cell_type": "code",
   "execution_count": null,
   "metadata": {},
   "outputs": [],
   "source": [
    "v = list(app.components.get('g-viewer-area').items[0].stacks[0].stacks[1].stacks[0].stacks)[0] \n",
    "v"
   ]
  },
  {
   "cell_type": "markdown",
   "metadata": {},
   "source": [
    "This is a *very* non-trivial way to access the viewers.  And there's still no way to get the data per se.  So the below is now the *desired* workflow instead of a working example."
   ]
  },
  {
   "cell_type": "markdown",
   "metadata": {},
   "source": [
    "## Desired workflow for getting the spectrum from cubeviz"
   ]
  },
  {
   "cell_type": "code",
   "execution_count": null,
   "metadata": {},
   "outputs": [],
   "source": [
    "from astropy.io import fits\n",
    "\n",
    "fobj = fits.open(fn)\n",
    "app.load_data(fobj, name='my manga cube')"
   ]
  },
  {
   "cell_type": "markdown",
   "metadata": {},
   "source": [
    "(The above currently does not work, only file paths work, and the dataset name comes from the filename)"
   ]
  },
  {
   "cell_type": "markdown",
   "metadata": {},
   "source": [
    "Now I select a part of the data in one of the top three panels, which in cubeviz yields a spectrum in the bottom panel. Two ways of then interacting programmatically come to mind:"
   ]
  },
  {
   "cell_type": "markdown",
   "metadata": {},
   "source": [
    "###  Option 1"
   ]
  },
  {
   "cell_type": "markdown",
   "metadata": {},
   "source": [
    " The following should work:"
   ]
  },
  {
   "cell_type": "code",
   "execution_count": null,
   "metadata": {},
   "outputs": [],
   "source": [
    "spec = app.get_spectrum()  # <- this gets the \"most recent\" plot in the spectrum viewer, as a Spectrum1D\n",
    "spec.spectral_axis, spec.flux"
   ]
  },
  {
   "cell_type": "code",
   "execution_count": null,
   "metadata": {},
   "outputs": [],
   "source": [
    "from specutils.manipulation import box_smooth\n",
    "\n",
    "smoothed_spec = box_smooth(spec, 5)\n",
    "\n",
    "app.add_spectrum(smoothed_spec)"
   ]
  },
  {
   "cell_type": "markdown",
   "metadata": {},
   "source": [
    "Now the smoothed spectrum should appear in the spectrum view."
   ]
  },
  {
   "cell_type": "markdown",
   "metadata": {},
   "source": [
    "\n",
    "### Option 2\n",
    "\n",
    "An alternative approach could be to make it a bit more viewer-centric:"
   ]
  },
  {
   "cell_type": "code",
   "execution_count": null,
   "metadata": {},
   "outputs": [],
   "source": [
    "spec = app.get_viewer('spectrum').get_spectrum() #<- needs to be a Spectrum1D\n",
    "\n",
    "smoothed_spec = box_smooth(spec, 5)\n",
    "\n",
    "app.get_viewer('spectrum').add_layerordataorsomething(smoothed_spec)"
   ]
  },
  {
   "cell_type": "markdown",
   "metadata": {},
   "source": [
    "I prefer option 1 because it keeps things neat and clean for the science case, but it's not as generalizable."
   ]
  },
  {
   "cell_type": "markdown",
   "metadata": {},
   "source": [
    "*After some further discussion:* Option 2 seems better because it fits much better into a more general glue scheme, which is desirable because it gives users a more natural way to learn how to unlock more advanced features of glupyter."
   ]
  },
  {
   "cell_type": "markdown",
   "metadata": {},
   "source": [
    "## Region selection"
   ]
  },
  {
   "cell_type": "markdown",
   "metadata": {},
   "source": [
    "I'm going to continue using an \"option 1\"-like idiom, but that could be modified to Option 2 if we go that route.\n",
    "\n",
    "Now I select a region in the *spectrum* that spans some feature I'm interested in - say an emission line.  I should be able to do:"
   ]
  },
  {
   "cell_type": "code",
   "execution_count": null,
   "metadata": {},
   "outputs": [],
   "source": [
    "reg = app.get_spectral_selection()  # <- `reg` is a specutils.SpectralRegion"
   ]
  },
  {
   "cell_type": "code",
   "execution_count": null,
   "metadata": {},
   "outputs": [],
   "source": [
    "from specutils.analysis import line_flux\n",
    "\n",
    "flux = line_flux(spec, reg) \n",
    "flux"
   ]
  },
  {
   "cell_type": "markdown",
   "metadata": {},
   "source": [
    "Which should yield the flux of the region I just selected. "
   ]
  },
  {
   "cell_type": "markdown",
   "metadata": {},
   "source": [
    "## Pass on back to the cube view"
   ]
  },
  {
   "cell_type": "markdown",
   "metadata": {},
   "source": [
    "Now armed with that region selection, I should be able to use the region I extracted to interact with the image viewer UI.  Something like:"
   ]
  },
  {
   "cell_type": "code",
   "execution_count": null,
   "metadata": {},
   "outputs": [],
   "source": [
    "subcube = app.get_cube().spectral_slab(reg)\n",
    "momap = subcube.moment1()\n",
    "\n",
    "app.show_cube(momap)"
   ]
  },
  {
   "cell_type": "markdown",
   "metadata": {},
   "source": [
    "Which should then update the three cube views to be showing a layer that is the first-moment in the relevant spectral region."
   ]
  },
  {
   "cell_type": "markdown",
   "metadata": {},
   "source": [
    "# Notes for UI/UX changes:\n",
    "\n",
    "* The \"Test X\" tabs take up valuable real-estate and should be removed or hidden\n",
    "* There should be \"quick links\" to the layout elements like app.spec_viewer, app.cube_viewer_1, app.cube_viewer_2, etc.  Should be a very transparent mapping to the glue-standard viewer names, though - e.g. `app.spectrum_viewer` should be syntactic sugar for `app.viewers['spectrum-viewer']`\n",
    "* Maybe a reasonable \"auto-selection\" option should get applied.  E.g., when I select in the flux window, it should auto-sum that selection and immediately show it in the spectrum view. Or if there was an auto-selection on for the spectrum view, it might auto-median-combine (although I wouldn't say that's a desirable auto-select)."
   ]
  }
 ],
 "metadata": {
  "kernelspec": {
   "display_name": "Python 3",
   "language": "python",
   "name": "python3"
  },
  "language_info": {
   "codemirror_mode": {
    "name": "ipython",
    "version": 3
   },
   "file_extension": ".py",
   "mimetype": "text/x-python",
   "name": "python",
   "nbconvert_exporter": "python",
   "pygments_lexer": "ipython3",
   "version": "3.8.0"
  }
 },
 "nbformat": 4,
 "nbformat_minor": 4
}
