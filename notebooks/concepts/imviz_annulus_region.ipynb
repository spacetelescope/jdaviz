{
 "cells": [
  {
   "cell_type": "markdown",
   "id": "0f37e1bc",
   "metadata": {},
   "source": [
    "# Imviz annulus support\n",
    "\n",
    "This concept notebook shows circular annulus region support in Imviz.\n",
    "\n",
    "This requires https://github.com/glue-viz/glue-astronomy/pull/90 and https://github.com/glue-viz/glue/pull/2391 to work."
   ]
  },
  {
   "cell_type": "code",
   "execution_count": null,
   "id": "7fbc90a8",
   "metadata": {},
   "outputs": [],
   "source": [
    "from astropy.nddata import NDData\n",
    "from astropy.utils.data import get_pkg_data_filename\n",
    "from photutils.datasets import make_100gaussians_image, make_wcs\n",
    "\n",
    "from jdaviz import Imviz"
   ]
  },
  {
   "cell_type": "markdown",
   "id": "42513b59",
   "metadata": {},
   "source": [
    "Use fake data from `photutils`."
   ]
  },
  {
   "cell_type": "code",
   "execution_count": null,
   "id": "928f905e",
   "metadata": {},
   "outputs": [],
   "source": [
    "im = make_100gaussians_image()\n",
    "wcs = make_wcs(im.shape)\n",
    "ndd = NDData(im, wcs=wcs)"
   ]
  },
  {
   "cell_type": "code",
   "execution_count": null,
   "id": "848eeeac",
   "metadata": {
    "scrolled": false
   },
   "outputs": [],
   "source": [
    "imviz = Imviz()\n",
    "imviz.load_data(ndd, data_label='100_gaussians')\n",
    "imviz.show()"
   ]
  },
  {
   "cell_type": "markdown",
   "id": "6aca1d02",
   "metadata": {},
   "source": [
    "Grab region file from Imviz test suite. The content was adapted from `regions` test suite.\n",
    "\n",
    "```\n",
    "# Region file format: DS9 version 4.1\n",
    "global color=green dashlist=8 3 width=1 font=\"helvetica 10 normal roman\" select=1 highlite=1 dash=0 fixed=0 edit=1 move=1 delete=1 include=1 source=1\n",
    "icrs\n",
    "annulus(197.8929,-1.36599,1.9820003\",3.9640007\",5.946001\") # color=magenta font=\"helvetica 10 bold roman\" text={Annulus}\n",
    "```"
   ]
  },
  {
   "cell_type": "code",
   "execution_count": null,
   "id": "83cbd737",
   "metadata": {},
   "outputs": [],
   "source": [
    "ds9_reg_fn = get_pkg_data_filename(\"data/ds9_annulus_01.reg\", package=\"jdaviz.configs.imviz.tests\")"
   ]
  },
  {
   "cell_type": "markdown",
   "id": "b76992f5",
   "metadata": {},
   "source": [
    "The following call is the same as manually loading that file using `IMPORT DATA` button from the GUI.\n",
    "\n",
    "At the time of writing this concept, there is no way to edit this region via GUI (e.g., using Subset Tools plugin). However, you are able to recenter it using the new \"click to move spatial region\" tool."
   ]
  },
  {
   "cell_type": "code",
   "execution_count": null,
   "id": "020c547d",
   "metadata": {},
   "outputs": [],
   "source": [
    "imviz.load_data(ds9_reg_fn)"
   ]
  },
  {
   "cell_type": "markdown",
   "id": "139850a2",
   "metadata": {},
   "source": [
    "Get annulus region back.\n",
    "\n",
    "You can also get the second subset in a similar fashion using `subset_id='Subset 2'`."
   ]
  },
  {
   "cell_type": "code",
   "execution_count": null,
   "id": "9c38c2d2",
   "metadata": {},
   "outputs": [],
   "source": [
    "data = imviz.app.data_collection[0]"
   ]
  },
  {
   "cell_type": "code",
   "execution_count": null,
   "id": "ad53d98b",
   "metadata": {},
   "outputs": [],
   "source": [
    "reg_pix_1 = data.get_selection_definition(subset_id='Subset 1', format='astropy-regions')\n",
    "reg_sky_1 = reg_pix_1.to_sky(data.coords)"
   ]
  },
  {
   "cell_type": "code",
   "execution_count": null,
   "id": "8755a2c4",
   "metadata": {},
   "outputs": [],
   "source": [
    "reg_pix_1"
   ]
  },
  {
   "cell_type": "code",
   "execution_count": null,
   "id": "3bcd2994",
   "metadata": {},
   "outputs": [],
   "source": [
    "reg_sky_1"
   ]
  },
  {
   "cell_type": "code",
   "execution_count": null,
   "id": "c54d6986",
   "metadata": {},
   "outputs": [],
   "source": []
  }
 ],
 "metadata": {
  "kernelspec": {
   "display_name": "Python 3 (ipykernel)",
   "language": "python",
   "name": "python3"
  },
  "language_info": {
   "codemirror_mode": {
    "name": "ipython",
    "version": 3
   },
   "file_extension": ".py",
   "mimetype": "text/x-python",
   "name": "python",
   "nbconvert_exporter": "python",
   "pygments_lexer": "ipython3",
   "version": "3.10.8"
  }
 },
 "nbformat": 4,
 "nbformat_minor": 5
}
