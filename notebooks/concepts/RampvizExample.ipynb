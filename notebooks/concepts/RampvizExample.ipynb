{
 "cells": [
  {
   "cell_type": "markdown",
   "id": "39fa8c0d-da61-4704-9bba-c438347abf95",
   "metadata": {},
   "source": [
    "# Visualize Level 1 ramp files with Rampviz\n",
    "\n",
    "\n",
    "To install jdaviz from source with the optional Roman dependencies:\n",
    "```bash\n",
    "pip install .[roman]\n",
    "```\n",
    "\n",
    "\n",
    "## Roman WFI\n",
    "\n",
    "First, let's download a ramp file:"
   ]
  },
  {
   "cell_type": "code",
   "execution_count": null,
   "id": "b69aafe8-264b-4b11-a908-4603ad86ba7b",
   "metadata": {},
   "outputs": [],
   "source": [
    "import os\n",
    "from urllib.request import urlretrieve\n",
    "\n",
    "from jdaviz import Rampviz\n",
    "\n",
    "force_download = False\n",
    "\n",
    "url_L1 = \"https://stsci.box.com/shared/static/80vahj27t3y02itfohc22p999snkcocw.asdf\"\n",
    "local_path = \"L1.asdf\"\n",
    "\n",
    "if not os.path.exists(local_path) or force_download:\n",
    "    urlretrieve(url_L1, local_path)"
   ]
  },
  {
   "cell_type": "markdown",
   "id": "64fb7c99-084b-40af-8180-5af16a04069e",
   "metadata": {},
   "source": [
    "Let's load the file into the helper:"
   ]
  },
  {
   "cell_type": "code",
   "execution_count": null,
   "id": "2b15f559-a7ad-4279-b777-4eff0b465b56",
   "metadata": {},
   "outputs": [],
   "source": [
    "rampviz = Rampviz()\n",
    "rampviz.load_data(local_path, data_label='Roman L1')\n",
    "rampviz.show(height=1000)"
   ]
  },
  {
   "cell_type": "markdown",
   "id": "7d73fbd0-8f08-4665-b2f5-858da26f51af",
   "metadata": {},
   "source": [
    "We now reset viewer limits to center on a star:"
   ]
  },
  {
   "cell_type": "code",
   "execution_count": null,
   "id": "e45a6c1a-bd9a-41a4-8437-905d9c690627",
   "metadata": {},
   "outputs": [],
   "source": [
    "plot_options = rampviz.plugins['Plot Options']\n",
    "for viewer in ['group-viewer', 'diff-viewer']:\n",
    "    plot_options.viewer = viewer\n",
    "    plot_options.zoom_center_x = 1797\n",
    "    plot_options.zoom_center_y = 2051\n",
    "    plot_options.zoom_radius = 20"
   ]
  },
  {
   "cell_type": "markdown",
   "id": "d5aad2c7-bc44-4e93-85ed-9cb6511b66c2",
   "metadata": {},
   "source": [
    "Let's load a spatial region to preview individual ramp profiles for each pixel within the subset"
   ]
  },
  {
   "cell_type": "code",
   "execution_count": null,
   "id": "e26c0804-3b78-4b2b-8c9d-a9fc5c1c91ea",
   "metadata": {},
   "outputs": [],
   "source": [
    "from regions import CirclePixelRegion, PixCoord\n",
    "\n",
    "region = CirclePixelRegion(center=PixCoord(1797.2, 2051.2), radius=2)\n",
    "rampviz.plugins['Subset Tools'].import_region(region)"
   ]
  },
  {
   "cell_type": "markdown",
   "id": "b6c01020-f266-4a8e-ad23-0a60e55b993b",
   "metadata": {},
   "source": [
    "And let's take the median of the ramps within Subset 1:"
   ]
  },
  {
   "cell_type": "code",
   "execution_count": null,
   "id": "5407496a-96ac-4202-a2c0-345bb5649263",
   "metadata": {},
   "outputs": [],
   "source": [
    "ramp_extract = rampviz.plugins['Ramp Extraction']\n",
    "\n",
    "# # If you re-run this cell, you may need to re-enable previews:\n",
    "# ramp_extract._obj.previews_temp_disabled = False\n",
    "\n",
    "ramp_extract.keep_active = True\n",
    "ramp_extract.function = 'Median'\n",
    "ramp_extract.aperture = 'Subset 1'\n",
    "\n",
    "ramp_extract.extract()"
   ]
  },
  {
   "cell_type": "markdown",
   "id": "4ec8c7f6-27c6-405e-ac0f-8e943869fec2",
   "metadata": {},
   "source": [
    "## [NIRCam-NIRSpec galaxy assembly survey - GOODS-N](https://www.stsci.edu/jwst/science-execution/program-information?id=1181) with MIRI:"
   ]
  },
  {
   "cell_type": "code",
   "execution_count": null,
   "id": "4cd6c7df-b997-44ed-81b2-6b9078051017",
   "metadata": {},
   "outputs": [],
   "source": [
    "goods_north_uri = \"mast:JWST/product/jw01181003001_08201_00003_mirimage_uncal.fits\"\n",
    "\n",
    "rampviz = Rampviz()\n",
    "rampviz.load_data(goods_north_uri, cache=True)\n",
    "rampviz.show()"
   ]
  },
  {
   "cell_type": "markdown",
   "id": "66b54ea0-cc92-49b7-8cb5-327231d314b1",
   "metadata": {},
   "source": [
    "## [JWST Wide Area 3D Parallel Survey](https://www.stsci.edu/jwst/science-execution/program-information?id=3383) with NIRISS: "
   ]
  },
  {
   "cell_type": "code",
   "execution_count": null,
   "id": "98d3f7b8-21dc-460e-bdda-37e1c89f791a",
   "metadata": {},
   "outputs": [],
   "source": [
    "uri = \"mast:JWST/product/jw03383196001_04201_00004_nis_uncal.fits\"\n",
    "\n",
    "rampviz = Rampviz()\n",
    "rampviz.load_data(uri, cache=True)\n",
    "rampviz.show()"
   ]
  },
  {
   "cell_type": "code",
   "execution_count": null,
   "id": "653c3c17-b779-4620-bea6-ff2d090660e0",
   "metadata": {},
   "outputs": [],
   "source": []
  }
 ],
 "metadata": {
  "kernelspec": {
   "display_name": "Python 3 (ipykernel)",
   "language": "python",
   "name": "python3"
  },
  "language_info": {
   "codemirror_mode": {
    "name": "ipython",
    "version": 3
   },
   "file_extension": ".py",
   "mimetype": "text/x-python",
   "name": "python",
   "nbconvert_exporter": "python",
   "pygments_lexer": "ipython3",
   "version": "3.10.14"
  }
 },
 "nbformat": 4,
 "nbformat_minor": 5
}
