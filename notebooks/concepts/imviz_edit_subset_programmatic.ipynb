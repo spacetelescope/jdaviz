{
 "cells": [
  {
   "cell_type": "markdown",
   "id": "e23ea362",
   "metadata": {},
   "source": [
    "This concept notebook shows how you can move spatial subsets around in Imviz programmatically."
   ]
  },
  {
   "cell_type": "code",
   "execution_count": null,
   "id": "2dd982a0",
   "metadata": {},
   "outputs": [],
   "source": [
    "import time\n",
    "\n",
    "import numpy as np\n",
    "from regions import PixCoord, CirclePixelRegion, RectanglePixelRegion\n",
    "\n",
    "from jdaviz import Imviz"
   ]
  },
  {
   "cell_type": "code",
   "execution_count": null,
   "id": "c6734f52",
   "metadata": {},
   "outputs": [],
   "source": [
    "arr = np.zeros((100, 100))"
   ]
  },
  {
   "cell_type": "code",
   "execution_count": null,
   "id": "f0906159",
   "metadata": {},
   "outputs": [],
   "source": [
    "rect = RectanglePixelRegion(center=PixCoord(x=40, y=20), width=30, height=5)\n",
    "circ = CirclePixelRegion(center=PixCoord(x=20, y=80), radius=5)"
   ]
  },
  {
   "cell_type": "code",
   "execution_count": null,
   "id": "0b54561e",
   "metadata": {},
   "outputs": [],
   "source": [
    "imviz = Imviz()\n",
    "imviz.load_data(arr, data_label='Pong')"
   ]
  },
  {
   "cell_type": "code",
   "execution_count": null,
   "id": "635d3952-e5c9-4428-91b0-d86c41d535d3",
   "metadata": {},
   "outputs": [],
   "source": [
    "imviz.show()"
   ]
  },
  {
   "cell_type": "code",
   "execution_count": null,
   "id": "bfaa6bb9",
   "metadata": {},
   "outputs": [],
   "source": [
    "subset_tool = imviz.plugins['Subset Tools']._obj"
   ]
  },
  {
   "cell_type": "code",
   "execution_count": null,
   "id": "2030727b",
   "metadata": {},
   "outputs": [],
   "source": [
    "subset_tool.import_region([rect, circ], combination_mode='new')"
   ]
  },
  {
   "cell_type": "code",
   "execution_count": null,
   "id": "594c4fa8",
   "metadata": {},
   "outputs": [],
   "source": [
    "subset_tool.open_in_tray()"
   ]
  },
  {
   "cell_type": "code",
   "execution_count": null,
   "id": "46b47696",
   "metadata": {},
   "outputs": [],
   "source": [
    "plg = subset_tool._obj\n",
    "\n",
    "for i in range(10):\n",
    "    plg.subset_selected = 'Subset 1'\n",
    "    cur_x, cur_y = plg.get_center()\n",
    "    plg.set_center((cur_x + 5, cur_y), update=True)\n",
    "\n",
    "    # We slow it down so you can see, otherwise this will complete too fast.\n",
    "    time.sleep(0.5)\n",
    "    \n",
    "    plg.subset_selected = 'Subset 2'\n",
    "    cur_x, cur_y = plg.get_center()\n",
    "    plg.set_center((cur_x + 2, cur_y - 2), update=True)\n",
    "\n",
    "    time.sleep(0.5)"
   ]
  },
  {
   "cell_type": "code",
   "execution_count": null,
   "id": "fe2c1fd3",
   "metadata": {},
   "outputs": [],
   "source": []
  }
 ],
 "metadata": {
  "kernelspec": {
   "display_name": "Python 3 (ipykernel)",
   "language": "python",
   "name": "python3"
  },
  "language_info": {
   "codemirror_mode": {
    "name": "ipython",
    "version": 3
   },
   "file_extension": ".py",
   "mimetype": "text/x-python",
   "name": "python",
   "nbconvert_exporter": "python",
   "pygments_lexer": "ipython3",
   "version": "3.10.14"
  }
 },
 "nbformat": 4,
 "nbformat_minor": 5
}
