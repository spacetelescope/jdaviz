{
 "cells": [
  {
   "cell_type": "markdown",
   "id": "7b9bf568-7416-46ad-9108-0d1d97c9af32",
   "metadata": {},
   "source": [
    "Concept notebook to explore colorbar implementation in bqplot vs Matplotlib.\n",
    "\n",
    "Matplotlib example is from https://docs.astropy.org/en/latest/visualization/normalization.html ."
   ]
  },
  {
   "cell_type": "code",
   "execution_count": null,
   "id": "9c6f2384-b70b-4106-973d-b62623d67e5f",
   "metadata": {},
   "outputs": [],
   "source": [
    "%matplotlib inline\n",
    "\n",
    "import numpy as np\n",
    "import matplotlib.pyplot as plt\n",
    "from astropy.visualization import simple_norm\n",
    "\n",
    "# Generate a test image\n",
    "image = np.arange(65536).reshape((256, 256))\n",
    "\n",
    "# Create an ImageNormalize object\n",
    "norm = simple_norm(image, 'sqrt')\n",
    "\n",
    "# Display the image\n",
    "fig = plt.figure()\n",
    "ax = fig.add_subplot(1, 1, 1)\n",
    "im = ax.imshow(image, origin='lower', norm=norm)\n",
    "fig.colorbar(im)"
   ]
  },
  {
   "cell_type": "markdown",
   "id": "5ab7bbf6-372b-4aa0-9f02-a5dacace164e",
   "metadata": {},
   "source": [
    "How, how does Imviz fare?"
   ]
  },
  {
   "cell_type": "code",
   "execution_count": null,
   "id": "3b04c9b4-ddf4-4025-aea2-77d5920e53dd",
   "metadata": {},
   "outputs": [],
   "source": [
    "from jdaviz import Imviz"
   ]
  },
  {
   "cell_type": "code",
   "execution_count": null,
   "id": "e9349094-620b-40c4-8ae2-d424b5983119",
   "metadata": {},
   "outputs": [],
   "source": [
    "imviz = Imviz()\n",
    "imviz.load_data(image, data_label=\"test image\")\n",
    "imviz.show()"
   ]
  },
  {
   "cell_type": "code",
   "execution_count": null,
   "id": "83167260-2cc8-4e33-9fd0-9105db23d521",
   "metadata": {},
   "outputs": [],
   "source": [
    "imviz.default_viewer.zoom_level = \"fit\""
   ]
  },
  {
   "cell_type": "code",
   "execution_count": null,
   "id": "27a06c70-b7af-4055-9b50-2d1269ba38d3",
   "metadata": {},
   "outputs": [],
   "source": [
    "plg = imviz.plugins[\"Plot Options\"]"
   ]
  },
  {
   "cell_type": "code",
   "execution_count": null,
   "id": "ed2c2107-1803-4481-81b9-e6ab162e7425",
   "metadata": {},
   "outputs": [],
   "source": [
    "plg.image_colormap = \"Viridis\"\n",
    "plg.stretch_function = \"Square Root\""
   ]
  },
  {
   "cell_type": "code",
   "execution_count": null,
   "id": "3ca8ca87-c8aa-4ff3-b4d8-b4c07e22db90",
   "metadata": {},
   "outputs": [],
   "source": [
    "import bqplot\n",
    "\n",
    "plg._obj.stretch_histogram.figure.axes[2].scale = bqplot.ColorScale(\n",
    "            scheme=\"YlGnBu\", #self.image_colormap_value, # FIXME: How to map from glue to Colorbrewer?\n",
    "            reverse=True,\n",
    "            scale_type=\"linear\", #plg._obj.stretch_function_value,  # FIXME: bqscales only knows \"linear\"\n",
    "            min=plg._obj.stretch_vmin_value,\n",
    "            max=plg._obj.stretch_vmax_value)\n",
    "\n",
    "# FIXME: Have to pop out the histogram to see the colorbar."
   ]
  },
  {
   "cell_type": "code",
   "execution_count": null,
   "id": "2ef6b087-04af-4f91-8bc5-bd0c50f2601a",
   "metadata": {},
   "outputs": [],
   "source": []
  }
 ],
 "metadata": {
  "kernelspec": {
   "display_name": "Python 3 (ipykernel)",
   "language": "python",
   "name": "python3"
  },
  "language_info": {
   "codemirror_mode": {
    "name": "ipython",
    "version": 3
   },
   "file_extension": ".py",
   "mimetype": "text/x-python",
   "name": "python",
   "nbconvert_exporter": "python",
   "pygments_lexer": "ipython3",
   "version": "3.11.0"
  }
 },
 "nbformat": 4,
 "nbformat_minor": 5
}
