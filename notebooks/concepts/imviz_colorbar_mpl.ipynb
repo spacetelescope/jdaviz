{
 "cells": [
  {
   "cell_type": "markdown",
   "id": "7b9bf568-7416-46ad-9108-0d1d97c9af32",
   "metadata": {},
   "source": [
    "Concept notebook to explore colorbar implementation in bqplot vs Matplotlib.\n",
    "\n",
    "Matplotlib example is from https://docs.astropy.org/en/latest/visualization/normalization.html ."
   ]
  },
  {
   "cell_type": "code",
   "execution_count": null,
   "id": "c6374a84-beaa-4e98-ae25-75ece45cc54b",
   "metadata": {},
   "outputs": [],
   "source": [
    "import numpy as np\n",
    "import matplotlib.pyplot as plt\n",
    "from regions import CirclePixelRegion, PixCoord\n",
    "\n",
    "from jdaviz import Imviz\n",
    "\n",
    "%matplotlib inline"
   ]
  },
  {
   "cell_type": "code",
   "execution_count": null,
   "id": "4f4c35a6-ba8f-4f63-b68a-607de30c08f9",
   "metadata": {},
   "outputs": [],
   "source": [
    "# Generate a test image\n",
    "image = np.arange(65536).reshape((256, 256))"
   ]
  },
  {
   "cell_type": "code",
   "execution_count": null,
   "id": "9c6f2384-b70b-4106-973d-b62623d67e5f",
   "metadata": {},
   "outputs": [],
   "source": [
    "from astropy.visualization import simple_norm\n",
    "\n",
    "# Create an ImageNormalize object\n",
    "norm = simple_norm(image, 'sqrt')\n",
    "\n",
    "# Display the image\n",
    "fig, ax = plt.subplots()\n",
    "im = ax.imshow(image, origin='lower', norm=norm)\n",
    "fig.colorbar(im, location=\"bottom\")"
   ]
  },
  {
   "cell_type": "markdown",
   "id": "5ab7bbf6-372b-4aa0-9f02-a5dacace164e",
   "metadata": {},
   "source": [
    "How, how does Imviz fare?"
   ]
  },
  {
   "cell_type": "code",
   "execution_count": null,
   "id": "e9349094-620b-40c4-8ae2-d424b5983119",
   "metadata": {},
   "outputs": [],
   "source": [
    "imviz = Imviz()\n",
    "imviz.load_data(image, data_label=\"test image\")\n",
    "imviz.show()"
   ]
  },
  {
   "cell_type": "code",
   "execution_count": null,
   "id": "27a06c70-b7af-4055-9b50-2d1269ba38d3",
   "metadata": {},
   "outputs": [],
   "source": [
    "plg = imviz.plugins[\"Plot Options\"]"
   ]
  },
  {
   "cell_type": "code",
   "execution_count": null,
   "id": "8e261197-8db5-4051-9f9f-07e7245cc53d",
   "metadata": {},
   "outputs": [],
   "source": [
    "plg.open_in_tray()"
   ]
  },
  {
   "cell_type": "code",
   "execution_count": null,
   "id": "83167260-2cc8-4e33-9fd0-9105db23d521",
   "metadata": {},
   "outputs": [],
   "source": [
    "imviz.default_viewer.zoom_level = \"fit\""
   ]
  },
  {
   "cell_type": "markdown",
   "id": "e3f7d496-1447-4e0a-851b-baee27dcb2e5",
   "metadata": {},
   "source": [
    "At this point, it is good to pop the histogram out and put it side by side with this notebook to see any changes.\n",
    "\n",
    "Now these changes in the plugin should change the colorbar."
   ]
  },
  {
   "cell_type": "code",
   "execution_count": null,
   "id": "ed2c2107-1803-4481-81b9-e6ab162e7425",
   "metadata": {},
   "outputs": [],
   "source": [
    "# Colormap (to compare with Matplotlib above)\n",
    "plg.image_color_mode = \"Colormaps\"\n",
    "plg.image_colormap = \"Viridis\""
   ]
  },
  {
   "cell_type": "code",
   "execution_count": null,
   "id": "cc2331cf-e8e4-4ad9-ac80-3dac338c298a",
   "metadata": {},
   "outputs": [],
   "source": [
    "# Monochromatic\n",
    "#plg.image_color_mode = \"Monochromatic\"\n",
    "#plg.image_color = \"red\""
   ]
  },
  {
   "cell_type": "code",
   "execution_count": null,
   "id": "ef143d48-e7f6-4fb7-8a96-2a04ffa04785",
   "metadata": {},
   "outputs": [],
   "source": [
    "# Does not change colorbar but just want to see this\n",
    "# together with changing stretch function below.\n",
    "plg.stretch_curve_visible = True"
   ]
  },
  {
   "cell_type": "code",
   "execution_count": null,
   "id": "52dd988b-a763-4caa-acee-3d39682bdcce",
   "metadata": {},
   "outputs": [],
   "source": [
    "plg.stretch_function = \"Logarithmic\"\n",
    "#plg.stretch_function = \"Square Root\"\n",
    "#plg.stretch_function = \"Linear\""
   ]
  },
  {
   "cell_type": "code",
   "execution_count": null,
   "id": "5e8fb2ea-c973-4315-97db-3e23277aca89",
   "metadata": {},
   "outputs": [],
   "source": [
    "plg.stretch_preset = \"95%\"\n",
    "#plg.stretch_preset = \"Min/Max\""
   ]
  },
  {
   "cell_type": "code",
   "execution_count": null,
   "id": "7c72d225-520f-42e1-bda6-c84fc91bb131",
   "metadata": {},
   "outputs": [],
   "source": [
    "plg.stretch_vmin = 3000"
   ]
  },
  {
   "cell_type": "code",
   "execution_count": null,
   "id": "0c34b4ca-6729-47f5-a97c-dde3a80b3488",
   "metadata": {},
   "outputs": [],
   "source": [
    "plg.stretch_vmax = 35000"
   ]
  },
  {
   "cell_type": "code",
   "execution_count": null,
   "id": "82ada867-05c7-4a76-b52b-41f890b56e76",
   "metadata": {},
   "outputs": [],
   "source": [
    "plg.stretch_hist_nbins = 50"
   ]
  },
  {
   "cell_type": "code",
   "execution_count": null,
   "id": "d9685500-9f4f-4ad4-997f-0a8e1d4b661f",
   "metadata": {},
   "outputs": [],
   "source": [
    "# Zoom in before limiting histogram to zoom limits below.\n",
    "imviz.default_viewer.zoom(2)"
   ]
  },
  {
   "cell_type": "code",
   "execution_count": null,
   "id": "88f8f4e5-82ed-4184-ad11-36d7c244367a",
   "metadata": {},
   "outputs": [],
   "source": [
    "plg.stretch_hist_zoom_limits = True\n",
    "#plg.stretch_hist_zoom_limits = False"
   ]
  },
  {
   "cell_type": "code",
   "execution_count": null,
   "id": "9ae7aad4-e2a9-4bb2-9bdf-1b65187a6ca5",
   "metadata": {},
   "outputs": [],
   "source": [
    "plg.image_contrast = 4\n",
    "#plg.image_contrast = 1.0"
   ]
  },
  {
   "cell_type": "code",
   "execution_count": null,
   "id": "d32cdbeb-21c9-4c01-8d1c-c0ca26c025f2",
   "metadata": {},
   "outputs": [],
   "source": [
    "plg.image_bias = 1\n",
    "#plg.image_bias = 0.5"
   ]
  },
  {
   "cell_type": "code",
   "execution_count": null,
   "id": "b6b38132-8241-4c7e-876c-9e02cc97cfc6",
   "metadata": {},
   "outputs": [],
   "source": [
    "# Re-displays the histogram\n",
    "#plg._obj.stretch_histogram"
   ]
  },
  {
   "cell_type": "markdown",
   "id": "54164d4e-d1ec-4744-9d38-0003b4a79106",
   "metadata": {},
   "source": [
    "What about another data? With Subset?"
   ]
  },
  {
   "cell_type": "code",
   "execution_count": null,
   "id": "91b34c6c-cba2-4d20-97bf-d6f5dcbcd675",
   "metadata": {},
   "outputs": [],
   "source": [
    "reg = CirclePixelRegion(PixCoord(100, 100), 10)"
   ]
  },
  {
   "cell_type": "code",
   "execution_count": null,
   "id": "f3b63137-fc41-4836-b440-6cca3f7b9560",
   "metadata": {},
   "outputs": [],
   "source": [
    "imviz.load_regions(reg)"
   ]
  },
  {
   "cell_type": "code",
   "execution_count": null,
   "id": "8431cabb-35c5-49c7-add4-e380fcf4bfb3",
   "metadata": {},
   "outputs": [],
   "source": [
    "image2 = np.random.random(image.shape)"
   ]
  },
  {
   "cell_type": "code",
   "execution_count": null,
   "id": "9af2028b-0f6b-42db-ac0a-57e3e277a700",
   "metadata": {},
   "outputs": [],
   "source": [
    "imviz.load_data(image2)"
   ]
  },
  {
   "cell_type": "code",
   "execution_count": null,
   "id": "7118a1f3-bf8f-4d1f-ac7e-f4b7fcc473fb",
   "metadata": {},
   "outputs": [],
   "source": [
    "plg.layer = \"Array\"\n",
    "#plg.layer = \"Subset 1\"  # Buggy!\n",
    "#plg.layer = \"test image\""
   ]
  },
  {
   "cell_type": "markdown",
   "id": "1a74b677-b572-4702-b2f6-4fbf30261983",
   "metadata": {},
   "source": [
    "What about multi-viewer?"
   ]
  },
  {
   "cell_type": "code",
   "execution_count": null,
   "id": "b6fc89f6-801c-4944-945e-73c475b5fd72",
   "metadata": {},
   "outputs": [],
   "source": [
    "v2 = imviz.create_image_viewer(\"v2\")"
   ]
  },
  {
   "cell_type": "code",
   "execution_count": null,
   "id": "1666c1c3-ee3c-49c0-9426-ecbc8228873c",
   "metadata": {},
   "outputs": [],
   "source": [
    "v2.add_data(\"test image\")"
   ]
  },
  {
   "cell_type": "code",
   "execution_count": null,
   "id": "961bc5c7-ebfd-4b6e-adf6-78103990dcc0",
   "metadata": {},
   "outputs": [],
   "source": [
    "plg.viewer = \"v2\"\n",
    "#plg.viewer = \"imviz-0\""
   ]
  },
  {
   "cell_type": "code",
   "execution_count": null,
   "id": "9ed3219e-9e05-46fd-96fe-3a78e5a43c26",
   "metadata": {},
   "outputs": [],
   "source": [
    "#imviz.destroy_viewer(\"v2\")  # Buggy!"
   ]
  },
  {
   "cell_type": "code",
   "execution_count": null,
   "id": "36c96416-4981-4d05-a423-51f74e8e66fa",
   "metadata": {},
   "outputs": [],
   "source": []
  }
 ],
 "metadata": {
  "kernelspec": {
   "display_name": "Python 3 (ipykernel)",
   "language": "python",
   "name": "python3"
  },
  "language_info": {
   "codemirror_mode": {
    "name": "ipython",
    "version": 3
   },
   "file_extension": ".py",
   "mimetype": "text/x-python",
   "name": "python",
   "nbconvert_exporter": "python",
   "pygments_lexer": "ipython3",
   "version": "3.11.0"
  }
 },
 "nbformat": 4,
 "nbformat_minor": 5
}
