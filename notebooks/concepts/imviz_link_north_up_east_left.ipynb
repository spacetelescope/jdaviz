{
 "cells": [
  {
   "cell_type": "code",
   "execution_count": null,
   "id": "206e73ce",
   "metadata": {},
   "outputs": [],
   "source": [
    "import gwcs\n",
    "import numpy as np\n",
    "from astropy import units as u\n",
    "from astropy.coordinates import ICRS\n",
    "from astropy.io import fits\n",
    "from astropy.modeling import models\n",
    "from astropy.nddata import NDData\n",
    "from astropy.wcs import WCS\n",
    "from gwcs import coordinate_frames as cf\n",
    "\n",
    "from jdaviz import Imviz\n",
    "from jdaviz.configs.imviz.wcs_utils import generate_rotated_wcs\n",
    "\n",
    "%matplotlib inline"
   ]
  },
  {
   "cell_type": "markdown",
   "id": "055fce4f",
   "metadata": {},
   "source": [
    "# Plain array"
   ]
  },
  {
   "cell_type": "code",
   "execution_count": null,
   "id": "02a3f110",
   "metadata": {},
   "outputs": [],
   "source": [
    "a = np.random.random((2048, 4096))\n",
    "a[:100, :400] = 1  # Bright corner for sanity check"
   ]
  },
  {
   "cell_type": "markdown",
   "id": "6f0e93c0",
   "metadata": {},
   "source": [
    "# Data with FITS WCS and unit"
   ]
  },
  {
   "cell_type": "code",
   "execution_count": null,
   "id": "6e816343",
   "metadata": {},
   "outputs": [],
   "source": [
    "w = WCS({'WCSAXES': 2,\n",
    "         'CRPIX1': 2100.0,\n",
    "         'CRPIX2': 1024.0,\n",
    "         'PC1_1': -1.14852e-05,\n",
    "         'PC1_2': 7.01477e-06,\n",
    "         'PC2_1': 7.75765e-06,\n",
    "         'PC2_2': 1.20927e-05,\n",
    "         'CDELT1': 1.0,\n",
    "         'CDELT2': 1.0,\n",
    "         'CUNIT1': 'deg',\n",
    "         'CUNIT2': 'deg',\n",
    "         'CTYPE1': 'RA---TAN',\n",
    "         'CTYPE2': 'DEC--TAN',\n",
    "         'CRVAL1': 3.581704851882,\n",
    "         'CRVAL2': -30.39197867265,\n",
    "         'LONPOLE': 180.0,\n",
    "         'LATPOLE': -30.39197867265,\n",
    "         'MJDREF': 0.0,\n",
    "         'RADESYS': 'ICRS'})\n",
    "hdu = fits.ImageHDU(a, name='SCI')\n",
    "hdu.header.update(w.to_header())\n",
    "hdu.header['BUNIT'] = 'electron/s'"
   ]
  },
  {
   "cell_type": "code",
   "execution_count": null,
   "id": "9a69e6b9",
   "metadata": {},
   "outputs": [],
   "source": [
    "w.to_header()"
   ]
  },
  {
   "cell_type": "markdown",
   "id": "d7e31be2",
   "metadata": {},
   "source": [
    "# Data with GWCS (no unit)"
   ]
  },
  {
   "cell_type": "code",
   "execution_count": null,
   "id": "4ddf0239",
   "metadata": {},
   "outputs": [],
   "source": [
    "shift_by_crpix = models.Shift(-(2048 - 1) * u.pix) & models.Shift(-(1024 - 1) * u.pix)\n",
    "matrix = np.array([[1.290551569736E-05, 5.9525007864732E-06],\n",
    "                   [5.0226382102765E-06, -1.2644844123757E-05]])\n",
    "rotation = models.AffineTransformation2D(matrix * u.deg, translation=[0, 0] * u.deg)\n",
    "rotation.input_units_equivalencies = {\"x\": u.pixel_scale(1 * (u.deg / u.pix)),\n",
    "                                      \"y\": u.pixel_scale(1 * (u.deg / u.pix))}\n",
    "rotation.inverse = models.AffineTransformation2D(np.linalg.inv(matrix) * u.pix,\n",
    "                                                 translation=[0, 0] * u.pix)\n",
    "rotation.inverse.input_units_equivalencies = {\"x\": u.pixel_scale(1 * (u.pix / u.deg)),\n",
    "                                              \"y\": u.pixel_scale(1 * (u.pix / u.deg))}\n",
    "tan = models.Pix2Sky_TAN()\n",
    "celestial_rotation = models.RotateNative2Celestial(\n",
    "    3.581704851882 * u.deg, -30.39197867265 * u.deg, 180 * u.deg)\n",
    "det2sky = shift_by_crpix | rotation | tan | celestial_rotation\n",
    "det2sky.name = \"linear_transform\"\n",
    "detector_frame = cf.Frame2D(name=\"detector\", axes_names=(\"x\", \"y\"), unit=(u.pix, u.pix))\n",
    "sky_frame = cf.CelestialFrame(reference_frame=ICRS(), name='icrs', unit=(u.deg, u.deg))\n",
    "pipeline = [(detector_frame, det2sky), (sky_frame, None)]\n",
    "w2 = gwcs.WCS(pipeline)"
   ]
  },
  {
   "cell_type": "code",
   "execution_count": null,
   "id": "3ab762bf",
   "metadata": {},
   "outputs": [],
   "source": [
    "ndd_gwcs = NDData(a, wcs=w2)"
   ]
  },
  {
   "cell_type": "markdown",
   "id": "fef5b5f4",
   "metadata": {},
   "source": [
    "This next cell does not work, see https://github.com/spacetelescope/gwcs/issues/408"
   ]
  },
  {
   "cell_type": "raw",
   "id": "30351eca",
   "metadata": {},
   "source": [
    "w2.to_fits(bounding_box=([0, 100] * u.pix, [0, 100] * u.pix))"
   ]
  },
  {
   "cell_type": "markdown",
   "id": "eb2caebb",
   "metadata": {},
   "source": [
    "# Fake data with desired orientation\n",
    "\n",
    "This is no longer needed with the Simple Image Rotation plugin."
   ]
  },
  {
   "cell_type": "raw",
   "id": "77bba25b",
   "metadata": {},
   "source": [
    "# Just a dummy array to hold the WCS.\n",
    "a_dummy = np.random.random((2, 2))\n",
    "\n",
    "# WCS with N-up/E-left\n",
    "w_ref = generate_rotated_wcs(0)\n",
    "\n",
    "# Center it with data, more or less\n",
    "w_ref.wcs.crval = w.wcs.crval\n",
    "w_ref.wcs.cdelt = new_cdelt\n",
    "w_ref.wcs.set()\n",
    "\n",
    "ndd = NDData(a_dummy, wcs=w_ref)"
   ]
  },
  {
   "cell_type": "raw",
   "id": "6af3d111",
   "metadata": {},
   "source": [
    "w_ref.to_header()"
   ]
  },
  {
   "cell_type": "markdown",
   "id": "046ace36",
   "metadata": {},
   "source": [
    "# Show them in Imviz"
   ]
  },
  {
   "cell_type": "code",
   "execution_count": null,
   "id": "93fcdb1b",
   "metadata": {},
   "outputs": [],
   "source": [
    "imviz = Imviz(verbosity='warning')"
   ]
  },
  {
   "cell_type": "raw",
   "id": "f9abec42",
   "metadata": {},
   "source": [
    "# This is no longer needed with the Simple Image Rotation plugin.\n",
    "imviz.load_data(ndd, data_label='wcs_ref')"
   ]
  },
  {
   "cell_type": "code",
   "execution_count": null,
   "id": "fa69eae0",
   "metadata": {},
   "outputs": [],
   "source": [
    "imviz.load_data(hdu, data_label='jb5g05ubq_flt')"
   ]
  },
  {
   "cell_type": "code",
   "execution_count": null,
   "id": "e3585cda",
   "metadata": {},
   "outputs": [],
   "source": [
    "imviz.load_data(ndd_gwcs, data_label='gwcs')"
   ]
  },
  {
   "cell_type": "code",
   "execution_count": null,
   "id": "4a09eb6e-5a98-43b9-8e88-3c7879ac600c",
   "metadata": {},
   "outputs": [],
   "source": [
    "imviz.load_data(a, data_label='no_wcs')"
   ]
  },
  {
   "cell_type": "raw",
   "id": "47548d13",
   "metadata": {},
   "source": [
    "# This is no longer needed with the Simple Image Rotation plugin.\n",
    "imviz.link_data(link_type='wcs')"
   ]
  },
  {
   "cell_type": "code",
   "execution_count": null,
   "id": "022cc29f",
   "metadata": {},
   "outputs": [],
   "source": [
    "imviz.app"
   ]
  },
  {
   "cell_type": "raw",
   "id": "cd4c2aca",
   "metadata": {},
   "source": [
    "# To access the plugin directly.\n",
    "plg = imviz.app.get_tray_item_from_name('imviz-rotate-image')"
   ]
  },
  {
   "cell_type": "markdown",
   "id": "21c20ee4",
   "metadata": {},
   "source": [
    "# Back to basics\n",
    "\n",
    "This shows the low-level function to produce a WCS with desired rotation angle."
   ]
  },
  {
   "cell_type": "code",
   "execution_count": null,
   "id": "48424037",
   "metadata": {},
   "outputs": [],
   "source": [
    "from jdaviz.configs.imviz.wcs_utils import draw_compass_mpl"
   ]
  },
  {
   "cell_type": "code",
   "execution_count": null,
   "id": "acac6156",
   "metadata": {},
   "outputs": [],
   "source": [
    "aa = np.random.random((2, 2))\n",
    "w1 = generate_rotated_wcs(0)\n",
    "draw_compass_mpl(aa, wcs=w1);"
   ]
  },
  {
   "cell_type": "code",
   "execution_count": null,
   "id": "cf2da96b",
   "metadata": {},
   "outputs": [],
   "source": [
    "w2 = generate_rotated_wcs(-90)\n",
    "draw_compass_mpl(aa, wcs=w2);"
   ]
  },
  {
   "cell_type": "code",
   "execution_count": null,
   "id": "1143f7cc",
   "metadata": {},
   "outputs": [],
   "source": []
  }
 ],
 "metadata": {
  "kernelspec": {
   "display_name": "Python 3 (ipykernel)",
   "language": "python",
   "name": "python3"
  },
  "language_info": {
   "codemirror_mode": {
    "name": "ipython",
    "version": 3
   },
   "file_extension": ".py",
   "mimetype": "text/x-python",
   "name": "python",
   "nbconvert_exporter": "python",
   "pygments_lexer": "ipython3",
   "version": "3.9.7"
  }
 },
 "nbformat": 4,
 "nbformat_minor": 5
}
