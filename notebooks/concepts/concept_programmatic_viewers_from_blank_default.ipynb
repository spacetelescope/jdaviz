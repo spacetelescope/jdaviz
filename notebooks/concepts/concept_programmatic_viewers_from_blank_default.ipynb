{
 "cells": [
  {
   "cell_type": "markdown",
   "metadata": {},
   "source": [
    "# Concept Notebook\n",
    "Start with a blank default application and programmatically add views and data to those views\n",
    "\n",
    "### Use Case\n",
    "Programmatically load a single FITS file, e.g. for 2d spectroscopic data, into an \"image\" viewer.  Or a 1d spectrum into a spectrum viewer.  For cases that do not fit into a given pre-made configuration. \n",
    "\n",
    "### MAST Use Case\n",
    "MAST auto-generates notebooks that when users run, needs to download the data, create the relevant jdaviz application / viewers, and load the data by default. One click run gets the user back to where they were on the web."
   ]
  },
  {
   "cell_type": "code",
   "execution_count": null,
   "metadata": {},
   "outputs": [],
   "source": [
    "from IPython.core.display import display, HTML\n",
    "display(HTML(\"<style>.container { width:75% !important; }</style>\"))"
   ]
  },
  {
   "cell_type": "code",
   "execution_count": null,
   "metadata": {},
   "outputs": [],
   "source": [
    "from jdaviz.app import Application"
   ]
  },
  {
   "cell_type": "code",
   "execution_count": null,
   "metadata": {},
   "outputs": [],
   "source": [
    "# some 2d spectroscopic data\n",
    "data = '/Users/bcherinka/Work/jwst/test/jw00626-o030_s00000_nirspec_f170lp-g235m_s2d.fits'"
   ]
  },
  {
   "cell_type": "markdown",
   "metadata": {},
   "source": [
    "### Option 1 - Create a default viewer with the UI and programmatically add data\n",
    "In this option, we create jdaviz with a default configuration, and load an \"Image 2D\" viewer via the user interface, (viewer creator plugin).  We then attempt to add data to the viewer programmatically.  "
   ]
  },
  {
   "cell_type": "code",
   "execution_count": null,
   "metadata": {
    "scrolled": false
   },
   "outputs": [],
   "source": [
    "app = Application('default')\n",
    "app"
   ]
  },
  {
   "cell_type": "markdown",
   "metadata": {},
   "source": [
    "I know I first need to load the data"
   ]
  },
  {
   "cell_type": "code",
   "execution_count": null,
   "metadata": {},
   "outputs": [],
   "source": [
    "app.load_data(data)\n",
    "\n",
    "# running this twice loads the same data with the same labels.  Downstream analysis/plugin calls raise errors on duplicate and \n",
    "# ambiguous data labels.  Running this twice on the same data should either not re-load it or load it with a different unique\n",
    "# data label"
   ]
  },
  {
   "cell_type": "code",
   "execution_count": null,
   "metadata": {},
   "outputs": [],
   "source": [
    "# what label did my data get?  dig around in docs to understand data_collection.  How do I define custom data labels?\n",
    "app.data_collection\n",
    "\n",
    "# want - option to easily label or relabel incoming data.  Either as input in app.load_data or a new function, e.g. app.relabel_data()\n",
    "# app.add_data requires data to be in a special format"
   ]
  },
  {
   "cell_type": "code",
   "execution_count": null,
   "metadata": {},
   "outputs": [],
   "source": [
    "# get a label\n",
    "label = app.data_collection[0].label\n",
    "label"
   ]
  },
  {
   "cell_type": "markdown",
   "metadata": {},
   "source": [
    "I want to load the data into the viewer.  I don't know the name of the viewer I created.  How do I get a list of current viewer references?"
   ]
  },
  {
   "cell_type": "code",
   "execution_count": null,
   "metadata": {},
   "outputs": [],
   "source": [
    "# naively try to get \"image-viewer\". ; throws error\n",
    "app.get_viewer('image-viewer')\n",
    "\n",
    "# also try \n",
    "#app.get_viewer('g-image-viewer')\n",
    "#app.get_viewer('flux-viewer')\n",
    "\n",
    "# want - to return a list of all viewer reference names for currently loaded viewers.  Pick from the list and add data.\n",
    "# app.list_viewers()"
   ]
  },
  {
   "cell_type": "code",
   "execution_count": null,
   "metadata": {},
   "outputs": [],
   "source": [
    "# let's try to add data anyways - throws same error\n",
    "app.add_data_to_viewer('image-viewer', data, ext='SCI')"
   ]
  },
  {
   "cell_type": "markdown",
   "metadata": {},
   "source": [
    "How can I access and inspect the available viewers?  "
   ]
  },
  {
   "cell_type": "code",
   "execution_count": null,
   "metadata": {},
   "outputs": [],
   "source": [
    "# look in the viewer registry\n",
    "from jdaviz.core.registries import tool_registry, viewer_registry\n",
    "viewer_registry"
   ]
  },
  {
   "cell_type": "code",
   "execution_count": null,
   "metadata": {},
   "outputs": [],
   "source": [
    "# I can find all viewers in the registry. But these dict keys are not reference names.  \n",
    "viewer_registry.members"
   ]
  },
  {
   "cell_type": "code",
   "execution_count": null,
   "metadata": {},
   "outputs": [],
   "source": [
    "# oh I see my \"Image 2D\" == \"g-image-viewer\".  That must be the reference name.  Let me try that, to get the viewer.\n",
    "app.get_viewer('g-image-viewer')"
   ]
  },
  {
   "cell_type": "markdown",
   "metadata": {},
   "source": [
    "Now I'm lost and don't know how to look up my viewer.  I can dig around in hidden attributes."
   ]
  },
  {
   "cell_type": "code",
   "execution_count": null,
   "metadata": {},
   "outputs": [],
   "source": [
    "# look up the viewer store.  I see my viewer with a viewer id. \n",
    "app._viewer_store"
   ]
  },
  {
   "cell_type": "code",
   "execution_count": null,
   "metadata": {},
   "outputs": [],
   "source": [
    "# examine the application stack of items\n",
    "app.state.stack_items"
   ]
  },
  {
   "cell_type": "code",
   "execution_count": null,
   "metadata": {},
   "outputs": [],
   "source": [
    "# loop over all the items in the application stack and print the data\n",
    "for i in app.state.stack_items:\n",
    "    print('item', i.keys())\n",
    "    for viewer in i.get('viewers'):\n",
    "        print('viewer', viewer.keys())\n",
    "        for kk, vv in viewer.items():\n",
    "            print(kk,vv)"
   ]
  },
  {
   "cell_type": "code",
   "execution_count": null,
   "metadata": {},
   "outputs": [],
   "source": [
    "# now I have the viewer, I think.  The repr here should be improved to more obvious.\n",
    "viewer"
   ]
  },
  {
   "cell_type": "code",
   "execution_count": null,
   "metadata": {},
   "outputs": [],
   "source": [
    "# get the viewer by id\n",
    "id = viewer['id']"
   ]
  },
  {
   "cell_type": "code",
   "execution_count": null,
   "metadata": {},
   "outputs": [],
   "source": [
    "# try to add data by id.  Still same error as above.\n",
    "app.add_data_to_viewer(id, label)"
   ]
  },
  {
   "cell_type": "code",
   "execution_count": null,
   "metadata": {},
   "outputs": [],
   "source": [
    "# I notice in the stack that no reference name is indicated.  Let's add one.\n",
    "view = app._viewer_item_by_id(id)\n",
    "view['reference'] = 'image-viewer'\n",
    "view"
   ]
  },
  {
   "cell_type": "code",
   "execution_count": null,
   "metadata": {},
   "outputs": [],
   "source": [
    "# now I can add data to the viewer.  Success.\n",
    "app.add_data_to_viewer('image-viewer', data, ext='SCI')"
   ]
  },
  {
   "cell_type": "code",
   "execution_count": null,
   "metadata": {},
   "outputs": [],
   "source": [
    "# can I access the data back out? \n",
    "app.get_data_from_viewer('image-viewer')"
   ]
  },
  {
   "cell_type": "markdown",
   "metadata": {},
   "source": [
    "### Option 2 - Create the viewer programmatically and also load some data\n",
    "In this option, we create a blank jdaviz application with default configuration, and attempt to create a \"Image 2D\" viewer programmatically, and add data to it. "
   ]
  },
  {
   "cell_type": "code",
   "execution_count": null,
   "metadata": {},
   "outputs": [],
   "source": [
    "app = Application()\n",
    "app"
   ]
  },
  {
   "cell_type": "markdown",
   "metadata": {},
   "source": [
    "I don't know what viewers are available to add.  How can I find this out?"
   ]
  },
  {
   "cell_type": "code",
   "execution_count": null,
   "metadata": {},
   "outputs": [],
   "source": [
    "# how do I know what viewers are available to add?  Use the viewer registry I dug around in the code to find.\n",
    "viewer_registry.members\n",
    "\n",
    "# want - option to list/dict the available options for creating different viewers; returns a reference name, label and class.\n",
    "# i.e. expose the registry members in a user-friendly format\n",
    "# app.list_viewer_types()"
   ]
  },
  {
   "cell_type": "markdown",
   "metadata": {},
   "source": [
    "ok, so I know I want an Image 2d viewer, but don't know how to, or cannot, create one programmatically."
   ]
  },
  {
   "cell_type": "code",
   "execution_count": null,
   "metadata": {},
   "outputs": [],
   "source": [
    "# want - option to create a viewer by reference name or label.  The input should check against the formatted list from the registry.\n",
    "# app.create_viewer('image-viewer') or app.create_viewer('Image 2D')\n",
    "\n",
    "# hack to create a new viewer programmatically using code from the Viewer Creator plugin\n",
    "from jdaviz.core.events import NewViewerMessage, AddViewerMessage\n",
    "viewer_cls = viewer_registry.members['g-image-viewer']['cls']\n",
    "new_viewer_message = NewViewerMessage(viewer_cls, data=None, sender=app)\n",
    "app.hub.broadcast(new_viewer_message)"
   ]
  },
  {
   "cell_type": "code",
   "execution_count": null,
   "metadata": {},
   "outputs": [],
   "source": [
    "# ok, I created a viewer.  Now have same problem as option 1\n",
    "app.load_data(data)"
   ]
  },
  {
   "cell_type": "code",
   "execution_count": null,
   "metadata": {},
   "outputs": [],
   "source": [
    "# look for the viewer in the store\n",
    "app._viewer_store"
   ]
  },
  {
   "cell_type": "code",
   "execution_count": null,
   "metadata": {},
   "outputs": [],
   "source": [
    "# attempt to add the data with naive reference name\n",
    "app.add_data_to_viewer('image-viewer', data, ext='SCI') "
   ]
  },
  {
   "cell_type": "code",
   "execution_count": null,
   "metadata": {},
   "outputs": [],
   "source": [
    "# grab the viewer information\n",
    "id = next(iter(app._viewer_store))\n",
    "view = app._viewer_item_by_id(id)\n",
    "for k, v in view.items():\n",
    "    print(k,v)"
   ]
  },
  {
   "cell_type": "code",
   "execution_count": null,
   "metadata": {},
   "outputs": [],
   "source": [
    "# add valid reference name\n",
    "view['reference'] = 'image-viewer'"
   ]
  },
  {
   "cell_type": "code",
   "execution_count": null,
   "metadata": {},
   "outputs": [],
   "source": [
    "# re-attempt to add the data.  success\n",
    "app.add_data_to_viewer('image-viewer', data, ext='SCI') "
   ]
  },
  {
   "cell_type": "markdown",
   "metadata": {},
   "source": [
    "### Option 3 - Create custom Helper and define a custom configuration\n",
    "This option attempts to create a custom helper that represents my 2d spectroscopic fits file, with a single \"Image 2D viewer\".  I define a new custom configuration with the viewer I need."
   ]
  },
  {
   "cell_type": "code",
   "execution_count": null,
   "metadata": {},
   "outputs": [],
   "source": [
    "from jdaviz.core.helpers import ConfigHelper\n",
    "from jdaviz.core.config import get_configuration\n",
    "\n",
    "# get a default configuration\n",
    "config = get_configuration('default')\n",
    "\n",
    "# create a viewer area and viewer\n",
    "config['viewer_area'] = [{'container': 'col', 'children': [{'container':'row', 'viewers':[]}]}]\n",
    "viewers = {'viewers': [{'name': 'Image', 'plot': 'g-image-viewer', 'reference': 'image-viewer'}]}\n",
    "\n",
    "# update the default config\n",
    "config['viewer_area'][0]['children'][0].update(viewers)\n",
    "\n",
    "config\n",
    "\n",
    "\n",
    "# want - easier mechanism for adding viewers into a custom configuration.  Given a custom config, and a viewer \n",
    "# reference name or label, return a properly formatted new config\n",
    "# add_viewer_to_config(config, 'image-viewer')  or add_viewer_to_config(config, ['image-viewer', 'spectrum-viewer'])"
   ]
  },
  {
   "cell_type": "code",
   "execution_count": null,
   "metadata": {},
   "outputs": [],
   "source": [
    "# set my custom config object to the default configuration.  I could also just use Application(config) so \n",
    "# what does the ConfigHelper gain me, the user?  Would be nice to have default data loading. \n",
    "class MyImviz(ConfigHelper):\n",
    "    _default_configuration = config\n",
    "\n",
    "im = MyImviz()\n",
    "im.app"
   ]
  },
  {
   "cell_type": "code",
   "execution_count": null,
   "metadata": {},
   "outputs": [],
   "source": [
    "im.load_data(data)"
   ]
  },
  {
   "cell_type": "code",
   "execution_count": null,
   "metadata": {},
   "outputs": [],
   "source": [
    "# this works cleanly since I defined a proper reference viewer in my configuration\n",
    "im.app.add_data_to_viewer('image-viewer', data, ext='SCI')"
   ]
  },
  {
   "cell_type": "code",
   "execution_count": null,
   "metadata": {},
   "outputs": [],
   "source": [
    "# it would be nice if some convienence for creating data parses could live in the ConfigHelper or easily \n",
    "# decorate / attach to the new helper class"
   ]
  }
 ],
 "metadata": {
  "kernelspec": {
   "display_name": "Python 3",
   "language": "python",
   "name": "python3"
  },
  "language_info": {
   "codemirror_mode": {
    "name": "ipython",
    "version": 3
   },
   "file_extension": ".py",
   "mimetype": "text/x-python",
   "name": "python",
   "nbconvert_exporter": "python",
   "pygments_lexer": "ipython3",
   "version": "3.8.3"
  }
 },
 "nbformat": 4,
 "nbformat_minor": 4
}
