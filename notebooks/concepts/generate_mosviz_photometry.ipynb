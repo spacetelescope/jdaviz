{
 "cells": [
  {
   "cell_type": "markdown",
   "id": "9263c0c7-e830-4609-8217-0942a7f373fc",
   "metadata": {},
   "source": [
    "# Synthetic image and cutout creation for Mosviz pipeline data\n",
    "\n",
    "**Motivation**: The synthetic dataset we currently possess from the JWST data pipeline team for use in Mosviz contains simulated spectra from NIRSpec but no associated NIRCam photometry. We would like to have test imagery to display in Mosviz alongside these 2D and 1D spectra since we are not aware that the pipeline team has plans to produce any.\n",
    "\n",
    "**Goal**: Populate an image of background noise with properly-scaled galaxy cutouts sourced from a Hubble Space Telescope image and placed at their analogous locations in the new image. These galaxies' real spectra do not necessarily correspond with those in our dataset, but we care more about the veneer of having photometry to match with our spectra in Mosviz at this point.\n",
    "\n",
    "**Execution**: We pull our galaxy cutouts and catalog information from the Hubble Deep Field image. _(Formerly used ASTRODEEP's image of the [Abell 2774 Parallel](http://astrodeep.u-strasbg.fr/ff/?img=JH140?cm=grayscale) and [MACS J0416.1-2403 Parallel](http://astrodeep.u-strasbg.fr/ff/?ffid=FF_M0416PAR&id=1264&cm=grayscale).)_ We use `photutils` to select bright sources from the image for use in our own. We sought to use [Artifactory](https://bytesalad.stsci.edu/ui/repos/tree/General/jwst-pipeline%2Fdev%2Ftruth) to obtain a range of RA/Dec over which to project our synthetic image, but that information was absent. Instead, we place the image over a manually chosen RA/Dec range and place the cutouts in randomly selected locations within that field of view.\n",
    "\n",
    "**Issues**:\n",
    "- We wanted to scrape RA/Dec information from the data pipeline products to get a range of coordinates over which to scale our synthetic image, but it appears that the pipeline's data products lack `\"TARG_RA\"` or `\"TARG_DEC\"` keywords in their headers.\n",
    "    - The data products also do not appear to have WCS information. Though it is not strictly needed to achieve this notebook's goals, it would be convenient to have.\n",
    "- There does not appear to be an observation with Level 2 data in `jwst-pipeline/truth/test_nirspec_mos_spec2` and Level 3 data in `jwst-pipeline/truth/test_nirspec_mos_spec3`. All observations are either Level 2 only or Level 3 only.\n",
    "- _(Resolved)_ A good number of the cutouts from the first couple of field images we tested had intrusions from other galaxies due to crowding. We settled on the Hubble Deep Field as a good source image, but had we not, we may have considered using galaxies modeled with Sersic profiles to get cleaner cutouts to inject into our synthetic image."
   ]
  },
  {
   "cell_type": "markdown",
   "id": "bfede422-125f-4347-9f62-67d2dd934041",
   "metadata": {},
   "source": [
    "### Import packages\n",
    "\n",
    "- `os` helps us create a new directory for the final cutouts from the synthetic image.\n",
    "- `glob.glob` lists local files that match a given pattern.\n",
    "- We use `astropy.units` to convert between degrees and arcseconds.\n",
    "- `astropy.coordinates.SkyCoord` helps merge lists of right ascensions (RA) and declinations (Dec) into one object.\n",
    "- `astropy.convolution.Gaussian2DKernel` smooths two-dimensional data by performing convolutions with two Gaussian functions.\n",
    "- We use `astropy.io.fits` to read in existing FITS files and write a new one with the synthetic image.\n",
    "- The objects from `astropy.nddata` assist in creating cutouts once we have identified galaxies to take from the field image and also with re-importing our synthetic image.\n",
    "- The `sigma_*` methods from `astropy.stats` work with image data that is clipped to within a certain number of deviations from the mean. `gaussian_fwhm_to_sigma` is a float for converting full width at half maximum values to standard deviations from the image mean.\n",
    "- The objects from `astropy.table` help with reading an modifiying tabular data.\n",
    "- We download a copy of the Artifactory spectra with `astropy.utils.data.download_file`.\n",
    "- `astropy.wcs.WCS` creates a World Coordinate System object that is useful for transforming on-sky data from one patch to another.\n",
    "- `pathlib.Path` allows for the creation of file paths that work across operating systems.\n",
    "- The objects from `photutils.segmentation` do the work of analytically finding bright sources, separating those that overlap, and creating a catalog of the resulting information.\n",
    "- We use `matplotlib.pyplot` to preview the field image, the cutouts, and various stages of our synthetic image.\n",
    "- We use `numpy` to facilitate several specialized mathematical and array-related operations.\n",
    "- `zipfile` assists with unzipping the downloaded Artifactory files.\n",
    "- Finally, `%matplotlib inline` is notebook \"magic\" that helps display in-notebook plots consistently for different users."
   ]
  },
  {
   "cell_type": "code",
   "execution_count": null,
   "id": "d4c4daca-ca20-45a0-b42c-212f9dde03b5",
   "metadata": {
    "tags": []
   },
   "outputs": [],
   "source": [
    "import os\n",
    "import zipfile\n",
    "from glob import glob\n",
    "from pathlib import Path\n",
    "\n",
    "from astropy import units as u\n",
    "from astropy.coordinates import SkyCoord\n",
    "from astropy.convolution import Gaussian2DKernel\n",
    "from astropy.io import fits\n",
    "from astropy.nddata import block_reduce, Cutout2D, CCDData\n",
    "from astropy.stats import (gaussian_fwhm_to_sigma,\n",
    "                           sigma_clipped_stats, sigma_clip)\n",
    "from astropy.table import Table, join\n",
    "from astropy.utils.data import download_file\n",
    "from astropy.wcs import WCS\n",
    "from photutils.segmentation import (detect_sources, deblend_sources,\n",
    "                                    SourceCatalog)\n",
    "\n",
    "import matplotlib.pyplot as plt\n",
    "import numpy as np"
   ]
  },
  {
   "cell_type": "code",
   "execution_count": null,
   "id": "a451ac82-45ce-4ed9-a0fc-b122ceb128cc",
   "metadata": {},
   "outputs": [],
   "source": [
    "%matplotlib inline"
   ]
  },
  {
   "cell_type": "markdown",
   "id": "7f13f717-4236-49e0-b229-b0a1c04d7ad4",
   "metadata": {},
   "source": [
    "### Download an HST galaxy field image\n",
    "\n",
    "The galaxy cutouts come from the Hubble Deep Field image, whose header and flux data we save as separate variables."
   ]
  },
  {
   "cell_type": "code",
   "execution_count": null,
   "id": "5ea5fefe-deda-4ef5-ad08-32316e45ac41",
   "metadata": {},
   "outputs": [],
   "source": [
    "image_fits = fits.open('https://archive.stsci.edu/pub/hlsp/hdf/v2/mosaics/x4096/f814_mosaic_v2.fits')\n",
    "image_header = image_fits[0].header\n",
    "image_data = image_fits[0].data\n",
    "\n",
    "image_data.shape"
   ]
  },
  {
   "cell_type": "code",
   "execution_count": null,
   "id": "a26b5846-4280-40e9-abb1-99372e2c7f49",
   "metadata": {},
   "outputs": [],
   "source": [
    "imshow_params = {'cmap': 'bone', 'origin': 'lower'}\n",
    "plt.imshow(image_data, vmin=0, vmax=image_data.mean()*3, **imshow_params)"
   ]
  },
  {
   "cell_type": "markdown",
   "id": "1936e3dd-31b6-44fb-b84c-460307b6a808",
   "metadata": {},
   "source": [
    "We also save image statistics calculated from pixels within a chosen number of standard deviations from the image's mean intensity. Some of them are useful in creating the synthetic image later on."
   ]
  },
  {
   "cell_type": "code",
   "execution_count": null,
   "id": "6892fa59-cdcf-453b-9ce2-ead0675d7afb",
   "metadata": {},
   "outputs": [],
   "source": [
    "clipped_mean, clipped_median, clipped_stddev = sigma_clipped_stats(image_data,\n",
    "                                                                   sigma=3.)"
   ]
  },
  {
   "cell_type": "markdown",
   "id": "fb0f606e-93fa-44e1-a1e1-969ade968f53",
   "metadata": {},
   "source": [
    "### Generate analytical galaxy cutouts\n",
    "\n",
    "Whether or not the image comes with a catalog, we can use the methods imported from `photutils` to make our own `SourceCatalog`. We follow a workflow modified from `photuils`' [documentation on segmentation](https://photutils.readthedocs.io/en/stable/segmentation.html)."
   ]
  },
  {
   "cell_type": "code",
   "execution_count": null,
   "id": "8614cc7f-442f-414b-aa7e-084b68bd72c6",
   "metadata": {
    "scrolled": true,
    "tags": []
   },
   "outputs": [],
   "source": [
    "npixels = 10 # minimum source length in pixels\n",
    "sigma = 3 * gaussian_fwhm_to_sigma # from a FWHM of 3\n",
    "\n",
    "# define a kernel for smoothing image data in the cutouts\n",
    "kernel = Gaussian2DKernel(sigma, x_size=3, y_size=3)\n",
    "kernel.normalize()\n",
    "#kernel = None\n",
    "\n",
    "# take first pass at identifying sources\n",
    "segments = detect_sources(data=image_data, threshold=8*clipped_stddev,\n",
    "                          npixels=npixels**2, filter_kernel=kernel, mask=None)\n",
    "\n",
    "# filter out any sources that are too close to the image border\n",
    "segments.remove_border_labels(200)"
   ]
  },
  {
   "cell_type": "code",
   "execution_count": null,
   "id": "fa737746-d202-49ff-bdb0-3156dc3dab68",
   "metadata": {
    "scrolled": true,
    "tags": []
   },
   "outputs": [],
   "source": [
    "# separate overlapping sources into distinct entries\n",
    "segm_deblend = deblend_sources(image_data, segments, npixels=npixels**2,\n",
    "                               filter_kernel=kernel, nlevels=32,\n",
    "                               contrast=1e-1)\n",
    "\n",
    "# create an astropy Table of source information, sorted by area\n",
    "sources = SourceCatalog(image_data, segm_deblend).to_table()\n",
    "sources.sort('area', reverse=True)"
   ]
  },
  {
   "cell_type": "markdown",
   "id": "b15e29de-269f-423d-b4e8-43c283d29766",
   "metadata": {},
   "source": [
    "We can also add a column to `sources` that contains RA/Dec information by creating a `WCS` object and using the field image's header in converting pixel locations to coordinates."
   ]
  },
  {
   "cell_type": "code",
   "execution_count": null,
   "id": "0cc50110-95e0-4d6d-98e9-c27694303126",
   "metadata": {},
   "outputs": [],
   "source": [
    "image_wcs = WCS(image_header)\n",
    "\n",
    "sources.add_columns(\n",
    "    image_wcs.pixel_to_world_values(sources['xcentroid'], sources['ycentroid']),\n",
    "    names=['RA', 'Dec'])"
   ]
  },
  {
   "cell_type": "code",
   "execution_count": null,
   "id": "45af517f-360f-46a7-9305-a9ee5984f994",
   "metadata": {},
   "outputs": [],
   "source": [
    "sources[:5]"
   ]
  },
  {
   "cell_type": "markdown",
   "id": "5f2ade07-e354-499d-b27d-fd383e3353e3",
   "metadata": {},
   "source": [
    "At this point, we are ready to ready to create and save cutouts using the source locations found earlier.\n",
    "\n",
    "_Note: Depending on the value of `catalog_size`, the following cell can produce a lot of output. Right-click the cell and select \"Disable Scrolling for Outputs\" to expand it or \"Enable Scrolling for Outputs\" to condense it._"
   ]
  },
  {
   "cell_type": "code",
   "execution_count": null,
   "id": "edf1b0a4-1132-42e8-b6fd-12436f2355b5",
   "metadata": {
    "scrolled": true,
    "tags": []
   },
   "outputs": [],
   "source": [
    "# define parameters for cutout loop\n",
    "all_cutouts = []\n",
    "catalog_size = 33 # how many sources to include in the cutout list\n",
    "cutout_length = 100 # the maximum length of a cutout in pixels\n",
    "downsample_factor = 4 # scale sources down to proper size for the new image\n",
    "\n",
    "for i in sources['label']:\n",
    "    # save and plot the new cutout\n",
    "    segm_source = segm_deblend.segments[i - 1]\n",
    "    # (sources[\"label\"] is 1-indexed, so subtract 1 for matching segm index)\n",
    "\n",
    "    # implement the downsample\n",
    "    cutout = segm_source.make_cutout(image_data, masked_array=True)\n",
    "    cutout = block_reduce(cutout, downsample_factor) / downsample_factor**2\n",
    "    \n",
    "    plt.imshow(cutout, vmin=0, vmax=image_data.std()*3, **imshow_params)\n",
    "    plt.show()\n",
    "    \n",
    "    all_cutouts.append(cutout)\n",
    "    if len(all_cutouts) == catalog_size:\n",
    "        break"
   ]
  },
  {
   "cell_type": "markdown",
   "id": "ace709b6-aba7-4ec1-8733-99acdebc4dda",
   "metadata": {},
   "source": [
    "___"
   ]
  },
  {
   "cell_type": "markdown",
   "id": "87691179-7fd9-497c-9260-8f24c8b31d41",
   "metadata": {},
   "source": [
    "### _[An alternate, catalog file-based cutout generation process]_\n",
    "\n",
    "It is also possible to build a list of cutouts from an already-existing source catalog; this section serves as a reference for how it is done. Its cells are not necessary for the completion of the notebook and do not run due to the `%%script false --no-raise-error` statements at the top of each one.\n",
    "\n",
    "Depending on the catalog, doing it this way can give you more detailed information about the resulting sources, but the process is less generalizable from one telescope's/instrument's/detector's images to another's. This path may also be less desirable for synthetic image creation because the cutouts will be square patches and thus look a little more, well, synthetic."
   ]
  },
  {
   "cell_type": "code",
   "execution_count": null,
   "id": "b2f3f95b-2d95-413d-9080-79651e8f03ac",
   "metadata": {},
   "outputs": [],
   "source": [
    "%%script false --no-raise-error\n",
    "\n",
    "# download sources' location and flux information\n",
    "_source_info1 = Table.read('https://archive.stsci.edu/pub/hlsp/hdf/wfpc_hdfn_v2catalog/HDFN_wfpc_v2generic.cat',\n",
    "                           format='ascii')\n",
    "_source_info2 = Table.read('https://archive.stsci.edu/pub/hlsp/hdf/wfpc_hdfn_v2catalog/HDFN_f814_v2.cat',\n",
    "                           format='ascii')\n",
    "_sources = join(_source_info1, _source_info2)\n",
    "\n",
    "# confirm that both tables contain the same objects in the same order (True)\n",
    "( (_source_info1['NUMBER'] == _source_info2['NUMBER']).sum()\n",
    "  == len(_source_info1)\n",
    "  == len(_source_info2) )"
   ]
  },
  {
   "cell_type": "code",
   "execution_count": null,
   "id": "d1fab869-ffa6-4ffb-8fa6-4199cc6e929d",
   "metadata": {},
   "outputs": [],
   "source": [
    "%%script false --no-raise-error\n",
    "\n",
    "# sort sources by flux within 71.1 pixel diameter of source, or aperture 11\n",
    "_sources.sort('FLUX_APER_11', reverse=True)\n",
    "\n",
    "# filter out likely stars and sources with negative flux\n",
    "_sources = _sources[(_sources['CLASS_STAR'] < .5)\n",
    "                    & (_sources['FLUX_APER_8'] > 0)]"
   ]
  },
  {
   "cell_type": "code",
   "execution_count": null,
   "id": "2413bcaf-c66a-4040-ade9-a04de1495e6b",
   "metadata": {},
   "outputs": [],
   "source": [
    "%%script false --no-raise-error\n",
    "_sources[:5]"
   ]
  },
  {
   "cell_type": "code",
   "execution_count": null,
   "id": "01e5a612-e0f2-48fc-8465-253bd1cc3a9a",
   "metadata": {},
   "outputs": [],
   "source": [
    "%%script false --no-raise-error\n",
    "\n",
    "# convert the sources' WCS locations to in-image pixel values\n",
    "_image_wcs = WCS(image_header)\n",
    "_sources_x, _sources_y = image_wcs.world_to_pixel_values(_sources['ALPHA_J2000'],\n",
    "                                                         _sources['DELTA_J2000'])"
   ]
  },
  {
   "cell_type": "markdown",
   "id": "4c5e6b73-584c-4bc3-9775-1636190ff1e3",
   "metadata": {},
   "source": [
    "_Note: Depending on the value of `_catalog_size`, the following cell can produce a lot of output. Right-click the cell and select \"Disable Scrolling for Outputs\" to expand it or \"Enable Scrolling for Outputs\" to condense it._"
   ]
  },
  {
   "cell_type": "code",
   "execution_count": null,
   "id": "1764e645-d1ba-4933-b27b-cbe7422e7116",
   "metadata": {
    "scrolled": true,
    "tags": []
   },
   "outputs": [],
   "source": [
    "%%script false --no-raise-error\n",
    "\n",
    "# define parameters for cutout loop\n",
    "_cutout_list = []\n",
    "_first_source = 0 # which source to cut out first (in descending order by flux)\n",
    "_catalog_size = 20 # how many sources to include in the cutout list\n",
    "_patch_length = 100 # the length of a cutout in pixels\n",
    "_downsample_factor = 2\n",
    "\n",
    "# save a list of good cutouts for later use\n",
    "for x, y in list(zip(_sources_x, _sources_y))[_first_source:]:\n",
    "    # use pixel locations to cut a source from the image\n",
    "    _cutout = Cutout2D(image_data, (x, y),\n",
    "                      _patch_length * _downsample_factor).data\n",
    "    \n",
    "    # bin by downsample_factor to increase field of view\n",
    "    _cutout = block_reduce(_cutout, _downsample_factor)\n",
    "    \n",
    "    # skip any cutouts that extend past the image border\n",
    "    if (  np.all(_cutout[-1] <= 0) or np.all(_cutout[0] <= 0)\n",
    "          or np.all(_cutout[:,-1] <= 0) or np.all(_cutout[:,0] <= 0)  ):\n",
    "        continue\n",
    "        \n",
    "    # save and plot the new cutout\n",
    "    _cutout_list.append(_cutout)\n",
    "    \n",
    "    plt.imshow(_cutout, vmin=-1e-5, vmax=image_data.std(), **imshow_params)\n",
    "    plt.show()\n",
    "    \n",
    "    if len(_cutout_list) == _catalog_size:\n",
    "        break"
   ]
  },
  {
   "cell_type": "markdown",
   "id": "775f3dc2-2a42-43c4-967c-44c5f4d7cb6d",
   "metadata": {},
   "source": [
    "___"
   ]
  },
  {
   "cell_type": "markdown",
   "id": "746288d9-3430-4032-898e-156cd0e39d36",
   "metadata": {},
   "source": [
    "### (Try to) Extract destination RA/Dec from spectra files\n",
    "\n",
    "We download copies of Level 3 data products from the JWST pipeline dated May 19, 2021 and hosted in a STScI Box folder. (For more current files, visit the [Artifactory](https://bytesalad.stsci.edu/ui/repos/tree/General/jwst-pipeline%2Fdev%2Ftruth%2Ftest_nirspec_mos_spec3.).) The files are saved in this notebook's current location. If you prefer to save them elsewhere, change `filepath`."
   ]
  },
  {
   "cell_type": "code",
   "execution_count": null,
   "id": "73c7cd0a-1eed-4c1e-a7af-16247d6991b6",
   "metadata": {},
   "outputs": [],
   "source": [
    "filepath = Path('./')\n",
    "\n",
    "# If necessary, download and extract spectra files\n",
    "spec_link = 'https://stsci.box.com/shared/static/3rz8g1fizu6dh7zdymxouvdd8usnm3jc.zip'\n",
    "spec_zip = filepath / 'artifactory_spectra-2021-05-19.zip'\n",
    "spec_path = filepath / spec_zip.stem\n",
    "\n",
    "if spec_path.exists():\n",
    "    print('Spectra already on disk.')\n",
    "else:\n",
    "    if not (filepath / spec_zip).exists():\n",
    "        print(f\"Downloading '{spec_zip.name}'.\")\n",
    "        box_file = download_file(spec_link, cache=True)\n",
    "        \n",
    "        # place link to downloaded file in current directory\n",
    "        os.symlink(box_file, filepath / spec_zip)\n",
    "    \n",
    "    print('Extracting spectra.')\n",
    "    \n",
    "    # create target directory and extract spectra files \n",
    "    (filepath / spec_path).mkdir()\n",
    "    with zipfile.ZipFile(filepath / spec_zip, 'r') as zf:\n",
    "        zf.extractall(spec_path)"
   ]
  },
  {
   "cell_type": "code",
   "execution_count": null,
   "id": "3c54fde5-ad04-43f1-8acc-ccc33dc2c5b1",
   "metadata": {},
   "outputs": [],
   "source": [
    "# view level 3 spectra FITS header information\n",
    "x1d_header = fits.getheader(spec_path / 'jw00626-o030_s00000_nirspec_f170lp-g235m_x1d.fits', ext=1)\n",
    "s2d_header = fits.getheader(spec_path / 'jw00626-o030_s00000_nirspec_f170lp-g235m_s2d.fits', ext=1)"
   ]
  },
  {
   "cell_type": "code",
   "execution_count": null,
   "id": "63908a5c-83d1-4cba-a516-cd0a8b28f76c",
   "metadata": {},
   "outputs": [],
   "source": [
    "(x1d_header['SRCRA'], x1d_header['SRCDEC']), (s2d_header['SRCRA'], s2d_header['SRCDEC'])"
   ]
  },
  {
   "cell_type": "code",
   "execution_count": null,
   "id": "e94df0cd-dbf0-4fcf-96f0-e3f3d446229b",
   "metadata": {},
   "outputs": [],
   "source": [
    "WCS(x1d_header)"
   ]
  },
  {
   "cell_type": "markdown",
   "id": "a225379a-d1b7-403c-9421-02dbf3386ced",
   "metadata": {},
   "source": [
    "This header's listed source RA/Dec of (0, 0) seems suspicious. Examining all of this observation's file headers reveals that it is indeed not in line with the other pointings."
   ]
  },
  {
   "cell_type": "code",
   "execution_count": null,
   "id": "15610ff2-8103-4b79-9957-d537c126e7ec",
   "metadata": {},
   "outputs": [],
   "source": [
    "# search for RA/Dec information from Artifactory observation files\n",
    "x1d_header_list = [fits.getheader(file, ext=1)\n",
    "                   for file in spec_path.glob('jw00626*x1d.fits')]\n",
    "\n",
    "_ras, _decs = np.array([[h['SRCRA'], h['SRCDEC']] for h in x1d_header_list]).T\n",
    "_ras, _decs"
   ]
  },
  {
   "cell_type": "markdown",
   "id": "c24cff3e-8455-4fac-9e00-7a3a537bb9ea",
   "metadata": {},
   "source": [
    "### Create synthetic image\n",
    "\n",
    "To get a more realistic field of view, we randomly generate our sources' RA/Dec information in a predetermined patch of sky. We choose the patch size by approximating NIRSpec's 3.6'x3.4' Micro-Shutter Assembly (MSA) to a square field of view."
   ]
  },
  {
   "cell_type": "code",
   "execution_count": null,
   "id": "21585c3f-30d1-401a-9958-d50cc17d4c17",
   "metadata": {},
   "outputs": [],
   "source": [
    "# (ranges based on NIRSpec MSA's on-sky projection size of 3.6x3.4 arcmins)\n",
    "np.random.seed(19)\n",
    "ras = np.random.uniform(0, 1/15, catalog_size)\n",
    "decs = np.random.uniform(-1/30, 1/30, catalog_size)"
   ]
  },
  {
   "cell_type": "markdown",
   "id": "cf39ba39-0264-4dfd-87c7-1a5df076e251",
   "metadata": {},
   "source": [
    "We initialize a `numpy` array and fill it with a normally-distributed background noise level based on some of the clipped image statistics that were calculated earlier."
   ]
  },
  {
   "cell_type": "code",
   "execution_count": null,
   "id": "ba5ff697-c9b0-4218-a1d0-95d2fc8ff8e9",
   "metadata": {
    "tags": []
   },
   "outputs": [],
   "source": [
    "# create synthetic image onto which cutouts will be pasted\n",
    "synth_img_size = 1000\n",
    "synth_image = np.zeros((synth_img_size, synth_img_size))"
   ]
  },
  {
   "cell_type": "code",
   "execution_count": null,
   "id": "7ceac16a-8bfc-4e8e-8713-2dfe6251f60e",
   "metadata": {},
   "outputs": [],
   "source": [
    "# add noise\n",
    "synth_image += np.random.normal(loc=clipped_mean, scale=clipped_stddev*8,\n",
    "                                size=synth_image.shape)"
   ]
  },
  {
   "cell_type": "code",
   "execution_count": null,
   "id": "5a40c665-935a-40f4-8a85-15fd943285a0",
   "metadata": {},
   "outputs": [],
   "source": [
    "plt.imshow(synth_image, **imshow_params)\n",
    "plt.show()"
   ]
  },
  {
   "cell_type": "markdown",
   "id": "502d2402-572c-4892-81a4-692e59dbb208",
   "metadata": {},
   "source": [
    "### Fill out new WCS object for `synth_image`\n",
    "\n",
    "Creating a `WCS` object for `synth_image` allows it to be mathematically transformed into a projection on the sky. That projection can then be compared to other FITS images with their own WCS information."
   ]
  },
  {
   "cell_type": "code",
   "execution_count": null,
   "id": "0f22d48b-67ba-4cba-9f41-2d0d24bba9e2",
   "metadata": {},
   "outputs": [],
   "source": [
    "synth_wcs = WCS(naxis=2)"
   ]
  },
  {
   "cell_type": "markdown",
   "id": "f8609331-a34e-4b60-a227-2bae558cb2f3",
   "metadata": {},
   "source": [
    "The next step is to calculate field of view information for `synth_image`."
   ]
  },
  {
   "cell_type": "code",
   "execution_count": null,
   "id": "c5eaf810-6ed5-4471-9fed-8c8eed8e6f2d",
   "metadata": {
    "tags": []
   },
   "outputs": [],
   "source": [
    "# find the range of sources in RA and dec\n",
    "ra_bounds = np.array([ras.max(), ras.min()])\n",
    "dec_bounds = np.array([decs.max(), decs.min()])\n",
    "\n",
    "delta_ra = np.ptp(ras)\n",
    "delta_dec = np.ptp(decs)"
   ]
  },
  {
   "cell_type": "code",
   "execution_count": null,
   "id": "adee6b70-b098-4efe-b551-0bbd212c3e36",
   "metadata": {},
   "outputs": [],
   "source": [
    "# save the maximum span in coordinates, RA or dec\n",
    "if delta_ra > delta_dec:\n",
    "    min_image_fov = abs(delta_ra * np.cos(np.pi / 180 * dec_bounds.sum() / 2))\n",
    "else:\n",
    "    min_image_fov = delta_dec\n",
    "    \n",
    "min_image_fov"
   ]
  },
  {
   "cell_type": "code",
   "execution_count": null,
   "id": "46aabc3b-7368-40db-9c2b-9e92343a60fd",
   "metadata": {},
   "outputs": [],
   "source": [
    "# scale this field of view (FOV) by pixels\n",
    "pix_scale = min_image_fov / synth_img_size\n",
    "\n",
    "# add a buffer to the FOV's borders to prevent clipping sources\n",
    "pix_scale *= 1.2\n",
    "(pix_scale * u.deg).to(u.arcsecond)"
   ]
  },
  {
   "cell_type": "markdown",
   "id": "3366b9b1-1944-42be-828f-bc609a3aeb6b",
   "metadata": {},
   "source": [
    "With those calculations done, the `WCS` object is ready to be filled out."
   ]
  },
  {
   "cell_type": "code",
   "execution_count": null,
   "id": "85ffc3e6-0688-4a88-b3bc-73ac42ef8fae",
   "metadata": {
    "tags": []
   },
   "outputs": [],
   "source": [
    "synth_wcs.wcs.ctype = ['RA---TAN', 'DEC--TAN']\n",
    "\n",
    "# match value of center pixel of detector to value of FOV's central coordinate in the sky\n",
    "synth_wcs.wcs.crpix = [synth_img_size / 2, synth_img_size / 2]\n",
    "synth_wcs.wcs.crval = [ra_bounds.sum() / 2, dec_bounds.sum() / 2]\n",
    "\n",
    "# distance (in sky coordinates) traversed by one pixel length in each dimension\n",
    "synth_wcs.wcs.cdelt = [-pix_scale, pix_scale]\n",
    "\n",
    "synth_wcs"
   ]
  },
  {
   "cell_type": "code",
   "execution_count": null,
   "id": "a50df507-e367-46c1-911b-bc3b1bff7e6d",
   "metadata": {},
   "outputs": [],
   "source": [
    "# convert source RAs/decs from real coordinates to pixels \n",
    "ras_pix, decs_pix = np.round(synth_wcs.world_to_pixel_values(ras, decs)).astype(int)\n",
    "ras_pix, decs_pix"
   ]
  },
  {
   "cell_type": "markdown",
   "id": "b3e474ba-5a5d-431f-95d3-6b99e621ef7b",
   "metadata": {},
   "source": [
    "### Populate `synth_image` with the cutouts\n",
    "\n",
    "Now is the time to add the cutouts into `synth_image` and complete its creation."
   ]
  },
  {
   "cell_type": "code",
   "execution_count": null,
   "id": "4162eedc-5388-48f9-a637-d3b5447508c4",
   "metadata": {},
   "outputs": [],
   "source": [
    "for i, co in enumerate(all_cutouts):\n",
    "    # first, calculate cutout's distances from center to each edge, accounting\n",
    "    # for odd numbers by using np.floor to shift that axis' values by 0.5\n",
    "    cutout_ranges = np.array([np.floor([-n/2, n/2]) for n in co.shape],\n",
    "                             dtype='int')\n",
    "    \n",
    "    # remember to flip RA/dec to dec/RA when indexing image array\n",
    "    synth_image[\n",
    "        decs_pix[i] + cutout_ranges[0,0] : decs_pix[i] + cutout_ranges[0,1],\n",
    "        ras_pix[i] + cutout_ranges[1,0] : ras_pix[i] + cutout_ranges[1,1]\n",
    "    ] += co"
   ]
  },
  {
   "cell_type": "code",
   "execution_count": null,
   "id": "24ae2b48-ef41-4e45-9412-85dc091c70d3",
   "metadata": {},
   "outputs": [],
   "source": [
    "fig, ax = plt.subplots(figsize=(10,10))\n",
    "ax.imshow(synth_image, vmin=0, vmax=synth_image.std(), **imshow_params)\n",
    "#ax.imshow(synth_image, vmin=0, vmax=synth_image.mean()*3, **imshow_params)\n",
    "ax.tick_params(labelsize=14)\n",
    "plt.show()"
   ]
  },
  {
   "cell_type": "markdown",
   "id": "8b518b39-3d22-42c4-a632-4c17801900a5",
   "metadata": {},
   "source": [
    "We save the image to a local location. The default is this notebook's current directory; you can change that by adjusting `savepath` to your preferred path.\n",
    "\n",
    "This cell will overwrite a same-named file if it already exists in that location."
   ]
  },
  {
   "cell_type": "code",
   "execution_count": null,
   "id": "9b4f35a3-45a8-492e-98f8-039d5831a29f",
   "metadata": {},
   "outputs": [],
   "source": [
    "savepath = Path('./')\n",
    "synth_file = 'synthetic_mosviz_image.fits'\n",
    "\n",
    "fits.writeto(savepath / synth_file, synth_image,\n",
    "             header=synth_wcs.to_header(), overwrite=True)"
   ]
  },
  {
   "cell_type": "markdown",
   "id": "12fb131f-a580-4624-99e1-d1f1443cc15c",
   "metadata": {},
   "source": [
    "### Harvest cutouts from synthetic image\n",
    "\n",
    "Finally, we can create image cutouts from the new synthetic image to associate with the pipeline's synthetic spectral data in [Mosviz](https://jdaviz.readthedocs.io/en/latest/mosviz/index.html). We begin by reopening the synthetic image with `astropy`'s `CCDData` class in order to handle the WCS information in its header more smoothly.\n",
    "\n",
    "Then, we use `Cutout2D` to create square cutouts of each source in the image by using coordinate information previously taken from the synthetic sprectra files."
   ]
  },
  {
   "cell_type": "code",
   "execution_count": null,
   "id": "1eb13a31-7342-4876-98f5-8d249c439b38",
   "metadata": {},
   "outputs": [],
   "source": [
    "ccd_synth_img = CCDData.read(savepath / synth_file, unit='electron/s')"
   ]
  },
  {
   "cell_type": "code",
   "execution_count": null,
   "id": "07ff36c5-8345-4700-8c23-ef7c4a69eb21",
   "metadata": {},
   "outputs": [],
   "source": [
    "synth_cutout_size = 50 # pixels\n",
    "synth_cutout_list = [Cutout2D(ccd_synth_img, SkyCoord(r, d), synth_cutout_size)\n",
    "                     for r, d in zip(ras * u.deg, decs * u.deg)]\n",
    "\n",
    "plt.imshow(synth_cutout_list[2].data, **imshow_params,\n",
    "           vmin=0, vmax=ccd_synth_img.data.std())"
   ]
  },
  {
   "cell_type": "markdown",
   "id": "c8ec6814-e350-400b-b314-fdf9ac4e05f2",
   "metadata": {},
   "source": [
    "These cutout images are also ready for saving after adding some extra information to their headers. It may be useful to create a new folder and save them there by modifying the `savepath2` variable below.\n",
    "\n",
    "_Note: Depending on the length of `synth_cutout_list`, the following cell can produce a lot of output. Right-click the cell and select \"Disable Scrolling for Outputs\" to expand it or \"Enable Scrolling for Outputs\" to condense it._"
   ]
  },
  {
   "cell_type": "code",
   "execution_count": null,
   "id": "cd58fa14-739c-423d-af3b-8cbb11c80ba2",
   "metadata": {
    "scrolled": true,
    "tags": []
   },
   "outputs": [],
   "source": [
    "cutout_dir = savepath / 'mosviz-cutouts/'\n",
    "if not (savepath / cutout_dir).exists():\n",
    "    cutout_dir.mkdir()\n",
    "\n",
    "for i, cut in enumerate(synth_cutout_list):\n",
    "    sdt = cut.data\n",
    "    shd = cut.wcs.to_header()\n",
    "    \n",
    "    # add metadata for proper reading in Mosviz\n",
    "    shd['OBJ_RA'] = (ras[i], 'Source right ascension')\n",
    "    shd['OBJ_DEC'] = (decs[i], 'Source declination')\n",
    "    shd['OBJ_ROT'] = (0, '')\n",
    "    \n",
    "    fits.writeto(cutout_dir / f\"synth_cutout{i}.fits\",\n",
    "                 sdt, header=shd, overwrite=True)\n",
    "    \n",
    "    plt.imshow(sdt, **imshow_params, vmin=0, vmax=ccd_synth_img.data.std())\n",
    "    plt.show()"
   ]
  },
  {
   "cell_type": "markdown",
   "id": "6b4c5cb2-f304-471e-b04b-5e2fa6baec17",
   "metadata": {},
   "source": [
    "These cutout files and the spectral files we examined earlier can serve as the data behind a workflow in [Mosviz](https://jdaviz.readthedocs.io/en/latest/mosviz/index.html). Please see other notebooks in this directory for more information on how to use that tool.\n",
    "\n",
    "<p>\n",
    "    <span style=\"line-height: 60px;\"> <i> Authors: O. Justin Otor and Robel Geda </i> </span>\n",
    "    <img style=\"float: right;/* clear: right; */vertical-align: text-bottom;display: inline-block;\" src=\"https://raw.githubusercontent.com/spacetelescope/notebooks/master/assets/stsci_pri_combo_mark_horizonal_white_bkgd.png\" alt=\"Space Telescope Logo\" width=\"200px\">\n",
    "</p>\n",
    "\n",
    "-----"
   ]
  }
 ],
 "metadata": {
  "kernelspec": {
   "display_name": "Python 3",
   "language": "python",
   "name": "python3"
  },
  "language_info": {
   "codemirror_mode": {
    "name": "ipython",
    "version": 3
   },
   "file_extension": ".py",
   "mimetype": "text/x-python",
   "name": "python",
   "nbconvert_exporter": "python",
   "pygments_lexer": "ipython3",
   "version": "3.8.10"
  }
 },
 "nbformat": 4,
 "nbformat_minor": 5
}
