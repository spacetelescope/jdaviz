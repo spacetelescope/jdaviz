{
 "cells": [
  {
   "cell_type": "code",
   "execution_count": null,
   "id": "692c3137",
   "metadata": {},
   "outputs": [],
   "source": [
    "import numpy as np\n",
    "from astropy import units as u\n",
    "from astropy.wcs import WCS\n",
    "from specutils import Spectrum1D\n",
    "\n",
    "from jdaviz import Cubeviz\n",
    "from jdaviz.configs.cubeviz.plugins.moment_maps.moment_maps import MomentMap"
   ]
  },
  {
   "cell_type": "code",
   "execution_count": null,
   "id": "429ed338",
   "metadata": {},
   "outputs": [],
   "source": [
    "flux = np.arange(16).reshape((2, 2, 4)) * u.Jy\n",
    "wcs_dict = {\"CTYPE1\": \"RA---TAN\", \"CTYPE2\": \"DEC--TAN\", \"CTYPE3\": \"WAVE-LOG\",\n",
    "            \"CRVAL1\": 205, \"CRVAL2\": 27, \"CRVAL3\": 4.622e-7,\n",
    "            \"CDELT1\": -0.0001, \"CDELT2\": 0.0001, \"CDELT3\": 8e-11,\n",
    "            \"CRPIX1\": 0, \"CRPIX2\": 0, \"CRPIX3\": 0}\n",
    "w = WCS(wcs_dict)\n",
    "\n",
    "spectrum1d_cube = Spectrum1D(flux=flux, wcs=w)"
   ]
  },
  {
   "cell_type": "code",
   "execution_count": null,
   "id": "4ec770fd",
   "metadata": {},
   "outputs": [],
   "source": [
    "cubeviz_helper = Cubeviz()"
   ]
  },
  {
   "cell_type": "code",
   "execution_count": null,
   "id": "50041dc0",
   "metadata": {},
   "outputs": [],
   "source": [
    "dc = cubeviz_helper.app.data_collection\n",
    "cubeviz_helper.load_data(spectrum1d_cube, data_label='test')\n",
    "flux_viewer = cubeviz_helper.app.get_viewer('flux-viewer')"
   ]
  },
  {
   "cell_type": "code",
   "execution_count": null,
   "id": "9fe9c849",
   "metadata": {},
   "outputs": [],
   "source": [
    "cubeviz_helper.app"
   ]
  },
  {
   "cell_type": "code",
   "execution_count": null,
   "id": "427393ae",
   "metadata": {},
   "outputs": [],
   "source": [
    "dc[0].shape"
   ]
  },
  {
   "cell_type": "code",
   "execution_count": null,
   "id": "5b28d314",
   "metadata": {},
   "outputs": [],
   "source": [
    "mm = MomentMap(app=cubeviz_helper.app)"
   ]
  },
  {
   "cell_type": "code",
   "execution_count": null,
   "id": "853c94ad",
   "metadata": {},
   "outputs": [],
   "source": [
    "mm.dataset_selected = 'test[FLUX]'\n",
    "mm.n_moment = 0  # Collapsed sum, will get back 2D spatial image"
   ]
  },
  {
   "cell_type": "code",
   "execution_count": null,
   "id": "2ae33f4b",
   "metadata": {},
   "outputs": [],
   "source": [
    "mm.add_results.viewer.selected = 'mask-viewer'\n",
    "mm.vue_calculate_moment()"
   ]
  },
  {
   "cell_type": "code",
   "execution_count": null,
   "id": "b9c9ef7c",
   "metadata": {},
   "outputs": [],
   "source": [
    "# Make sure adding it to viewer does not crash.\n",
    "cubeviz_helper.app.add_data_to_viewer('flux-viewer', 'moment 0')"
   ]
  },
  {
   "cell_type": "code",
   "execution_count": null,
   "id": "a34eae13",
   "metadata": {},
   "outputs": [],
   "source": [
    "active_layer = flux_viewer.state.layers[1]\n",
    "image = active_layer.layer"
   ]
  },
  {
   "cell_type": "code",
   "execution_count": null,
   "id": "41f1b11f",
   "metadata": {},
   "outputs": [],
   "source": [
    "image.shape  # y, x"
   ]
  },
  {
   "cell_type": "code",
   "execution_count": null,
   "id": "4e17ffbc",
   "metadata": {},
   "outputs": [],
   "source": [
    "x = 1\n",
    "y = 3\n",
    "image.get_data(active_layer.attribute)[int(round(x)), int(round(y))]"
   ]
  },
  {
   "cell_type": "code",
   "execution_count": null,
   "id": "a9943259",
   "metadata": {},
   "outputs": [],
   "source": [
    "image.get_data(active_layer.attribute).shape"
   ]
  },
  {
   "cell_type": "code",
   "execution_count": null,
   "id": "0963bfc3",
   "metadata": {},
   "outputs": [],
   "source": []
  }
 ],
 "metadata": {
  "kernelspec": {
   "display_name": "Python 3 (ipykernel)",
   "language": "python",
   "name": "python3"
  },
  "language_info": {
   "codemirror_mode": {
    "name": "ipython",
    "version": 3
   },
   "file_extension": ".py",
   "mimetype": "text/x-python",
   "name": "python",
   "nbconvert_exporter": "python",
   "pygments_lexer": "ipython3",
   "version": "3.9.7"
  }
 },
 "nbformat": 4,
 "nbformat_minor": 5
}
