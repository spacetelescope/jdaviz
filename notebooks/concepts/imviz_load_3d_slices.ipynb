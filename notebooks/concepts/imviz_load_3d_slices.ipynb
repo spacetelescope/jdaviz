{
 "cells": [
  {
   "cell_type": "markdown",
   "id": "852e11d6",
   "metadata": {},
   "source": [
    "# Imviz: Load 3D cube as 2D slices\n",
    "\n",
    "This showcases how Imviz can load 3D cube as 2D slices at `axis=0`."
   ]
  },
  {
   "cell_type": "code",
   "execution_count": null,
   "id": "662e9783",
   "metadata": {},
   "outputs": [],
   "source": [
    "import numpy as np\n",
    "\n",
    "from jdaviz import Imviz"
   ]
  },
  {
   "cell_type": "code",
   "execution_count": null,
   "id": "e2e74c3a",
   "metadata": {},
   "outputs": [],
   "source": [
    "# Generate the cube.\n",
    "arr = np.stack([np.random.random((10, 10)) for _ in range(5)])\n",
    "arr.shape"
   ]
  },
  {
   "cell_type": "code",
   "execution_count": null,
   "id": "e75f616e",
   "metadata": {},
   "outputs": [],
   "source": [
    "imviz = Imviz()\n",
    "imviz.load_data(arr, data_label='my_slices')\n",
    "imviz.show()"
   ]
  },
  {
   "cell_type": "markdown",
   "id": "05c24b87",
   "metadata": {},
   "source": [
    "## You can also load it one slice at a time..."
   ]
  },
  {
   "cell_type": "code",
   "execution_count": null,
   "id": "b07b7fd2",
   "metadata": {},
   "outputs": [],
   "source": [
    "imviz2 = Imviz()\n",
    "imviz2.show()"
   ]
  },
  {
   "cell_type": "code",
   "execution_count": null,
   "id": "d38aa230",
   "metadata": {},
   "outputs": [],
   "source": [
    "with imviz2.batch_load():\n",
    "    for i in range(arr.shape[0]):\n",
    "        data = arr[i, :, :]\n",
    "        imviz2.load_data(data, data_label=f'a_{i}')"
   ]
  },
  {
   "cell_type": "markdown",
   "id": "11626756",
   "metadata": {},
   "source": [
    "## This is not Cubeviz, so...\n",
    "\n",
    "You have to plot the line profile manually, as follows."
   ]
  },
  {
   "cell_type": "code",
   "execution_count": null,
   "id": "fa2ede51",
   "metadata": {},
   "outputs": [],
   "source": [
    "import matplotlib.pyplot as plt\n",
    "\n",
    "%matplotlib inline"
   ]
  },
  {
   "cell_type": "code",
   "execution_count": null,
   "id": "f18e7353",
   "metadata": {},
   "outputs": [],
   "source": [
    "collapsed_mean = arr.mean(axis=(1, 2))\n",
    "collapsed_mean.shape"
   ]
  },
  {
   "cell_type": "code",
   "execution_count": null,
   "id": "0ea2c32e",
   "metadata": {},
   "outputs": [],
   "source": [
    "plt.plot(collapsed_mean, '-o')\n",
    "plt.title('Mean across slices')\n",
    "plt.xlabel('Slice index')\n",
    "plt.ylabel('Value');"
   ]
  },
  {
   "cell_type": "markdown",
   "id": "8b692944-ec27-4e72-9601-114ba040f6e7",
   "metadata": {},
   "source": [
    "## What else can you do doo doo doo doo?\n",
    "\n",
    "This requires `PIL` package to be installed."
   ]
  },
  {
   "cell_type": "code",
   "execution_count": null,
   "id": "e8d9092e-86c3-489d-b48c-e103d276eae0",
   "metadata": {},
   "outputs": [],
   "source": [
    "from astropy.utils.data import download_file\n",
    "from PIL import Image, ImageSequence\n",
    "from skimage.color import rgb2gray"
   ]
  },
  {
   "cell_type": "code",
   "execution_count": null,
   "id": "006260b6",
   "metadata": {},
   "outputs": [],
   "source": [
    "imviz3 = Imviz()"
   ]
  },
  {
   "cell_type": "code",
   "execution_count": null,
   "id": "1f01e094-785d-4a15-a90b-b65e10d69fff",
   "metadata": {},
   "outputs": [],
   "source": [
    "gif_file = download_file('https://media4.giphy.com/media/J5pnZ53pj4cmu30Rx5/giphy.gif', cache=True)"
   ]
  },
  {
   "cell_type": "code",
   "execution_count": null,
   "id": "ce2667c4",
   "metadata": {},
   "outputs": [],
   "source": [
    "im = Image.open(gif_file)\n",
    "i = 0\n",
    "\n",
    "with imviz3.batch_load():\n",
    "    for frame in ImageSequence.Iterator(im):\n",
    "        if i % 10 != 0:  # Skip some\n",
    "            i += 1\n",
    "            continue\n",
    "        data = np.asarray(frame)[::-1, :]\n",
    "        if data.ndim == 3:\n",
    "            data = rgb2gray(data)\n",
    "        imviz3.load_data(data, data_label=f'frame_{i}', do_link=False)\n",
    "        i += 1"
   ]
  },
  {
   "cell_type": "code",
   "execution_count": null,
   "id": "fb573f18-970b-4555-9ca7-4156b99a7b57",
   "metadata": {},
   "outputs": [],
   "source": [
    "imviz3.show()"
   ]
  },
  {
   "cell_type": "code",
   "execution_count": null,
   "id": "7f408020",
   "metadata": {},
   "outputs": [],
   "source": []
  }
 ],
 "metadata": {
  "kernelspec": {
   "display_name": "Python 3 (ipykernel)",
   "language": "python",
   "name": "python3"
  },
  "language_info": {
   "codemirror_mode": {
    "name": "ipython",
    "version": 3
   },
   "file_extension": ".py",
   "mimetype": "text/x-python",
   "name": "python",
   "nbconvert_exporter": "python",
   "pygments_lexer": "ipython3",
   "version": "3.10.4"
  }
 },
 "nbformat": 4,
 "nbformat_minor": 5
}
