{
 "cells": [
  {
   "cell_type": "markdown",
   "id": "5164a543-c0cc-406a-a698-3a6a7477c43d",
   "metadata": {},
   "source": [
    "# Loading individual HDUs with Imviz"
   ]
  },
  {
   "cell_type": "code",
   "execution_count": null,
   "id": "76247920-501d-4085-a2ec-67ed2a29a347",
   "metadata": {},
   "outputs": [],
   "source": [
    "from astropy.io import fits\n",
    "from astropy.utils.data import download_file\n",
    "\n",
    "from jdaviz import Imviz"
   ]
  },
  {
   "cell_type": "code",
   "execution_count": null,
   "id": "1a214c0e-ddec-41b4-a289-3d1dbe975f64",
   "metadata": {},
   "outputs": [],
   "source": [
    "jwf277w = download_file('https://stsci.box.com/shared/static/iao1zxtigyrhq7k3wtu5nchrxzlhj9kv.fits', cache=True)"
   ]
  },
  {
   "cell_type": "markdown",
   "id": "2004d08e-9056-4cd4-a77e-bd0d6a4e8eb3",
   "metadata": {},
   "source": [
    "FITS info would show this:\n",
    "\n",
    "    No.    Name      Ver    Type      Cards   Dimensions   Format\n",
    "      0  PRIMARY       1 PrimaryHDU     263   ()\n",
    "      1  SCI           1 ImageHDU        85   (2048, 2048)   float32\n",
    "      2  ERR           1 ImageHDU        10   (2048, 2048)   float32\n",
    "      3  DQ            1 ImageHDU        11   (2048, 2048)   int32 (rescales to uint32)\n",
    "      ..."
   ]
  },
  {
   "cell_type": "code",
   "execution_count": null,
   "id": "d375cdcf-1930-4ef0-a693-fa33436abf3d",
   "metadata": {},
   "outputs": [],
   "source": [
    "pf = fits.open(jwf277w)\n",
    "pf.info()"
   ]
  },
  {
   "cell_type": "code",
   "execution_count": null,
   "id": "254e547f-a7f1-4a3c-913c-3674b7ac93da",
   "metadata": {},
   "outputs": [],
   "source": [
    "imviz = Imviz()"
   ]
  },
  {
   "cell_type": "code",
   "execution_count": null,
   "id": "28c4f536",
   "metadata": {},
   "outputs": [],
   "source": [
    "# This is the recommended way and you will get GWCS from\n",
    "# the ASDF extension for all the loaded HDUs.\n",
    "imviz.load_data(jwf277w, ext=('SCI', 1))\n",
    "imviz.load_data(jwf277w, ext=('ERR', 1))\n",
    "imviz.load_data(jwf277w, ext=('DQ', 1))"
   ]
  },
  {
   "cell_type": "raw",
   "id": "0e8a5744",
   "metadata": {},
   "source": [
    "# If you must load HDU objects themselves individually, you will\n",
    "# only get WCS if it is in the immediate FITS header.\n",
    "imviz.load_data(pf[1], data_label='ext_1')\n",
    "imviz.load_data(pf[2], data_label='ext_2')\n",
    "imviz.load_data(pf[3], data_label='ext_3')"
   ]
  },
  {
   "cell_type": "code",
   "execution_count": null,
   "id": "ffba41b3-b843-441b-aa3e-7d8efc9bc7a5",
   "metadata": {},
   "outputs": [],
   "source": [
    "imviz.show()"
   ]
  },
  {
   "cell_type": "markdown",
   "id": "87b586bd",
   "metadata": {},
   "source": [
    "## Set stretch, cuts, and colormap for all layers at once"
   ]
  },
  {
   "cell_type": "code",
   "execution_count": null,
   "id": "2219cbbb",
   "metadata": {},
   "outputs": [],
   "source": [
    "imviz.default_viewer.apply_to_all_layers = True\n",
    "imviz.default_viewer.stretch = 'arcsinh'\n",
    "imviz.default_viewer.cuts = (0.1, 1)\n",
    "imviz.default_viewer.set_colormap('Viridis')"
   ]
  },
  {
   "cell_type": "markdown",
   "id": "ac7812b7",
   "metadata": {},
   "source": [
    "Now, blink to see these are applied to all layers."
   ]
  },
  {
   "cell_type": "markdown",
   "id": "46685d3e",
   "metadata": {},
   "source": [
    "## Close the FITS file handler when we are done"
   ]
  },
  {
   "cell_type": "code",
   "execution_count": null,
   "id": "cf112d5f-e10a-420e-9144-d8883d8dc2cf",
   "metadata": {},
   "outputs": [],
   "source": [
    "pf.close()"
   ]
  }
 ],
 "metadata": {
  "kernelspec": {
   "display_name": "Python 3 (ipykernel)",
   "language": "python",
   "name": "python3"
  },
  "language_info": {
   "codemirror_mode": {
    "name": "ipython",
    "version": 3
   },
   "file_extension": ".py",
   "mimetype": "text/x-python",
   "name": "python",
   "nbconvert_exporter": "python",
   "pygments_lexer": "ipython3",
   "version": "3.9.7"
  }
 },
 "nbformat": 4,
 "nbformat_minor": 5
}
