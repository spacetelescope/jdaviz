{
 "cells": [
  {
   "cell_type": "code",
   "execution_count": 1,
   "metadata": {
    "scrolled": false
   },
   "outputs": [
    {
     "name": "stdout",
     "output_type": "stream",
     "text": [
      "dict_values([<class 'jdaviz.configs.cubeviz.plugins.tools.CubevizImportDataButton'>, <class 'jdaviz.configs.default.plugins.tools.Spacer'>, <class 'jdaviz.configs.default.plugins.tools.VerticalDivider'>, <class 'jdaviz.configs.default.plugins.tools.OpenSessionButton'>, <class 'jdaviz.configs.default.plugins.tools.SaveSessionButton'>, <class 'jdaviz.configs.default.plugins.tools.ImportDataButton'>, <class 'jdaviz.configs.default.plugins.tools.ExportDataButton'>, <class 'jdaviz.configs.default.plugins.tools.SubsetSelectTool'>, <class 'jdaviz.configs.default.plugins.tools.SubsetModeTool'>])\n"
     ]
    },
    {
     "data": {
      "application/vnd.jupyter.widget-view+json": {
       "model_id": "6efeb0458b614a2a892147546e509931",
       "version_major": 2,
       "version_minor": 0
      },
      "text/plain": [
       "IPyApplication(components={'g-toolbar': Toolbar(components={'cv-import-data': CubevizImportDataButton(events=[…"
      ]
     },
     "metadata": {},
     "output_type": "display_data"
    }
   ],
   "source": [
    "from jdaviz.app import IPyApplication\n",
    "\n",
    "IPyApplication(configuration='cubeviz')"
   ]
  },
  {
   "cell_type": "code",
   "execution_count": null,
   "metadata": {},
   "outputs": [],
   "source": []
  },
  {
   "cell_type": "code",
   "execution_count": null,
   "metadata": {},
   "outputs": [],
   "source": []
  }
 ],
 "metadata": {
  "kernelspec": {
   "display_name": "Python 3",
   "language": "python",
   "name": "python3"
  },
  "language_info": {
   "codemirror_mode": {
    "name": "ipython",
    "version": 3
   },
   "file_extension": ".py",
   "mimetype": "text/x-python",
   "name": "python",
   "nbconvert_exporter": "python",
   "pygments_lexer": "ipython3",
   "version": "3.7.5"
  }
 },
 "nbformat": 4,
 "nbformat_minor": 2
}
