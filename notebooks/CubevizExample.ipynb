{
 "cells": [
  {
   "cell_type": "markdown",
   "metadata": {},
   "source": [
    "# Cubeviz Demonstration Notebook\n",
    "\n",
    "This notebook demonstrates the Cubeviz API in the Notebook setting. UI equivalents for these actions, as well as additional documentation about Cubeviz, can be found here: https://jdaviz.readthedocs.io/en/latest/cubeviz/"
   ]
  },
  {
   "cell_type": "markdown",
   "metadata": {},
   "source": [
    "Import modules needed for this notebook."
   ]
  },
  {
   "cell_type": "code",
   "execution_count": 2,
   "metadata": {},
   "outputs": [],
   "source": [
    "import warnings\n",
    "\n",
    "from photutils.aperture import CircularAperture\n",
    "from regions import PixCoord, CirclePixelRegion\n",
    "\n",
    "from jdaviz import Cubeviz"
   ]
  },
  {
   "cell_type": "markdown",
   "metadata": {},
   "source": [
    "We create a Cubeviz instance and show it."
   ]
  },
  {
   "cell_type": "code",
   "execution_count": 3,
   "metadata": {},
   "outputs": [
    {
     "data": {
      "application/javascript": [
       "\n",
       "                    window.jupyter_python_executable = '\\r\\r';\n",
       "                    window.jupyter_widget_checks_silent = true;\n",
       "                    window.jupyter_widget_checks_libraries = [{\"python\": \"ipyvuetify\", \"classic\": \"jupyter-vuetify/extension\", \"lab\": \"jupyter-vuetify\"}, {\"python\": \"ipyvue\", \"classic\": \"jupyter-vue/extension\", \"lab\": \"jupyter-vue\"}];\n",
       "                    "
      ],
      "text/plain": [
       "<IPython.core.display.Javascript object>"
      ]
     },
     "metadata": {},
     "output_type": "display_data"
    },
    {
     "data": {
      "text/html": [
       "<div class=\"jupyter-widget-checks-container\">\n",
       "    <script>\n",
       "        (function () {\n",
       "            console.log(\"Checking for jupyter-widgets extensions\")\n",
       "            const inLab = window._JUPYTERLAB !== undefined;\n",
       "            const silent = jupyter_widget_checks_silent;\n",
       "            const containers = document.getElementsByClassName('jupyter-widget-checks-container');\n",
       "            const rootEl = containers[containers.length - 1];\n",
       "            const libraries = window.jupyter_widget_checks_libraries;\n",
       "\n",
       "            function getBaseUrl() {\n",
       "                const labConfigData = document.getElementById(\"jupyter-config-data\");\n",
       "                if (labConfigData) {\n",
       "                    /* lab and Voila */\n",
       "                    return JSON.parse(labConfigData.textContent).baseUrl;\n",
       "                }\n",
       "                let base = document.body.dataset.baseUrl || document.baseURI;\n",
       "                return base;\n",
       "            }\n",
       "\n",
       "            function checkLibrary(extensions, library) {\n",
       "                let installed = false;\n",
       "                let ok = true;\n",
       "                if (inLab) {\n",
       "                    installed = _JUPYTERLAB[library.lab] !== undefined\n",
       "                } else {\n",
       "                    installed = extensions[library.classic] !== undefined;\n",
       "                    let enabled = extensions[library.classic] === true;\n",
       "                }\n",
       "                const div = document.createElement(\"div\")\n",
       "                if (installed) {\n",
       "                    if (!silent) {\n",
       "                        div.innerHTML = `Extension ${library.python} is installed at the server ✅`\n",
       "                        rootEl.appendChild(div)\n",
       "                    }\n",
       "                } else {\n",
       "                    div.innerHTML = `Extension ${library.python} is <b>NOT</b> installed at the server ❌.`\n",
       "                    rootEl.appendChild(div)\n",
       "                    ok = false;\n",
       "                }\n",
       "                return ok;\n",
       "            }\n",
       "\n",
       "            async function check() {\n",
       "                const url = `${getBaseUrl()}api/config/notebook`\n",
       "                const response = (await fetch(url));\n",
       "                const data = await response.json()\n",
       "                const extensions = data[\"load_extensions\"];\n",
       "                var ok = true;\n",
       "                let needsInstall = [];\n",
       "                libraries.forEach((library) => {\n",
       "                    if (!checkLibrary(extensions, library)) {\n",
       "                        ok = false;\n",
       "                        needsInstall.push(library.python)\n",
       "                        console.log(\"Needs install\", library.python)\n",
       "                    }\n",
       "                })\n",
       "                console.log(ok, needsInstall)\n",
       "                if (!ok) {\n",
       "                    const div = document.createElement(\"div\")\n",
       "                    const div2 = document.createElement(\"div\")\n",
       "                    div.innerHTML = `Run <code>${jupyter_python_executable} -m pip install ${needsInstall.join(\" \")}</code>. Refresh the page after installation.`\n",
       "                    div2.innerHTML = `Visit <a href=\"https://solara.dev/documentation/getting_started/troubleshoot\" target=\"_blank\">https://solara/dev/documentation/getting_started/troubleshoot</a> for more information.`\n",
       "                    rootEl.appendChild(div)\n",
       "                    rootEl.appendChild(div2)\n",
       "                }\n",
       "            }\n",
       "            check()\n",
       "        })();\n",
       "    </script>\n",
       "</div>\n"
      ],
      "text/plain": [
       "<IPython.core.display.HTML object>"
      ]
     },
     "metadata": {},
     "output_type": "display_data"
    },
    {
     "data": {
      "application/vnd.jupyter.widget-view+json": {
       "model_id": "9fef7f0e870b48739e803ab93907f2c2",
       "version_major": 2,
       "version_minor": 0
      },
      "text/plain": [
       "Application(config='cubeviz', docs_link='https://jdaviz.readthedocs.io/en/latest/cubeviz/index.html', events=[…"
      ]
     },
     "metadata": {},
     "output_type": "display_data"
    }
   ],
   "source": [
    "cubeviz = Cubeviz()\n",
    "cubeviz.show()"
   ]
  },
  {
   "cell_type": "markdown",
   "metadata": {},
   "source": [
    "Now we load observations. If you already have the files on your local machine, you can \n",
    "load them by passing their file paths to `load_data` as strings. For this example, \n",
    "we will retrieve remote data from [MAST](https://mast.stsci.edu/) via `astroquery`\n",
    "by passing the observation's URI as a string. By default, the downloaded files are \n",
    "saved to the current working directory. If you set `cache=False` in the `load_data` \n",
    "call, it will re-download the file if desired.\n",
    "\n",
    "One other thing to note about retrieving MAST data through astroquery is that it caches\n",
    "the data by default. It is possible for files to be updated in MAST with more recent calibrations\n",
    "but remain the same size, in which case your local cached file would not be replaced by the new\n",
    "version. You can turn off caching by setting `cache=False` in the `download_file` call to\n",
    "force it to re-download the file if desired."
   ]
  },
  {
   "cell_type": "code",
   "execution_count": 4,
   "metadata": {},
   "outputs": [
    {
     "name": "stdout",
     "output_type": "stream",
     "text": [
      "INFO: Found cached file jw02732-o004_t004_miri_ch1-shortmediumlong_s3d.fits with expected size 121504320. [astroquery.query]\n"
     ]
    },
    {
     "name": "stderr",
     "output_type": "stream",
     "text": [
      "INFO:astroquery:Found cached file jw02732-o004_t004_miri_ch1-shortmediumlong_s3d.fits with expected size 121504320.\n"
     ]
    }
   ],
   "source": [
    "uri = \"mast:JWST/product/jw02732-o004_t004_miri_ch1-shortmediumlong_s3d.fits\"\n",
    "\n",
    "with warnings.catch_warnings():\n",
    "    warnings.simplefilter('ignore')\n",
    "    cubeviz.load_data(uri, cache=True)"
   ]
  },
  {
   "cell_type": "markdown",
   "metadata": {},
   "source": [
    "Alternatively, the data and the configuration can be autodetected and loaded simultaneously by calling `jdaviz.open(f'{data_dir}/{fn}')`"
   ]
  },
  {
   "cell_type": "markdown",
   "metadata": {},
   "source": [
    "The upper left viewer containing the FLUX cube is the default viewer that is accessible as follows."
   ]
  },
  {
   "cell_type": "code",
   "execution_count": 1,
   "metadata": {},
   "outputs": [
    {
     "ename": "NameError",
     "evalue": "name 'cubeviz' is not defined",
     "output_type": "error",
     "traceback": [
      "\u001b[1;31m---------------------------------------------------------------------------\u001b[0m",
      "\u001b[1;31mNameError\u001b[0m                                 Traceback (most recent call last)",
      "Cell \u001b[1;32mIn[1], line 1\u001b[0m\n\u001b[1;32m----> 1\u001b[0m viewer \u001b[38;5;241m=\u001b[39m \u001b[43mcubeviz\u001b[49m\u001b[38;5;241m.\u001b[39mviewers[\u001b[38;5;124m'\u001b[39m\u001b[38;5;124mflux-viewer\u001b[39m\u001b[38;5;124m'\u001b[39m]\u001b[38;5;241m.\u001b[39m_obj\n",
      "\u001b[1;31mNameError\u001b[0m: name 'cubeviz' is not defined"
     ]
    }
   ],
   "source": [
    "viewer = cubeviz.viewers['flux-viewer']._obj"
   ]
  },
  {
   "cell_type": "code",
   "execution_count": null,
   "metadata": {},
   "outputs": [],
   "source": [
    "test_l = None\n",
    "test_layer = None\n",
    "# list of layer states\n",
    "for l in viewer.state.layers:\n",
    "    test_l = l\n",
    "    print(l.layer.label)\n",
    "\n",
    "print(\"\\n\")\n",
    "\n",
    "# list of layers artsits\n",
    "for layer in viewer.layers:\n",
    "    test_layer = layer\n",
    "    print(layer.label, type(layer))\n",
    "\n",
    "\n",
    "from glue.viewers.common.layer_artist import LayerArtist\n",
    "from glue_jupyter.bqplot.image.state import BqplotImageLayerState\n",
    "from glue.viewers.image.layer_artist import BaseImageLayerArtist, ImageLayerArtist, ImageSubsetArray\n",
    "\n",
    "class TutorialLayerArtist(ImageLayerArtist):\n",
    "\n",
    "    _layer_artist_cls = BqplotImageLayerState\n",
    "    def __init__(self, view, *args, **kwargs):\n",
    "        super().__init__(view, *args, **kwargs)\n",
    "\n",
    "    def clear(self):\n",
    "        pass\n",
    "\n",
    "    def remove(self):\n",
    "        pass\n",
    "\n",
    "    def redraw(self):\n",
    "        pass\n",
    "\n",
    "    def update(self):\n",
    "        pass\n",
    "\n",
    "new_layer = TutorialLayerArtist(view=viewer, viewer_state=viewer.state, layer_state=test_l)\n",
    "# new_layer.label = \"test\""
   ]
  },
  {
   "cell_type": "markdown",
   "metadata": {},
   "source": [
    "Note also that in the above example there are mouse-over coordinates visible by default."
   ]
  },
  {
   "cell_type": "markdown",
   "metadata": {},
   "source": [
    "It possible to make selections/regions in images and export these to Astropy regions. Click on an image viewer toolbar then click on the circular selection tool, and drag and click to select an interesting region on the sky. We can then export this region with:"
   ]
  },
  {
   "cell_type": "code",
   "execution_count": null,
   "metadata": {},
   "outputs": [],
   "source": [
    "regions = cubeviz.get_interactive_regions()"
   ]
  },
  {
   "cell_type": "code",
   "execution_count": null,
   "metadata": {},
   "outputs": [],
   "source": [
    "regions"
   ]
  },
  {
   "cell_type": "markdown",
   "metadata": {},
   "source": [
    "It is also possible to programmatically pass a `regions` shape or a `photutils` aperture shape.\n",
    "\n",
    "*NOTE: Sky regions are not yet supported for data cubes.*"
   ]
  },
  {
   "cell_type": "code",
   "execution_count": null,
   "metadata": {},
   "outputs": [],
   "source": [
    "data = cubeviz.get_data('jw02732-o004_t004_miri_ch1-shortmediumlong_s3d.fits[SCI]')"
   ]
  },
  {
   "cell_type": "code",
   "execution_count": null,
   "metadata": {},
   "outputs": [],
   "source": [
    "# photutils aperture\n",
    "my_aper = CircularAperture((15, 10), r=5)\n",
    "\n",
    "# regions shape\n",
    "my_reg = CirclePixelRegion(center=PixCoord(x=35, y=35), radius=10)\n",
    "\n",
    "my_regions = [my_aper, my_reg]\n",
    "cubeviz.plugins['Subset Tools'].import_region(my_regions, combination_mode='new')"
   ]
  },
  {
   "cell_type": "markdown",
   "metadata": {},
   "source": [
    "To get the spectra:"
   ]
  },
  {
   "cell_type": "code",
   "execution_count": null,
   "metadata": {},
   "outputs": [],
   "source": [
    "spectra_dict = cubeviz.specviz.get_spectra(apply_slider_redshift=True)\n",
    "spectra_dict"
   ]
  },
  {
   "cell_type": "markdown",
   "metadata": {},
   "source": [
    "This contains the masked spectrum extracted from \"Subset 1\" region."
   ]
  },
  {
   "cell_type": "code",
   "execution_count": null,
   "metadata": {},
   "outputs": [],
   "source": [
    "subset1_spec1d = spectra_dict['Spectrum (Subset 1, sum)']\n",
    "subset1_spec1d"
   ]
  },
  {
   "cell_type": "code",
   "execution_count": null,
   "metadata": {},
   "outputs": [],
   "source": []
  }
 ],
 "metadata": {
  "kernelspec": {
   "display_name": "Python 3 (ipykernel)",
   "language": "python",
   "name": "python3"
  },
  "language_info": {
   "codemirror_mode": {
    "name": "ipython",
    "version": 3
   },
   "file_extension": ".py",
   "mimetype": "text/x-python",
   "name": "python",
   "nbconvert_exporter": "python",
   "pygments_lexer": "ipython3",
   "version": "3.12.0"
  }
 },
 "nbformat": 4,
 "nbformat_minor": 4
}
