{
 "cells": [
  {
   "cell_type": "markdown",
   "metadata": {},
   "source": [
    "# Cubeviz Demonstration Notebook\n",
    "\n",
    "This notebook demonstrates the Cubeviz API in the Notebook setting. UI equivalents for these actions, as well as additional documentation about Cubeviz, can be found here: https://jdaviz.readthedocs.io/en/latest/cubeviz/"
   ]
  },
  {
   "cell_type": "markdown",
   "metadata": {},
   "source": [
    "Import modules needed for this notebook."
   ]
  },
  {
   "cell_type": "code",
   "execution_count": null,
   "metadata": {},
   "outputs": [],
   "source": [
    "import warnings\n",
    "import tempfile\n",
    "\n",
    "from astroquery.mast import Observations\n",
    "from photutils.aperture import CircularAperture\n",
    "from regions import PixCoord, CirclePixelRegion\n",
    "\n",
    "from jdaviz import Cubeviz"
   ]
  },
  {
   "cell_type": "markdown",
   "metadata": {},
   "source": [
    "We create a Cubeviz instance and show it."
   ]
  },
  {
   "cell_type": "code",
   "execution_count": null,
   "metadata": {},
   "outputs": [],
   "source": [
    "cubeviz = Cubeviz()\n",
    "cubeviz.show()"
   ]
  },
  {
   "cell_type": "code",
   "execution_count": null,
   "metadata": {},
   "outputs": [],
   "source": [
    "from jdaviz.core.events import NewViewerMessage\n",
    "from jdaviz.configs.cubeviz.plugins.viewers import CubevizProfileView\n",
    "\n",
    "msg = NewViewerMessage(CubevizProfileView, data=None, sender=cubeviz.app)\n",
    "new_viewer = cubeviz.app._application_handler.new_data_viewer(msg.cls, data=msg.data, show=False)\n",
    "new_viewer.figure_widget.layout.height = '100%'\n",
    "new_viewer_item = cubeviz.app._create_viewer_item(new_viewer, vid=\"cubeviz-999\", name=\"cubeviz-999\", reference=\"cubeviz-999\")"
   ]
  },
  {
   "cell_type": "code",
   "execution_count": null,
   "metadata": {},
   "outputs": [],
   "source": [
    "def _stick_them_with_the_pointy_end(stack_items, reference, new_viewer_item):\n",
    "    for stack_item in stack_items:     \n",
    "        for viewer_item in stack_item.get('viewers'):\n",
    "            if viewer_item['reference'] == reference:\n",
    "                stack_item[\"container\"] = \"gl-stack\"\n",
    "                stack_item[\"viewers\"].append(new_viewer_item)\n",
    "                break\n",
    "\n",
    "        if len(stack_item.get('children')) > 0:\n",
    "            _stick_them_with_the_pointy_end(stack_item.get('children'), reference, new_viewer_item)"
   ]
  },
  {
   "cell_type": "code",
   "execution_count": null,
   "metadata": {},
   "outputs": [],
   "source": [
    "_stick_them_with_the_pointy_end(cubeviz.app.state.stack_items, \"spectrum-viewer\", new_viewer_item)"
   ]
  },
  {
   "cell_type": "markdown",
   "metadata": {},
   "source": [
    "Here we download a JWST MIRI cube from [MAST](https://masttest.stsci.edu/) using `astroquery`, \n",
    "to use as our example data. By default the downloaded file goes to your\n",
    "temp directory, and thus may eventually be garbage collected (deleted) by your system.\n",
    "If you would like to have the file permanently, simply uncomment the second line below\n",
    "and provide the directory path on your system where you would like the file stored.\n",
    "\n",
    "One other thing to note about retrieving MAST data through astroquery is that it caches\n",
    "the data by default. It is possible for files to be updated in MAST with more recent calibrations\n",
    "but remain the same size, in which case your local cached file would not be replaced by the new\n",
    "version. You can turn off caching by setting `cache=False` in the `download_file` call to\n",
    "force it to re-download the file if desired."
   ]
  },
  {
   "cell_type": "code",
   "execution_count": null,
   "metadata": {},
   "outputs": [],
   "source": [
    "data_dir = tempfile.gettempdir()\n",
    "#data_dir = \"/User/username/Data/\"\n",
    "\n",
    "fn = \"jw02732-o004_t004_miri_ch1-shortmediumlong_s3d.fits\"\n",
    "result = Observations.download_file(f\"mast:JWST/product/{fn}\", local_path=f'{data_dir}/{fn}')\n",
    "\n",
    "with warnings.catch_warnings():\n",
    "    warnings.simplefilter('ignore')\n",
    "    cubeviz.load_data(f'{data_dir}/{fn}')"
   ]
  },
  {
   "cell_type": "markdown",
   "metadata": {},
   "source": [
    "Alternatively, the data and the configuration can be autodetected and loaded simultaneously by calling `jdaviz.open(f'{data_dir}/{fn}')`"
   ]
  },
  {
   "cell_type": "markdown",
   "metadata": {},
   "source": [
    "The upper left viewer containing the FLUX cube is the default viewer that is accessible as follows."
   ]
  },
  {
   "cell_type": "code",
   "execution_count": null,
   "metadata": {},
   "outputs": [],
   "source": [
    "viewer = cubeviz.default_viewer"
   ]
  },
  {
   "cell_type": "markdown",
   "metadata": {},
   "source": [
    "Note also that in the above example there are mouse-over coordinates visible by default."
   ]
  },
  {
   "cell_type": "markdown",
   "metadata": {},
   "source": [
    "It possible to make selections/regions in images and export these to Astropy regions. Click on an image viewer toolbar then click on the circular selection tool, and drag and click to select an interesting region on the sky. We can then export this region with:"
   ]
  },
  {
   "cell_type": "code",
   "execution_count": null,
   "metadata": {},
   "outputs": [],
   "source": [
    "regions = cubeviz.get_interactive_regions()"
   ]
  },
  {
   "cell_type": "code",
   "execution_count": null,
   "metadata": {},
   "outputs": [],
   "source": [
    "regions"
   ]
  },
  {
   "cell_type": "markdown",
   "metadata": {},
   "source": [
    "It is also possible to programmatically pass a `regions` shape or a `photutils` aperture shape.\n",
    "\n",
    "*NOTE: Sky regions are not yet supported for data cubes.*"
   ]
  },
  {
   "cell_type": "code",
   "execution_count": null,
   "metadata": {},
   "outputs": [],
   "source": [
    "data = cubeviz.get_data('jw02732-o004_t004_miri_ch1-shortmediumlong_s3d.fits[SCI]')"
   ]
  },
  {
   "cell_type": "code",
   "execution_count": null,
   "metadata": {},
   "outputs": [],
   "source": [
    "# photutils aperture\n",
    "my_aper = CircularAperture((15, 10), r=5)\n",
    "\n",
    "# regions shape\n",
    "my_reg = CirclePixelRegion(center=PixCoord(x=35, y=35), radius=10)\n",
    "\n",
    "my_regions = [my_aper, my_reg]\n",
    "cubeviz.load_regions(my_regions)"
   ]
  },
  {
   "cell_type": "markdown",
   "metadata": {},
   "source": [
    "To get the spectra:"
   ]
  },
  {
   "cell_type": "code",
   "execution_count": null,
   "metadata": {},
   "outputs": [],
   "source": [
    "spectra_dict = cubeviz.specviz.get_spectra(apply_slider_redshift=True)\n",
    "spectra_dict"
   ]
  },
  {
   "cell_type": "markdown",
   "metadata": {},
   "source": [
    "This contains the masked spectrum extracted from \"Subset 1\" region."
   ]
  },
  {
   "cell_type": "code",
   "execution_count": null,
   "metadata": {},
   "outputs": [],
   "source": [
    "subset1_spec1d = spectra_dict['jw02732-o004_t004_miri_ch1-shortmediumlong_s3d.fits[SCI] (Subset 1)']\n",
    "subset1_spec1d"
   ]
  },
  {
   "cell_type": "code",
   "execution_count": null,
   "metadata": {},
   "outputs": [],
   "source": []
  }
 ],
 "metadata": {
  "kernelspec": {
   "display_name": "Python 3 (ipykernel)",
   "language": "python",
   "name": "python3"
  },
  "language_info": {
   "codemirror_mode": {
    "name": "ipython",
    "version": 3
   },
   "file_extension": ".py",
   "mimetype": "text/x-python",
   "name": "python",
   "nbconvert_exporter": "python",
   "pygments_lexer": "ipython3",
   "version": "3.12.0"
  }
 },
 "nbformat": 4,
 "nbformat_minor": 4
}
