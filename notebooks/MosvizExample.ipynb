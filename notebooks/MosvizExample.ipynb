{
 "cells": [
  {
   "cell_type": "markdown",
   "metadata": {},
   "source": [
    "# Mosviz Demonstration Notebook\n",
    "\n",
    "This notebook demonstrates the Mosviz API in the Notebook setting. UI equivalents for these actions, as well as additional documentation about Mosviz, can be found here: https://jdaviz.readthedocs.io/en/latest/mosviz/"
   ]
  },
  {
   "cell_type": "markdown",
   "metadata": {},
   "source": [
    "Note: We silence most warnings for now. For debugging, you can comment out the next cell and then restart the kernel to re-enable warnings."
   ]
  },
  {
   "cell_type": "code",
   "execution_count": null,
   "metadata": {},
   "outputs": [],
   "source": [
    "import warnings\n",
    "warnings.simplefilter('ignore')"
   ]
  },
  {
   "cell_type": "markdown",
   "metadata": {},
   "source": [
    "Next, start Mosviz."
   ]
  },
  {
   "cell_type": "code",
   "execution_count": null,
   "metadata": {
    "scrolled": false
   },
   "outputs": [],
   "source": [
    "from jdaviz import Mosviz\n",
    "\n",
    "mosviz = Mosviz()\n",
    "mosviz.show()"
   ]
  },
  {
   "cell_type": "markdown",
   "metadata": {},
   "source": [
    "But before we can use it, we need some data.\n",
    "\n",
    "The Mosviz parsers accept lists of `Spectrum1D` and `CCDData` for 1D, 2D, and image data, respectively. Alternatively, users can also provide lists of file paths and Mosviz will internally attempt to parse them as their respective data types."
   ]
  },
  {
   "cell_type": "code",
   "execution_count": null,
   "metadata": {},
   "outputs": [],
   "source": [
    "# Run this cell if your desired data path is a temporary directory.\n",
    "\n",
    "import tempfile\n",
    "data_dir = tempfile.gettempdir()"
   ]
  },
  {
   "cell_type": "raw",
   "metadata": {},
   "source": [
    "# *** OR ***\n",
    "# Enable and run this cell if you have a different data path.\n",
    "# Replace the value with your real path.\n",
    "\n",
    "data_dir = '/path/to/my_mosvis_data_dir'"
   ]
  },
  {
   "cell_type": "code",
   "execution_count": null,
   "metadata": {},
   "outputs": [],
   "source": [
    "# Run this cell if you wish to download and unzip our example data.\n",
    "# This requires the \"zipfile\" package.\n",
    "\n",
    "from zipfile import ZipFile\n",
    "from astropy.utils.data import download_file\n",
    "import pathlib\n",
    "\n",
    "example_data = 'https://stsci.box.com/shared/static/ovyxi5eund92yoadvv01mynwt8t5n7jv.zip'\n",
    "fn = download_file(example_data, cache=True)\n",
    "with ZipFile(fn, 'r') as sample_data_zip:\n",
    "    sample_data_zip.extractall(data_dir)\n",
    "    \n",
    "data_dir = (pathlib.Path(data_dir) / 'mosviz_nirspec_data_0.3' / 'level3')"
   ]
  },
  {
   "cell_type": "code",
   "execution_count": null,
   "metadata": {},
   "outputs": [],
   "source": [
    "print(f'My data is in {data_dir}')"
   ]
  },
  {
   "cell_type": "markdown",
   "metadata": {},
   "source": [
    "Now that we have the data files extracted into `data_dir` we can load our files from that path."
   ]
  },
  {
   "cell_type": "code",
   "execution_count": null,
   "metadata": {},
   "outputs": [],
   "source": [
    "mosviz.load_data(directory=data_dir, instrument=\"nirspec\")"
   ]
  },
  {
   "cell_type": "markdown",
   "metadata": {},
   "source": [
    "WARNING: If the images did not load, you need to make sure that the number of images matches the number of spectra 1d and spectra 2d, as well as ensuring the location of the images is in a subdirectory of `data_dir` called `images`, `cutouts`, or `mosviz_cutouts`."
   ]
  },
  {
   "cell_type": "markdown",
   "metadata": {},
   "source": [
    "### Alternate ways to load data into Mosviz"
   ]
  },
  {
   "cell_type": "markdown",
   "metadata": {},
   "source": [
    "Alternatively, we can run the following 2 to 3 cells to extract data from box and generate it into lists that can be loaded separately."
   ]
  },
  {
   "cell_type": "raw",
   "metadata": {},
   "source": [
    "# *** OR ***\n",
    "# Enable and run this cell if you want to generate lists for Mosviz from the data in data_dir\n",
    "\n",
    "import glob\n",
    "import pathlib\n",
    "\n",
    "spectra_1d = []\n",
    "spectra_2d = []\n",
    "images = []\n",
    "\n",
    "level3_path = (pathlib.Path(data_dir) / 'mosviz_nirspec_data_0.3' / 'level3')\n",
    "for file_path in glob.iglob(str(level3_path / '*')):\n",
    "    if 'x1d' in file_path:\n",
    "        spectra_1d.append(file_path)\n",
    "    elif 's2d' in file_path:\n",
    "        spectra_2d.append(file_path)\n",
    "\n",
    "# If a single image is loaded with multiple spectra, it will be shared by all spectra in the list\n",
    "images = str(level3_path / 'mosviz_cutouts' / '227.fits')\n",
    "\n",
    "# *** OR ***\n",
    "# If images are available in a cutouts directory, uncomment the following lines.\n",
    "# Please make sure the number of cutouts matches the number of x1d and s2d files.\n",
    "\n",
    "# images = [file_path for file_path in glob.iglob(str(level3_path / 'cutouts' / '*'))]\n"
   ]
  },
  {
   "cell_type": "markdown",
   "metadata": {},
   "source": [
    "Once we have the lists populated, we can load them in the app.\n",
    "\n",
    "Once loaded below, click on one of the rows in the table to have your data displayed."
   ]
  },
  {
   "cell_type": "raw",
   "metadata": {},
   "source": [
    "# Enable and run this cell if you want to load data created from the previous cell\n",
    "\n",
    "mosviz.load_data(spectra_1d, spectra_2d, images=images, images_label=\"Cutout 227\")"
   ]
  },
  {
   "cell_type": "raw",
   "metadata": {},
   "source": [
    "# *** OR ***\n",
    "# Enable and run this cell if you want to load them separately.\n",
    "# On the last data loader call, also add redshift column.\n",
    "\n",
    "mosviz.load_1d_spectra(spectra_1d)\n",
    "mosviz.load_2d_spectra(spectra_2d)\n",
    "mosviz.load_images(images, add_redshift_column=True)\n",
    "mosviz.load_metadata(images)"
   ]
  },
  {
   "cell_type": "markdown",
   "metadata": {},
   "source": [
    "If no images are provided, Mosviz can still display the spectra."
   ]
  },
  {
   "cell_type": "code",
   "execution_count": null,
   "metadata": {},
   "outputs": [],
   "source": [
    "mosviz_no_images = Mosviz()\n",
    "mosviz_no_images.show()"
   ]
  },
  {
   "cell_type": "code",
   "execution_count": null,
   "metadata": {},
   "outputs": [],
   "source": [
    "mosviz_no_images.load_data(spectra_1d, spectra_2d)"
   ]
  },
  {
   "cell_type": "raw",
   "metadata": {},
   "source": [
    "# *** OR ***\n",
    "# Enable and run this cell if you want to load them separately.\n",
    "# On the last data loader call, also add redshift column.\n",
    "\n",
    "mosviz_no_images.load_1d_spectra(spectra_1d)\n",
    "mosviz_no_images.load_2d_spectra(spectra_2d, add_redshift_column=True)"
   ]
  },
  {
   "cell_type": "markdown",
   "metadata": {},
   "source": [
    "Images can be added later."
   ]
  },
  {
   "cell_type": "code",
   "execution_count": null,
   "metadata": {},
   "outputs": [],
   "source": [
    "mosviz_no_images.load_images(images)\n",
    "mosviz_no_images.load_metadata(images)"
   ]
  },
  {
   "cell_type": "markdown",
   "metadata": {},
   "source": [
    "### Alternate ways to show the Mosviz UI\n",
    "\n",
    "The above shows the Mosviz UI inline with the notebook.  If you are in JupyterLab you can instead have the Mosviz UI appear in a separate tab or as a \"sidecar\" (a split UI pane to the side of the notebook).  The below should do this (but only in JupyterLab.  If you are in the \"classic\" notebook it will show the same thing as `mosviz.app`)"
   ]
  },
  {
   "cell_type": "code",
   "execution_count": null,
   "metadata": {},
   "outputs": [],
   "source": [
    "mosviz.show_in_sidecar()"
   ]
  },
  {
   "cell_type": "code",
   "execution_count": null,
   "metadata": {},
   "outputs": [],
   "source": [
    "mosviz.show_in_new_tab()"
   ]
  },
  {
   "cell_type": "markdown",
   "metadata": {},
   "source": [
    "Note that while you can do all of these at once, this is not a recommended workflow, because the different views will all update, which will both slow down the tool and probably be confusing for you. If you instead want two *independent* Mosviz UIs you should create a second `Mosviz()` object."
   ]
  }
 ],
 "metadata": {
  "kernelspec": {
   "display_name": "Python 3 (ipykernel)",
   "language": "python",
   "name": "python3"
  },
  "language_info": {
   "codemirror_mode": {
    "name": "ipython",
    "version": 3
   },
   "file_extension": ".py",
   "mimetype": "text/x-python",
   "name": "python",
   "nbconvert_exporter": "python",
   "pygments_lexer": "ipython3",
   "version": "3.10.8"
  }
 },
 "nbformat": 4,
 "nbformat_minor": 4
}
