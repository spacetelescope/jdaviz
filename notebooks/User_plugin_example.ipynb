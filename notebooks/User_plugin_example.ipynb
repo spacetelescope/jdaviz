{
 "cells": [
  {
   "cell_type": "markdown",
   "metadata": {},
   "source": [
    "# How to create and add user made plugins to JDAViz\n",
    "\n",
    "## Imports\n",
    "Describe the libraries we're using here. If there's something unusual, explain what the library is, and why we need it.\n",
    "\n",
    "- *astropy.units* to handle units and open FITS files\n",
    "- *specutils* to work with Spectrum1D\n",
    "- *jdaviz* to interact with the application"
   ]
  },
  {
   "cell_type": "code",
   "execution_count": null,
   "metadata": {},
   "outputs": [],
   "source": [
    "from astropy import units as u\n",
    "from astropy.io import fits\n",
    "from glue.core.message import (DataCollectionAddMessage,\n",
    "                               DataCollectionDeleteMessage)\n",
    "from specutils import Spectrum1D\n",
    "\n",
    "from jdaviz.app import Application"
   ]
  },
  {
   "cell_type": "markdown",
   "metadata": {},
   "source": [
    "## Loading data\n",
    "\n",
    "Load a 3D data cube into a cubeviz application. Make sure to put the full path to the file you use in the `full_path` variable as we will be using this later on. <font color='red'>Please use a FITS file for the sake of this example.</font>"
   ]
  },
  {
   "cell_type": "code",
   "execution_count": null,
   "metadata": {},
   "outputs": [],
   "source": [
    "app = Application(configuration='cubeviz')\n",
    "file_path = '/path/file.fits'\n",
    "app.load_data(file_path)\n",
    "\n",
    "app"
   ]
  },
  {
   "cell_type": "markdown",
   "metadata": {},
   "source": [
    "If we would like to know the header information of our file, we can use the following code:"
   ]
  },
  {
   "cell_type": "code",
   "execution_count": null,
   "metadata": {},
   "outputs": [],
   "source": [
    "from astropy.io import fits\n",
    "hdu = fits.open(file_path)\n",
    "print(hdu[0].header)"
   ]
  },
  {
   "cell_type": "markdown",
   "metadata": {},
   "source": [
    "## Connect button to toolbar\n",
    "\n",
    "We can then take the code we used to print header information and then attach that to the `jdaviz.app` instance as a **plugin**. We can then create an *ipyvuetify* button and attach the previous code segment as a function that runs when the button is clicked. When the cell is run, you should see a button with a home icon in the center.\n",
    "\n",
    "We will then attach this button to jdaviz's toolbar in the following cell and if you look at the application above, you will see a new button added to the toolbar!"
   ]
  },
  {
   "cell_type": "code",
   "execution_count": null,
   "metadata": {},
   "outputs": [],
   "source": [
    "import ipyvuetify as v\n",
    "from astropy.table import Table\n",
    "\n",
    "def print_header_info(*args, **kwargs):\n",
    "    \"\"\"\n",
    "    Test function to print header information in a FITS file.\n",
    "    \"\"\"\n",
    "    from astropy.io import fits\n",
    "    hdu = fits.open(file_path)\n",
    "    print(hdu[0].header)\n",
    "\n",
    "plugin_button = v.Btn(children=[v.Icon(children=['home'])])\n",
    "plugin_button.on_event('click', print_header_info)\n",
    "\n",
    "plugin_button"
   ]
  },
  {
   "cell_type": "code",
   "execution_count": null,
   "metadata": {},
   "outputs": [],
   "source": [
    "name = 'g-print-file-header'\n",
    "app.tool_items = app.tool_items + [{\n",
    "                'name': name,\n",
    "                'widget': plugin_button\n",
    "            }]"
   ]
  },
  {
   "cell_type": "markdown",
   "metadata": {},
   "source": [
    "## Object-oriented plugin\n",
    "\n",
    "We will now use an object-oriented approach for developing and attaching our plugin. This includes creating a class calling `PrintHeaderInfo` and having our `print_header_info` as a method. Similarly to before, we will attach this class to the toolbar in the following cell. You should now see a button with a \"compare arrows\" icon to the right of the \"home\" icon in the application above."
   ]
  },
  {
   "cell_type": "code",
   "execution_count": null,
   "metadata": {},
   "outputs": [],
   "source": [
    "import ipyvuetify as v\n",
    "\n",
    "class PrintHeaderInfo(v.Btn):\n",
    "    def __init__(self, file_path, *args, **kwargs):\n",
    "        super().__init__(*args, **kwargs)\n",
    "        \n",
    "        self.on_event('click', self.print_header_info)\n",
    "        self.children = [v.Icon(children=['compare_arrows'])]\n",
    "        \n",
    "        self.file_path = file_path\n",
    "        \n",
    "    def print_header_info(*args, **kwargs):\n",
    "        \"\"\"\n",
    "        Test function to print header information in a FITS file.\n",
    "        \"\"\"\n",
    "        from astropy.io import fits\n",
    "        hdu = fits.open(file_path)\n",
    "        print(hdu[0].header)\n"
   ]
  },
  {
   "cell_type": "code",
   "execution_count": null,
   "metadata": {},
   "outputs": [],
   "source": [
    "name = 'g-print-file-header-4'\n",
    "app.tool_items = app.tool_items + [{\n",
    "                'name': name,\n",
    "                'widget': PrintHeaderInfo(file_path)\n",
    "            }]"
   ]
  },
  {
   "cell_type": "code",
   "execution_count": null,
   "metadata": {},
   "outputs": [],
   "source": []
  }
 ],
 "metadata": {
  "kernelspec": {
   "display_name": "Python 3",
   "language": "python",
   "name": "python3"
  },
  "language_info": {
   "codemirror_mode": {
    "name": "ipython",
    "version": 3
   },
   "file_extension": ".py",
   "mimetype": "text/x-python",
   "name": "python",
   "nbconvert_exporter": "python",
   "pygments_lexer": "ipython3",
   "version": "3.7.0"
  }
 },
 "nbformat": 4,
 "nbformat_minor": 4
}
