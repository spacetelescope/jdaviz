{
 "cells": [
  {
   "cell_type": "markdown",
   "metadata": {},
   "source": [
    "# How to create and add user made plugins to JDAViz\n",
    "\n",
    "## Imports\n",
    "Describe the libraries we're using here. If there's something unusual, explain what the library is, and why we need it.\n",
    "\n",
    "- *astropy.units* to handle units\n",
    "- *specutils* to work with Spectrum1D\n",
    "- *jdaviz* to interact with the application"
   ]
  },
  {
   "cell_type": "code",
   "execution_count": null,
   "metadata": {},
   "outputs": [],
   "source": [
    "from astropy import units as u\n",
    "from glue.core.message import (DataCollectionAddMessage,\n",
    "                               DataCollectionDeleteMessage)\n",
    "from specutils import Spectrum1D\n",
    "\n",
    "from jdaviz.core.registries import tools\n",
    "from jdaviz.core.template_mixin import TemplateMixin\n",
    "from jdaviz.utils import load_template\n",
    "from jdaviz.app import Application"
   ]
  },
  {
   "cell_type": "markdown",
   "metadata": {},
   "source": [
    "## Loading data\n",
    "\n",
    "Load a 3D data cube into a cubeviz application."
   ]
  },
  {
   "cell_type": "code",
   "execution_count": null,
   "metadata": {},
   "outputs": [],
   "source": [
    "app = Application(configuration='cubeviz')\n",
    "app.load_data(\"/Users/javerbukh/Documents/manga-7495-12704-LOGCUBE_fixed.fits\")\n",
    "\n",
    "app"
   ]
  },
  {
   "cell_type": "markdown",
   "metadata": {},
   "source": [
    "## Connect button to toolbar\n",
    "\n",
    "Create an *ipyvuetify* button and attach a method that fires when the button is clicked. Here, we are checking for the line flux at a particular wavelength. When the cell is run, you should see a button with a home icon in the center. We will then attach this button to jdaviz's toolbar in the following cell and if you look at the application above, you will see a new button added to the toolbar."
   ]
  },
  {
   "cell_type": "code",
   "execution_count": null,
   "metadata": {},
   "outputs": [],
   "source": [
    "import ipyvuetify as v\n",
    "\n",
    "def line_flux(*args, **kwargs):\n",
    "    input_wavelength = int(100)\n",
    "    spec = app.session.data_collection[0].get_object(cls=Spectrum1D)\n",
    "\n",
    "    # Takes the user input from the dialog (wavelength) and\n",
    "    # finds the flux at that input\n",
    "\n",
    "    print(spec.flux[input_wavelength])\n",
    "\n",
    "plugin_button = v.Btn(children=[v.Icon(children=['home'])])\n",
    "plugin_button.on_event('click', line_flux)\n",
    "\n",
    "plugin_button"
   ]
  },
  {
   "cell_type": "code",
   "execution_count": null,
   "metadata": {},
   "outputs": [],
   "source": [
    "toolbar = app.components.get('g-default-toolbar')\n",
    "toolbar.tools = toolbar.tools + [plugin_button]"
   ]
  },
  {
   "cell_type": "markdown",
   "metadata": {},
   "source": [
    "## Object-oriented plugin\n",
    "\n",
    "We will now use an object-oriented approach for developing and attaching our plugin. This includes creating a class calling `LineFluxTool` and putting the code we want run when the button is clicked in the aptly named `clicked` method. Similarly to before, we will attach this class to the toolbar in the following cell. You should now see a button with a \"compare arrows\" icon to the right of the \"home\" icon in the application above."
   ]
  },
  {
   "cell_type": "code",
   "execution_count": null,
   "metadata": {},
   "outputs": [],
   "source": [
    "import ipyvuetify as v\n",
    "\n",
    "class LineFluxTool(v.Btn):\n",
    "    def __init__(self, *args, **kwargs):\n",
    "        super().__init__(*args, **kwargs)\n",
    "        \n",
    "        self.on_event('click', self.clicked)\n",
    "        self.children = [v.Icon(children=['compare_arrows'])]\n",
    "        \n",
    "    def clicked(self, *args, **kwargs):\n",
    "        input_wavelength = int(100)\n",
    "        spec = app.session.data_collection[0].get_object(cls=Spectrum1D)\n",
    "\n",
    "        # Takes the user input from the dialog (wavelength) and\n",
    "        # finds the flux at that input\n",
    "\n",
    "        print(spec.flux[input_wavelength])\n"
   ]
  },
  {
   "cell_type": "code",
   "execution_count": null,
   "metadata": {},
   "outputs": [],
   "source": [
    "toolbar = app.components.get('g-default-toolbar')\n",
    "toolbar.tools = toolbar.tools + [LineFluxTool()]"
   ]
  },
  {
   "cell_type": "markdown",
   "metadata": {},
   "source": [
    "## Plugin with session on instantiation\n",
    "\n",
    "We will now do the same as above except we will allow for the `app.session` instance to be passed in as a parameter, giving us access to the data within the session. After you run the following cells, you should see an \"infinity\" icon in the toolbar."
   ]
  },
  {
   "cell_type": "code",
   "execution_count": null,
   "metadata": {},
   "outputs": [],
   "source": [
    "import ipyvuetify as v\n",
    "\n",
    "class LineFluxTool(v.Btn):\n",
    "    def __init__(self, session, *args, **kwargs):\n",
    "        super().__init__(*args, **kwargs)\n",
    "        \n",
    "        self.on_event('click', self.clicked)\n",
    "        self.children = [v.Icon(children=['all_inclusive'])]\n",
    "        self.session = session\n",
    "        \n",
    "    def clicked(self, *args, **kwargs):\n",
    "        input_wavelength = int(100)\n",
    "        \n",
    "        # The difference is in this line\n",
    "        spec = self.session.data_collection[0].get_object(cls=Spectrum1D)\n",
    "\n",
    "        print(spec.flux[input_wavelength])\n"
   ]
  },
  {
   "cell_type": "code",
   "execution_count": null,
   "metadata": {},
   "outputs": [],
   "source": [
    "toolbar = app.components.get('g-default-toolbar')\n",
    "\n",
    "toolbar.tools = toolbar.tools + [LineFluxTool(app.session)]"
   ]
  },
  {
   "cell_type": "code",
   "execution_count": null,
   "metadata": {},
   "outputs": [],
   "source": []
  }
 ],
 "metadata": {
  "kernelspec": {
   "display_name": "Python 3",
   "language": "python",
   "name": "python3"
  },
  "language_info": {
   "codemirror_mode": {
    "name": "ipython",
    "version": 3
   },
   "file_extension": ".py",
   "mimetype": "text/x-python",
   "name": "python",
   "nbconvert_exporter": "python",
   "pygments_lexer": "ipython3",
   "version": "3.7.0"
  }
 },
 "nbformat": 4,
 "nbformat_minor": 4
}
