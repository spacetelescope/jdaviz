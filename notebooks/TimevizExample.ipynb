{
 "cells": [
  {
   "cell_type": "markdown",
   "id": "f486f4f1",
   "metadata": {},
   "source": [
    "# Timeviz Demonstration Notebook\n",
    "\n",
    "This notebook demonstrates the Timeviz API in the Notebook setting. UI equivalents for these actions, as well as additional documentation about Timeviz, can be found here: https://jdaviz.readthedocs.io/en/latest/timeviz/\n",
    "\n",
    "## Setup"
   ]
  },
  {
   "cell_type": "code",
   "execution_count": null,
   "id": "67a15b7f",
   "metadata": {},
   "outputs": [],
   "source": [
    "import warnings\n",
    "\n",
    "from astropy.utils.data import get_pkg_data_filename\n",
    "\n",
    "from jdaviz import Timeviz"
   ]
  },
  {
   "cell_type": "markdown",
   "id": "d1aa8ac6",
   "metadata": {},
   "source": [
    "## Create Timeviz via Helper"
   ]
  },
  {
   "cell_type": "code",
   "execution_count": null,
   "id": "5ac110f6",
   "metadata": {},
   "outputs": [],
   "source": [
    "timeviz = Timeviz()"
   ]
  },
  {
   "cell_type": "markdown",
   "id": "0b029042",
   "metadata": {},
   "source": [
    "## Load a file to Timeviz"
   ]
  },
  {
   "cell_type": "code",
   "execution_count": null,
   "id": "a513fa10",
   "metadata": {},
   "outputs": [],
   "source": [
    "filename = get_pkg_data_filename('timeseries/kplr010666592-2009131110544_slc.fits', package='astropy')"
   ]
  },
  {
   "cell_type": "code",
   "execution_count": null,
   "id": "405d6c08",
   "metadata": {},
   "outputs": [],
   "source": [
    "with warnings.catch_warnings():\n",
    "    warnings.simplefilter('ignore')  # Ignore FITS warnings\n",
    "    timeviz.load_data(filename, format='kepler.fits')"
   ]
  },
  {
   "cell_type": "code",
   "execution_count": null,
   "id": "a6bfbb4b",
   "metadata": {},
   "outputs": [],
   "source": [
    "timeviz.app"
   ]
  },
  {
   "cell_type": "markdown",
   "id": "6bd61d92",
   "metadata": {},
   "source": [
    "### Alternate ways to show the Timeviz UI\n",
    "\n",
    "The above shows the Timeviz UI inline with the notebook.  If you are in JupyterLab you can instead have the Timeviz UI appear in a separate tab or as a \"sidecar\" (a split UI pane to the side of the notebook).  The below should do this (but only in JupyterLab.  If you are in the \"classic\" notebook it will show the same thing as `timeviz.app`)"
   ]
  },
  {
   "cell_type": "code",
   "execution_count": null,
   "id": "20bf1114",
   "metadata": {},
   "outputs": [],
   "source": [
    "timeviz.show_in_sidecar()"
   ]
  },
  {
   "cell_type": "code",
   "execution_count": null,
   "id": "55944c80",
   "metadata": {},
   "outputs": [],
   "source": [
    "timeviz.show_in_new_tab()"
   ]
  },
  {
   "cell_type": "markdown",
   "id": "56a917ca",
   "metadata": {},
   "source": [
    "Note that while you can do all of these at once, this is not a recommended workflow, because the different views will all update, which will both slow down the tool and probably be confusing for you. If you instead want two *independent* Timeviz UIs you should create a second `Timeviz()` object."
   ]
  }
 ],
 "metadata": {
  "kernelspec": {
   "display_name": "Python 3 (ipykernel)",
   "language": "python",
   "name": "python3"
  },
  "language_info": {
   "codemirror_mode": {
    "name": "ipython",
    "version": 3
   },
   "file_extension": ".py",
   "mimetype": "text/x-python",
   "name": "python",
   "nbconvert_exporter": "python",
   "pygments_lexer": "ipython3",
   "version": "3.9.7"
  }
 },
 "nbformat": 4,
 "nbformat_minor": 5
}
