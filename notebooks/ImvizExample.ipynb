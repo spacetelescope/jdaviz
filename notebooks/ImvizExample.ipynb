{
 "cells": [
  {
   "cell_type": "markdown",
   "metadata": {},
   "source": [
    "# Proof of concept of Imviz requirements using glupyter/bqplot"
   ]
  },
  {
   "cell_type": "markdown",
   "metadata": {},
   "source": [
    "We start off by silencing warnings that can happen when loading data as well as deprecation warnings, for clarity:"
   ]
  },
  {
   "cell_type": "code",
   "execution_count": null,
   "metadata": {},
   "outputs": [],
   "source": [
    "import warnings\n",
    "warnings.simplefilter('ignore')"
   ]
  },
  {
   "cell_type": "code",
   "execution_count": null,
   "metadata": {},
   "outputs": [],
   "source": [
    "from astropy.utils.data import download_file\n",
    "\n",
    "gc_2mass_j = download_file('https://www.astropy.org/astropy-data/galactic_center/gc_2mass_j.fits', cache=True)\n",
    "gc_msx_e = download_file('https://www.astropy.org/astropy-data/galactic_center/gc_msx_e.fits', cache=True)"
   ]
  },
  {
   "cell_type": "markdown",
   "metadata": {},
   "source": [
    "We start off by looking at some of the basic features:"
   ]
  },
  {
   "cell_type": "code",
   "execution_count": null,
   "metadata": {
    "scrolled": false
   },
   "outputs": [],
   "source": [
    "import matplotlib.pyplot as plt\n",
    "from glue.plugins.wcs_autolinking.wcs_autolinking import wcs_autolink, WCSLink\n",
    "\n",
    "from jdaviz import Imviz\n",
    "\n",
    "imviz = Imviz()\n",
    "imviz.load_data(gc_2mass_j, data_label='gc_2mass_j')\n",
    "imviz.load_data(gc_msx_e, data_label='gc_msx_e')\n",
    "\n",
    "viewer = imviz.app.get_viewer('viewer-1')\n",
    "\n",
    "# Manually link the data. We can remove this when Imviz auto-linking issue is resolved.\n",
    "# This is necessary for blink to function properly.\n",
    "wcs_links = wcs_autolink(viewer.session.data_collection)\n",
    "for link in wcs_links:\n",
    "    exists = False\n",
    "    for existing_link in viewer.session.data_collection.external_links:\n",
    "        if isinstance(existing_link, WCSLink):\n",
    "            if (link.data1 is existing_link.data1\n",
    "                    and link.data2 is existing_link.data2):\n",
    "                exists = True\n",
    "                break\n",
    "    # Add only those links that don't already exist\n",
    "    if not exists:\n",
    "        viewer.session.data_collection.add_link(link)\n",
    "\n",
    "# Because linking happens after load, the image display is broken a little.\n",
    "# So, please do this manually **after** running this cell.\n",
    "#\n",
    "# 1. Uncheck both data from Data menu.\n",
    "# 2. Re-check both data from Data menu.\n",
    "\n",
    "imviz.app"
   ]
  },
  {
   "cell_type": "markdown",
   "metadata": {},
   "source": [
    "Panning and zooming is possible by showing the viewer toolbar and clicking on the '+'-shaped icon, then dragging around in the image and using scrolling to zoom in and out. To change the stretch and colormap, show the **Layer** options accessible through the last icon in the viewer toolbar.\n",
    "\n",
    "We can also change these programmatically, for example the stretch:"
   ]
  },
  {
   "cell_type": "code",
   "execution_count": null,
   "metadata": {},
   "outputs": [],
   "source": [
    "viewer.state.layers[0].stretch = 'sqrt'"
   ]
  },
  {
   "cell_type": "markdown",
   "metadata": {},
   "source": [
    "the colormap:"
   ]
  },
  {
   "cell_type": "code",
   "execution_count": null,
   "metadata": {},
   "outputs": [],
   "source": [
    "viewer.state.layers[0].cmap = plt.cm.viridis"
   ]
  },
  {
   "cell_type": "markdown",
   "metadata": {},
   "source": [
    "the limits via the percentile option:"
   ]
  },
  {
   "cell_type": "code",
   "execution_count": null,
   "metadata": {},
   "outputs": [],
   "source": [
    "viewer.state.layers[0].percentile = 99"
   ]
  },
  {
   "cell_type": "markdown",
   "metadata": {},
   "source": [
    "or the limits directly:"
   ]
  },
  {
   "cell_type": "code",
   "execution_count": null,
   "metadata": {},
   "outputs": [],
   "source": [
    "viewer.state.layers[0].v_min = 150\n",
    "viewer.state.layers[0].v_max = 1000"
   ]
  },
  {
   "cell_type": "markdown",
   "metadata": {},
   "source": [
    "Note also that in the above example there are mouse-over coordinates visible by default."
   ]
  },
  {
   "cell_type": "markdown",
   "metadata": {},
   "source": [
    "It possible to make selections/regions in images and export these to astropy regions. Click on the viewer toolbar then click on the circular selection tool, and drag and click to select an interesting region on the sky. We can then export this region with:"
   ]
  },
  {
   "cell_type": "code",
   "execution_count": null,
   "metadata": {},
   "outputs": [],
   "source": [
    "regions = imviz.get_interactive_regions()"
   ]
  },
  {
   "cell_type": "code",
   "execution_count": null,
   "metadata": {},
   "outputs": [],
   "source": [
    "regions"
   ]
  },
  {
   "cell_type": "markdown",
   "metadata": {},
   "source": [
    "Since the region is an astropy region, we can e.g. convert it to a mask:"
   ]
  },
  {
   "cell_type": "code",
   "execution_count": null,
   "metadata": {},
   "outputs": [],
   "source": [
    "mask = regions['Subset 1'].to_mask(mode='subpixels')"
   ]
  },
  {
   "cell_type": "code",
   "execution_count": null,
   "metadata": {},
   "outputs": [],
   "source": [
    "data = imviz.app.get_data_from_viewer('viewer-1', 'gc_2mass_j[PRIMARY,1]')"
   ]
  },
  {
   "cell_type": "code",
   "execution_count": null,
   "metadata": {},
   "outputs": [],
   "source": [
    "plt.imshow(mask.to_image(data.shape), origin='lower')"
   ]
  },
  {
   "cell_type": "markdown",
   "metadata": {},
   "source": [
    "It is also possible to programatically pass a `regions` shape, a `photutils` aperture shape, or a Numpy mask into Imviz."
   ]
  },
  {
   "cell_type": "code",
   "execution_count": null,
   "metadata": {},
   "outputs": [],
   "source": [
    "import numpy as np\n",
    "from photutils import CircularAperture\n",
    "from regions import PixCoord, CirclePixelRegion\n",
    "\n",
    "# photutils aperture\n",
    "my_aper = CircularAperture((600, 400), r=10)\n",
    "\n",
    "# regions shape\n",
    "my_reg = CirclePixelRegion(center=PixCoord(x=600, y=200), radius=20)\n",
    "\n",
    "# Numpy mask\n",
    "idx = (np.array([350, 350, 350, 350, 350, 350, 351, 351, 351, 351, 352, 352, 352,\n",
    "                 352, 352, 352, 352, 352, 352, 352, 353, 353, 353, 353, 353, 353,\n",
    "                 353, 353, 353, 353, 353, 353, 354, 354, 354, 354, 354, 354, 354,\n",
    "                 354, 355, 355, 355, 355, 355, 355, 355, 355, 356, 356, 356, 356,\n",
    "                 356, 356, 356, 357, 357, 358, 358]),\n",
    "       np.array([353, 354, 355, 356, 357, 358, 350, 352, 359, 361, 350, 352, 353,\n",
    "                 354, 355, 356, 357, 358, 359, 361, 350, 351, 352, 353, 354, 355,\n",
    "                 356, 357, 358, 359, 360, 361, 351, 352, 354, 355, 356, 357, 359,\n",
    "                 360, 352, 353, 354, 355, 356, 357, 358, 359, 352, 353, 354, 355,\n",
    "                 356, 357, 358, 353, 358, 352, 359]))\n",
    "my_mask = np.zeros(data.shape, dtype=np.bool_)\n",
    "my_mask[idx] = True\n",
    "\n",
    "imviz.load_static_regions(\n",
    "    {'my_aper': my_aper, 'my_reg': my_reg, 'my_mask': my_mask}, 'gc_2mass_j[PRIMARY,1]')"
   ]
  },
  {
   "cell_type": "code",
   "execution_count": null,
   "metadata": {},
   "outputs": [],
   "source": []
  }
 ],
 "metadata": {
  "kernelspec": {
   "display_name": "Python 3",
   "language": "python",
   "name": "python3"
  },
  "language_info": {
   "codemirror_mode": {
    "name": "ipython",
    "version": 3
   },
   "file_extension": ".py",
   "mimetype": "text/x-python",
   "name": "python",
   "nbconvert_exporter": "python",
   "pygments_lexer": "ipython3",
   "version": "3.8.3"
  }
 },
 "nbformat": 4,
 "nbformat_minor": 5
}
