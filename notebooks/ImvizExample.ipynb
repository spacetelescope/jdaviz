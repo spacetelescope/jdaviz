{
 "cells": [
  {
   "cell_type": "markdown",
   "id": "handed-person",
   "metadata": {},
   "source": [
    "# Proof of concept of Imviz requirements using glupyter/bqplot"
   ]
  },
  {
   "cell_type": "markdown",
   "id": "frozen-oracle",
   "metadata": {},
   "source": [
    "We start off by silencing warnings that can happen when loading data as well as deprecation warnings, for clarity:"
   ]
  },
  {
   "cell_type": "code",
   "execution_count": 1,
   "id": "handed-chicago",
   "metadata": {},
   "outputs": [],
   "source": [
    "import warnings\n",
    "warnings.simplefilter('ignore')"
   ]
  },
  {
   "cell_type": "code",
   "execution_count": 2,
   "id": "caroline-enclosure",
   "metadata": {},
   "outputs": [
    {
     "data": {
      "text/plain": [
       "('msx_e.fits', <http.client.HTTPMessage at 0x7f8d99980520>)"
      ]
     },
     "execution_count": 2,
     "metadata": {},
     "output_type": "execute_result"
    }
   ],
   "source": [
    "from urllib.request import urlretrieve\n",
    "\n",
    "urlretrieve('http://www.astropy.org/astropy-data/galactic_center/gc_2mass_j.fits', filename='2mass_j.fits')\n",
    "urlretrieve('http://www.astropy.org/astropy-data/galactic_center/gc_msx_e.fits', filename='msx_e.fits')"
   ]
  },
  {
   "cell_type": "markdown",
   "id": "advance-exhibition",
   "metadata": {},
   "source": [
    "We start off by looking at some of the basic features:"
   ]
  },
  {
   "cell_type": "code",
   "execution_count": 3,
   "id": "covered-bikini",
   "metadata": {
    "scrolled": false
   },
   "outputs": [
    {
     "name": "stderr",
     "output_type": "stream",
     "text": [
      "WARNING: Could not load OpenGL library.\n",
      "WARNING:vispy:Could not load OpenGL library.\n"
     ]
    },
    {
     "data": {
      "application/vnd.jupyter.widget-view+json": {
       "model_id": "88a404f3602e4049a295b64f51f87d6d",
       "version_major": 2,
       "version_minor": 0
      },
      "text/plain": [
       "Application(components={'g-viewer-tab': '<template>\\n  <component :is=\"stack.container\">\\n    <g-viewer-tab\\n …"
      ]
     },
     "metadata": {},
     "output_type": "display_data"
    }
   ],
   "source": [
    "from jdaviz import Imviz\n",
    "import matplotlib.pyplot as plt\n",
    "\n",
    "imviz = Imviz()\n",
    "imviz.load_data('2mass_j.fits')\n",
    "imviz.load_data('msx_e.fits')\n",
    "\n",
    "viewer = imviz.app.get_viewer('viewer-1')\n",
    "\n",
    "imviz.app"
   ]
  },
  {
   "cell_type": "markdown",
   "id": "changing-width",
   "metadata": {},
   "source": [
    "Panning and zooming is possible by showing the viewer toolbar and clicking on the '+'-shaped icon, then dragging around in the image and using scrolling to zoom in and out. To change the stretch and colormap, show the **Layer** options accessible through the last icon in the viewer toolbar.\n",
    "\n",
    "We can also change these programmatically, for example the stretch:"
   ]
  },
  {
   "cell_type": "code",
   "execution_count": 4,
   "id": "sonic-cuisine",
   "metadata": {},
   "outputs": [
    {
     "ename": "IndexError",
     "evalue": "list index out of range",
     "output_type": "error",
     "traceback": [
      "\u001b[0;31m---------------------------------------------------------------------------\u001b[0m",
      "\u001b[0;31mIndexError\u001b[0m                                Traceback (most recent call last)",
      "\u001b[0;32m<ipython-input-4-0346e107b656>\u001b[0m in \u001b[0;36m<module>\u001b[0;34m\u001b[0m\n\u001b[0;32m----> 1\u001b[0;31m \u001b[0mviewer\u001b[0m\u001b[0;34m.\u001b[0m\u001b[0mstate\u001b[0m\u001b[0;34m.\u001b[0m\u001b[0mlayers\u001b[0m\u001b[0;34m[\u001b[0m\u001b[0;36m0\u001b[0m\u001b[0;34m]\u001b[0m\u001b[0;34m.\u001b[0m\u001b[0mstretch\u001b[0m \u001b[0;34m=\u001b[0m \u001b[0;34m'sqrt'\u001b[0m\u001b[0;34m\u001b[0m\u001b[0;34m\u001b[0m\u001b[0m\n\u001b[0m",
      "\u001b[0;31mIndexError\u001b[0m: list index out of range"
     ]
    }
   ],
   "source": [
    "viewer.state.layers[0].stretch = 'sqrt'"
   ]
  },
  {
   "cell_type": "markdown",
   "id": "automatic-engineer",
   "metadata": {},
   "source": [
    "the colormap:"
   ]
  },
  {
   "cell_type": "code",
   "execution_count": null,
   "id": "authorized-liberty",
   "metadata": {},
   "outputs": [],
   "source": [
    "viewer.state.layers[0].cmap = plt.cm.viridis"
   ]
  },
  {
   "cell_type": "markdown",
   "id": "close-picture",
   "metadata": {},
   "source": [
    "the limits via the percentile option:"
   ]
  },
  {
   "cell_type": "code",
   "execution_count": null,
   "id": "compressed-potential",
   "metadata": {},
   "outputs": [],
   "source": [
    "viewer.state.layers[0].percentile = 90"
   ]
  },
  {
   "cell_type": "markdown",
   "id": "intimate-steam",
   "metadata": {},
   "source": [
    "or the limits directly:"
   ]
  },
  {
   "cell_type": "code",
   "execution_count": null,
   "id": "inappropriate-holmes",
   "metadata": {},
   "outputs": [],
   "source": [
    "viewer.state.layers[0].v_min = -10\n",
    "viewer.state.layers[0].v_max = +100"
   ]
  },
  {
   "cell_type": "markdown",
   "id": "patent-christopher",
   "metadata": {},
   "source": [
    "Note also that in the above example there are mouse-over coordinates visible by default."
   ]
  },
  {
   "cell_type": "markdown",
   "id": "aerial-turtle",
   "metadata": {},
   "source": [
    "It possible to make selections/regions in images and export these to astropy regions. Click on the viewer toolbar then click on the circular selection tool, and drag and click to select an interesting region on the sky. We can then export this region with:"
   ]
  },
  {
   "cell_type": "code",
   "execution_count": null,
   "id": "thousand-directory",
   "metadata": {},
   "outputs": [],
   "source": [
    "regions = imviz.app.get_subsets_from_viewer('viewer-1')"
   ]
  },
  {
   "cell_type": "code",
   "execution_count": null,
   "id": "solid-brother",
   "metadata": {},
   "outputs": [],
   "source": [
    "regions"
   ]
  },
  {
   "cell_type": "markdown",
   "id": "decent-calibration",
   "metadata": {},
   "source": [
    "Since the region is an astropy region, we can e.g. convert it to a mask:"
   ]
  },
  {
   "cell_type": "code",
   "execution_count": null,
   "id": "round-lotus",
   "metadata": {},
   "outputs": [],
   "source": [
    "mask = regions['Subset 1'].to_mask(mode='subpixels')"
   ]
  },
  {
   "cell_type": "code",
   "execution_count": null,
   "id": "smooth-chrome",
   "metadata": {},
   "outputs": [],
   "source": [
    "plt.imshow(mask.to_image((2048, 2048)), origin='lower')"
   ]
  },
  {
   "cell_type": "code",
   "execution_count": null,
   "id": "appropriate-anatomy",
   "metadata": {},
   "outputs": [],
   "source": []
  }
 ],
 "metadata": {
  "kernelspec": {
   "display_name": "Python 3",
   "language": "python",
   "name": "python3"
  },
  "language_info": {
   "codemirror_mode": {
    "name": "ipython",
    "version": 3
   },
   "file_extension": ".py",
   "mimetype": "text/x-python",
   "name": "python",
   "nbconvert_exporter": "python",
   "pygments_lexer": "ipython3",
   "version": "3.9.1"
  }
 },
 "nbformat": 4,
 "nbformat_minor": 5
}
