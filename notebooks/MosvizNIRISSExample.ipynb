{
 "cells": [
  {
   "cell_type": "markdown",
   "id": "2b2fcea7",
   "metadata": {},
   "source": [
    "# Mosviz NIRISS example notebook"
   ]
  },
  {
   "cell_type": "markdown",
   "id": "b180dd8a",
   "metadata": {},
   "source": [
    "Note: We silence most warnings for now. For debugging, you can comment out the next cell and then restart the kernel to re-enable warnings."
   ]
  },
  {
   "cell_type": "code",
   "execution_count": null,
   "id": "869727c8",
   "metadata": {},
   "outputs": [],
   "source": [
    "import warnings\n",
    "warnings.simplefilter('ignore')"
   ]
  },
  {
   "cell_type": "markdown",
   "id": "e3d6f12f",
   "metadata": {},
   "source": [
    "Next, start Mosviz."
   ]
  },
  {
   "cell_type": "code",
   "execution_count": null,
   "id": "f2233e63",
   "metadata": {
    "scrolled": false
   },
   "outputs": [],
   "source": [
    "from jdaviz import Mosviz\n",
    "\n",
    "mosviz = Mosviz()\n",
    "mosviz.show()"
   ]
  },
  {
   "cell_type": "code",
   "execution_count": null,
   "id": "75d0e918",
   "metadata": {},
   "outputs": [],
   "source": [
    "# Run this cell if your desired data path is a temporary directory.\n",
    "\n",
    "import tempfile\n",
    "data_dir = tempfile.gettempdir()"
   ]
  },
  {
   "cell_type": "raw",
   "id": "bbf74c94",
   "metadata": {},
   "source": [
    "# *** OR ***\n",
    "# Enable and run this cell if you have a different data path.\n",
    "# Replace the value with your real path.\n",
    "\n",
    "data_dir = '/path/to/my_mosvis_data_dir' "
   ]
  },
  {
   "cell_type": "code",
   "execution_count": null,
   "id": "2ac93c58",
   "metadata": {},
   "outputs": [],
   "source": [
    "# Run this cell if you wish to download and unzip our example data.\n",
    "# This requires the \"zipfile\" package.\n",
    "\n",
    "from zipfile import ZipFile\n",
    "from astropy.utils.data import download_file\n",
    "import pathlib\n",
    "\n",
    "example_data = 'https://stsci.box.com/shared/static/9lkf5zha6zkf8ujnairy6krobbh038wt.zip'\n",
    "fn = download_file(example_data, cache=True)\n",
    "with ZipFile(fn, 'r') as sample_data_zip:\n",
    "    sample_data_zip.extractall(data_dir)\n",
    "\n",
    "level3_path = (pathlib.Path(data_dir) / 'NIRISS_for_parser_p0171')\n",
    "    \n",
    "data_dir = level3_path"
   ]
  },
  {
   "cell_type": "markdown",
   "id": "8bcd4639",
   "metadata": {},
   "source": [
    "Once loaded below, click on one of the rows in the table to have your data displayed."
   ]
  },
  {
   "cell_type": "code",
   "execution_count": null,
   "id": "1c75b8a1",
   "metadata": {},
   "outputs": [],
   "source": [
    "mosviz.load_data(directory=data_dir, instrument=\"niriss\")"
   ]
  },
  {
   "cell_type": "markdown",
   "id": "a8fb54e6",
   "metadata": {},
   "source": [
    "## MOS Table\n",
    "\n",
    "The MOS table itself can be accessed and modified from the API.  We can export the entire table to a `QTable` object:"
   ]
  },
  {
   "cell_type": "code",
   "execution_count": null,
   "id": "3021e7e6",
   "metadata": {},
   "outputs": [],
   "source": [
    "mosviz.to_table()"
   ]
  },
  {
   "cell_type": "markdown",
   "id": "a2799662",
   "metadata": {},
   "source": [
    "Here we see all the information shown in the UI table, in addition to a few additional columns.  Redshift, for example, is hidden in the UI unless at least one entry has a non-zero redshift assigned.  We can either assign the redshift from the Line List plugin, or programmatically (for the currently selected object)."
   ]
  },
  {
   "cell_type": "code",
   "execution_count": null,
   "id": "12b70e87",
   "metadata": {},
   "outputs": [],
   "source": [
    "mosviz.set_redshift(0.896)"
   ]
  },
  {
   "cell_type": "markdown",
   "id": "ddf4a25b",
   "metadata": {},
   "source": [
    "In addition to `to_table`, we can extract the array of a single column:"
   ]
  },
  {
   "cell_type": "code",
   "execution_count": null,
   "id": "8a8d2896",
   "metadata": {},
   "outputs": [],
   "source": [
    "mosviz.get_column('Redshift')"
   ]
  },
  {
   "cell_type": "markdown",
   "id": "aacde5bd",
   "metadata": {},
   "source": [
    "and can also pass an array to any column, or a value for a specific row:"
   ]
  },
  {
   "cell_type": "code",
   "execution_count": null,
   "id": "0387bab8",
   "metadata": {},
   "outputs": [],
   "source": [
    "mosviz.update_column('Redshift', 1.158, row=4)"
   ]
  },
  {
   "cell_type": "markdown",
   "id": "b7d87f8d",
   "metadata": {},
   "source": [
    "Additionally, we can add custom named columns.  Here we'll add a notes column and then populate the value for the second row:"
   ]
  },
  {
   "cell_type": "code",
   "execution_count": null,
   "id": "a66832c3",
   "metadata": {},
   "outputs": [],
   "source": [
    "mosviz.add_column('Notes')"
   ]
  },
  {
   "cell_type": "code",
   "execution_count": null,
   "id": "72938463",
   "metadata": {},
   "outputs": [],
   "source": [
    "mosviz.update_column('Notes', 'low S/N', row=2)"
   ]
  },
  {
   "cell_type": "markdown",
   "id": "677285d6",
   "metadata": {},
   "source": [
    "Once created, these columns will display by default in the UI.  To hide a column from the UI (but still include in the underlying table object to access with the API):"
   ]
  },
  {
   "cell_type": "code",
   "execution_count": null,
   "id": "5160e3e1",
   "metadata": {},
   "outputs": [],
   "source": [
    "mosviz.hide_column('Notes')"
   ]
  }
 ],
 "metadata": {
  "kernelspec": {
   "display_name": "Python 3 (ipykernel)",
   "language": "python",
   "name": "python3"
  },
  "language_info": {
   "codemirror_mode": {
    "name": "ipython",
    "version": 3
   },
   "file_extension": ".py",
   "mimetype": "text/x-python",
   "name": "python",
   "nbconvert_exporter": "python",
   "pygments_lexer": "ipython3",
   "version": "3.9.7"
  }
 },
 "nbformat": 4,
 "nbformat_minor": 5
}
